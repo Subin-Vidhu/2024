{
 "cells": [
  {
   "cell_type": "markdown",
   "metadata": {
    "colab_type": "text",
    "id": "view-in-github"
   },
   "source": [
    "<a href=\"https://colab.research.google.com/github/https-deeplearning-ai/tensorflow-3-public/blob/main/Course%201%20-%20Custom%20Models%2C%20Layers%20and%20Loss%20Functions/Week%205%20-%20Callbacks/C1_W5_Lab_1_exploring-callbacks.ipynb\" target=\"_parent\"><img src=\"https://colab.research.google.com/assets/colab-badge.svg\" alt=\"Open In Colab\"/></a>"
   ]
  },
  {
   "cell_type": "markdown",
   "metadata": {
    "colab_type": "text",
    "id": "0c_TYhQOUe1j"
   },
   "source": [
    "# Ungraded Lab: Introduction to Keras callbacks\n",
    "\n",
    "In Keras, `Callback` is a Python class meant to be subclassed to provide specific functionality, with a set of methods called at various stages of training (including batch/epoch start and ends), testing, and predicting. Callbacks are useful to get a view on internal states and statistics of the model during training. The methods of the callbacks can  be called at different stages of training/evaluating/inference. Keras has available [callbacks](https://keras.io/api/callbacks/) and we'll show how you can use it in the following sections. Please click the **Open in Colab** badge above to complete this exercise in Colab. This will allow you to take advantage of the free GPU runtime (for faster training) and compatibility with all the packages needed in this notebook."
   ]
  },
  {
   "cell_type": "markdown",
   "metadata": {
    "colab_type": "text",
    "id": "Uyl69EyRQx-f"
   },
   "source": [
    "## Model methods that take callbacks\n",
    "Users can supply a list of callbacks to the following `tf.keras.Model` methods:\n",
    "* [`fit()`](https://www.tensorflow.org/versions/r2.0/api_docs/python/tf/keras/Model#fit), [`fit_generator()`](https://www.tensorflow.org/versions/r2.0/api_docs/python/tf/keras/Model#fit_generator)\n",
    "Trains the model for a fixed number of epochs (iterations over a dataset, or data yielded batch-by-batch by a Python generator).\n",
    "* [`evaluate()`](https://www.tensorflow.org/versions/r2.0/api_docs/python/tf/keras/Model#evaluate), [`evaluate_generator()`](https://www.tensorflow.org/versions/r2.0/api_docs/python/tf/keras/Model#evaluate_generator)\n",
    "Evaluates the model for given data or data generator. Outputs the loss and metric values from the evaluation.\n",
    "* [`predict()`](https://www.tensorflow.org/versions/r2.0/api_docs/python/tf/keras/Model#predict), [`predict_generator()`](https://www.tensorflow.org/versions/r2.0/api_docs/python/tf/keras/Model#predict_generator)\n",
    "Generates output predictions for the input data or data generator."
   ]
  },
  {
   "cell_type": "markdown",
   "metadata": {},
   "source": [
    "## Imports"
   ]
  },
  {
   "cell_type": "code",
   "execution_count": 1,
   "metadata": {
    "colab": {},
    "colab_type": "code",
    "id": "AlT1Kh3uA9lZ"
   },
   "outputs": [
    {
     "name": "stdout",
     "output_type": "stream",
     "text": [
      "Version:  2.1.0\n"
     ]
    }
   ],
   "source": [
    "from __future__ import absolute_import, division, print_function, unicode_literals\n",
    "\n",
    "try:\n",
    "    # %tensorflow_version only exists in Colab.\n",
    "    %tensorflow_version 2.x\n",
    "except Exception:\n",
    "    pass\n",
    "\n",
    "import tensorflow as tf\n",
    "import tensorflow_datasets as tfds\n",
    "import matplotlib.pyplot as plt\n",
    "import io\n",
    "from PIL import Image\n",
    "\n",
    "from tensorflow.keras.callbacks import TensorBoard, EarlyStopping, LearningRateScheduler, ModelCheckpoint, CSVLogger, ReduceLROnPlateau\n",
    "%load_ext tensorboard\n",
    "\n",
    "import os\n",
    "import matplotlib.pylab as plt\n",
    "import numpy as np\n",
    "import math\n",
    "import datetime\n",
    "import pandas as pd\n",
    "\n",
    "print(\"Version: \", tf.__version__)\n",
    "tf.get_logger().setLevel('INFO')"
   ]
  },
  {
   "cell_type": "markdown",
   "metadata": {
    "colab_type": "text",
    "id": "HnSljqtsXKfb"
   },
   "source": [
    "# Examples of Keras callback applications\n",
    "The following section will guide you through creating simple [Callback](https://keras.io/api/callbacks/) applications."
   ]
  },
  {
   "cell_type": "code",
   "execution_count": 2,
   "metadata": {
    "colab": {},
    "colab_type": "code",
    "id": "spskRuxvCYQE"
   },
   "outputs": [],
   "source": [
    "# Download and prepare the horses or humans dataset\n",
    "\n",
    "# horses_or_humans 3.0.0 has already been downloaded for you\n",
    "path = \"./tensorflow_datasets\"\n",
    "splits, info = tfds.load('horses_or_humans', data_dir=path, as_supervised=True, with_info=True, split=['train[:80%]', 'train[80%:]', 'test'])\n",
    "\n",
    "(train_examples, validation_examples, test_examples) = splits\n",
    "\n",
    "num_examples = info.splits['train'].num_examples\n",
    "num_classes = info.features['label'].num_classes"
   ]
  },
  {
   "cell_type": "code",
   "execution_count": 3,
   "metadata": {
    "colab": {},
    "colab_type": "code",
    "id": "veIsubKTCZsN"
   },
   "outputs": [],
   "source": [
    "SIZE = 150 #@param {type:\"slider\", min:64, max:300, step:1}\n",
    "IMAGE_SIZE = (SIZE, SIZE)"
   ]
  },
  {
   "cell_type": "code",
   "execution_count": 4,
   "metadata": {
    "colab": {},
    "colab_type": "code",
    "id": "faajLlErCb1S"
   },
   "outputs": [],
   "source": [
    "def format_image(image, label):\n",
    "  image = tf.image.resize(image, IMAGE_SIZE) / 255.0\n",
    "  return  image, label"
   ]
  },
  {
   "cell_type": "code",
   "execution_count": 5,
   "metadata": {
    "colab": {},
    "colab_type": "code",
    "id": "AVXPuU12Cdka"
   },
   "outputs": [],
   "source": [
    "BATCH_SIZE = 32 #@param {type:\"integer\"}"
   ]
  },
  {
   "cell_type": "code",
   "execution_count": 6,
   "metadata": {
    "colab": {},
    "colab_type": "code",
    "id": "0lHDkFVaCe48"
   },
   "outputs": [],
   "source": [
    "train_batches = train_examples.shuffle(num_examples // 4).map(format_image).batch(BATCH_SIZE).prefetch(1)\n",
    "validation_batches = validation_examples.map(format_image).batch(BATCH_SIZE).prefetch(1)\n",
    "test_batches = test_examples.map(format_image).batch(1)"
   ]
  },
  {
   "cell_type": "code",
   "execution_count": 7,
   "metadata": {
    "colab": {},
    "colab_type": "code",
    "id": "DxsCqEIkCgUt"
   },
   "outputs": [
    {
     "data": {
      "text/plain": [
       "TensorShape([32, 150, 150, 3])"
      ]
     },
     "execution_count": 7,
     "metadata": {},
     "output_type": "execute_result"
    }
   ],
   "source": [
    "for image_batch, label_batch in train_batches.take(1):\n",
    "  pass\n",
    "\n",
    "image_batch.shape"
   ]
  },
  {
   "cell_type": "code",
   "execution_count": 8,
   "metadata": {
    "colab": {},
    "colab_type": "code",
    "id": "iDBpWvHXCh2A"
   },
   "outputs": [],
   "source": [
    "def build_model(dense_units, input_shape=IMAGE_SIZE + (3,)):\n",
    "  model = tf.keras.models.Sequential([\n",
    "      tf.keras.layers.Conv2D(16, (3, 3), activation='relu', input_shape=input_shape),\n",
    "      tf.keras.layers.MaxPooling2D(2, 2),\n",
    "      tf.keras.layers.Conv2D(32, (3, 3), activation='relu'),\n",
    "      tf.keras.layers.MaxPooling2D(2, 2),\n",
    "      tf.keras.layers.Conv2D(64, (3, 3), activation='relu'),\n",
    "      tf.keras.layers.MaxPooling2D(2, 2),\n",
    "      tf.keras.layers.Flatten(),\n",
    "      tf.keras.layers.Dense(dense_units, activation='relu'),\n",
    "      tf.keras.layers.Dense(2, activation='softmax')\n",
    "  ])\n",
    "  return model"
   ]
  },
  {
   "cell_type": "markdown",
   "metadata": {
    "colab_type": "text",
    "id": "0ZKGkjagENSw"
   },
   "source": [
    "## [TensorBoard](https://keras.io/api/callbacks/tensorboard/)\n",
    "\n",
    "Enable visualizations for TensorBoard."
   ]
  },
  {
   "cell_type": "code",
   "execution_count": 9,
   "metadata": {
    "colab": {},
    "colab_type": "code",
    "id": "CeiD2WVEHbex"
   },
   "outputs": [],
   "source": [
    "!rm -rf logs"
   ]
  },
  {
   "cell_type": "code",
   "execution_count": 10,
   "metadata": {
    "colab": {},
    "colab_type": "code",
    "id": "PpLwPLnAEOzv"
   },
   "outputs": [
    {
     "name": "stdout",
     "output_type": "stream",
     "text": [
      "Epoch 1/10\n",
      "26/26 [==============================] - 21s 813ms/step - loss: 0.6790 - accuracy: 0.5803 - val_loss: 0.6714 - val_accuracy: 0.5659\n",
      "Epoch 2/10\n",
      "26/26 [==============================] - 20s 777ms/step - loss: 0.6498 - accuracy: 0.6436 - val_loss: 0.6436 - val_accuracy: 0.5951\n",
      "Epoch 3/10\n",
      "26/26 [==============================] - 20s 773ms/step - loss: 0.6006 - accuracy: 0.7117 - val_loss: 0.6412 - val_accuracy: 0.5317\n",
      "Epoch 4/10\n",
      "26/26 [==============================] - 20s 777ms/step - loss: 0.5532 - accuracy: 0.7567 - val_loss: 0.5069 - val_accuracy: 0.7902\n",
      "Epoch 5/10\n",
      "26/26 [==============================] - 20s 769ms/step - loss: 0.5114 - accuracy: 0.7762 - val_loss: 0.5601 - val_accuracy: 0.6732\n",
      "Epoch 6/10\n",
      "26/26 [==============================] - 20s 766ms/step - loss: 0.4333 - accuracy: 0.8175 - val_loss: 0.3832 - val_accuracy: 0.8537\n",
      "Epoch 7/10\n",
      "26/26 [==============================] - 20s 765ms/step - loss: 0.3886 - accuracy: 0.8382 - val_loss: 0.6404 - val_accuracy: 0.6390\n",
      "Epoch 8/10\n",
      "26/26 [==============================] - 20s 769ms/step - loss: 0.3771 - accuracy: 0.8577 - val_loss: 0.3588 - val_accuracy: 0.8634\n",
      "Epoch 9/10\n",
      "26/26 [==============================] - 20s 765ms/step - loss: 0.2898 - accuracy: 0.8978 - val_loss: 0.2409 - val_accuracy: 0.9268\n",
      "Epoch 10/10\n",
      "26/26 [==============================] - 20s 766ms/step - loss: 0.2282 - accuracy: 0.9270 - val_loss: 1.2436 - val_accuracy: 0.5805\n"
     ]
    },
    {
     "data": {
      "text/plain": [
       "<tensorflow.python.keras.callbacks.History at 0x79e4cda189d0>"
      ]
     },
     "execution_count": 10,
     "metadata": {},
     "output_type": "execute_result"
    }
   ],
   "source": [
    "model = build_model(dense_units=256)\n",
    "model.compile(\n",
    "    optimizer='sgd',\n",
    "    loss='sparse_categorical_crossentropy', \n",
    "    metrics=['accuracy'])\n",
    "  \n",
    "logdir = os.path.join(\"logs\", datetime.datetime.now().strftime(\"%Y%m%d-%H%M%S\"))\n",
    "tensorboard_callback = tf.keras.callbacks.TensorBoard(logdir)\n",
    "\n",
    "model.fit(train_batches, \n",
    "          epochs=10, \n",
    "          validation_data=validation_batches, \n",
    "          callbacks=[tensorboard_callback])"
   ]
  },
  {
   "cell_type": "code",
   "execution_count": 11,
   "metadata": {
    "colab": {},
    "colab_type": "code",
    "id": "iJunWOjZE0ir"
   },
   "outputs": [
    {
     "data": {
      "text/html": [
       "\n",
       "      <iframe id=\"tensorboard-frame-a167c6197378c42\" width=\"100%\" height=\"800\" frameborder=\"0\">\n",
       "      </iframe>\n",
       "      <script>\n",
       "        (function() {\n",
       "          const frame = document.getElementById(\"tensorboard-frame-a167c6197378c42\");\n",
       "          const url = new URL(\"/\", window.location);\n",
       "          url.port = 6006;\n",
       "          frame.src = url;\n",
       "        })();\n",
       "      </script>\n",
       "  "
      ],
      "text/plain": [
       "<IPython.core.display.HTML object>"
      ]
     },
     "metadata": {},
     "output_type": "display_data"
    }
   ],
   "source": [
    "%tensorboard --logdir logs"
   ]
  },
  {
   "cell_type": "markdown",
   "metadata": {
    "colab_type": "text",
    "id": "wv9H4Pc2Mfl7"
   },
   "source": [
    "## [Model Checkpoint](https://keras.io/api/callbacks/model_checkpoint/)\n",
    "\n",
    "Callback to save the Keras model or model weights at some frequency."
   ]
  },
  {
   "cell_type": "code",
   "execution_count": 12,
   "metadata": {
    "colab": {},
    "colab_type": "code",
    "id": "PYV4FJ8iMmDq"
   },
   "outputs": [
    {
     "name": "stdout",
     "output_type": "stream",
     "text": [
      "Epoch 1/5\n",
      "\n",
      "Epoch 00001: saving model to weights.01-0.64.h5\n",
      "26/26 - 21s - loss: 0.6652 - accuracy: 0.6168 - val_loss: 0.6422 - val_accuracy: 0.7171\n",
      "Epoch 2/5\n",
      "\n",
      "Epoch 00002: saving model to weights.02-0.57.h5\n",
      "26/26 - 20s - loss: 0.6080 - accuracy: 0.7360 - val_loss: 0.5745 - val_accuracy: 0.7561\n",
      "Epoch 3/5\n",
      "\n",
      "Epoch 00003: saving model to weights.03-0.61.h5\n",
      "26/26 - 20s - loss: 0.5456 - accuracy: 0.7555 - val_loss: 0.6073 - val_accuracy: 0.6341\n",
      "Epoch 4/5\n",
      "\n",
      "Epoch 00004: saving model to weights.04-0.44.h5\n",
      "26/26 - 20s - loss: 0.4680 - accuracy: 0.8139 - val_loss: 0.4418 - val_accuracy: 0.8439\n",
      "Epoch 5/5\n",
      "\n",
      "Epoch 00005: saving model to weights.05-0.36.h5\n",
      "26/26 - 20s - loss: 0.4134 - accuracy: 0.8309 - val_loss: 0.3598 - val_accuracy: 0.8683\n"
     ]
    },
    {
     "data": {
      "text/plain": [
       "<tensorflow.python.keras.callbacks.History at 0x79e4cd8dfdd0>"
      ]
     },
     "execution_count": 12,
     "metadata": {},
     "output_type": "execute_result"
    }
   ],
   "source": [
    "model = build_model(dense_units=256)\n",
    "model.compile(\n",
    "    optimizer='sgd',\n",
    "    loss='sparse_categorical_crossentropy', \n",
    "    metrics=['accuracy'])\n",
    "  \n",
    "model.fit(train_batches, \n",
    "          epochs=5, \n",
    "          validation_data=validation_batches, \n",
    "          verbose=2,\n",
    "          callbacks=[ModelCheckpoint('weights.{epoch:02d}-{val_loss:.2f}.h5', verbose=1),\n",
    "          ])"
   ]
  },
  {
   "cell_type": "code",
   "execution_count": 13,
   "metadata": {
    "colab": {},
    "colab_type": "code",
    "id": "oGvjQ8IlMmK6"
   },
   "outputs": [
    {
     "name": "stdout",
     "output_type": "stream",
     "text": [
      "\n",
      "Epoch 00001: saving model to saved_model\n",
      "WARNING:tensorflow:From /opt/conda/lib/python3.7/site-packages/tensorflow_core/python/ops/resource_variable_ops.py:1786: calling BaseResourceVariable.__init__ (from tensorflow.python.ops.resource_variable_ops) with constraint is deprecated and will be removed in a future version.\n",
      "Instructions for updating:\n",
      "If using Keras pass *_constraint arguments to layers.\n"
     ]
    },
    {
     "name": "stderr",
     "output_type": "stream",
     "text": [
      "WARNING:tensorflow:From /opt/conda/lib/python3.7/site-packages/tensorflow_core/python/ops/resource_variable_ops.py:1786: calling BaseResourceVariable.__init__ (from tensorflow.python.ops.resource_variable_ops) with constraint is deprecated and will be removed in a future version.\n",
      "Instructions for updating:\n",
      "If using Keras pass *_constraint arguments to layers.\n"
     ]
    },
    {
     "name": "stdout",
     "output_type": "stream",
     "text": [
      "INFO:tensorflow:Assets written to: saved_model/assets\n"
     ]
    },
    {
     "name": "stderr",
     "output_type": "stream",
     "text": [
      "INFO:tensorflow:Assets written to: saved_model/assets\n"
     ]
    },
    {
     "name": "stdout",
     "output_type": "stream",
     "text": [
      "26/26 - 21s - loss: 0.6617 - accuracy: 0.6010 - val_loss: 0.6377 - val_accuracy: 0.6537\n"
     ]
    },
    {
     "data": {
      "text/plain": [
       "<tensorflow.python.keras.callbacks.History at 0x79e4cd798dd0>"
      ]
     },
     "execution_count": 13,
     "metadata": {},
     "output_type": "execute_result"
    }
   ],
   "source": [
    "model = build_model(dense_units=256)\n",
    "model.compile(\n",
    "    optimizer='sgd',\n",
    "    loss='sparse_categorical_crossentropy', \n",
    "    metrics=['accuracy'])\n",
    "  \n",
    "model.fit(train_batches, \n",
    "          epochs=1, \n",
    "          validation_data=validation_batches, \n",
    "          verbose=2,\n",
    "          callbacks=[ModelCheckpoint('saved_model', verbose=1)\n",
    "          ])"
   ]
  },
  {
   "cell_type": "code",
   "execution_count": 14,
   "metadata": {
    "colab": {},
    "colab_type": "code",
    "id": "Y1ConwoB0EjD"
   },
   "outputs": [
    {
     "name": "stdout",
     "output_type": "stream",
     "text": [
      "Epoch 1/2\n",
      "\n",
      "Epoch 00001: saving model to model.h5\n",
      "26/26 - 20s - loss: 0.6681 - accuracy: 0.5779 - val_loss: 0.6665 - val_accuracy: 0.4976\n",
      "Epoch 2/2\n",
      "\n",
      "Epoch 00002: saving model to model.h5\n",
      "26/26 - 21s - loss: 0.6268 - accuracy: 0.6375 - val_loss: 0.5944 - val_accuracy: 0.8049\n"
     ]
    },
    {
     "data": {
      "text/plain": [
       "<tensorflow.python.keras.callbacks.History at 0x79e4cd61a390>"
      ]
     },
     "execution_count": 14,
     "metadata": {},
     "output_type": "execute_result"
    }
   ],
   "source": [
    "model = build_model(dense_units=256)\n",
    "model.compile(\n",
    "    optimizer='sgd',\n",
    "    loss='sparse_categorical_crossentropy', \n",
    "    metrics=['accuracy'])\n",
    "  \n",
    "model.fit(train_batches, \n",
    "          epochs=2, \n",
    "          validation_data=validation_batches, \n",
    "          verbose=2,\n",
    "          callbacks=[ModelCheckpoint('model.h5', verbose=1)\n",
    "          ])"
   ]
  },
  {
   "cell_type": "markdown",
   "metadata": {
    "colab_type": "text",
    "id": "kptNF0--Lznv"
   },
   "source": [
    "## [Early stopping](https://keras.io/api/callbacks/early_stopping/)\n",
    "\n",
    "Stop training when a monitored metric has stopped improving."
   ]
  },
  {
   "cell_type": "code",
   "execution_count": 15,
   "metadata": {
    "colab": {},
    "colab_type": "code",
    "id": "KJOJTJYdCkdY"
   },
   "outputs": [
    {
     "name": "stdout",
     "output_type": "stream",
     "text": [
      "Epoch 1/50\n",
      "26/26 - 21s - loss: 0.6618 - accuracy: 0.6338 - val_loss: 0.6301 - val_accuracy: 0.7073\n",
      "Epoch 2/50\n",
      "26/26 - 20s - loss: 0.6054 - accuracy: 0.6946 - val_loss: 0.5742 - val_accuracy: 0.7268\n",
      "Epoch 3/50\n",
      "26/26 - 20s - loss: 0.5398 - accuracy: 0.7433 - val_loss: 0.5271 - val_accuracy: 0.7122\n",
      "Epoch 4/50\n",
      "26/26 - 20s - loss: 0.4982 - accuracy: 0.7470 - val_loss: 0.4809 - val_accuracy: 0.7415\n",
      "Epoch 5/50\n",
      "26/26 - 20s - loss: 0.4745 - accuracy: 0.7603 - val_loss: 0.4494 - val_accuracy: 0.7659\n",
      "Epoch 6/50\n",
      "26/26 - 20s - loss: 0.4594 - accuracy: 0.7701 - val_loss: 0.4107 - val_accuracy: 0.8244\n",
      "Epoch 7/50\n",
      "26/26 - 20s - loss: 0.3973 - accuracy: 0.8200 - val_loss: 0.4101 - val_accuracy: 0.8293\n",
      "Epoch 8/50\n",
      "26/26 - 20s - loss: 0.3589 - accuracy: 0.8467 - val_loss: 0.3730 - val_accuracy: 0.8390\n",
      "Epoch 9/50\n",
      "26/26 - 20s - loss: 0.3134 - accuracy: 0.8783 - val_loss: 0.2653 - val_accuracy: 0.9171\n",
      "Epoch 10/50\n",
      "26/26 - 20s - loss: 0.2624 - accuracy: 0.9100 - val_loss: 0.2013 - val_accuracy: 0.9415\n",
      "Epoch 11/50\n",
      "26/26 - 20s - loss: 0.2256 - accuracy: 0.9234 - val_loss: 0.1788 - val_accuracy: 0.9512\n",
      "Epoch 12/50\n",
      "26/26 - 20s - loss: 0.1838 - accuracy: 0.9477 - val_loss: 0.1671 - val_accuracy: 0.9415\n",
      "Epoch 13/50\n",
      "26/26 - 20s - loss: 0.1785 - accuracy: 0.9343 - val_loss: 0.1348 - val_accuracy: 0.9707\n",
      "Epoch 14/50\n",
      "26/26 - 20s - loss: 0.1504 - accuracy: 0.9538 - val_loss: 0.1360 - val_accuracy: 0.9366\n",
      "Epoch 15/50\n",
      "26/26 - 20s - loss: 0.1202 - accuracy: 0.9732 - val_loss: 0.0974 - val_accuracy: 0.9805\n",
      "Epoch 16/50\n",
      "Restoring model weights from the end of the best epoch.\n",
      "26/26 - 20s - loss: 0.1017 - accuracy: 0.9818 - val_loss: 0.1228 - val_accuracy: 0.9512\n",
      "Epoch 00016: early stopping\n"
     ]
    },
    {
     "data": {
      "text/plain": [
       "<tensorflow.python.keras.callbacks.History at 0x79e4cd455b10>"
      ]
     },
     "execution_count": 15,
     "metadata": {},
     "output_type": "execute_result"
    }
   ],
   "source": [
    "model = build_model(dense_units=256)\n",
    "model.compile(\n",
    "    optimizer='sgd',\n",
    "    loss='sparse_categorical_crossentropy', \n",
    "    metrics=['accuracy'])\n",
    "  \n",
    "model.fit(train_batches, \n",
    "          epochs=50, \n",
    "          validation_data=validation_batches, \n",
    "          verbose=2,\n",
    "          callbacks=[EarlyStopping(\n",
    "              patience=3,\n",
    "              min_delta=0.05,\n",
    "              baseline=0.8,\n",
    "              mode='min',\n",
    "              monitor='val_loss',\n",
    "              restore_best_weights=True,\n",
    "              verbose=1)\n",
    "          ])"
   ]
  },
  {
   "cell_type": "markdown",
   "metadata": {
    "colab_type": "text",
    "id": "8mDzWUD4Pqq5"
   },
   "source": [
    "## [CSV Logger](https://keras.io/api/callbacks/csv_logger/)\n",
    "\n",
    "Callback that streams epoch results to a CSV file."
   ]
  },
  {
   "cell_type": "code",
   "execution_count": 16,
   "metadata": {
    "colab": {},
    "colab_type": "code",
    "id": "cffnMpmGPtMh"
   },
   "outputs": [
    {
     "name": "stdout",
     "output_type": "stream",
     "text": [
      "Epoch 1/5\n",
      "26/26 [==============================] - 20s 781ms/step - loss: 0.6719 - accuracy: 0.5462 - val_loss: 0.6606 - val_accuracy: 0.5805\n",
      "Epoch 2/5\n",
      "26/26 [==============================] - 19s 750ms/step - loss: 0.6355 - accuracy: 0.6582 - val_loss: 0.6280 - val_accuracy: 0.6341\n",
      "Epoch 3/5\n",
      "26/26 [==============================] - 20s 769ms/step - loss: 0.5953 - accuracy: 0.7117 - val_loss: 0.5981 - val_accuracy: 0.6488\n",
      "Epoch 4/5\n",
      "26/26 [==============================] - 20s 758ms/step - loss: 0.5374 - accuracy: 0.7530 - val_loss: 0.7519 - val_accuracy: 0.4878\n",
      "Epoch 5/5\n",
      "26/26 [==============================] - 19s 746ms/step - loss: 0.5184 - accuracy: 0.7518 - val_loss: 0.4517 - val_accuracy: 0.8049\n"
     ]
    },
    {
     "data": {
      "text/plain": [
       "<tensorflow.python.keras.callbacks.History at 0x79e4cd3478d0>"
      ]
     },
     "execution_count": 16,
     "metadata": {},
     "output_type": "execute_result"
    }
   ],
   "source": [
    "model = build_model(dense_units=256)\n",
    "model.compile(\n",
    "    optimizer='sgd',\n",
    "    loss='sparse_categorical_crossentropy', \n",
    "    metrics=['accuracy'])\n",
    "  \n",
    "csv_file = 'training.csv'\n",
    "\n",
    "model.fit(train_batches, \n",
    "          epochs=5, \n",
    "          validation_data=validation_batches, \n",
    "          callbacks=[CSVLogger(csv_file)\n",
    "          ])"
   ]
  },
  {
   "cell_type": "code",
   "execution_count": 17,
   "metadata": {
    "colab": {},
    "colab_type": "code",
    "id": "B9tkYi03QV7R"
   },
   "outputs": [
    {
     "data": {
      "text/html": [
       "<div>\n",
       "<style scoped>\n",
       "    .dataframe tbody tr th:only-of-type {\n",
       "        vertical-align: middle;\n",
       "    }\n",
       "\n",
       "    .dataframe tbody tr th {\n",
       "        vertical-align: top;\n",
       "    }\n",
       "\n",
       "    .dataframe thead th {\n",
       "        text-align: right;\n",
       "    }\n",
       "</style>\n",
       "<table border=\"1\" class=\"dataframe\">\n",
       "  <thead>\n",
       "    <tr style=\"text-align: right;\">\n",
       "      <th></th>\n",
       "      <th>epoch</th>\n",
       "      <th>accuracy</th>\n",
       "      <th>loss</th>\n",
       "      <th>val_accuracy</th>\n",
       "      <th>val_loss</th>\n",
       "    </tr>\n",
       "  </thead>\n",
       "  <tbody>\n",
       "    <tr>\n",
       "      <th>0</th>\n",
       "      <td>0</td>\n",
       "      <td>0.546229</td>\n",
       "      <td>0.672417</td>\n",
       "      <td>0.580488</td>\n",
       "      <td>0.660583</td>\n",
       "    </tr>\n",
       "    <tr>\n",
       "      <th>1</th>\n",
       "      <td>1</td>\n",
       "      <td>0.658151</td>\n",
       "      <td>0.635923</td>\n",
       "      <td>0.634146</td>\n",
       "      <td>0.627976</td>\n",
       "    </tr>\n",
       "    <tr>\n",
       "      <th>2</th>\n",
       "      <td>2</td>\n",
       "      <td>0.711679</td>\n",
       "      <td>0.596046</td>\n",
       "      <td>0.648780</td>\n",
       "      <td>0.598070</td>\n",
       "    </tr>\n",
       "    <tr>\n",
       "      <th>3</th>\n",
       "      <td>3</td>\n",
       "      <td>0.753041</td>\n",
       "      <td>0.537388</td>\n",
       "      <td>0.487805</td>\n",
       "      <td>0.751857</td>\n",
       "    </tr>\n",
       "    <tr>\n",
       "      <th>4</th>\n",
       "      <td>4</td>\n",
       "      <td>0.751825</td>\n",
       "      <td>0.518961</td>\n",
       "      <td>0.804878</td>\n",
       "      <td>0.451669</td>\n",
       "    </tr>\n",
       "  </tbody>\n",
       "</table>\n",
       "</div>"
      ],
      "text/plain": [
       "   epoch  accuracy      loss  val_accuracy  val_loss\n",
       "0      0  0.546229  0.672417      0.580488  0.660583\n",
       "1      1  0.658151  0.635923      0.634146  0.627976\n",
       "2      2  0.711679  0.596046      0.648780  0.598070\n",
       "3      3  0.753041  0.537388      0.487805  0.751857\n",
       "4      4  0.751825  0.518961      0.804878  0.451669"
      ]
     },
     "execution_count": 17,
     "metadata": {},
     "output_type": "execute_result"
    }
   ],
   "source": [
    "pd.read_csv(csv_file).head()"
   ]
  },
  {
   "cell_type": "markdown",
   "metadata": {
    "colab_type": "text",
    "id": "Dt9C2Y9fRBKN"
   },
   "source": [
    "## [Learning Rate Scheduler](https://keras.io/api/callbacks/learning_rate_scheduler/)\n",
    "\n",
    "Updates the learning rate during training."
   ]
  },
  {
   "cell_type": "code",
   "execution_count": 18,
   "metadata": {
    "colab": {},
    "colab_type": "code",
    "id": "aJi-xY2VRC03"
   },
   "outputs": [
    {
     "name": "stdout",
     "output_type": "stream",
     "text": [
      "\n",
      "Epoch 00001: LearningRateScheduler reducing learning rate to 0.005.\n",
      "Epoch 1/5\n",
      "26/26 [==============================] - 20s 778ms/step - loss: 0.6779 - accuracy: 0.5584 - val_loss: 0.6975 - val_accuracy: 0.4341\n",
      "\n",
      "Epoch 00002: LearningRateScheduler reducing learning rate to 0.0025.\n",
      "Epoch 2/5\n",
      "26/26 [==============================] - 31s 1s/step - loss: 0.6517 - accuracy: 0.5803 - val_loss: 0.6544 - val_accuracy: 0.6585\n",
      "\n",
      "Epoch 00003: LearningRateScheduler reducing learning rate to 0.00125.\n",
      "Epoch 3/5\n",
      "26/26 [==============================] - 21s 800ms/step - loss: 0.6366 - accuracy: 0.7141 - val_loss: 0.6499 - val_accuracy: 0.6341\n",
      "\n",
      "Epoch 00004: LearningRateScheduler reducing learning rate to 0.000625.\n",
      "Epoch 4/5\n",
      "26/26 [==============================] - 20s 777ms/step - loss: 0.6295 - accuracy: 0.6959 - val_loss: 0.6436 - val_accuracy: 0.6829\n",
      "\n",
      "Epoch 00005: LearningRateScheduler reducing learning rate to 0.0003125.\n",
      "Epoch 5/5\n",
      "26/26 [==============================] - 20s 777ms/step - loss: 0.6258 - accuracy: 0.7421 - val_loss: 0.6418 - val_accuracy: 0.6878\n"
     ]
    },
    {
     "data": {
      "text/plain": [
       "<tensorflow.python.keras.callbacks.History at 0x79e4cd176dd0>"
      ]
     },
     "execution_count": 18,
     "metadata": {},
     "output_type": "execute_result"
    }
   ],
   "source": [
    "model = build_model(dense_units=256)\n",
    "model.compile(\n",
    "    optimizer='sgd',\n",
    "    loss='sparse_categorical_crossentropy', \n",
    "    metrics=['accuracy'])\n",
    "  \n",
    "def step_decay(epoch):\n",
    "\tinitial_lr = 0.01\n",
    "\tdrop = 0.5\n",
    "\tepochs_drop = 1\n",
    "\tlr = initial_lr * math.pow(drop, math.floor((1+epoch)/epochs_drop))\n",
    "\treturn lr\n",
    "\n",
    "model.fit(train_batches, \n",
    "          epochs=5, \n",
    "          validation_data=validation_batches, \n",
    "          callbacks=[LearningRateScheduler(step_decay, verbose=1),\n",
    "                    TensorBoard(log_dir='./log_dir')])"
   ]
  },
  {
   "cell_type": "code",
   "execution_count": 19,
   "metadata": {
    "colab": {},
    "colab_type": "code",
    "id": "M2S4n8nrbV91"
   },
   "outputs": [
    {
     "data": {
      "text/html": [
       "\n",
       "      <iframe id=\"tensorboard-frame-6a21867c4544d561\" width=\"100%\" height=\"800\" frameborder=\"0\">\n",
       "      </iframe>\n",
       "      <script>\n",
       "        (function() {\n",
       "          const frame = document.getElementById(\"tensorboard-frame-6a21867c4544d561\");\n",
       "          const url = new URL(\"/\", window.location);\n",
       "          url.port = 6007;\n",
       "          frame.src = url;\n",
       "        })();\n",
       "      </script>\n",
       "  "
      ],
      "text/plain": [
       "<IPython.core.display.HTML object>"
      ]
     },
     "metadata": {},
     "output_type": "display_data"
    }
   ],
   "source": [
    "%tensorboard --logdir log_dir"
   ]
  },
  {
   "cell_type": "markdown",
   "metadata": {
    "colab_type": "text",
    "id": "y0wcuQyJE_UK"
   },
   "source": [
    "## [ReduceLROnPlateau](https://keras.io/api/callbacks/reduce_lr_on_plateau/)\n",
    "\n",
    "Reduce learning rate when a metric has stopped improving."
   ]
  },
  {
   "cell_type": "code",
   "execution_count": 20,
   "metadata": {
    "colab": {},
    "colab_type": "code",
    "id": "4naxZ-eCFB27"
   },
   "outputs": [
    {
     "name": "stdout",
     "output_type": "stream",
     "text": [
      "Epoch 1/50\n",
      "26/26 [==============================] - 23s 871ms/step - loss: 0.6595 - accuracy: 0.6302 - val_loss: 0.6417 - val_accuracy: 0.6732\n",
      "Epoch 2/50\n",
      "26/26 [==============================] - 20s 783ms/step - loss: 0.5897 - accuracy: 0.7275 - val_loss: 0.5537 - val_accuracy: 0.7268\n",
      "Epoch 3/50\n",
      "25/26 [===========================>..] - ETA: 0s - loss: 0.5250 - accuracy: 0.7437\n",
      "Epoch 00003: ReduceLROnPlateau reducing learning rate to 0.0019999999552965165.\n",
      "26/26 [==============================] - 20s 785ms/step - loss: 0.5245 - accuracy: 0.7433 - val_loss: 0.5570 - val_accuracy: 0.7122\n",
      "Epoch 4/50\n",
      "26/26 [==============================] - 20s 769ms/step - loss: 0.4682 - accuracy: 0.7762 - val_loss: 0.4649 - val_accuracy: 0.7561\n",
      "Epoch 5/50\n",
      "25/26 [===========================>..] - ETA: 0s - loss: 0.4410 - accuracy: 0.7825\n",
      "Epoch 00005: ReduceLROnPlateau reducing learning rate to 0.001.\n",
      "26/26 [==============================] - 20s 756ms/step - loss: 0.4402 - accuracy: 0.7822 - val_loss: 0.4723 - val_accuracy: 0.7805\n",
      "Epoch 6/50\n",
      "26/26 [==============================] - 20s 763ms/step - loss: 0.4294 - accuracy: 0.7932 - val_loss: 0.4512 - val_accuracy: 0.7707\n",
      "Epoch 7/50\n",
      "26/26 [==============================] - 20s 761ms/step - loss: 0.4231 - accuracy: 0.7956 - val_loss: 0.4475 - val_accuracy: 0.7902\n",
      "Epoch 8/50\n",
      "26/26 [==============================] - 20s 754ms/step - loss: 0.4179 - accuracy: 0.7956 - val_loss: 0.4295 - val_accuracy: 0.7756\n",
      "Epoch 9/50\n",
      "26/26 [==============================] - 20s 770ms/step - loss: 0.4091 - accuracy: 0.8054 - val_loss: 0.4269 - val_accuracy: 0.7805\n",
      "Epoch 10/50\n",
      "26/26 [==============================] - 20s 773ms/step - loss: 0.4043 - accuracy: 0.8163 - val_loss: 0.4192 - val_accuracy: 0.8000\n",
      "Epoch 11/50\n",
      "26/26 [==============================] - 20s 777ms/step - loss: 0.3977 - accuracy: 0.8151 - val_loss: 0.4164 - val_accuracy: 0.8195\n",
      "Epoch 12/50\n",
      "26/26 [==============================] - 20s 769ms/step - loss: 0.3911 - accuracy: 0.8187 - val_loss: 0.4126 - val_accuracy: 0.8293\n",
      "Epoch 13/50\n",
      "26/26 [==============================] - 20s 765ms/step - loss: 0.3863 - accuracy: 0.8236 - val_loss: 0.3988 - val_accuracy: 0.8293\n",
      "Epoch 14/50\n",
      "25/26 [===========================>..] - ETA: 0s - loss: 0.3768 - accuracy: 0.8313\n",
      "Epoch 00014: ReduceLROnPlateau reducing learning rate to 0.001.\n",
      "26/26 [==============================] - 20s 760ms/step - loss: 0.3783 - accuracy: 0.8321 - val_loss: 0.4016 - val_accuracy: 0.8537\n",
      "Epoch 15/50\n",
      "26/26 [==============================] - 20s 758ms/step - loss: 0.3714 - accuracy: 0.8358 - val_loss: 0.3957 - val_accuracy: 0.8585\n",
      "Epoch 16/50\n",
      "26/26 [==============================] - 20s 769ms/step - loss: 0.3647 - accuracy: 0.8406 - val_loss: 0.3737 - val_accuracy: 0.8390\n",
      "Epoch 17/50\n",
      "26/26 [==============================] - 20s 769ms/step - loss: 0.3570 - accuracy: 0.8504 - val_loss: 0.3631 - val_accuracy: 0.8341\n",
      "Epoch 18/50\n",
      "26/26 [==============================] - 20s 762ms/step - loss: 0.3506 - accuracy: 0.8601 - val_loss: 0.3538 - val_accuracy: 0.8293\n",
      "Epoch 19/50\n",
      "25/26 [===========================>..] - ETA: 0s - loss: 0.3439 - accuracy: 0.8662\n",
      "Epoch 00019: ReduceLROnPlateau reducing learning rate to 0.001.\n",
      "26/26 [==============================] - 20s 763ms/step - loss: 0.3451 - accuracy: 0.8650 - val_loss: 0.3719 - val_accuracy: 0.8780\n",
      "Epoch 20/50\n",
      "26/26 [==============================] - 20s 765ms/step - loss: 0.3397 - accuracy: 0.8625 - val_loss: 0.3506 - val_accuracy: 0.8732\n",
      "Epoch 21/50\n",
      "26/26 [==============================] - 21s 798ms/step - loss: 0.3297 - accuracy: 0.8771 - val_loss: 0.3350 - val_accuracy: 0.8927\n",
      "Epoch 22/50\n",
      "25/26 [===========================>..] - ETA: 0s - loss: 0.3221 - accuracy: 0.8838\n",
      "Epoch 00022: ReduceLROnPlateau reducing learning rate to 0.001.\n",
      "26/26 [==============================] - 22s 831ms/step - loss: 0.3241 - accuracy: 0.8832 - val_loss: 0.3495 - val_accuracy: 0.8829\n",
      "Epoch 23/50\n",
      "26/26 [==============================] - 19s 750ms/step - loss: 0.3178 - accuracy: 0.8929 - val_loss: 0.3329 - val_accuracy: 0.8976\n",
      "Epoch 24/50\n",
      "26/26 [==============================] - 20s 787ms/step - loss: 0.3106 - accuracy: 0.8966 - val_loss: 0.3088 - val_accuracy: 0.9073\n",
      "Epoch 25/50\n",
      "26/26 [==============================] - 20s 779ms/step - loss: 0.3028 - accuracy: 0.9027 - val_loss: 0.3021 - val_accuracy: 0.9073\n",
      "Epoch 26/50\n",
      "26/26 [==============================] - 20s 773ms/step - loss: 0.2963 - accuracy: 0.9075 - val_loss: 0.2978 - val_accuracy: 0.9122\n",
      "Epoch 27/50\n",
      "26/26 [==============================] - 20s 773ms/step - loss: 0.2901 - accuracy: 0.9100 - val_loss: 0.2913 - val_accuracy: 0.9171\n",
      "Epoch 28/50\n",
      "25/26 [===========================>..] - ETA: 0s - loss: 0.2826 - accuracy: 0.9200\n",
      "Epoch 00028: ReduceLROnPlateau reducing learning rate to 0.001.\n",
      "26/26 [==============================] - 20s 781ms/step - loss: 0.2786 - accuracy: 0.9221 - val_loss: 0.3040 - val_accuracy: 0.9073\n",
      "Epoch 29/50\n",
      "26/26 [==============================] - 20s 785ms/step - loss: 0.2757 - accuracy: 0.9197 - val_loss: 0.2703 - val_accuracy: 0.9122\n",
      "Epoch 30/50\n",
      "25/26 [===========================>..] - ETA: 0s - loss: 0.2688 - accuracy: 0.9262\n",
      "Epoch 00030: ReduceLROnPlateau reducing learning rate to 0.001.\n",
      "26/26 [==============================] - 20s 773ms/step - loss: 0.2666 - accuracy: 0.9282 - val_loss: 0.2705 - val_accuracy: 0.9220\n",
      "Epoch 31/50\n",
      "26/26 [==============================] - 20s 769ms/step - loss: 0.2606 - accuracy: 0.9258 - val_loss: 0.2682 - val_accuracy: 0.9220\n",
      "Epoch 32/50\n",
      "26/26 [==============================] - 20s 769ms/step - loss: 0.2510 - accuracy: 0.9355 - val_loss: 0.2580 - val_accuracy: 0.9024\n",
      "Epoch 33/50\n",
      "26/26 [==============================] - 20s 785ms/step - loss: 0.2479 - accuracy: 0.9343 - val_loss: 0.2437 - val_accuracy: 0.9317\n",
      "Epoch 34/50\n",
      "26/26 [==============================] - 21s 789ms/step - loss: 0.2402 - accuracy: 0.9428 - val_loss: 0.2373 - val_accuracy: 0.9317\n",
      "Epoch 35/50\n",
      "25/26 [===========================>..] - ETA: 0s - loss: 0.2307 - accuracy: 0.9425\n",
      "Epoch 00035: ReduceLROnPlateau reducing learning rate to 0.001.\n",
      "26/26 [==============================] - 20s 784ms/step - loss: 0.2330 - accuracy: 0.9404 - val_loss: 0.2457 - val_accuracy: 0.9220\n",
      "Epoch 36/50\n",
      "25/26 [===========================>..] - ETA: 0s - loss: 0.2297 - accuracy: 0.9413\n",
      "Epoch 00036: ReduceLROnPlateau reducing learning rate to 0.001.\n",
      "26/26 [==============================] - 20s 781ms/step - loss: 0.2280 - accuracy: 0.9416 - val_loss: 0.2441 - val_accuracy: 0.9220\n",
      "Epoch 37/50\n",
      "26/26 [==============================] - 22s 846ms/step - loss: 0.2206 - accuracy: 0.9453 - val_loss: 0.2207 - val_accuracy: 0.9415\n",
      "Epoch 38/50\n",
      "26/26 [==============================] - 22s 862ms/step - loss: 0.2170 - accuracy: 0.9416 - val_loss: 0.2112 - val_accuracy: 0.9415\n",
      "Epoch 39/50\n",
      "26/26 [==============================] - 22s 855ms/step - loss: 0.2094 - accuracy: 0.9526 - val_loss: 0.2087 - val_accuracy: 0.9415\n",
      "Epoch 40/50\n",
      "26/26 [==============================] - 23s 869ms/step - loss: 0.2060 - accuracy: 0.9550 - val_loss: 0.2023 - val_accuracy: 0.9415\n",
      "Epoch 41/50\n",
      "26/26 [==============================] - 28s 1s/step - loss: 0.1969 - accuracy: 0.9586 - val_loss: 0.1942 - val_accuracy: 0.9561\n",
      "Epoch 42/50\n",
      "25/26 [===========================>..] - ETA: 0s - loss: 0.1914 - accuracy: 0.9563\n",
      "Epoch 00042: ReduceLROnPlateau reducing learning rate to 0.001.\n",
      "26/26 [==============================] - 24s 938ms/step - loss: 0.1903 - accuracy: 0.9562 - val_loss: 0.2233 - val_accuracy: 0.9317\n",
      "Epoch 43/50\n",
      "26/26 [==============================] - 22s 835ms/step - loss: 0.1870 - accuracy: 0.9599 - val_loss: 0.1834 - val_accuracy: 0.9610\n",
      "Epoch 44/50\n",
      "25/26 [===========================>..] - ETA: 0s - loss: 0.1799 - accuracy: 0.9625\n",
      "Epoch 00044: ReduceLROnPlateau reducing learning rate to 0.001.\n",
      "26/26 [==============================] - 21s 789ms/step - loss: 0.1809 - accuracy: 0.9635 - val_loss: 0.1918 - val_accuracy: 0.9415\n",
      "Epoch 45/50\n",
      "26/26 [==============================] - 21s 819ms/step - loss: 0.1754 - accuracy: 0.9696 - val_loss: 0.1771 - val_accuracy: 0.9610\n",
      "Epoch 46/50\n",
      "26/26 [==============================] - 22s 846ms/step - loss: 0.1722 - accuracy: 0.9659 - val_loss: 0.1699 - val_accuracy: 0.9659\n",
      "Epoch 47/50\n",
      "25/26 [===========================>..] - ETA: 0s - loss: 0.1652 - accuracy: 0.9675\n",
      "Epoch 00047: ReduceLROnPlateau reducing learning rate to 0.001.\n",
      "26/26 [==============================] - 22s 850ms/step - loss: 0.1673 - accuracy: 0.9672 - val_loss: 0.1701 - val_accuracy: 0.9659\n",
      "Epoch 48/50\n",
      "25/26 [===========================>..] - ETA: 0s - loss: 0.1614 - accuracy: 0.9663\n",
      "Epoch 00048: ReduceLROnPlateau reducing learning rate to 0.001.\n",
      "26/26 [==============================] - 22s 853ms/step - loss: 0.1637 - accuracy: 0.9672 - val_loss: 0.1755 - val_accuracy: 0.9415\n",
      "Epoch 49/50\n",
      "26/26 [==============================] - 23s 877ms/step - loss: 0.1559 - accuracy: 0.9684 - val_loss: 0.1576 - val_accuracy: 0.9659\n",
      "Epoch 50/50\n",
      "25/26 [===========================>..] - ETA: 0s - loss: 0.1542 - accuracy: 0.9712\n",
      "Epoch 00050: ReduceLROnPlateau reducing learning rate to 0.001.\n",
      "26/26 [==============================] - 22s 850ms/step - loss: 0.1531 - accuracy: 0.9720 - val_loss: 0.1583 - val_accuracy: 0.9659\n"
     ]
    },
    {
     "data": {
      "text/plain": [
       "<tensorflow.python.keras.callbacks.History at 0x79e4cd3c7a50>"
      ]
     },
     "execution_count": 20,
     "metadata": {},
     "output_type": "execute_result"
    }
   ],
   "source": [
    "model = build_model(dense_units=256)\n",
    "model.compile(\n",
    "    optimizer='sgd',\n",
    "    loss='sparse_categorical_crossentropy', \n",
    "    metrics=['accuracy'])\n",
    "\n",
    "  \n",
    "model.fit(train_batches, \n",
    "          epochs=50, \n",
    "          validation_data=validation_batches, \n",
    "          callbacks=[ReduceLROnPlateau(monitor='val_loss', \n",
    "                                       factor=0.2, verbose=1,\n",
    "                                       patience=1, min_lr=0.001),\n",
    "                     TensorBoard(log_dir='./log_dir')])"
   ]
  },
  {
   "cell_type": "code",
   "execution_count": 21,
   "metadata": {
    "colab": {},
    "colab_type": "code",
    "id": "isfTWP4NYudk"
   },
   "outputs": [
    {
     "data": {
      "text/plain": [
       "Reusing TensorBoard on port 6007 (pid 5119), started 0:17:27 ago. (Use '!kill 5119' to kill it.)"
      ]
     },
     "metadata": {},
     "output_type": "display_data"
    },
    {
     "data": {
      "text/html": [
       "\n",
       "      <iframe id=\"tensorboard-frame-14e341e6df9a9efb\" width=\"100%\" height=\"800\" frameborder=\"0\">\n",
       "      </iframe>\n",
       "      <script>\n",
       "        (function() {\n",
       "          const frame = document.getElementById(\"tensorboard-frame-14e341e6df9a9efb\");\n",
       "          const url = new URL(\"/\", window.location);\n",
       "          url.port = 6007;\n",
       "          frame.src = url;\n",
       "        })();\n",
       "      </script>\n",
       "  "
      ],
      "text/plain": [
       "<IPython.core.display.HTML object>"
      ]
     },
     "metadata": {},
     "output_type": "display_data"
    }
   ],
   "source": [
    "%tensorboard --logdir log_dir"
   ]
  },
  {
   "cell_type": "code",
   "execution_count": null,
   "metadata": {},
   "outputs": [],
   "source": []
  }
 ],
 "metadata": {
  "colab": {
   "collapsed_sections": [],
   "include_colab_link": true,
   "name": "ExploringCallbacks.ipynb",
   "provenance": []
  },
  "kernelspec": {
   "display_name": "Python 3",
   "language": "python",
   "name": "python3"
  },
  "language_info": {
   "codemirror_mode": {
    "name": "ipython",
    "version": 3
   },
   "file_extension": ".py",
   "mimetype": "text/x-python",
   "name": "python",
   "nbconvert_exporter": "python",
   "pygments_lexer": "ipython3",
   "version": "3.7.6"
  }
 },
 "nbformat": 4,
 "nbformat_minor": 4
}
