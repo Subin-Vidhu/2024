{
 "cells": [
  {
   "cell_type": "markdown",
   "metadata": {},
   "source": [
    "# Programming Assignment: Social Network Database\n",
    "\n",
    "## Welcome!\n",
    "\n",
    "In this module you've been learning how LLMs can help with many common tasks when working with databases. In this assignment you'll have an opportunity to put those skills into practice. You will be working with a database designed to represent a simple social network. Here's the tasks you'll need to complete:\n",
    "\n",
    "1. Write code that reads data from a provided CSV file into the database\n",
    "2. Develop functions that query the database\n",
    "\n",
    "### Submission and Grading\n",
    "\n",
    "This notebook will be graded based on four functions that you write. You can find starter code for all four functions below. Unit tests are provided to help you test your work.\n",
    "\n",
    "### Working with the LLM:\n",
    "\n",
    "- **GPT-4o is available:** You can use whichever LLM you prefer on this assignment, but [GPT-4o has been made avaiable](https://www.coursera.org/learn/ai-powered-software-and-system-design/ungradedLab/rSPHu/gpt-4o-environment-for-assignment-to-use-alongside-the-programming-assignment) in the ungraded lab that follows this assignment\n",
    "- **Provide Context to Your LLM:** The LLM will need the context of the problem you're working on and the code already available to you in order to help develop solutions.\n",
    "- **Work Iteratively and Test as You Go:** Remember, the LLM's advice might not always be spot-on. It's up to you to decide what's useful, test the code it provides, and iterate as you work towards a solution."
   ]
  },
  {
   "cell_type": "markdown",
   "metadata": {},
   "source": [
    "### Necessary imports"
   ]
  },
  {
   "cell_type": "code",
   "execution_count": 1,
   "metadata": {
    "tags": [
     "graded"
    ]
   },
   "outputs": [],
   "source": [
    "from sqlalchemy import create_engine, Column, Integer, String, ForeignKey, Table\n",
    "from sqlalchemy.orm import declarative_base\n",
    "from sqlalchemy.orm import relationship, sessionmaker\n",
    "import numpy as np\n",
    "import os\n",
    "import pandas as pd\n",
    "import json"
   ]
  },
  {
   "cell_type": "code",
   "execution_count": 2,
   "metadata": {},
   "outputs": [],
   "source": [
    "import unittests"
   ]
  },
  {
   "cell_type": "markdown",
   "metadata": {},
   "source": [
    "### Database Schema\n",
    "\n",
    "The function below defines the schema for the database you will be using in this assignment. The database represents a social network made up of people who can be friends with one another and join clubs. You cannot edit this function but should understand how it works and the database schema it defines. **Read this function carefully and share it with your LLM** to make sure you understand the schema before moving on."
   ]
  },
  {
   "cell_type": "code",
   "execution_count": 3,
   "metadata": {
    "colab": {
     "base_uri": "https://localhost:8080/"
    },
    "id": "OML5zvqo0FeL",
    "outputId": "4630141d-fc05-49cb-bce2-a52d544be69c",
    "tags": [
     "graded"
    ]
   },
   "outputs": [],
   "source": [
    "# Creates the database for the social network\n",
    "\n",
    "def create_database():\n",
    "    Base = declarative_base()\n",
    "\n",
    "    friendships = Table('friendships', Base.metadata,\n",
    "                        Column('person_id', Integer, ForeignKey('people.id'), primary_key=True),\n",
    "                        Column('friend_id', Integer, ForeignKey('people.id'), primary_key=True))\n",
    "\n",
    "    club_members = Table('club_members', Base.metadata,\n",
    "                         Column('person_id', Integer, ForeignKey('people.id'), primary_key=True),\n",
    "                         Column('club_id', Integer, ForeignKey('clubs.id'), primary_key=True))\n",
    "\n",
    "    class Person(Base):\n",
    "        __tablename__ = 'people'\n",
    "        id = Column(Integer, primary_key=True)\n",
    "        name = Column(String)\n",
    "        age = Column(Integer)\n",
    "        gender = Column(String)\n",
    "        location = Column(String)\n",
    "        friends = relationship(\"Person\",\n",
    "                               secondary=friendships,\n",
    "                               primaryjoin=id == friendships.c.person_id,\n",
    "                               secondaryjoin=id == friendships.c.friend_id)\n",
    "        clubs = relationship(\"Club\", secondary=club_members, back_populates=\"members\")\n",
    "\n",
    "    class Club(Base):\n",
    "        __tablename__ = 'clubs'\n",
    "        id = Column(Integer, primary_key=True)\n",
    "        description = Column(String)\n",
    "        members = relationship(\"Person\", secondary=club_members, back_populates=\"clubs\")\n",
    "\n",
    "    if os.path.exists(\"social_network.db\"):\n",
    "        os.remove(\"social_network.db\")\n",
    "    engine = create_engine(f'sqlite:///{\"social_network.db\"}', echo=False)\n",
    "    Base.metadata.create_all(engine)\n",
    "\n",
    "    Session = sessionmaker(bind=engine)\n",
    "    session = Session()\n",
    "\n",
    "    return session, Club, Person, friendships, club_members"
   ]
  },
  {
   "cell_type": "markdown",
   "metadata": {},
   "source": [
    "### Exercise 1: Load the Database from a CSV\n",
    "\n",
    "The database defined in the `create_database` function does not yet contain any data. You'll need to write the code for the `load_data_from_csv` function below to populate the database. To do that, you'll use the `members.csv` file which is available in this lab in the same directory as this notebook. The data is stored in a single table with one row for each person. The Friendships column contains the IDs of everyone the person in that row considers a friend. The Clubs column contains the names of each club the person in that row is a part of.\n",
    "\n",
    "A few important notes about this exercise:\n",
    "\n",
    "* In order for your function to be graded properly, do not change the function name or its parameters.\n",
    "* You shouldn't need to import additional libraries, and this can sometimes cause errors with the grader. If you absolutely must, do so within the same cell as the `load_data_from_csv` function."
   ]
  },
  {
   "cell_type": "code",
   "execution_count": 4,
   "metadata": {},
   "outputs": [
    {
     "data": {
      "text/html": [
       "<div>\n",
       "<style scoped>\n",
       "    .dataframe tbody tr th:only-of-type {\n",
       "        vertical-align: middle;\n",
       "    }\n",
       "\n",
       "    .dataframe tbody tr th {\n",
       "        vertical-align: top;\n",
       "    }\n",
       "\n",
       "    .dataframe thead th {\n",
       "        text-align: right;\n",
       "    }\n",
       "</style>\n",
       "<table border=\"1\" class=\"dataframe\">\n",
       "  <thead>\n",
       "    <tr style=\"text-align: right;\">\n",
       "      <th></th>\n",
       "      <th>ID</th>\n",
       "      <th>Name</th>\n",
       "      <th>Surname</th>\n",
       "      <th>Location</th>\n",
       "      <th>Age</th>\n",
       "      <th>Gender</th>\n",
       "      <th>Friendships</th>\n",
       "      <th>Clubs</th>\n",
       "    </tr>\n",
       "  </thead>\n",
       "  <tbody>\n",
       "    <tr>\n",
       "      <th>0</th>\n",
       "      <td>0</td>\n",
       "      <td>John</td>\n",
       "      <td>Rocha</td>\n",
       "      <td>948 Christian Park Apt. 683 New Christopher, M...</td>\n",
       "      <td>57</td>\n",
       "      <td>Male</td>\n",
       "      <td>[4, 10, 12, 5, 19, 14]</td>\n",
       "      <td>[Fitness Club]</td>\n",
       "    </tr>\n",
       "    <tr>\n",
       "      <th>1</th>\n",
       "      <td>1</td>\n",
       "      <td>William</td>\n",
       "      <td>Ruiz</td>\n",
       "      <td>09477 Paul Station Williamsmouth, NM 93899</td>\n",
       "      <td>42</td>\n",
       "      <td>Female</td>\n",
       "      <td>[9, 15, 17, 10, 3]</td>\n",
       "      <td>[Travel Club, Art Club, Cooking Club]</td>\n",
       "    </tr>\n",
       "    <tr>\n",
       "      <th>2</th>\n",
       "      <td>2</td>\n",
       "      <td>Jackie</td>\n",
       "      <td>Mccullough</td>\n",
       "      <td>903 Keller River Suite 149 Davidside, IN 11476</td>\n",
       "      <td>36</td>\n",
       "      <td>Non-binary</td>\n",
       "      <td>[6, 4, 10, 9]</td>\n",
       "      <td>[Hiking Club, Art Club]</td>\n",
       "    </tr>\n",
       "    <tr>\n",
       "      <th>3</th>\n",
       "      <td>3</td>\n",
       "      <td>Michael</td>\n",
       "      <td>Powell</td>\n",
       "      <td>7528 Brenda Mills Jenniferstad, RI 38209</td>\n",
       "      <td>67</td>\n",
       "      <td>Female</td>\n",
       "      <td>[11, 7, 13, 6, 14, 2]</td>\n",
       "      <td>[Hiking Club, Chess Club, Gaming Club, Book Cl...</td>\n",
       "    </tr>\n",
       "    <tr>\n",
       "      <th>4</th>\n",
       "      <td>4</td>\n",
       "      <td>Scott</td>\n",
       "      <td>Boyd</td>\n",
       "      <td>545 Evelyn Shores Apt. 744 North Craigchester,...</td>\n",
       "      <td>47</td>\n",
       "      <td>Female</td>\n",
       "      <td>[15, 17, 1, 11, 0, 10, 5]</td>\n",
       "      <td>[Gaming Club]</td>\n",
       "    </tr>\n",
       "  </tbody>\n",
       "</table>\n",
       "</div>"
      ],
      "text/plain": [
       "   ID     Name     Surname                                           Location  \\\n",
       "0   0     John       Rocha  948 Christian Park Apt. 683 New Christopher, M...   \n",
       "1   1  William        Ruiz         09477 Paul Station Williamsmouth, NM 93899   \n",
       "2   2   Jackie  Mccullough     903 Keller River Suite 149 Davidside, IN 11476   \n",
       "3   3  Michael      Powell           7528 Brenda Mills Jenniferstad, RI 38209   \n",
       "4   4    Scott        Boyd  545 Evelyn Shores Apt. 744 North Craigchester,...   \n",
       "\n",
       "   Age      Gender                Friendships  \\\n",
       "0   57        Male     [4, 10, 12, 5, 19, 14]   \n",
       "1   42      Female         [9, 15, 17, 10, 3]   \n",
       "2   36  Non-binary              [6, 4, 10, 9]   \n",
       "3   67      Female      [11, 7, 13, 6, 14, 2]   \n",
       "4   47      Female  [15, 17, 1, 11, 0, 10, 5]   \n",
       "\n",
       "                                               Clubs  \n",
       "0                                     [Fitness Club]  \n",
       "1              [Travel Club, Art Club, Cooking Club]  \n",
       "2                            [Hiking Club, Art Club]  \n",
       "3  [Hiking Club, Chess Club, Gaming Club, Book Cl...  \n",
       "4                                      [Gaming Club]  "
      ]
     },
     "execution_count": 4,
     "metadata": {},
     "output_type": "execute_result"
    }
   ],
   "source": [
    "# The members.csv file contains 20 people. The code below will show you the first 5 rows to help you understand the format of the CSV file\n",
    "\n",
    "pd.read_csv(\"members.csv\", converters = {'Friendships': eval, \"Clubs\": eval}).head()"
   ]
  },
  {
   "cell_type": "code",
   "execution_count": 11,
   "metadata": {
    "tags": [
     "graded"
    ]
   },
   "outputs": [],
   "source": [
    "def load_data_from_csv(session, Club, Person, friendships, club_members, csv_path=\"members.csv\"):\n",
    "    # Step 1: Clear existing data from all relevant tables\n",
    "    session.query(Person).delete()\n",
    "    session.query(Club).delete()\n",
    "    session.query(friendships).delete()\n",
    "    session.query(club_members).delete()\n",
    "    session.commit()  # Commit the deletion of all existing records\n",
    "\n",
    "    # Load the CSV data\n",
    "    df = pd.read_csv(csv_path, converters={'Friendships': eval, \"Clubs\": eval})\n",
    "\n",
    "    # Mapping of club names to Club objects\n",
    "    club_map = {}\n",
    "\n",
    "    # Step 2: Insert people into the database\n",
    "    for _, row in df.iterrows():\n",
    "        # Combine Name and Surname to create the full name\n",
    "        full_name = f\"{row['Name']} {row['Surname']}\"\n",
    "        person = Person(id=row['ID'], name=full_name, age=row['Age'], gender=row['Gender'], location=row['Location'])\n",
    "        session.add(person)\n",
    "        session.commit()\n",
    "\n",
    "        # Step 3: Insert clubs into the database and establish memberships\n",
    "        for club_name in row['Clubs']:\n",
    "            if club_name not in club_map:\n",
    "                club = Club(description=club_name)\n",
    "                session.add(club)\n",
    "                session.commit()\n",
    "                club_map[club_name] = club\n",
    "            else:\n",
    "                club = club_map[club_name]\n",
    "            person.clubs.append(club)\n",
    "\n",
    "        session.commit()\n",
    "\n",
    "    # Step 4: Establish friendships\n",
    "    for _, row in df.iterrows():\n",
    "        person = session.query(Person).get(row['ID'])\n",
    "        for friend_id in row['Friendships']:\n",
    "            friend = session.query(Person).get(friend_id)\n",
    "            if friend:\n",
    "                person.friends.append(friend)\n",
    "\n",
    "        session.commit()"
   ]
  },
  {
   "cell_type": "code",
   "execution_count": 12,
   "metadata": {},
   "outputs": [
    {
     "name": "stderr",
     "output_type": "stream",
     "text": [
      "/tmp/ipykernel_111/2147410242.py:38: LegacyAPIWarning: The Query.get() method is considered legacy as of the 1.x series of SQLAlchemy and becomes a legacy construct in 2.0. The method is now available as Session.get() (deprecated since: 2.0) (Background on SQLAlchemy 2.0 at: https://sqlalche.me/e/b8d9)\n",
      "  person = session.query(Person).get(row['ID'])\n",
      "/tmp/ipykernel_111/2147410242.py:40: LegacyAPIWarning: The Query.get() method is considered legacy as of the 1.x series of SQLAlchemy and becomes a legacy construct in 2.0. The method is now available as Session.get() (deprecated since: 2.0) (Background on SQLAlchemy 2.0 at: https://sqlalche.me/e/b8d9)\n",
      "  friend = session.query(Person).get(friend_id)\n"
     ]
    },
    {
     "name": "stdout",
     "output_type": "stream",
     "text": [
      "=== All Persons ===\n",
      "ID: 0, Name: John Rocha, Age: 57, Gender: Male, Location: 948 Christian Park Apt. 683 New Christopher, MN 06675\n",
      "ID: 1, Name: William Ruiz, Age: 42, Gender: Female, Location: 09477 Paul Station Williamsmouth, NM 93899\n",
      "ID: 2, Name: Jackie Mccullough, Age: 36, Gender: Non-binary, Location: 903 Keller River Suite 149 Davidside, IN 11476\n",
      "\n",
      "=== All Clubs and their Members ===\n",
      "Club ID: 1, Description: Fitness Club, Members: ['John Rocha', 'Amanda Norris', 'Michael Clark', 'Christina Murphy']\n",
      "Club ID: 2, Description: Travel Club, Members: ['William Ruiz', 'Michael Powell', 'Becky Peterson', 'Nicholas Harrington', 'Luis Kim', 'Nathan Mendez']\n",
      "Club ID: 3, Description: Art Club, Members: ['William Ruiz', 'Jackie Mccullough', 'Amanda Norris', 'Becky Peterson', 'Mark Allen', 'Brian Mays', 'Eric Dougherty', 'Nathan Mendez']\n",
      "\n",
      "=== Friendships ===\n",
      "John Rocha's Friends: ['Scott Boyd', 'Andrew Williams', 'Nicholas Harrington', 'Christina Murphy', 'Luis Kim', 'Mark Mcintyre']\n",
      "William Ruiz's Friends: ['Michael Powell', 'Mark Allen', 'Nicholas Harrington', 'Brian Mays', 'Nathan Mendez']\n",
      "Jackie Mccullough's Friends: ['Scott Boyd', 'Amanda Norris', 'Mark Allen', 'Nicholas Harrington']\n"
     ]
    }
   ],
   "source": [
    "# The code below creates the database and reads in the data \n",
    "session, Club, Person, friendships, club_members = create_database()\n",
    "load_data_from_csv(session, Club, Person, friendships, club_members, \"members.csv\")\n",
    "\n",
    "# If your load_data_from_csv function is working correctly, then you should have read in data correctly into all four tables in the database.\n",
    "\n",
    "print_amount = 3\n",
    "\n",
    "# Print first 3 persons\n",
    "print(\"=== All Persons ===\")\n",
    "people = session.query(Person).all()\n",
    "for person in people[:print_amount ]:\n",
    "    print(f\"ID: {person.id}, Name: {person.name}, Age: {person.age}, Gender: {person.gender}, Location: {person.location}\")\n",
    "\n",
    "# Print first 3 clubs and their members\n",
    "print(\"\\n=== All Clubs and their Members ===\")\n",
    "clubs = session.query(Club).all()\n",
    "for club in clubs[:print_amount ]:\n",
    "    print(f\"Club ID: {club.id}, Description: {club.description}, Members: {[member.name for member in club.members]}\")\n",
    "\n",
    "# Print friendships of first three persons\n",
    "print(\"\\n=== Friendships ===\")\n",
    "for person in people[:print_amount ]:\n",
    "    friends = [friend.name for friend in person.friends]\n",
    "    print(f\"{person.name}'s Friends: {friends}\")"
   ]
  },
  {
   "cell_type": "markdown",
   "metadata": {},
   "source": [
    "Expected output:\n",
    "```\n",
    "=== All Persons ===\n",
    "ID: 0, Name: John Rocha, Age: 57, Gender: Male, Location: 948 Christian Park Apt. 683 New Christopher, MN 06675\n",
    "ID: 1, Name: William Ruiz, Age: 42, Gender: Female, Location: 09477 Paul Station Williamsmouth, NM 93899\n",
    "ID: 2, Name: Jackie Mccullough, Age: 36, Gender: Non-binary, Location: 903 Keller River Suite 149 Davidside, IN 11476\n",
    "\n",
    "=== All Clubs and their Members ===\n",
    "Club ID: 1, Description: Fitness Club, Members: ['John Rocha', 'Amanda Norris', 'Michael Clark', 'Christina Murphy']\n",
    "Club ID: 2, Description: Travel Club, Members: ['William Ruiz', 'Michael Powell', 'Becky Peterson', 'Nicholas Harrington', 'Luis Kim', 'Nathan Mendez']\n",
    "Club ID: 3, Description: Art Club, Members: ['William Ruiz', 'Jackie Mccullough', 'Amanda Norris', 'Becky Peterson', 'Mark Allen', 'Brian Mays', 'Eric Dougherty', 'Nathan Mendez']\n",
    "\n",
    "=== Friendships ===\n",
    "John Rocha's Friends: ['Scott Boyd', 'Andrew Williams', 'Nicholas Harrington', 'Christina Murphy', 'Luis Kim', 'Mark Mcintyre']\n",
    "William Ruiz's Friends: ['Michael Powell', 'Mark Allen', 'Nicholas Harrington', 'Brian Mays', 'Nathan Mendez']\n",
    "Jackie Mccullough's Friends: ['Scott Boyd', 'Amanda Norris', 'Mark Allen', 'Nicholas Harrington']\n",
    "```"
   ]
  },
  {
   "cell_type": "code",
   "execution_count": 13,
   "metadata": {},
   "outputs": [
    {
     "name": "stderr",
     "output_type": "stream",
     "text": [
      "/tmp/ipykernel_111/2147410242.py:38: LegacyAPIWarning: The Query.get() method is considered legacy as of the 1.x series of SQLAlchemy and becomes a legacy construct in 2.0. The method is now available as Session.get() (deprecated since: 2.0) (Background on SQLAlchemy 2.0 at: https://sqlalche.me/e/b8d9)\n",
      "  person = session.query(Person).get(row['ID'])\n",
      "/tmp/ipykernel_111/2147410242.py:40: LegacyAPIWarning: The Query.get() method is considered legacy as of the 1.x series of SQLAlchemy and becomes a legacy construct in 2.0. The method is now available as Session.get() (deprecated since: 2.0) (Background on SQLAlchemy 2.0 at: https://sqlalche.me/e/b8d9)\n",
      "  friend = session.query(Person).get(friend_id)\n"
     ]
    },
    {
     "name": "stdout",
     "output_type": "stream",
     "text": [
      "\u001b[92m All tests passed!\n"
     ]
    }
   ],
   "source": [
    "unittests.test_load_data_from_csv(load_data_from_csv)"
   ]
  },
  {
   "cell_type": "markdown",
   "metadata": {},
   "source": [
    "### Exercise 2: Get a Club's Members\n",
    "\n",
    "Assuming your data has been loaded correctly, you should now be able to query the data in your database. For this exercise, write a function called `get_club_members_by_description`. This function should accept a description of a club and a session, and return a list of all its members. **Ensure that this function returns a list containing the defined Person objects.** It must input only a **club description**."
   ]
  },
  {
   "cell_type": "code",
   "execution_count": 14,
   "metadata": {
    "tags": [
     "graded"
    ]
   },
   "outputs": [],
   "source": [
    "def get_club_members(session, club_description):\n",
    "    \"\"\"\n",
    "    Returns a list of Person objects who are members of a club given the club's description.\n",
    "    \n",
    "    Parameters:\n",
    "    - session: The SQLAlchemy session for database queries.\n",
    "    - club_description (str): The description of the club for which members are to be retrieved.\n",
    "    \n",
    "    Returns:\n",
    "    - List[Person]: A list of Person objects who are members of the specified club.\n",
    "    \"\"\"\n",
    "    # Query the Club table to find the club with the given description\n",
    "    club = session.query(Club).filter_by(description=club_description).first()\n",
    "    \n",
    "    if club:\n",
    "        # Return the list of members associated with this club\n",
    "        return club.members\n",
    "    else:\n",
    "        # If no club is found with the given description, return an empty list\n",
    "        return []\n",
    "\n",
    "# Example usage:\n",
    "# session, Club, Person, friendships, club_members = create_database()\n",
    "# load_data_from_csv(session, Club, Person, friendships, club_members)\n",
    "# members = get_club_members(session, \"Hiking Club\")\n",
    "# for member in members:\n",
    "#     print(member.name)"
   ]
  },
  {
   "cell_type": "code",
   "execution_count": 15,
   "metadata": {},
   "outputs": [
    {
     "name": "stdout",
     "output_type": "stream",
     "text": [
      "Members of the Hiking Club:\n",
      "- Jackie Mccullough, Age: 36, Location: 903 Keller River Suite 149 Davidside, IN 11476\n",
      "- Michael Powell, Age: 67, Location: 7528 Brenda Mills Jenniferstad, RI 38209\n",
      "- Amanda Norris, Age: 27, Location: 8446 Thomas Crossing Suite 184 West Jacobshire, CA 41663\n",
      "- Michael Clark, Age: 39, Location: 688 Sean River Apt. 585 Amandatown, AZ 76721\n",
      "- Christina Murphy, Age: 19, Location: 276 Wolfe Springs Lake Eric, PA 61512\n",
      "- Luis Kim, Age: 34, Location: 23367 Chase Heights Apt. 892 Calebchester, NC 59073\n",
      "- Nathan Mendez, Age: 70, Location: 16039 Carey Views Apt. 776 Tylerfurt, DE 67034\n"
     ]
    }
   ],
   "source": [
    "# Example usage of the get_club_members function\n",
    "\n",
    "# Assume the session and all models have been correctly set up and populated as per your initial code\n",
    "\n",
    "# Fetching members of the \"Hiking Club\"\n",
    "hiking_club_members = get_club_members(session, \"Hiking Club\")\n",
    "\n",
    "# Printing out the names of all members of the Hiking Club\n",
    "print(\"Members of the Hiking Club:\")\n",
    "for person in hiking_club_members:\n",
    "    print(f\"- {person.name}, Age: {person.age}, Location: {person.location}\")"
   ]
  },
  {
   "cell_type": "markdown",
   "metadata": {},
   "source": [
    "Expected output:\n",
    "```\n",
    "Members of the Hiking Club:\n",
    "- Jackie Mccullough, Age: 36, Location: 903 Keller River Suite 149 Davidside, IN 11476\n",
    "- Michael Powell, Age: 67, Location: 7528 Brenda Mills Jenniferstad, RI 38209\n",
    "- Amanda Norris, Age: 27, Location: 8446 Thomas Crossing Suite 184 West Jacobshire, CA 41663\n",
    "- Michael Clark, Age: 39, Location: 688 Sean River Apt. 585 Amandatown, AZ 76721\n",
    "- Christina Murphy, Age: 19, Location: 276 Wolfe Springs Lake Eric, PA 61512\n",
    "- Luis Kim, Age: 34, Location: 23367 Chase Heights Apt. 892 Calebchester, NC 59073\n",
    "- Nathan Mendez, Age: 70, Location: 16039 Carey Views Apt. 776 Tylerfurt, DE 67034\n",
    "\n",
    "```"
   ]
  },
  {
   "cell_type": "code",
   "execution_count": 16,
   "metadata": {},
   "outputs": [
    {
     "name": "stderr",
     "output_type": "stream",
     "text": [
      "/tmp/ipykernel_111/2147410242.py:38: LegacyAPIWarning: The Query.get() method is considered legacy as of the 1.x series of SQLAlchemy and becomes a legacy construct in 2.0. The method is now available as Session.get() (deprecated since: 2.0) (Background on SQLAlchemy 2.0 at: https://sqlalche.me/e/b8d9)\n",
      "  person = session.query(Person).get(row['ID'])\n",
      "/tmp/ipykernel_111/2147410242.py:40: LegacyAPIWarning: The Query.get() method is considered legacy as of the 1.x series of SQLAlchemy and becomes a legacy construct in 2.0. The method is now available as Session.get() (deprecated since: 2.0) (Background on SQLAlchemy 2.0 at: https://sqlalche.me/e/b8d9)\n",
      "  friend = session.query(Person).get(friend_id)\n"
     ]
    },
    {
     "name": "stdout",
     "output_type": "stream",
     "text": [
      "\u001b[92m All tests passed!\n"
     ]
    }
   ],
   "source": [
    "unittests.test_get_club_members(load_data_from_csv, get_club_members)"
   ]
  },
  {
   "cell_type": "markdown",
   "metadata": {},
   "source": [
    "### Exercise 3: Get a Person's Friends\n",
    "\n",
    "In this exercise, you are required to create a function named `get_friends_of_person`. This function should accept the name of a person and a session, return a list of all the people they consider to be friends. **Ensure that this function returns a list containing the defined Person objects.** The input must be only the **name of a person**."
   ]
  },
  {
   "cell_type": "code",
   "execution_count": 17,
   "metadata": {
    "tags": [
     "graded"
    ]
   },
   "outputs": [],
   "source": [
    "def get_friends_of_person(session, person_name):\n",
    "    \"\"\"\n",
    "    Returns a list of Person objects who are friends with the specified person.\n",
    "    \n",
    "    Parameters:\n",
    "    - session: The SQLAlchemy session object used to query the database.\n",
    "    - person_name (str): The name of the person for whom to retrieve friends.\n",
    "    \n",
    "    Returns:\n",
    "    - List[Person]: A list of Person objects who are friends with the specified person.\n",
    "    \"\"\"\n",
    "    # Query the Person table to find the person with the given name\n",
    "    person = session.query(Person).filter_by(name=person_name).first()\n",
    "    \n",
    "    if person:\n",
    "        # Return the list of friends associated with this person\n",
    "        return person.friends\n",
    "    else:\n",
    "        # If no person is found with the given name, return an empty list\n",
    "        return []\n",
    "\n",
    "# Example usage:\n",
    "# session, Club, Person, friendships, club_members = create_database()\n",
    "# load_data_from_csv(session, Club, Person, friendships, club_members)\n",
    "# friends = get_friends_of_person(session, \"John Rocha\")\n",
    "# for friend in friends:\n",
    "#     print(friend.name)"
   ]
  },
  {
   "cell_type": "code",
   "execution_count": 18,
   "metadata": {},
   "outputs": [
    {
     "name": "stdout",
     "output_type": "stream",
     "text": [
      "Friends of John Rocha:\n",
      "- Scott Boyd, Age: 47, Location: 545 Evelyn Shores Apt. 744 North Craigchester, CO 47369\n",
      "- Andrew Williams, Age: 24, Location: USCGC Jacobs FPO AE 78539\n",
      "- Nicholas Harrington, Age: 52, Location: 97681 Hernandez Villages Suite 344 Elizabethborough, UT 44717\n",
      "- Christina Murphy, Age: 19, Location: 276 Wolfe Springs Lake Eric, PA 61512\n",
      "- Luis Kim, Age: 34, Location: 23367 Chase Heights Apt. 892 Calebchester, NC 59073\n",
      "- Mark Mcintyre, Age: 22, Location: 5635 Jennifer Freeway Suite 436 Newmanberg, IL 05315\n"
     ]
    }
   ],
   "source": [
    "# Example usage of the get_friends_of_person function\n",
    "\n",
    "# Fetching friends of given name\n",
    "name = \"John Rocha\"\n",
    "\n",
    "john_friends = get_friends_of_person(session,name)\n",
    "\n",
    "# Printing out the names of all friends of John Rocha\n",
    "print(f\"Friends of {name}:\")\n",
    "for friend in john_friends:\n",
    "    print(f\"- {friend.name}, Age: {friend.age}, Location: {friend.location}\")"
   ]
  },
  {
   "cell_type": "markdown",
   "metadata": {},
   "source": [
    "Expected output:\n",
    "```\n",
    "- Scott Boyd, Age: 47, Location: 545 Evelyn Shores Apt. 744 North Craigchester, CO 47369\n",
    "- Andrew Williams, Age: 24, Location: USCGC Jacobs FPO AE 78539\n",
    "- Nicholas Harrington, Age: 52, Location: 97681 Hernandez Villages Suite 344 Elizabethborough, UT 44717\n",
    "- Christina Murphy, Age: 19, Location: 276 Wolfe Springs Lake Eric, PA 61512\n",
    "- Luis Kim, Age: 34, Location: 23367 Chase Heights Apt. 892 Calebchester, NC 59073\n",
    "- Mark Mcintyre, Age: 22, Location: 5635 Jennifer Freeway Suite 436 Newmanberg, IL 05315\n",
    "```"
   ]
  },
  {
   "cell_type": "code",
   "execution_count": 19,
   "metadata": {},
   "outputs": [
    {
     "name": "stderr",
     "output_type": "stream",
     "text": [
      "/tmp/ipykernel_111/2147410242.py:38: LegacyAPIWarning: The Query.get() method is considered legacy as of the 1.x series of SQLAlchemy and becomes a legacy construct in 2.0. The method is now available as Session.get() (deprecated since: 2.0) (Background on SQLAlchemy 2.0 at: https://sqlalche.me/e/b8d9)\n",
      "  person = session.query(Person).get(row['ID'])\n",
      "/tmp/ipykernel_111/2147410242.py:40: LegacyAPIWarning: The Query.get() method is considered legacy as of the 1.x series of SQLAlchemy and becomes a legacy construct in 2.0. The method is now available as Session.get() (deprecated since: 2.0) (Background on SQLAlchemy 2.0 at: https://sqlalche.me/e/b8d9)\n",
      "  friend = session.query(Person).get(friend_id)\n"
     ]
    },
    {
     "name": "stdout",
     "output_type": "stream",
     "text": [
      "\u001b[92m All tests passed!\n"
     ]
    }
   ],
   "source": [
    "unittests.test_get_friends_of_person(load_data_from_csv, get_friends_of_person)"
   ]
  },
  {
   "cell_type": "markdown",
   "metadata": {},
   "source": [
    "### Exercise 4: Get Everyone that Considers a Person a Friend\n",
    "\n",
    "Now write a function called `get_persons_who_consider_them_friend`. This function should take two parameters: the name of an individual and a session. It will return a list of people who count this individual as a friend. It's important to remember that in our database, friendship isn't necessarily mutual. For example, Alice might consider Bob a friend, but Bob might not feel the same way about Alice. **Your function must return a list of Person objects for everyone who considers the input name their friend.** The input to this function should strictly be the **name of the person** you're inquiring about."
   ]
  },
  {
   "cell_type": "code",
   "execution_count": 20,
   "metadata": {
    "tags": [
     "graded"
    ]
   },
   "outputs": [],
   "source": [
    "def get_persons_who_consider_them_friend(session, person_name):\n",
    "    \"\"\"\n",
    "    Returns a list of Person objects who consider the specified person as their friend,\n",
    "    in a scenario where friendships are unidirectional.\n",
    "    \n",
    "    Parameters:\n",
    "    - session: The SQLAlchemy session object used to query the database.\n",
    "    - person_name (str): The name of the person to find who is considered as a friend by others.\n",
    "    \n",
    "    Returns:\n",
    "    - List[Person]: A list of Person objects who consider the specified person as their friend.\n",
    "    \"\"\"\n",
    "    # Query the Person table to find the person with the given name\n",
    "    person = session.query(Person).filter_by(name=person_name).first()\n",
    "    \n",
    "    if not person:\n",
    "        # If no person is found with the given name, return an empty list\n",
    "        return []\n",
    "\n",
    "    # Find all people who consider this person as a friend\n",
    "    persons_who_consider_friend = session.query(Person).filter(Person.friends.contains(person)).all()\n",
    "\n",
    "    return persons_who_consider_friend\n",
    "\n",
    "# Example usage:\n",
    "# session, Club, Person, friendships, club_members = create_database()\n",
    "# load_data_from_csv(session, Club, Person, friendships, club_members)\n",
    "# admirers = get_persons_who_consider_them_friend(session, \"John Rocha\")\n",
    "# for admirer in admirers:\n",
    "#     print(admirer.name)"
   ]
  },
  {
   "cell_type": "code",
   "execution_count": 21,
   "metadata": {},
   "outputs": [
    {
     "name": "stdout",
     "output_type": "stream",
     "text": [
      "People who consider John Rocha as their friend:\n",
      "- Scott Boyd, Age: 47, Location: 545 Evelyn Shores Apt. 744 North Craigchester, CO 47369\n",
      "- Christina Murphy, Age: 19, Location: 276 Wolfe Springs Lake Eric, PA 61512\n",
      "- Brian Mays, Age: 61, Location: 80208 Parker Glen Harrisland, PW 54882\n",
      "- Nathan Mendez, Age: 70, Location: 16039 Carey Views Apt. 776 Tylerfurt, DE 67034\n"
     ]
    }
   ],
   "source": [
    "# Example usage of the get_persons_who_consider_them_friend function\n",
    "\n",
    "# Fetching people who consider given name as their friend\n",
    "name = 'John Rocha'\n",
    "\n",
    "name_friend_of = get_persons_who_consider_them_friend(session, name)\n",
    "\n",
    "# Printing out the names of all people who consider Alice as their friend\n",
    "print(f\"People who consider {name} as their friend:\")\n",
    "for person in name_friend_of:\n",
    "    print(f\"- {person.name}, Age: {person.age}, Location: {person.location}\")"
   ]
  },
  {
   "cell_type": "markdown",
   "metadata": {},
   "source": [
    "Expected output:\n",
    "```\n",
    "People who consider John Rocha as their friend:\n",
    "- Scott Boyd, Age: 47, Location: 545 Evelyn Shores Apt. 744 North Craigchester, CO 47369\n",
    "- Christina Murphy, Age: 19, Location: 276 Wolfe Springs Lake Eric, PA 61512\n",
    "- Brian Mays, Age: 61, Location: 80208 Parker Glen Harrisland, PW 54882\n",
    "- Nathan Mendez, Age: 70, Location: 16039 Carey Views Apt. 776 Tylerfurt, DE 67034\n",
    "```"
   ]
  },
  {
   "cell_type": "code",
   "execution_count": 22,
   "metadata": {},
   "outputs": [
    {
     "name": "stderr",
     "output_type": "stream",
     "text": [
      "/tmp/ipykernel_111/2147410242.py:38: LegacyAPIWarning: The Query.get() method is considered legacy as of the 1.x series of SQLAlchemy and becomes a legacy construct in 2.0. The method is now available as Session.get() (deprecated since: 2.0) (Background on SQLAlchemy 2.0 at: https://sqlalche.me/e/b8d9)\n",
      "  person = session.query(Person).get(row['ID'])\n",
      "/tmp/ipykernel_111/2147410242.py:40: LegacyAPIWarning: The Query.get() method is considered legacy as of the 1.x series of SQLAlchemy and becomes a legacy construct in 2.0. The method is now available as Session.get() (deprecated since: 2.0) (Background on SQLAlchemy 2.0 at: https://sqlalche.me/e/b8d9)\n",
      "  friend = session.query(Person).get(friend_id)\n"
     ]
    },
    {
     "name": "stdout",
     "output_type": "stream",
     "text": [
      "\u001b[92m All tests passed!\n"
     ]
    }
   ],
   "source": [
    "unittests.test_get_persons_who_consider_them_friend(load_data_from_csv, get_persons_who_consider_them_friend)"
   ]
  },
  {
   "cell_type": "markdown",
   "metadata": {},
   "source": [
    "Once you've written all four methods you're ready to submit. **Make sure you save your work before submitting** so that the grader will assess the most recent version of your assignment.\n",
    "\n",
    "Congratulations on finishing this assignment!"
   ]
  }
 ],
 "metadata": {
  "colab": {
   "provenance": []
  },
  "grader_version": "1",
  "kernelspec": {
   "display_name": "Python 3 (ipykernel)",
   "language": "python",
   "name": "python3"
  },
  "language_info": {
   "codemirror_mode": {
    "name": "ipython",
    "version": 3
   },
   "file_extension": ".py",
   "mimetype": "text/x-python",
   "name": "python",
   "nbconvert_exporter": "python",
   "pygments_lexer": "ipython3",
   "version": "3.11.6"
  }
 },
 "nbformat": 4,
 "nbformat_minor": 4
}
