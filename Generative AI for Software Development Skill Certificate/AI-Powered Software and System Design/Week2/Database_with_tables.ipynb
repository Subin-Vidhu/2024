{
 "cells": [
  {
   "cell_type": "code",
   "execution_count": null,
   "metadata": {},
   "outputs": [],
   "source": [
    "from sqlalchemy import create_engine\n",
    "from sqlalchemy import Table, Column, Integer, String, MetaData, ForeignKey"
   ]
  },
  {
   "cell_type": "code",
   "execution_count": null,
   "metadata": {},
   "outputs": [],
   "source": [
    "engine = create_engine('sqlite:///ecommerce.db', echo=True)\n",
    "metadata = MetaData()"
   ]
  },
  {
   "cell_type": "code",
   "execution_count": null,
   "metadata": {},
   "outputs": [],
   "source": [
    "users = Table('users', metadata,\n",
    "              Column('id', Integer, primary_key=True),\n",
    "              Column('name', String),\n",
    "              Column('email', String, unique=True))\n",
    "\n",
    "products = Table('products', metadata,\n",
    "                 Column('id', Integer, primary_key=True),\n",
    "                 Column('name', String),\n",
    "                 Column('price', Integer))\n",
    "\n",
    "orders = Table('orders', metadata,\n",
    "               Column('id', Integer, primary_key=True),\n",
    "               Column('user_id', Integer, ForeignKey('users.id')))\n",
    "\n",
    "order_items = Table('order_items', metadata,\n",
    "                    Column('id', Integer, primary_key=True),\n",
    "                    Column('order_id', Integer, ForeignKey('orders.id')),\n",
    "                    Column('product_id', Integer, ForeignKey('products.id')),\n",
    "                    Column('quantity', Integer))\n",
    "\n",
    "# Create all tables\n",
    "metadata.create_all(engine)"
   ]
  },
  {
   "cell_type": "code",
   "execution_count": null,
   "metadata": {},
   "outputs": [],
   "source": [
    "with engine.connect() as connection:\n",
    "    result = connection.execute(text(\"SELECT 1\"))\n",
    "    # Fetch and print the result\n",
    "    print(result.scalar()) # This should print 1 if the connection is successful"
   ]
  }
 ],
 "metadata": {
  "language_info": {
   "name": "python"
  }
 },
 "nbformat": 4,
 "nbformat_minor": 2
}
