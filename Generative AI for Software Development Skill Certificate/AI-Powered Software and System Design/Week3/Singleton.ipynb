{
 "cells": [
  {
   "cell_type": "code",
   "execution_count": 1,
   "metadata": {},
   "outputs": [
    {
     "name": "stdout",
     "output_type": "stream",
     "text": [
      "database: PostgreSQL\n",
      "Instances are the same: True\n"
     ]
    }
   ],
   "source": [
    "class Singleton:\n",
    "    _instance = None\n",
    "\n",
    "    def __init__(self):\n",
    "        if Singleton._instance is not None:\n",
    "            raise Exception(\"This class is a singleton!\")\n",
    "        else:\n",
    "            Singleton._instance = self\n",
    "        self.configuration = {}\n",
    "\n",
    "    @staticmethod\n",
    "    def getInstance():\n",
    "        if Singleton._instance is None:\n",
    "            Singleton._instance = Singleton()\n",
    "        return Singleton._instance\n",
    "\n",
    "    def set_config(self, key, value):\n",
    "        self.configuration[key] = value\n",
    "\n",
    "    def get_config(self, key):\n",
    "        return self.configuration.get(key, None)\n",
    "    \n",
    "    def display_config(self):\n",
    "        for key, value in self.configuration.items():\n",
    "            print(f\"{key}: {value}\")\n",
    "\n",
    "\n",
    "# Setting configuration in one part of the application\n",
    "singleton_instance = Singleton.getInstance()\n",
    "singleton_instance.set_config('database', 'PostgreSQL')\n",
    "\n",
    "# Accessing configuration in another part\n",
    "another_instance = Singleton.getInstance()\n",
    "another_instance.display_config()\n",
    "\n",
    "# Both instances are the same\n",
    "assert singleton_instance is another_instance\n",
    "print(\"Instances are the same:\", singleton_instance is another_instance)\n"
   ]
  }
 ],
 "metadata": {
  "kernelspec": {
   "display_name": "genai4sd",
   "language": "python",
   "name": "python3"
  },
  "language_info": {
   "codemirror_mode": {
    "name": "ipython",
    "version": 3
   },
   "file_extension": ".py",
   "mimetype": "text/x-python",
   "name": "python",
   "nbconvert_exporter": "python",
   "pygments_lexer": "ipython3",
   "version": "3.10.14"
  }
 },
 "nbformat": 4,
 "nbformat_minor": 2
}
