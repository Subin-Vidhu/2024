{
 "cells": [
  {
   "cell_type": "markdown",
   "metadata": {},
   "source": [
    "# Assignment - Implementing graph algorithms with LLMs"
   ]
  },
  {
   "cell_type": "markdown",
   "metadata": {},
   "source": [
    "## 1 - Introduction\n",
    "\n",
    "Welcome to the first assignment of Course 1 in the Generative AI for Software Development Specialization! In this assignment you will **work alongside an LLM to take on four different graph-based problems** including finding the shortest path through a graph and solving different variations of the classic Travelling Salesman Problem in which you must find the shortest tour through every vertex in the graph. This is a great opportunity to practice using the LLM skills you've been learning! You can use the LLM of your choosing but [GPT-4o is available here](https://www.coursera.org/learn/introduction-to-generative-ai-for-software-development/ungradedLab/Vuqvf/gpt-3-5-environment), in the ungraded lab that accompanies this assignment.\n",
    "\n",
    "**Here's a quick summary of the contents of this notebook:**\n",
    "\n",
    "- Section 1: Introduction, setup, and the `Graph` class this assignment is based on\n",
    "- Section 2: The `Graph_Advanced` class that you will edit for your submission\n",
    "- Section 3: Description of the four exercises you'll implement inside of `Graph_Advanced`\n",
    "- Section 4: A playground to test solutions\n",
    "- Section 5: Unit tests of your `Graph_Advanced` class\n",
    "\n",
    "**Here's a few important points on how this notebook works:**\n",
    "\n",
    "- **Only `Graph_Advanced` is Graded:** You can add new cells to experiment but these will be ignored by the grader. If you want something graded, include it in the provided cell that contains the `Graph_Advanced` class.\n",
    "- **Some Cells are Frozen:** Some cells are frozen, e.g. the `Graph` class, to avoid mistakenly editing their code\n",
    "- **Avoid importing new libraries:** Avoid importing new libraries beyond those you'll find in section 1.1, immediately below. In particular `joblib` or any multiprocessing or parallel computing approach will crash the grader. If you absolutely need additional libraries, import them in the same cell as the `Graph_Advanced` class.\n",
    "- **Save before submitting:** Do this to ensure you are graded on your most recent work.\n",
    "\n",
    "**IMPORTANT NOTES ON THE AUTOGRADING SYSTEM**\n",
    "- The graded cells are tagged, meaning the autograder specifically looks for them when grading. Therefore, **do not delete these cells or add your solution in another cell**, as this will cause the autograder to malfunction. If you accidentally delete a cell or encounter any unusual issues with the autograder, please [refresh your workspace](https://www.coursera.org/learn/introduction-to-generative-ai-for-software-development/item/qEB8o) to obtain a new copy of the assignment and place your solution in the designated solution cells.\n",
    "- The autograder **does not have access** to the **unittests** library, so **avoid importing it or using any unittest functions within a graded cell**, as this will disrupt the autograder's functionality.\n",
    "- If you face any challenges or have questions about this assignment, feel free to [join our community](https://www.coursera.org/learn/introduction-to-generative-ai-for-software-development/supplement/hIZen/important-have-questions-issues-or-ideas-join-our-forum) and seek assistance from our mentors!\n",
    "\n",
    "Happy coding!"
   ]
  },
  {
   "cell_type": "markdown",
   "metadata": {},
   "source": [
    "### 1.1 - Importing necessary libraries\n",
    "\n",
    "The code below imports libraries used in this assignment. You should be able to complete this assignment without additional libraries. If you absolutely need additional libraries, import them in the same cell as the `Graph_Advanced` class."
   ]
  },
  {
   "cell_type": "code",
   "execution_count": 1,
   "metadata": {
    "deletable": false,
    "editable": false,
    "tags": [
     "graded"
    ]
   },
   "outputs": [],
   "source": [
    "import random\n",
    "import heapq\n",
    "import os\n",
    "import numpy as np\n",
    "import itertools"
   ]
  },
  {
   "cell_type": "markdown",
   "metadata": {},
   "source": [
    "### 1.2 - Importing unittests\n",
    "\n",
    "This library includes unit tests to evaluate your solutions. More information on unit testing is in Section 5."
   ]
  },
  {
   "cell_type": "code",
   "execution_count": 2,
   "metadata": {
    "deletable": false,
    "editable": false
   },
   "outputs": [],
   "source": [
    "import unittests"
   ]
  },
  {
   "cell_type": "markdown",
   "metadata": {},
   "source": [
    "### 1.3 - The `Graph` Class\n",
    "\n",
    "The `Graph` class that defines the structure of a graph and the methods that can be performed on them. Take a moment to familiarize yourself with the class's structure and its methods, or better yet, share the code with an LLM and ask it for an explanation!\n",
    "\n",
    "The cell below is frozen and you cannot edit the class. Instead, you will work inside of the `Graph_Advanced` class which inherits from this one."
   ]
  },
  {
   "cell_type": "code",
   "execution_count": 3,
   "metadata": {
    "deletable": false,
    "editable": false,
    "tags": [
     "graded"
    ]
   },
   "outputs": [],
   "source": [
    "class Graph:\n",
    "    def __init__(self, directed=False):\n",
    "        \"\"\"\n",
    "        Initialize the Graph.\n",
    "\n",
    "        Parameters:\n",
    "        - directed (bool): Specifies whether the graph is directed. Default is False (undirected).\n",
    "\n",
    "        Attributes:\n",
    "        - graph (dict): A dictionary to store vertices and their adjacent vertices (with weights).\n",
    "        - directed (bool): Indicates whether the graph is directed.\n",
    "        \"\"\"\n",
    "        self.graph = {}\n",
    "        self.directed = directed\n",
    "    \n",
    "    def add_vertex(self, vertex):\n",
    "        \"\"\"\n",
    "        Add a vertex to the graph.\n",
    "\n",
    "        Parameters:\n",
    "        - vertex: The vertex to add. It must be hashable.\n",
    "\n",
    "        Ensures that each vertex is represented in the graph dictionary as a key with an empty dictionary as its value.\n",
    "        \"\"\"\n",
    "        if not isinstance(vertex, (int, str, tuple)):\n",
    "            raise ValueError(\"Vertex must be a hashable type.\")\n",
    "        if vertex not in self.graph:\n",
    "            self.graph[vertex] = {}\n",
    "    \n",
    "    def add_edge(self, src, dest, weight):\n",
    "        \"\"\"\n",
    "        Add a weighted edge from src to dest. If the graph is undirected, also add from dest to src.\n",
    "\n",
    "        Parameters:\n",
    "        - src: The source vertex.\n",
    "        - dest: The destination vertex.\n",
    "        - weight: The weight of the edge.\n",
    "        \n",
    "        Prevents adding duplicate edges and ensures both vertices exist.\n",
    "        \"\"\"\n",
    "        if src not in self.graph or dest not in self.graph:\n",
    "            raise KeyError(\"Both vertices must exist in the graph.\")\n",
    "        if dest not in self.graph[src]:  # Check to prevent duplicate edges\n",
    "            self.graph[src][dest] = weight\n",
    "        if not self.directed and src not in self.graph[dest]:\n",
    "            self.graph[dest][src] = weight\n",
    "    \n",
    "    def remove_edge(self, src, dest):\n",
    "        \"\"\"\n",
    "        Remove an edge from src to dest. If the graph is undirected, also remove from dest to src.\n",
    "\n",
    "        Parameters:\n",
    "        - src: The source vertex.\n",
    "        - dest: The destination vertex.\n",
    "        \"\"\"\n",
    "        if src in self.graph and dest in self.graph[src]:\n",
    "            del self.graph[src][dest]\n",
    "        if not self.directed:\n",
    "            if dest in self.graph and src in self.graph[dest]:\n",
    "                del self.graph[dest][src]\n",
    "    \n",
    "    def remove_vertex(self, vertex):\n",
    "        \"\"\"\n",
    "        Remove a vertex and all edges connected to it.\n",
    "\n",
    "        Parameters:\n",
    "        - vertex: The vertex to be removed.\n",
    "        \"\"\"\n",
    "        if vertex in self.graph:\n",
    "            # Remove any edges from other vertices to this one\n",
    "            for adj in list(self.graph):\n",
    "                if vertex in self.graph[adj]:\n",
    "                    del self.graph[adj][vertex]\n",
    "            # Remove the vertex entry itself\n",
    "            del self.graph[vertex]\n",
    "    \n",
    "    def get_adjacent_vertices(self, vertex):\n",
    "        \"\"\"\n",
    "        Get a list of vertices adjacent to the specified vertex.\n",
    "\n",
    "        Parameters:\n",
    "        - vertex: The vertex whose neighbors are to be retrieved.\n",
    "\n",
    "        Returns:\n",
    "        - List of adjacent vertices. Returns an empty list if vertex is not found.\n",
    "        \"\"\"\n",
    "        return list(self.graph.get(vertex, {}).keys())\n",
    "\n",
    "    def _get_edge_weight(self, src, dest):\n",
    "        \"\"\"\n",
    "        Get the weight of the edge from src to dest.\n",
    "\n",
    "        Parameters:\n",
    "        - src: The source vertex.\n",
    "        - dest: The destination vertex.\n",
    "\n",
    "        Returns:\n",
    "        - The weight of the edge. If the edge does not exist, returns infinity.\n",
    "        \"\"\"\n",
    "        return self.graph[src].get(dest, float('inf'))\n",
    "    \n",
    "    def __str__(self):\n",
    "        \"\"\"\n",
    "        Provide a string representation of the graph's adjacency list for easy printing and debugging.\n",
    "\n",
    "        Returns:\n",
    "        - A string representation of the graph dictionary.\n",
    "        \"\"\"\n",
    "        return str(self.graph)"
   ]
  },
  {
   "cell_type": "markdown",
   "metadata": {},
   "source": [
    "## 2 - The `Graph_Advanced` Class\n",
    "\n",
    "The `Graph_Advanced` class inherits from the `Graph` class above. Your submission for this assignment will be an updated version of this class which implements 4 methods, each corresponding to an exercise described in Section 3. **The cell below is the only one graded in this assignment and the primary place you will develop your solution.**\n",
    "\n",
    "**For your methods to be graded properly, you can't change the names of the four provided methods or the structure of their parameters or returns.** You can, however, add new helper methods within the `Graph_Advanced` class that are called by the four that are provided."
   ]
  },
  {
   "cell_type": "code",
   "execution_count": 13,
   "metadata": {
    "deletable": false,
    "tags": [
     "graded"
    ]
   },
   "outputs": [],
   "source": [
    "import heapq\n",
    "import itertools\n",
    "import time\n",
    "from itertools import permutations\n",
    "\n",
    "class Graph_Advanced(Graph):\n",
    "    \n",
    "    def shortest_path(self, start, end): \n",
    "        \"\"\"\n",
    "        Calculate the shortest path from a starting node to an ending node in a sparse graph\n",
    "        with potentially 10000s of nodes. Must run under 0.5 seconds and find the shortest distance between two nodes.\n",
    "        \n",
    "        Parameters:\n",
    "        start: The starting node.\n",
    "        end: The ending node.\n",
    "        \n",
    "        Returns:\n",
    "        A tuple containing the total distance of the shortest path and a list of nodes representing that path.\n",
    "        \"\"\"\n",
    "        # Initialize distances and previous nodes in the shortest path\n",
    "        distances = {node: float('inf') for node in self.graph}\n",
    "        previous_nodes = {node: None for node in self.graph}\n",
    "        distances[start] = 0\n",
    "        \n",
    "        # Use a priority queue to efficiently select the next node to visit\n",
    "        priority_queue = [(0, start)]\n",
    "        \n",
    "        while priority_queue:\n",
    "            current_distance, current_node = heapq.heappop(priority_queue)\n",
    "            \n",
    "            # If the current node is the end node, we've found the shortest path\n",
    "            if current_node == end:\n",
    "                path = []\n",
    "                while current_node is not None:\n",
    "                    path.append(current_node)\n",
    "                    current_node = previous_nodes[current_node]\n",
    "                path.reverse()\n",
    "                return current_distance, path\n",
    "            \n",
    "            # If the current distance is greater than the known distance, skip this node\n",
    "            if current_distance > distances[current_node]:\n",
    "                continue\n",
    "            \n",
    "            # Visit all neighbors of the current node\n",
    "            for neighbor, weight in self.graph[current_node].items():\n",
    "                distance = current_distance + weight\n",
    "                \n",
    "                # If a shorter path to the neighbor is found, update the distances and previous nodes\n",
    "                if distance < distances[neighbor]:\n",
    "                    distances[neighbor] = distance\n",
    "                    previous_nodes[neighbor] = current_node\n",
    "                    heapq.heappush(priority_queue, (distance, neighbor))\n",
    "        \n",
    "        # If there is no path from the start node to the end node, return infinity and an empty path\n",
    "        return float('inf'), []\n",
    "    \n",
    "    def tsp_small_graph(self, start_vertex):\n",
    "        \"\"\"\n",
    "        Solve the Travelling Salesman Problem for a small (~10 node) complete graph starting from a specified node.\n",
    "        Uses Dynamic Programming (Held-Karp Algorithm) to find the optimal solution.\n",
    "        \n",
    "        Parameters:\n",
    "        start_vertex: The starting node.\n",
    "        \n",
    "        Returns:\n",
    "        A tuple containing the total distance of the tour and a list of nodes representing the tour path.\n",
    "        \"\"\"\n",
    "        n = len(self.graph)\n",
    "        all_nodes = range(n)\n",
    "        \n",
    "        # Initialize DP table: dp[mask][i] where mask is a bitmask and i is the end node\n",
    "        dp = [[float('inf')] * n for _ in range(1 << n)]\n",
    "        dp[1 << start_vertex][start_vertex] = 0  # Start at the starting node\n",
    "        \n",
    "        # Fill the DP table\n",
    "        for mask in range(1 << n):\n",
    "            for u in all_nodes:\n",
    "                if not (mask & (1 << u)):  # If u is not in the subset\n",
    "                    continue\n",
    "                for v in all_nodes:\n",
    "                    if mask & (1 << v):  # If v is already in the subset, skip\n",
    "                        continue\n",
    "                    # Transition from u to v\n",
    "                    dp[mask | (1 << v)][v] = min(\n",
    "                        dp[mask | (1 << v)][v],\n",
    "                        dp[mask][u] + self._get_edge_weight(u, v)\n",
    "                    )\n",
    "        \n",
    "        # Find the minimum distance returning to the start vertex\n",
    "        min_distance = float('inf')\n",
    "        last_node = -1\n",
    "        for u in all_nodes:\n",
    "            if u == start_vertex:\n",
    "                continue\n",
    "            distance = dp[(1 << n) - 1][u] + self._get_edge_weight(u, start_vertex)\n",
    "            if distance < min_distance:\n",
    "                min_distance = distance\n",
    "                last_node = u\n",
    "        \n",
    "        # Reconstruct the path\n",
    "        path = [start_vertex]\n",
    "        mask = (1 << n) - 1\n",
    "        current_node = last_node\n",
    "        while current_node != start_vertex:\n",
    "            path.append(current_node)\n",
    "            next_mask = mask & ~(1 << current_node)\n",
    "            for u in all_nodes:\n",
    "                if dp[mask][current_node] == dp[next_mask][u] + self._get_edge_weight(u, current_node):\n",
    "                    current_node = u\n",
    "                    break\n",
    "            mask = next_mask\n",
    "        path.append(start_vertex)\n",
    "        path.reverse()\n",
    "        \n",
    "        return min_distance, path\n",
    "    \n",
    "    def tsp_large_graph(self, start): \n",
    "        \"\"\"\n",
    "        Solve the Travelling Salesman Problem for a large (~1000 node) complete graph starting from a specified node.\n",
    "        No requirement to find the optimal tour. Must run under 0.5 second with a \"pretty good\" solution.\n",
    "        \n",
    "        Parameters:\n",
    "        start: The starting node.\n",
    "        \n",
    "        Returns:\n",
    "        A tuple containing the total distance of the tour and a list of nodes representing the tour path.\n",
    "        \"\"\"\n",
    "        # Initialize the current node and the tour\n",
    "        current_node = start\n",
    "        tour = [start]\n",
    "        unvisited_nodes = set(self.graph.keys())\n",
    "        unvisited_nodes.remove(start)\n",
    "        \n",
    "        # Use a nearest neighbor approach to construct a tour\n",
    "        while unvisited_nodes:\n",
    "            # Find the nearest unvisited node to the current node\n",
    "            nearest_node = min(unvisited_nodes, key=lambda node: self._get_edge_weight(current_node, node))\n",
    "            tour.append(nearest_node)\n",
    "            unvisited_nodes.remove(nearest_node)\n",
    "            current_node = nearest_node\n",
    "        \n",
    "        # Close the tour by adding the edge from the last node back to the start node\n",
    "        tour.append(start)\n",
    "        \n",
    "        # Calculate the total distance of the tour\n",
    "        distance = 0\n",
    "        for i in range(len(tour) - 1):\n",
    "            distance += self._get_edge_weight(tour[i], tour[i + 1])\n",
    "        \n",
    "        # Return the total distance and the tour\n",
    "        return distance, tour\n",
    "    \n",
    "    def tsp_medium_graph(self, start): \n",
    "        \"\"\"\n",
    "        Solve the Travelling Salesman Problem for a medium (~300 node) complete graph starting from a specified node.\n",
    "        Expected to perform better than tsp_large_graph. Must run under 1.5 seconds.\n",
    "        \n",
    "        Parameters:\n",
    "        start: The starting node.\n",
    "        \n",
    "        Returns:\n",
    "        A tuple containing the total distance of the tour and a list of nodes representing the tour path.\n",
    "        \"\"\"\n",
    "        # Initialize the current node and the tour\n",
    "        current_node = start\n",
    "        tour = [start]\n",
    "        unvisited_nodes = set(self.graph.keys())\n",
    "        unvisited_nodes.remove(start)\n",
    "        \n",
    "        # Use a 2-opt approach to improve the tour\n",
    "        while unvisited_nodes:\n",
    "            # Find the nearest unvisited node to the current node\n",
    "            nearest_node = min(unvisited_nodes, key=lambda node: self._get_edge_weight(current_node, node))\n",
    "            tour.append(nearest_node)\n",
    "            unvisited_nodes.remove(nearest_node)\n",
    "            current_node = nearest_node\n",
    "        \n",
    "        # Close the tour by adding the edge from the last node back to the start node\n",
    "        tour.append(start)\n",
    "        \n",
    "        # Apply 2-opt to improve the tour\n",
    "        improved = True\n",
    "        while improved:\n",
    "            improved = False\n",
    "            for i in range(len(tour) - 2):\n",
    "                for j in range(i + 1, len(tour) - 1):\n",
    "                    # Check if swapping the edges (i, i+1) and (j, j+1) improves the tour\n",
    "                    if self._get_edge_weight(tour[i], tour[i + 1]) + self._get_edge_weight(tour[j], tour[j + 1]) > \\\n",
    "                       self._get_edge_weight(tour[i], tour[j]) + self._get_edge_weight(tour[i + 1], tour[j + 1]):\n",
    "                        # Swap the edges\n",
    "                        tour[i + 1:j + 1] = reversed(tour[i + 1:j + 1])\n",
    "                        improved = True\n",
    "        \n",
    "        # Calculate the total distance of the tour\n",
    "        distance = 0\n",
    "        for i in range(len(tour) - 1):\n",
    "            distance += self._get_edge_weight(tour[i], tour[i + 1])\n",
    "        \n",
    "        # Return the total distance and the tour\n",
    "        return distance, tour"
   ]
  },
  {
   "cell_type": "markdown",
   "metadata": {},
   "source": [
    "## 3 - Exercises and Development Steps\n",
    "\n",
    "### 3.1 - Exercises\n",
    "Here are four exercises you'll complete in this assignment. Each one corresponds with a method that is already included in `Graph_Advanced`.\n",
    "\n",
    "#### Exercise 1: `shortest_path` (Sparse Graphs, 10,000 nodes, Optimal Solution, 0.5 seconds)\n",
    "\n",
    "In this challenge you will be given a large graph with tens of thousands of nodes. The graph is \"sparse\", however, meaning that each vertex may only have edges leading to a few other vertices. You will need to develop an algorithm to find the shortest path between two vertices in this graph. The solution will be the length of the path, and the list of vertices along that path. This is a classic computer science problem, and there are a few standard algorithms your LLM is likely to suggest. To ensure your code is efficient, it must execute in less than `0.5` seconds. \n",
    "\n",
    "#### Exercise 2: `tsp_small_graph` (Complete Graphs, 10 nodes, Optimal Solution, 1 second)\n",
    "\n",
    "The Traveling Salesman Problem asks you to find the shortest path through a graph that visits all vertices and returns to the start, also called a \"tour\". This problem famously is computationally intensive for large graphs, making it essentially impossible to find the absolute best solution. For smaller graphs, however, a brute force approach is possible, and that's the first version of the Traveling Salesman Problem you'll tackle.\n",
    "\n",
    "Write a method that, given a small graph of about 10 nodes, finds the shortest tour of the graph that starts and ends at node 0. Unlike in the first exercise, the graphs here are \"complete\", meaning there is an edge from each node to each other node. The method should return the length of the tour and a list of the nodes visited. **The tour found must be the absolute shortest through the graph.** Your solution must also be efficient, completing the task in under `1` second.\n",
    "\n",
    "#### Exercise 3: `tsp_large_graph` (Complete Graphs, 1,000 nodes, \"Pretty Good\" Solution, 0.5 seconds)\n",
    "\n",
    "In this exercise you again tackle the Traveling Salesman Problem, but for much larger graphs of about 1,000 nodes. Once again the graph is complete, with an edge between every pair of nodes. In graphs this size, a brute force approach is now computationally infeasible, so the tour length requirement on this method has been loosened substantially. You now must simply find a \"pretty good\" tour through the graph using some kind of heuristic approach. There are several commonly-used heuristics, and almost all of them (with the exception perhaps of randomly generating a tour) will produce tours that are short enough to pass the tests on this method. While your solution no longer needs to be optimal, your code should run quickly, in less than `0.5` seconds. Have your LLM focus on speed rather than tour length, and you should find an algorithm that works!\n",
    "\n",
    "#### Exercise 4: `tsp_medium_graph` (Complete Graphs, 300 nodes, Near-Optimal Solution, 1.5 seconds)\n",
    "\n",
    "In this last version of the Traveling Salesman Problem, you will need to work with an LLM to develop a solution that improves upon the algorithm you used in Exercise 3. Now you will be given complete graphs of about 300 nodes. The time requirement has been relaxed to `1.5` seconds, giving your algorithm 3 times as long to run. The tour length requirements, however, have been tightened, meaning you'll need to find tours that are much closer to the theoretical optimum. This likely means that the heuristic you used in Exercise 3 will no longer produce short enough tours. Brainstorm with your LLM new heuristics you could implement that take advantage of the longer runtime you're allowed and generate relatively shorter tours.\n",
    "\n",
    "### 3.2 - Recommended Development Steps\n",
    "\n",
    "The goal of this project is to develop your solutions alongside an LLM. Here's some steps to try:\n",
    "\n",
    "- **Understand the Problem**: Discuss graph theory problems like the Travelling Salesman Problem (TSP) and shortest path finding with the LLM. Use it to clarify concepts and get examples, enhancing your foundational knowledge.\n",
    "\n",
    "- **Analyze the `Graph` Class**: Analyze the provided Graph class functions and structure by consulting the LLM. Its explanations will help you understand how to effectively utilize and extend the class.\n",
    "\n",
    "- **Brainstorm Solutions**: For each exercise and method (`shortest_path`, `tsp_small_graph`, `tsp_large_graph`, `tsp_medium_graph`), brainstorm with the LLM potential solutions. Share the time constraints and whether the solutions need to be optimal and see which algorithms the LLM recommends.\n",
    "\n",
    "- **Implement Solutions**: Have the LLM generate methods that implement the solutions you brainstorm. Ensure the LLM understands the structure of the `Graph` and `Graph_Advanced` class so that the generated code will run as expected.\n",
    "\n",
    "5. **Debug Errors**: Use the LLM to strategize and review your testing approach, especially for tests that yield unexpected results. It can offer debugging and optimization advice to improve your solutions.\n",
    "\n",
    "Of course the LLM Best Practices of \"Be specific\", \"Assign a role\", \"Request an expert opinion\", \"Give feedback\" should serve you well throughout!"
   ]
  },
  {
   "cell_type": "markdown",
   "metadata": {},
   "source": [
    "## 4 - Playground\n",
    "\n",
    "Use the space below to experiment with and test your methods. The `generate_graph` function can be used to generate graphs with different properties.\n",
    "\n",
    "To measure the execution time of your code, you can use the `%%timeit` magic method, an example of which appears at the bottom of this section. **Remember, `%%timeit` should be placed at the beginning of a code cell**, even before any comments marked by `#`.\n",
    "\n",
    "You're encouraged to create as many new cells as needed for testing, but keep in mind that only the code within the `Graph_Advanced` class will be considered during grading."
   ]
  },
  {
   "cell_type": "markdown",
   "metadata": {},
   "source": [
    "### 4.1 - The `generate_graph` function\n",
    "\n",
    "The function below will generate graphs and you may find it useful in experimenting with solutions or testing your code. This function is also the one used to generate the graphs used in the unit tests. If your algorithm fails a test case, you will be given the call to this function with the appropriate arguments needed to replicate the graph that caused your algorithm to fail. Additionally, the reason for the failure will be provided, whether it was due to exceeding the time limit or not achieving an optimal or near-optimal distance."
   ]
  },
  {
   "cell_type": "code",
   "execution_count": 5,
   "metadata": {
    "deletable": false,
    "editable": false
   },
   "outputs": [],
   "source": [
    "def generate_graph(nodes, edges=None, complete=False, weight_bounds=(1,600), seed=None):\n",
    "    \"\"\"\n",
    "    Generates a graph with specified parameters, allowing for both complete and incomplete graphs.\n",
    "    \n",
    "    This function creates a graph with a specified number of nodes and edges, with options for creating a complete graph, and for specifying the weight bounds of the edges. It uses the Graph_Advanced class to create and manipulate the graph.\n",
    "\n",
    "    Parameters:\n",
    "    - nodes (int): The number of nodes in the graph. Must be a positive integer.\n",
    "    - edges (int, optional): The number of edges to add for each node in the graph. This parameter is ignored if `complete` is set to True. Defaults to None.\n",
    "    - complete (bool, optional): If set to True, generates a complete graph where every pair of distinct vertices is connected by a unique edge. Defaults to False.\n",
    "    - weight_bounds (tuple, optional): A tuple specifying the lower and upper bounds (inclusive) for the random weights of the edges. Defaults to (1, 600).\n",
    "    - seed (int, optional): A seed for the random number generator to ensure reproducibility. Defaults to None.\n",
    "\n",
    "    Raises:\n",
    "    - ValueError: If `edges` is not None and `complete` is set to True, since a complete graph does not require specifying the number of edges.\n",
    "\n",
    "    Returns:\n",
    "    - Graph_Advanced: An instance of the Graph_Advanced class representing the generated graph, with vertices labeled as integers starting from 0.\n",
    "\n",
    "    Examples:\n",
    "    - Generating a complete graph with 5 nodes:\n",
    "        generate_graph(5, complete=True)\n",
    "    \n",
    "    - Generating an incomplete graph with 5 nodes and 2 edges per node:\n",
    "        generate_graph(5, edges=2)\n",
    "    \n",
    "    Note:\n",
    "    - The function assumes the existence of a Graph_Advanced class with methods for adding vertices (`add_vertex`) and edges (`add_edge`), as well as a method for getting adjacent vertices (`get_adjacent_vertices`).\n",
    "    \"\"\"\n",
    "    random.seed(seed)\n",
    "    graph = Graph_Advanced()\n",
    "    if edges is not None and complete:\n",
    "        raise ValueError(\"edges must be None if complete is set to True\")\n",
    "    if not complete and edges > nodes:\n",
    "        raise ValueError(\"number of edges must be less than number of nodes\")\n",
    "    \n",
    "\n",
    "    for i in range(nodes):\n",
    "        graph.add_vertex(i)\n",
    "    if complete:\n",
    "        for i in range(nodes):\n",
    "            for j in range(i+1,nodes):\n",
    "                weight = random.randint(weight_bounds[0], weight_bounds[1])\n",
    "                graph.add_edge(i,j,weight)\n",
    "    else:\n",
    "        for i in range(nodes):\n",
    "            for _ in range(edges):\n",
    "                j = random.randint(0, nodes - 1)\n",
    "                while (j == i or j in graph.get_adjacent_vertices(i)) and len(graph.get_adjacent_vertices(i)) < nodes - 1:  # Ensure the edge is not a loop or a duplicate\n",
    "                    j = random.randint(0, nodes - 1)\n",
    "                weight = random.randint(weight_bounds[0], weight_bounds[1])\n",
    "                if len(graph.graph[i]) < edges and len(graph.graph[j]) < edges:\n",
    "                    graph.add_edge(i, j, weight)\n",
    "    return graph"
   ]
  },
  {
   "cell_type": "code",
   "execution_count": 6,
   "metadata": {
    "deletable": false
   },
   "outputs": [],
   "source": [
    "## Example function and use of the %%timeit magic method\n",
    "def foo(n):\n",
    "    i = 0\n",
    "    for i in range(10000):\n",
    "        for j in range(n):\n",
    "            i += j\n",
    "    return i"
   ]
  },
  {
   "cell_type": "code",
   "execution_count": 7,
   "metadata": {},
   "outputs": [
    {
     "name": "stdout",
     "output_type": "stream",
     "text": [
      "10044\n"
     ]
    }
   ],
   "source": [
    "print(foo(10))"
   ]
  },
  {
   "cell_type": "code",
   "execution_count": 8,
   "metadata": {},
   "outputs": [
    {
     "name": "stdout",
     "output_type": "stream",
     "text": [
      "4.51 ms ± 82.4 µs per loop (mean ± std. dev. of 7 runs, 100 loops each)\n"
     ]
    }
   ],
   "source": [
    "%%timeit\n",
    "foo(10)"
   ]
  },
  {
   "cell_type": "markdown",
   "metadata": {},
   "source": [
    "Feel free to add as many cells as you want! You can do so by clicking in the `+` button in the left upper corner of this notebook."
   ]
  },
  {
   "cell_type": "markdown",
   "metadata": {},
   "source": [
    "## 5 - Test Your Solutions\n",
    "\n",
    "The section below will run the methods in your `Graph_Advanced` class against a set of unit tests. If you see the message \"All tests passed!\" for every unittest, your assignment is likely ready for submission. If not, you'll be able to see which cases your code didn't pass and understand why. \n",
    "\n",
    "**Note, the unittests here cover only a few example cases due to the constraints of this environment. The grading process will include more extensive testing.** It's possible to pass all the tests here but still fail some during the autograding. However, if that happens, don't worry! You will receive feedback on which tests failed, which will allow you to adjust your solutions and resubmit the assignment. You're welcome to submit your assignment as many times as needed.\n",
    "\n",
    "Here's a few tips to help you debug your code.\n",
    "\n",
    "* Share the code of the `Graph` and `Graph_Advanced` classes with your LLM so it has that context. Make sure your code maintains the structure of the four methods, in particular the method names and their parameter and return types.\n",
    "* Avoid importing new libraries besides those imported in Section 1. If you need additional libraries, only import them in the same cell that contains the `Graph_Advanced` class.\n",
    "* Determine if the problem is with the accuray of your results or your code's runtime. Provide feedback to the LLM on reasons your solution is not passing and consider different algorithms / heuristics if you think the approach you're pursuing won't work.\n",
    "* Save your work before submitting!\n",
    "* Failing test because of long runtimes?** Ensure you shut down any other live kernels (if you have another notebook open within this environment), as they may affect the execution time of your functions. It's of course also possible that your code just needs to run more efficiently!"
   ]
  },
  {
   "cell_type": "markdown",
   "metadata": {
    "deletable": false,
    "editable": false
   },
   "source": [
    "### 5.1 - Test Exercise 1 (`shortest_path`)\n",
    "\n",
    "Run the code below to test the `shortest_path` method on sparsely connected graphs with 10,000 nodes. The requirements for passing this exercise are:\n",
    "\n",
    "- The algorithm must complete its run in under `0.5` second for each graph.\n",
    "- It must accurately find the shortest path."
   ]
  },
  {
   "cell_type": "code",
   "execution_count": 9,
   "metadata": {
    "deletable": false,
    "editable": false
   },
   "outputs": [
    {
     "name": "stdout",
     "output_type": "stream",
     "text": [
      "\u001b[92m All tests passed!\n"
     ]
    }
   ],
   "source": [
    "unittests.test_shortest_path(Graph_Advanced)"
   ]
  },
  {
   "cell_type": "markdown",
   "metadata": {
    "deletable": false,
    "editable": false
   },
   "source": [
    "### 5.2 - Test Exercise 2 (`tsp_small_graph`)\n",
    "\n",
    "Run the code below to test the `tsp_small_graph` on complete (fully connected) graphs with 10 nodes. The requirements for passing this exercise are:\n",
    "\n",
    "- The algorithm must complete its run in under `1` second for each graph.\n",
    "- It must fund the optimal solution, starting at node 0."
   ]
  },
  {
   "cell_type": "code",
   "execution_count": 14,
   "metadata": {
    "deletable": false,
    "editable": false
   },
   "outputs": [
    {
     "name": "stdout",
     "output_type": "stream",
     "text": [
      "\u001b[92m All tests passed!\n"
     ]
    }
   ],
   "source": [
    "unittests.test_tsp_small_graph(Graph_Advanced)"
   ]
  },
  {
   "cell_type": "markdown",
   "metadata": {
    "deletable": false,
    "editable": false
   },
   "source": [
    "### 5.3 - Test Exercise 3 (`tsp_large_graph`)\n",
    "\n",
    "Run the code below to test the `tsp_large_graph` on complete (fully connected) graphs with 1000 nodes. The requirements for passing this exercise are:\n",
    "\n",
    "- The algorithm must complete its run in under `0.5` second for each graph.\n",
    "- It must find the good solution (less than a specified value, depending on the graph). "
   ]
  },
  {
   "cell_type": "code",
   "execution_count": 11,
   "metadata": {
    "deletable": false,
    "editable": false
   },
   "outputs": [
    {
     "name": "stdout",
     "output_type": "stream",
     "text": [
      "\u001b[92m All tests passed!\n"
     ]
    }
   ],
   "source": [
    "unittests.test_tsp_large_graph(Graph_Advanced)"
   ]
  },
  {
   "cell_type": "markdown",
   "metadata": {
    "deletable": false,
    "editable": false
   },
   "source": [
    "### 5.4 - Test Exercise 4 (`tsp_medium_graph`)\n",
    "\n",
    "Run the code below to test the `tsp_medium_graph` on complete (fully connected) graphs with 300 nodes. The requirements for passing this exercise are:\n",
    "\n",
    "- The algorithm must complete its run in under `1.5` seconds for each graph.\n",
    "- It must find the good solution (less than a specified value, depending on the graph). "
   ]
  },
  {
   "cell_type": "code",
   "execution_count": 12,
   "metadata": {
    "deletable": false,
    "editable": false
   },
   "outputs": [
    {
     "name": "stdout",
     "output_type": "stream",
     "text": [
      "\u001b[92m All tests passed!\n"
     ]
    }
   ],
   "source": [
    "unittests.test_tsp_medium_graph(Graph_Advanced)"
   ]
  },
  {
   "cell_type": "markdown",
   "metadata": {},
   "source": [
    "Once you feel good about your submission, **save your work and submit!** \n",
    "\n",
    "**Congratulations on completing the first major assignment in this specialization!**"
   ]
  }
 ],
 "metadata": {
  "grader_version": "1",
  "kernelspec": {
   "display_name": "Python 3 (ipykernel)",
   "language": "python",
   "name": "python3"
  },
  "language_info": {
   "codemirror_mode": {
    "name": "ipython",
    "version": 3
   },
   "file_extension": ".py",
   "mimetype": "text/x-python",
   "name": "python",
   "nbconvert_exporter": "python",
   "pygments_lexer": "ipython3",
   "version": "3.11.6"
  }
 },
 "nbformat": 4,
 "nbformat_minor": 4
}
