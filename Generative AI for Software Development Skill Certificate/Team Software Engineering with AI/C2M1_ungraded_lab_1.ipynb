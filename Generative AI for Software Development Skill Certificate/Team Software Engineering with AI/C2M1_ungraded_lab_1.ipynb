{
 "cells": [
  {
   "cell_type": "markdown",
   "id": "1d5d2f64-2c02-4976-b2b7-2c66d9bc11ee",
   "metadata": {},
   "source": [
    "# Flask Example Ungraded Lab"
   ]
  },
  {
   "cell_type": "code",
   "execution_count": null,
   "id": "beb8efce-b777-4ccd-ab47-651c6ebf4f6d",
   "metadata": {},
   "outputs": [],
   "source": [
    "from flask import Flask, request, jsonify\n",
    "from flask_sqlalchemy import SQLAlchemy\n",
    "from marshmallow import Schema, fields, validate, ValidationError\n",
    "from werkzeug.security import generate_password_hash, check_password_hash\n",
    "import threading\n",
    "\n",
    "app = Flask(__name__)\n",
    "app.config['SQLALCHEMY_DATABASE_URI'] = 'sqlite:///users.db'\n",
    "app.config['SQLALCHEMY_TRACK_MODIFICATIONS'] = False\n",
    "db = SQLAlchemy(app)\n",
    "\n",
    "class User(db.Model):\n",
    "    id = db.Column(db.Integer, primary_key=True)\n",
    "    username = db.Column(db.String(80), unique=True, nullable=False)\n",
    "    password = db.Column(db.String(120), nullable=False)\n",
    "\n",
    "class UserSchema(Schema):\n",
    "    id = fields.Int(dump_only=True)\n",
    "    username = fields.Str(required=True, validate=validate.Length(min=1, max=80))\n",
    "    password = fields.Str(required=True, validate=validate.Length(min=6))\n",
    "\n",
    "user_schema = UserSchema()\n",
    "users_schema = UserSchema(many=True)\n",
    "\n",
    "with app.app_context():\n",
    "    db.create_all()\n",
    "\n",
    "@app.route('/')\n",
    "def home():\n",
    "    return \"Welcome to the Security Testing Demo!\"\n",
    "\n",
    "@app.route('/users', methods=['GET'])\n",
    "def get_users():\n",
    "    try:\n",
    "        users = User.query.all()\n",
    "        result =  users_schema.dump(users)\n",
    "        return jsonify(result)\n",
    "    except Exception as e:\n",
    "        return jsonify({\"message\": \"An error occurred while fetching users\", \"error\": str(e)}), 500\n",
    "\n",
    "\n",
    "@app.route('/user/<int:id>', methods=['GET'])\n",
    "def get_user(id):\n",
    "    user = User.query.get(id)\n",
    "    if user:\n",
    "      result = user_schema.dump(user)\n",
    "      return jsonify(result)\n",
    "    return jsonify({\"message\": \"User not found\"}), 404\n",
    "\n",
    "@app.route('/user', methods=['POST'])\n",
    "def add_user():\n",
    "    data = request.get_json()\n",
    "    errors = user_schema.validate(data)\n",
    "    if errors:\n",
    "        return jsonify(errors), 400\n",
    "\n",
    "    hashed_password = generate_password_hash(data['password'])\n",
    "    new_user = User(username=data['username'], password=hashed_password)\n",
    "    db.session.add(new_user)\n",
    "    db.session.commit()\n",
    "    return jsonify({\"message\": \"User added successfully\"}), 201\n",
    "\n",
    "@app.route('/user/<int:id>', methods=['PUT'])\n",
    "def update_user(id):\n",
    "    data = request.get_json()\n",
    "    errors = user_schema.validate(data)\n",
    "    if errors:\n",
    "        return jsonify(errors), 400\n",
    "\n",
    "    user = User.query.get(id)\n",
    "    if user:\n",
    "        user.username = data['username']\n",
    "        user.password = generate_password_hash(data['password'])\n",
    "        db.session.commit()\n",
    "        return jsonify({\"message\": \"User updated successfully\"})\n",
    "    return jsonify({\"message\": \"User not found\"}), 404\n",
    "\n",
    "@app.route('/user/<int:id>', methods=['DELETE'])\n",
    "def delete_user(id):\n",
    "    user = User.query.get(id)\n",
    "    if user:\n",
    "        db.session.delete(user)\n",
    "        db.session.commit()\n",
    "        return jsonify({\"message\": \"User deleted successfully\"})\n",
    "    return jsonify({\"message\": \"User not found\"}), 404\n",
    "\n",
    "threading.Thread(target=app.run, kwargs={'host':'0.0.0.0','port':5000}).start()\n"
   ]
  },
  {
   "cell_type": "code",
   "execution_count": null,
   "id": "e9cd5ab7-478c-4721-b97e-ed11f3a6fca0",
   "metadata": {},
   "outputs": [],
   "source": []
  },
  {
   "cell_type": "code",
   "execution_count": null,
   "id": "81f4f0a2-b3a4-429e-90c4-f2bf2ccece40",
   "metadata": {},
   "outputs": [],
   "source": [
    "!curl -X POST http://127.0.0.1:5000/user -H \"Content-Type: application/json\" -d '{\"username\":\"testuser\",\"password\":\"securepassword\"}'"
   ]
  },
  {
   "cell_type": "code",
   "execution_count": null,
   "id": "c6f89a89-ba01-484a-80b5-e6dc7772283a",
   "metadata": {},
   "outputs": [],
   "source": [
    "!curl -X GET http://127.0.0.1:5000/users"
   ]
  },
  {
   "cell_type": "code",
   "execution_count": null,
   "id": "b1c8fa43-8fa9-4352-968c-c18d05143634",
   "metadata": {},
   "outputs": [],
   "source": [
    "!curl -X GET http://localhost:5000/user/1"
   ]
  },
  {
   "cell_type": "code",
   "execution_count": null,
   "id": "c9c6e61b-a341-4caf-bd36-b48f8161e47e",
   "metadata": {},
   "outputs": [],
   "source": [
    "!curl -X PUT http://localhost:5000/user/1 -H \"Content-Type: application/json\" -d '{\"username\":\"testuser\",\"password\":\"newsecurepassword\"}'"
   ]
  },
  {
   "cell_type": "code",
   "execution_count": null,
   "id": "f2b9f1f7-d435-4d5e-8500-64e7760bd700",
   "metadata": {},
   "outputs": [],
   "source": [
    "!curl -X DELETE http://localhost:5000/user/1"
   ]
  }
 ],
 "metadata": {
  "kernelspec": {
   "display_name": "Python 3 (ipykernel)",
   "language": "python",
   "name": "python3"
  },
  "language_info": {
   "codemirror_mode": {
    "name": "ipython",
    "version": 3
   },
   "file_extension": ".py",
   "mimetype": "text/x-python",
   "name": "python",
   "nbconvert_exporter": "python",
   "pygments_lexer": "ipython3",
   "version": "3.11.9"
  }
 },
 "nbformat": 4,
 "nbformat_minor": 5
}
