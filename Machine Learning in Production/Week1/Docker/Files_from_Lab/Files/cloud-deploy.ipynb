{
 "cells": [
  {
   "cell_type": "markdown",
   "id": "767b6aaf-1195-4cf9-94cf-57cf94c90f66",
   "metadata": {},
   "source": [
    "# (Optional) Ungraded Lab - Deploying a Deep Learning Model to a Cloud Service\n",
    "\n",
    "**IMPORTANT NOTE: Doing this optional lab requires an AWS Account and might incur compute costs. It will cost approximately 1 US Dollar to complete the exercise and serve your model for several hours. It will be much less (virtually free) if you terminate it quickly. If you opt to do this, please make sure to terminate the environment after the exercise to stop accumulating costs.**\n",
    "\n",
    "**Please also note that you don't have to do this lab to complete the course.**\n",
    "\n",
    "Now that you've seen how to deploy a model locally, you will take it one step further and deploy it to a cloud service. This will let you access it anywhere you have an internet connection. You will use [Amazon Web Services (AWS) Elastic Beanstalk](https://aws.amazon.com/elasticbeanstalk/) because of its easy setup. You will see your model API up and running in no time. Let's begin!"
   ]
  },
  {
   "cell_type": "markdown",
   "id": "01f252b7-70a5-4950-b3d0-9fc9ad56fe19",
   "metadata": {},
   "source": [
    "## Download the Application\n",
    "\n",
    "Download the zipfile from [this link](https://storage.googleapis.com/mlep-public/course_1/week1/mlepc1w1_cloud.zip). It contains all the files needed to setup your FastAPI application via a [Docker](https://www.docker.com/) container. Simply put, Docker is a tool that allows you to ship your software along with all the dependencies that it needs to run. Here are the contents of the zipfile:\n",
    "\n",
    "* (hidden directory) `.cvlib` - This contains a `yolov3-tiny` model. It will be used as the default model of your application.\n",
    "* `app/main.py` - This is basically the same API endpoints code that you used in the Jupyter notebooks earlier. \n",
    "* `app/__init__.py` - This file is just to indicate that the `app` folder is a module\n",
    "* `Dockerfile` - Sets up the application\n",
    "* `requirements.txt` - Python packages needed to run the app."
   ]
  },
  {
   "cell_type": "markdown",
   "id": "ed904079-024e-44d3-9b64-ae4d568d0f45",
   "metadata": {},
   "source": [
    "## Create an AWS Account\n",
    "\n",
    "If you don't have one yet, [create an AWS Account here](https://aws.amazon.com/) and make sure that billing is enabled."
   ]
  },
  {
   "cell_type": "markdown",
   "id": "0d2f79c4-38a0-48f5-b1fd-59a69b375ed4",
   "metadata": {},
   "source": [
    "## Run your application with Elastic Beanstalk\n",
    "\n",
    "The following steps will show you how to setup and run your application with Elastic Beanstalk. This AWS service does all the heavy lifting in setting up a cloud-based server for your model. The steps below might look lengthy but once you actually do it, you'll find them quick to execute."
   ]
  },
  {
   "cell_type": "markdown",
   "id": "b9c7267d-38d5-46bf-aa49-0426a5efd735",
   "metadata": {},
   "source": [
    "**1. Search for Elastic Beanstalk**\n",
    "\n",
    "<img src='assets/cloud_deploy/search_eb.png' width='600'>\n",
    "\n",
    "<br>\n",
    "<br>"
   ]
  },
  {
   "cell_type": "markdown",
   "id": "da5eecac-e5e0-4758-8bf5-511c43caed51",
   "metadata": {},
   "source": [
    "**2. Click Create Application**\n",
    "\n",
    "<img src='assets/cloud_deploy/create_app.png' width='600'>\n",
    "\n",
    "<br>\n",
    "<br>"
   ]
  },
  {
   "cell_type": "markdown",
   "id": "11646b33-aeac-441b-b768-0a1ff8a8d090",
   "metadata": {},
   "source": [
    "**3. Configure the environment**\n",
    "\n",
    "Elastic Beanstalk defines 6 steps to build the environment where your application will run. You want to run a webserver that hosts your object detection model so select `Webserver environment`. Put an application name such as `w1cloud`.\n",
    "\n",
    "<img src='assets/cloud_deploy/webserver.png' width='600'>\n",
    "\n",
    "<br>\n",
    "<br>"
   ]
  },
  {
   "cell_type": "markdown",
   "id": "2d6d86b1-a8f8-4653-a608-3ccef32210f7",
   "metadata": {},
   "source": [
    "**4. Select Docker**\n",
    "\n",
    "Scroll down to `Platform` and select `Docker`\n",
    "\n",
    "<img src='assets/cloud_deploy/dockerplatform.png' width='600'>\n",
    "\n",
    "<br>\n",
    "<br>"
   ]
  },
  {
   "cell_type": "markdown",
   "id": "29018eda-8a0e-41c1-ab6f-a0edbc10e3f3",
   "metadata": {},
   "source": [
    "**5. Upload the Application Code**\n",
    "\n",
    "Scroll down to `Application Code` then select the `Upload your code` option. Put a version label such as `v1` then upload the zipfile you downloaded earlier. Click `Next` at the bottom right to move on to Step 2 of the configuration.\n",
    "\n",
    "<img src='assets/cloud_deploy/uploadapp.png' width='600'>\n",
    "\n",
    "<br>\n",
    "<br>"
   ]
  },
  {
   "cell_type": "markdown",
   "id": "6c496a18-ce52-423a-a4f0-a4d846c3128c",
   "metadata": {},
   "source": [
    "**6. Configure Service Access**\n",
    "\n",
    "Select the defaults in Step 2 and click `Next`.\n",
    "\n",
    "<img src='assets/cloud_deploy/serviceaccess.png' width='600'>\n",
    "\n",
    "<br>\n",
    "<br>"
   ]
  },
  {
   "cell_type": "markdown",
   "id": "76a7e9bf-855c-4e73-a6cf-ac54e0bfc617",
   "metadata": {},
   "source": [
    "**7. Setup Networking**\n",
    "\n",
    "Next, you will allow external traffic to your application. Select a VPC, instance subnets, and activate a Public IP address.\n",
    "\n",
    "<img src='assets/cloud_deploy/enableip.png' width='600'>\n",
    "\n",
    "<br>\n",
    "<br>"
   ]
  },
  {
   "cell_type": "markdown",
   "id": "4670aa82-e0df-4322-b878-35580a497c99",
   "metadata": {},
   "source": [
    "**8. Select Instances**\n",
    "\n",
    "You will then select the machines that will run your application code. Select at least `t3.large` to ensure that it has sufficient capacity to run the app. You can see the specs of the instances [here](https://aws.amazon.com/ec2/instance-types/t3/).\n",
    "\n",
    "<img src='assets/cloud_deploy/instances.png'>\n",
    "\n",
    "<br>\n",
    "<br>"
   ]
  },
  {
   "attachments": {},
   "cell_type": "markdown",
   "id": "ccd3da80-9c81-49e3-96bd-8bc859f9a3e0",
   "metadata": {},
   "source": [
    "**9. Submit the Application**\n",
    "\n",
    "You can select the defaults in the next steps until you're able to submit the application. Elastic Beanstalk will build the environment and start up the instances. You should see a success message like below and a URL in the `Domain` box:\n",
    "\n",
    "<img src='assets/cloud_deploy/envlaunch.png' width=\"600\">\n",
    "\n",
    "<br>\n",
    "<br>\n"
   ]
  },
  {
   "cell_type": "markdown",
   "id": "098e9902-1be9-48c6-b97d-5c0d8a4181a0",
   "metadata": {},
   "source": [
    "**10. Test your model!**\n",
    "\n",
    "Clicking on the URL under `Domain` should show you the success message from FastAPI like in the previous lab when you visited `localhost` and `serve`. Simply append `/docs` after the URL and you should see the same FastAPI interface to try out your model.\n",
    "\n",
    "<img src='assets/cloud_deploy/testmodel.png' width=\"600\">\n",
    "\n",
    "<br>\n",
    "<br>"
   ]
  },
  {
   "cell_type": "markdown",
   "id": "2c13849b-2837-42b1-9e72-56ac447e8b77",
   "metadata": {},
   "source": [
    "**11. Terminate the Environment**\n",
    "\n",
    "After you're done testing, you can terminate the environment to avoid accumulating costs. Click on `Actions` then `Terminate environment`. You should see a success message after a few minutes.\n",
    "\n",
    "<img src='assets/cloud_deploy/terminate_env.png' width='600'>\n",
    "\n",
    "<br>\n",
    "<br>\n",
    "\n",
    "<img src='assets/cloud_deploy/term_success.png' width='600'>\n",
    "\n",
    "<br>\n",
    "<br>\n"
   ]
  },
  {
   "cell_type": "markdown",
   "id": "cd4adef4-60ee-4f79-b57a-ccce4d660c42",
   "metadata": {},
   "source": [
    "* Just to make sure, you can search for S3 and empty/delete the Elastic Beanstalk-related buckets.\n",
    "\n",
    "<img src='assets/cloud_deploy/s3search.png' width='600'>\n",
    "\n",
    "<br>\n",
    "<br>"
   ]
  },
  {
   "cell_type": "markdown",
   "id": "dc23eefa-6276-4482-b9c4-6f73d82249d9",
   "metadata": {},
   "source": [
    "* You can also go to the EC2 dashboard and check that no instances are running.\n",
    "\n",
    "<img src='assets/cloud_deploy/ec2search.png' width='600'>\n",
    "\n",
    "<br>\n",
    "<br>\n",
    "\n",
    "<img src='assets/cloud_deploy/ec2instance.png' width='600'>\n",
    "\n",
    "<br>\n",
    "<br>"
   ]
  },
  {
   "cell_type": "markdown",
   "id": "2c4365e1-d3b7-40e6-9c10-13a5c74e03c2",
   "metadata": {},
   "source": [
    "## Wrap Up\n",
    "\n",
    "This exercise gave you an idea on how to deploy your model to a cloud service. This is a quick and simple way to expose your application to anyone on the internet and start serving requests!"
   ]
  }
 ],
 "metadata": {
  "kernelspec": {
   "display_name": "Python 3 (ipykernel)",
   "language": "python",
   "name": "python3"
  },
  "language_info": {
   "codemirror_mode": {
    "name": "ipython",
    "version": 3
   },
   "file_extension": ".py",
   "mimetype": "text/x-python",
   "name": "python",
   "nbconvert_exporter": "python",
   "pygments_lexer": "ipython3",
   "version": "3.11.6"
  }
 },
 "nbformat": 4,
 "nbformat_minor": 5
}
