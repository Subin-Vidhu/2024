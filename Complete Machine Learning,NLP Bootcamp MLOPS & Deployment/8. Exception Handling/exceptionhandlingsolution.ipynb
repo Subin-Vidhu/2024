{
 "cells": [
  {
   "cell_type": "markdown",
   "metadata": {},
   "source": [
    "# Module: Exception Handling Assignments\n",
    "## Lesson: Exception Handling with try, except, and finally\n",
    "### Assignment 1: Handling Division by Zero\n",
    "\n",
    "Write a function that takes two integers as input and returns their division. Use try, except, and finally blocks to handle division by zero and print an appropriate message."
   ]
  },
  {
   "cell_type": "code",
   "execution_count": null,
   "metadata": {},
   "outputs": [],
   "source": [
    "def divide(a, b):\n",
    "    try:\n",
    "        result = a / b\n",
    "    except ZeroDivisionError as e:\n",
    "        print(f\"Error: {e}\")\n",
    "        result = None\n",
    "    finally:\n",
    "        print(\"Execution complete.\")\n",
    "    return result\n",
    "\n",
    "# Test\n",
    "# print(divide(10, 2))  # 5.0\n",
    "# print(divide(10, 0))  # None"
   ]
  },
  {
   "cell_type": "markdown",
   "metadata": {},
   "source": [
    "### Assignment 2: File Reading with Exception Handling\n",
    "\n",
    "Write a function that reads the contents of a file named `data.txt`. Use try, except, and finally blocks to handle file not found errors and ensure the file is properly closed."
   ]
  },
  {
   "cell_type": "code",
   "execution_count": null,
   "metadata": {},
   "outputs": [],
   "source": [
    "def read_file(filename):\n",
    "    try:\n",
    "        file = open(filename, 'r')\n",
    "        content = file.read()\n",
    "        return content\n",
    "    except FileNotFoundError as e:\n",
    "        print(f\"Error: {e}\")\n",
    "    finally:\n",
    "        try:\n",
    "            file.close()\n",
    "        except NameError:\n",
    "            pass\n",
    "\n",
    "# Test\n",
    "# print(read_file('data.txt'))"
   ]
  },
  {
   "cell_type": "markdown",
   "metadata": {},
   "source": [
    "### Assignment 3: Handling Multiple Exceptions\n",
    "\n",
    "Write a function that takes a list of integers and returns their sum. Use try, except, and finally blocks to handle TypeError if a non-integer value is encountered and print an appropriate message."
   ]
  },
  {
   "cell_type": "code",
   "execution_count": null,
   "metadata": {},
   "outputs": [],
   "source": [
    "def sum_list(lst):\n",
    "    total = 0\n",
    "    try:\n",
    "        for item in lst:\n",
    "            total += item\n",
    "    except TypeError as e:\n",
    "        print(f\"Error: {e}\")\n",
    "        total = None\n",
    "    finally:\n",
    "        print(\"Execution complete.\")\n",
    "    return total\n",
    "\n",
    "# Test\n",
    "# print(sum_list([1, 2, 3, 'a']))  # None\n",
    "# print(sum_list([1, 2, 3, 4]))  # 10"
   ]
  },
  {
   "cell_type": "markdown",
   "metadata": {},
   "source": [
    "### Assignment 4: Exception Handling in User Input\n",
    "\n",
    "Write a function that prompts the user to enter an integer. Use try, except, and finally blocks to handle ValueError if the user enters a non-integer value and print an appropriate message."
   ]
  },
  {
   "cell_type": "code",
   "execution_count": null,
   "metadata": {},
   "outputs": [],
   "source": [
    "def get_integer():\n",
    "    try:\n",
    "        value = int(input(\"Enter an integer: \"))\n",
    "    except ValueError as e:\n",
    "        print(f\"Error: {e}\")\n",
    "        value = None\n",
    "    finally:\n",
    "        print(\"Execution complete.\")\n",
    "    return value\n",
    "\n",
    "# Test\n",
    "# print(get_integer())"
   ]
  },
  {
   "cell_type": "markdown",
   "metadata": {},
   "source": [
    "### Assignment 5: Exception Handling in Dictionary Access\n",
    "\n",
    "Write a function that takes a dictionary and a key as input and returns the value associated with the key. Use try, except, and finally blocks to handle KeyError if the key is not found in the dictionary and print an appropriate message."
   ]
  },
  {
   "cell_type": "code",
   "execution_count": null,
   "metadata": {},
   "outputs": [],
   "source": [
    "def get_dict_value(d, key):\n",
    "    try:\n",
    "        value = d[key]\n",
    "    except KeyError as e:\n",
    "        print(f\"Error: {e}\")\n",
    "        value = None\n",
    "    finally:\n",
    "        print(\"Execution complete.\")\n",
    "    return value\n",
    "\n",
    "# Test\n",
    "# d = {'a': 1, 'b': 2, 'c': 3}\n",
    "# print(get_dict_value(d, 'b'))  # 2\n",
    "# print(get_dict_value(d, 'x'))  # None"
   ]
  },
  {
   "cell_type": "markdown",
   "metadata": {},
   "source": [
    "### Assignment 6: Nested Exception Handling\n",
    "\n",
    "Write a function that performs nested exception handling. It should first attempt to convert a string to an integer, and then attempt to divide by that integer. Use nested try, except, and finally blocks to handle ValueError and ZeroDivisionError and print appropriate messages."
   ]
  },
  {
   "cell_type": "code",
   "execution_count": null,
   "metadata": {},
   "outputs": [],
   "source": [
    "def nested_exception_handling(s):\n",
    "    try:\n",
    "        try:\n",
    "            num = int(s)\n",
    "        except ValueError as e:\n",
    "            print(f\"Conversion error: {e}\")\n",
    "            num = None\n",
    "        finally:\n",
    "            print(\"Conversion attempt complete.\")\n",
    "        if num is not None:\n",
    "            try:\n",
    "                result = 10 / num\n",
    "            except ZeroDivisionError as e:\n",
    "                print(f\"Division error: {e}\")\n",
    "                result = None\n",
    "            finally:\n",
    "                print(\"Division attempt complete.\")\n",
    "            return result\n",
    "    finally:\n",
    "        print(\"Overall execution complete.\")\n",
    "\n",
    "# Test\n",
    "# print(nested_exception_handling('0'))  # None\n",
    "# print(nested_exception_handling('a'))  # None\n",
    "# print(nested_exception_handling('2'))  # 5.0"
   ]
  },
  {
   "cell_type": "markdown",
   "metadata": {},
   "source": [
    "### Assignment 7: Exception Handling in List Operations\n",
    "\n",
    "Write a function that takes a list and an index as input and returns the element at the given index. Use try, except, and finally blocks to handle IndexError if the index is out of range and print an appropriate message."
   ]
  },
  {
   "cell_type": "code",
   "execution_count": null,
   "metadata": {},
   "outputs": [],
   "source": [
    "def get_list_element(lst, index):\n",
    "    try:\n",
    "        element = lst[index]\n",
    "    except IndexError as e:\n",
    "        print(f\"Error: {e}\")\n",
    "        element = None\n",
    "    finally:\n",
    "        print(\"Execution complete.\")\n",
    "    return element\n",
    "\n",
    "# Test\n",
    "# lst = [1, 2, 3, 4, 5]\n",
    "# print(get_list_element(lst, 2))  # 3\n",
    "# print(get_list_element(lst, 10))  # None"
   ]
  },
  {
   "cell_type": "markdown",
   "metadata": {},
   "source": [
    "### Assignment 8: Exception Handling in Network Operations\n",
    "\n",
    "Write a function that attempts to open a URL and read its contents. Use try, except, and finally blocks to handle network-related errors and print an appropriate message."
   ]
  },
  {
   "cell_type": "code",
   "execution_count": null,
   "metadata": {},
   "outputs": [],
   "source": [
    "import requests\n",
    "\n",
    "def read_url(url):\n",
    "    try:\n",
    "        response = requests.get(url)\n",
    "        response.raise_for_status()\n",
    "        return response.text\n",
    "    except requests.RequestException as e:\n",
    "        print(f\"Network error: {e}\")\n",
    "        return None\n",
    "    finally:\n",
    "        print(\"Execution complete.\")\n",
    "\n",
    "# Test\n",
    "# print(read_url('https://jsonplaceholder.typicode.com/posts/1'))\n",
    "# print(read_url('https://nonexistent.url'))"
   ]
  },
  {
   "cell_type": "markdown",
   "metadata": {},
   "source": [
    "### Assignment 9: Exception Handling in JSON Parsing\n",
    "\n",
    "Write a function that attempts to parse a JSON string. Use try, except, and finally blocks to handle JSONDecodeError if the string is not a valid JSON and print an appropriate message."
   ]
  },
  {
   "cell_type": "code",
   "execution_count": null,
   "metadata": {},
   "outputs": [],
   "source": [
    "import json\n",
    "\n",
    "def parse_json(json_string):\n",
    "    try:\n",
    "        data = json.loads(json_string)\n",
    "        return data\n",
    "    except json.JSONDecodeError as e:\n",
    "        print(f\"JSON error: {e}\")\n",
    "        return None\n",
    "    finally:\n",
    "        print(\"Execution complete.\")\n",
    "\n",
    "# Test\n",
    "# print(parse_json('{\"name\": \"John\", \"age\": 30}'))  # {'name': 'John', 'age': 30}\n",
    "# print(parse_json('Invalid JSON'))  # None"
   ]
  },
  {
   "cell_type": "markdown",
   "metadata": {},
   "source": [
    "### Assignment 10: Custom Exception Handling\n",
    "\n",
    "Define a custom exception named `NegativeNumberError`. Write a function that raises this exception if a negative number is encountered in a list. Use try, except, and finally blocks to handle the custom exception and print an appropriate message."
   ]
  },
  {
   "cell_type": "code",
   "execution_count": null,
   "metadata": {},
   "outputs": [],
   "source": [
    "class NegativeNumberError(Exception):\n",
    "    pass\n",
    "\n",
    "def check_for_negatives(lst):\n",
    "    try:\n",
    "        for num in lst:\n",
    "            if num < 0:\n",
    "                raise NegativeNumberError(f\"Negative number found: {num}\")\n",
    "    except NegativeNumberError as e:\n",
    "        print(f\"Error: {e}\")\n",
    "    finally:\n",
    "        print(\"Execution complete.\")\n",
    "\n",
    "# Test\n",
    "# check_for_negatives([1, -2, 3, 4])  # Error: Negative number found: -2\n",
    "# check_for_negatives([1, 2, 3, 4])  # Execution complete."
   ]
  },
  {
   "cell_type": "markdown",
   "metadata": {},
   "source": [
    "### Assignment 11: Exception Handling in Function Calls\n",
    "\n",
    "Write a function that calls another function which may raise an exception. Use try, except, and finally blocks to handle the exception and print an appropriate message."
   ]
  },
  {
   "cell_type": "code",
   "execution_count": null,
   "metadata": {},
   "outputs": [],
   "source": [
    "def risky_function():\n",
    "    raise ValueError(\"An error occurred in risky_function.\")\n",
    "\n",
    "def safe_function():\n",
    "    try:\n",
    "        risky_function()\n",
    "    except ValueError as e:\n",
    "        print(f\"Error: {e}\")\n",
    "    finally:\n",
    "        print(\"Execution complete.\")\n",
    "\n",
    "# Test\n",
    "# safe_function()  # Error: An error occurred in risky_function."
   ]
  },
  {
   "cell_type": "markdown",
   "metadata": {},
   "source": [
    "### Assignment 12: Exception Handling in Class Methods\n",
    "\n",
    "Define a class with a method that performs a division operation. Use try, except, and finally blocks within the method to handle division by zero and print an appropriate message."
   ]
  },
  {
   "cell_type": "code",
   "execution_count": null,
   "metadata": {},
   "outputs": [],
   "source": [
    "class Calculator:\n",
    "    def divide(self, a, b):\n",
    "        try:\n",
    "            result = a / b\n",
    "        except ZeroDivisionError as e:\n",
    "            print(f\"Error: {e}\")\n",
    "            result = None\n",
    "        finally:\n",
    "            print(\"Execution complete.\")\n",
    "        return result\n",
    "\n",
    "# Test\n",
    "# calc = Calculator()\n",
    "# print(calc.divide(10, 2))  # 5.0\n",
    "# print(calc.divide(10, 0))  # None"
   ]
  },
  {
   "cell_type": "markdown",
   "metadata": {},
   "source": [
    "### Assignment 13: Exception Handling in Data Conversion\n",
    "\n",
    "Write a function that takes a list of strings and converts them to integers. Use try, except, and finally blocks to handle ValueError if a string cannot be converted and print an appropriate message."
   ]
  },
  {
   "cell_type": "code",
   "execution_count": null,
   "metadata": {},
   "outputs": [],
   "source": [
    "def convert_to_integers(lst):\n",
    "    integers = []\n",
    "    try:\n",
    "        for item in lst:\n",
    "            integers.append(int(item))\n",
    "    except ValueError as e:\n",
    "        print(f\"Error: {e}\")\n",
    "        integers = None\n",
    "    finally:\n",
    "        print(\"Execution complete.\")\n",
    "    return integers\n",
    "\n",
    "# Test\n",
    "# print(convert_to_integers(['1', '2', 'three', '4']))  # None\n",
    "# print(convert_to_integers(['1', '2', '3', '4']))  # [1, 2, 3, 4]"
   ]
  },
  {
   "cell_type": "markdown",
   "metadata": {},
   "source": [
    "### Assignment 14: Exception Handling in List Comprehensions\n",
    "\n",
    "Write a function that uses a list comprehension to convert a list of strings to integers. Use try, except, and finally blocks within the list comprehension to handle ValueError and print an appropriate message."
   ]
  },
  {
   "cell_type": "code",
   "execution_count": null,
   "metadata": {},
   "outputs": [],
   "source": [
    "def convert_with_comprehension(lst):\n",
    "    try:\n",
    "        integers = [int(item) for item in lst]\n",
    "    except ValueError as e:\n",
    "        print(f\"Error: {e}\")\n",
    "        integers = None\n",
    "    finally:\n",
    "        print(\"Execution complete.\")\n",
    "    return integers\n",
    "\n",
    "# Test\n",
    "# print(convert_with_comprehension(['1', '2', 'three', '4']))  # None\n",
    "# print(convert_with_comprehension(['1', '2', '3', '4']))  # [1, 2, 3, 4]"
   ]
  },
  {
   "cell_type": "markdown",
   "metadata": {},
   "source": [
    "### Assignment 15: Exception Handling in File Writing\n",
    "\n",
    "Write a function that attempts to write a list of strings to a file. Use try, except, and finally blocks to handle IOError and ensure the file is properly closed."
   ]
  },
  {
   "cell_type": "code",
   "execution_count": null,
   "metadata": {},
   "outputs": [],
   "source": [
    "def write_strings_to_file(strings, filename):\n",
    "    try:\n",
    "        file = open(filename, 'w')\n",
    "        for string in strings:\n",
    "            file.write(string + '\\n')\n",
    "    except IOError as e:\n",
    "        print(f\"Error: {e}\")\n",
    "    finally:\n",
    "        try:\n",
    "            file.close()\n",
    "        except NameError:\n",
    "            pass\n",
    "\n",
    "# Test\n",
    "# write_strings_to_file(['Hello', 'World'], 'output.txt')"
   ]
  }
 ],
 "metadata": {
  "kernelspec": {
   "display_name": "Python 3",
   "language": "python",
   "name": "python3"
  },
  "language_info": {
   "codemirror_mode": {
    "name": "ipython",
    "version": 3
   },
   "file_extension": ".py",
   "mimetype": "text/x-python",
   "name": "python",
   "nbconvert_exporter": "python",
   "pygments_lexer": "ipython3",
   "version": "3.9.7"
  }
 },
 "nbformat": 4,
 "nbformat_minor": 5
}
