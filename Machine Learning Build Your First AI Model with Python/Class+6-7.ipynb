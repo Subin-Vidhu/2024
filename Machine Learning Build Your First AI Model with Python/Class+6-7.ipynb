{
 "cells": [
  {
   "cell_type": "code",
   "execution_count": 11,
   "id": "13f2552b-24dc-4b75-9870-a7430899f72e",
   "metadata": {},
   "outputs": [],
   "source": [
    "from sklearn import datasets"
   ]
  },
  {
   "cell_type": "markdown",
   "id": "4f859136-30d2-4218-8025-d1a16aa69b22",
   "metadata": {},
   "source": [
    "We are importing the `datasets` module from the `sklearn` library.\n",
    "\n",
    "`sklearn` is short for scikit-learn, which is a popular machine learning library in Python. It provides a wide range of tools and algorithms for tasks such as classification, regression, clustering, and more.\n",
    "\n",
    "The `datasets` module within scikit-learn contains various pre-loaded datasets that are commonly used for practicing and learning machine learning algorithms. These datasets are conveniently packaged and can be easily accessed for experimentation and model training.\n",
    "\n",
    "By importing the `datasets` module, we gain access to these pre-loaded datasets, making it easier to work with them in our code. We can use these datasets to train and evaluate machine learning models, test algorithms, and explore different techniques without the need to manually load or preprocess the data.\n",
    "\n",
    "Once we import the `datasets` module, we can use functions like `load_iris()`, `load_digits()`, or `load_boston()` to load specific dn tasks.\n",
    "\n",
    "In summary, the line `from sklearn import datasets` allows us to import the `datasets` module from the scikit-learn library, giving us access to pre-loaded datasets that we can use for machine learning experimentation and training."
   ]
  },
  {
   "cell_type": "code",
   "execution_count": 12,
   "id": "d570286d-5aaf-4cf5-a2a8-51c9886a10e8",
   "metadata": {},
   "outputs": [],
   "source": [
    "from sklearn.model_selection import train_test_split"
   ]
  },
  {
   "cell_type": "markdown",
   "id": "16296ee2-085a-485d-9132-a60fa2b05eb1",
   "metadata": {},
   "source": [
    "We are importing the `train_test_split` function from the `model_selection` module within the scikit-learn library.\n",
    "\n",
    "The `train_test_split` function is a utility function provided by scikit-learn that helps in splitting a dataset into two separate subsets: a training set and a testing set. This is a common practice in machine learning to evaluate the performance of a model on unseen data.\n",
    "\n",
    "Let's break down the import statement in more detail:\n",
    "\n",
    "- `sklearn` is the top-level package for scikit-learn.\n",
    "- `model_selection` is a module within scikit-learn that contains various functions and classes related to model evaluation and selection.\n",
    "- `train_test_split` is the specific function we are importing from the `model_selection` module.\n",
    "\n",
    "Once we import the `train_test_split` function, we can use it to split our dataset into training and testing subsets. The function takes several parameters, including the dataset (features and target variables) and the desired size or proportion of the testing set. It randomly shuffles the data and splits it into two parts based on the specified pde model's performance.\n",
    "\n",
    "Splitting the data into training and testing sets allows us to estimate how well our model will perform on unseen data. It helps us evaluate the model's generalization capabilities and detect potential issues such as overfitting or underfitting.\n",
    "\n",
    "In summary, the line `from sklearn.model_selection import train_test_split` allows us to import the `train_test_split` function from the scikit-learn library, which is a convenient tool for splitting datasets into training and testing subsets for machine learning tasks."
   ]
  },
  {
   "cell_type": "code",
   "execution_count": null,
   "id": "ca3dadce-87f3-478e-9e32-c3b47b9947c5",
   "metadata": {},
   "outputs": [],
   "source": [
    "from sklearn.neighbors import KNeighborsClassifier"
   ]
  },
  {
   "cell_type": "markdown",
   "id": "fd0ae3e1-6413-4821-a7c6-57921f682c86",
   "metadata": {},
   "source": [
    "\n",
    "1. `from sklearn.neighbors`: This is the import statement that indicates we are importing a module from the scikit-learn library. In this case, we are importing the module related to neighbors-based learning algorithms.\n",
    "\n",
    "2. `import KNeighborsClassifier`: This specifies the specific class we want to import from the `sklearn.neighbors` module. The `KNeighborsClassifier` class is a classifier implementation based on the k-nearest neighbors algorithm.\n",
    "\n",
    "The k-nearest neighbors (KNN) algorithm is a simple yet powerful classification algorithm. It works by finding the k nearest neighbors to a given data point in the feature space and assigns the majority class among those neighbors to the data point.\n",
    "\n",
    "By importing the `KNeighborsClassifier` class, we gain access to all the functionalities and methods provided by scikit-learn to create, train, and use a KNN classifier. Some of the important methods of `KNeighborsClassifier` include:\n",
    "\n",
    "- `fit(X, y)`: This method is used to train the classifier with the provided training data `X` (features) and corresponding target labels `y`.\n",
    "- `predict(X)`: This method predicts the class labels for the given input data `X` based on the trained model.\n",
    "- `score(X, y)`: This method returns the mean accuracy on the given test data `X` and corresponding true labels `y`.\n",
    "\n",
    "By utilizing the `KNeighborsClassifier` class, you can easily implement and experiment with the KNN algorithm for classification tasks. It is worth noting that scikit-learn provides a unified interface for various machine learning algorithms, making it convenient to switch between different models without changing much of the code structure."
   ]
  },
  {
   "cell_type": "code",
   "execution_count": null,
   "id": "a0268280-bad4-4e12-8c14-02760384ac4a",
   "metadata": {},
   "outputs": [],
   "source": [
    "from sklearn.metrics import accuracy_score"
   ]
  },
  {
   "cell_type": "markdown",
   "id": "6c70c9f3-3534-4888-9aba-963c410e4a69",
   "metadata": {},
   "source": [
    ". The `accuracy_score` function is a convenient utility provided by scikit-learn for computing the accuracy of a classification model's predictions.\n",
    "\n",
    "The `accuracy_score` function takes two arguments: the true labels (`y_true`) and the predicted labels (`y_pred`). It compares the two sets of labels and returns the accuracy score, which is the fraction of correctly classified sampF1-score may be more informative."
   ]
  },
  {
   "cell_type": "code",
   "execution_count": 15,
   "id": "940f255e-308c-46dc-83cc-b537134b1b3e",
   "metadata": {},
   "outputs": [
    {
     "name": "stdout",
     "output_type": "stream",
     "text": [
      "Accuracy: 0.3333333333333333\n"
     ]
    }
   ],
   "source": [
    "from sklearn.metrics import accuracy_score\n",
    "\n",
    "# True labels\n",
    "y_true = [0, 1, 2, 0, 1, 2]\n",
    "\n",
    "# Predicted labels\n",
    "y_pred = [0, 2, 1, 0, 0, 1]\n",
    "\n",
    "# Compute accuracy\n",
    "accuracy = accuracy_score(y_true, y_pred)\n",
    "\n",
    "print(\"Accuracy:\", accuracy)"
   ]
  },
  {
   "cell_type": "code",
   "execution_count": null,
   "id": "88b07156-beea-4673-96d3-362ea558fa22",
   "metadata": {},
   "outputs": [],
   "source": [
    "import matplotlib.pyplot as plt"
   ]
  },
  {
   "cell_type": "markdown",
   "id": "c79ac065-49ea-416e-9899-e1e0b07285b7",
   "metadata": {},
   "source": [
    "pyplot is a module within the matplotlib library that provides a simple and convenient interface to create plots and visualizations."
   ]
  },
  {
   "cell_type": "code",
   "execution_count": 19,
   "id": "d0507673-da71-41f7-91ec-969905fc0611",
   "metadata": {},
   "outputs": [
    {
     "data": {
      "image/png": "[encoded data removed]",
      "text/plain": [
       "<Figure size 640x480 with 1 Axes>"
      ]
     },
     "metadata": {},
     "output_type": "display_data"
    }
   ],
   "source": [
    "import matplotlib.pyplot as plt\n",
    "\n",
    "# Sample data\n",
    "x = [1, 2, 3, 4, 5]\n",
    "y = [2, -1, 10, 8, 10]\n",
    "\n",
    "# Create a scatter plot\n",
    "plt.scatter(x, y)\n",
    "\n",
    "# Customize the plot\n",
    "plt.title('Simple Scatter Plot')\n",
    "plt.xlabel('X-axis')\n",
    "plt.ylabel('Y-axis')\n",
    "\n",
    "# Display the plot\n",
    "plt.show()"
   ]
  },
  {
   "cell_type": "code",
   "execution_count": 28,
   "id": "b3e0ef12-c4c9-45c1-b08b-67d226bb31ce",
   "metadata": {},
   "outputs": [
    {
     "name": "stdout",
     "output_type": "stream",
     "text": [
      "['setosa' 'versicolor' 'virginica']\n",
      "['sepal length (cm)', 'sepal width (cm)', 'petal length (cm)', 'petal width (cm)']\n"
     ]
    }
   ],
   "source": [
    "iris = datasets.load_iris()\n",
    "X = iris.data  # Features\n",
    "y = iris.target  # Target variable\n",
    "print(iris.target_names)\n",
    "print(iris.feature_names)"
   ]
  },
  {
   "cell_type": "markdown",
   "id": "de9d25a9-b75f-4b3a-863b-5d2bfaa0e935",
   "metadata": {},
   "source": [
    ". The Iris dataset is a commonly used dataset in machine learning and consists of measurements of four features (sepal length, sepal width, petal length, and petal width) of 150 iris flowers from three different species (Setosa, Versicolor, and Virginica).\n",
    "\n",
    "When you execute this line of code, it loads the Iris dataset into the `iris` variable. The `iris` variable is a dictionary-like object that contains the following information:\n",
    "\n",
    "- `iris.data`: This is a NumPy array that contains the feature values of the dataset. Each row corresponds to an iris sample, and each column corresponds to a specific feature.\n",
    "\n",
    "- `iris.target`: This is a NumPy array that contains the target values (or class labels) for each iris sample. It represents the species of each flower. The target values are encoded as integers, where 0 represents Setosa, 1 represents Versicolor, and 2 represents Virginica.\n",
    "\n",
    "- `iris.target_names`: This is a list that contains the names of the target classes. In this case, it contains the three species of iris flowers: Setosa, Versicolor, and Virginica.\n",
    "\n",
    "- `iris.feature_names`: This is a list that contains the names of the features in the dataset. In this case, it includes the sepal length, sepal width, petal length, and petal width.\n",
    "\n",
    "The `load_iris()` function is part of the `datasets` module in scikit-learn. It provides a convenient way to load the Iris dataset into your Python program. By assigning the return value of `load_iris()` to the `iris` variable, you can access the dataset and its associated information easily in your code.\n",
    "\n",
    "Once you have loaded the Iris dataset, you can use the `iris.data` and `iris.target` arrays to access the feature values and target values, respectively, for further analysis or to train machine learning models."
   ]
  },
  {
   "cell_type": "code",
   "execution_count": null,
   "id": "37531539-aaa7-46ea-a925-942b5218e180",
   "metadata": {},
   "outputs": [],
   "source": [
    "X_train, X_test, y_train, y_test = train_test_split(X, y, test_size=0.2, random_state=42)"
   ]
  },
  {
   "cell_type": "markdown",
   "id": "e55b6b7f-b8b1-4383-99cd-09be338b4e83",
   "metadata": {},
   "source": [
    "nts:\n",
    "\n",
    "- `X` is the feature matrix, which contains the input data for the machine learning model.\n",
    "- `y` is the target variable, which contains the corresponding labels for the input data.\n",
    "\n",
    "The `train_test_split` function randomly splits the data into two sets: one for training the model (`X_train` and `y_train`) and one for evaluating the model's performance (`X_test` and `y_test`).\n",
    "\n",
    "The function takes several parameters:\n",
    "\n",
    "- `test_size`: This parameter determines the proportion of the dataset that will be allocated for testing. In this case, `test_size=0.2` means that 20% of the data will be used for testing, while the remaining 80% will be used for training. Adjusting the `test_size` value allows you to control the trade-off between the amount of data used for training and the amount used for evaluation. Common values for `test_size` range from 0.2 to 0.4, but the specific value depends on the size and nature of your dataset.\n",
    "\n",
    "- `random_state`: This parameter sets the random seed used by the random number generator. By setting `random_state=42`, you ensure that the data split is reproducible. In other words, running the code with the same `random_state` value will always produce the same data split. This is useful for reproducibility and consistent results during model development. The specific value of `42` is arbitrary and can be any non-negative integer.\n",
    "\n",
    "It's important to note that the choice of `test_size` and `random_state` depends on various factors, including the size of your dataset, the complexity of your model, and the specific requirements of your project. There is no one-size-fits-all answer for the optimum values, as it often involves experimentation and validation. However, the values used in the example (20% test size and a random state of 42) are commonly used as a starting point.\n",
    "\n",
    "By splitting the data into training and testing sets, you can train the machine learning model on the training set and evaluate its performance on the testing set. This allows you to assess how well the model generalizes to unseen data and helps prevent overfitting (when the model performs well on the training data but any further questions!"
   ]
  },
  {
   "cell_type": "code",
   "execution_count": 76,
   "id": "77ea3013-3ffa-4b07-bae5-5a1ace3ab008",
   "metadata": {},
   "outputs": [
    {
     "name": "stdout",
     "output_type": "stream",
     "text": [
      "X Train: [7, 1, 6, 3, 5, 4, 2, 0]\n",
      "X Test: [9, 8]\n",
      "y Train: [1, 0, 1, 0, 1, 1, 0, 0]\n",
      "y Test: [1, 1]\n"
     ]
    }
   ],
   "source": [
    "from sklearn.model_selection import train_test_split\n",
    "\n",
    "# Create a dataset with 10 samples\n",
    "X = [0, 1, 2, 3, 4, 5, 6, 7, 8, 9]\n",
    "y = [0, 0, 0, 0, 1, 1, 1, 1, 1, 1]\n",
    "# Split the dataset with different random_state values\n",
    "random_state_values = 1\n",
    "X_train, X_test, y_train, y_test = train_test_split(X, y, test_size=0.2, random_state = random_state_values)\n",
    "print(\"X Train:\", X_train)\n",
    "print(\"X Test:\", X_test)\n",
    "print(\"y Train:\", y_train)\n",
    "print(\"y Test:\", y_test)"
   ]
  },
  {
   "cell_type": "code",
   "execution_count": null,
   "id": "af8a5a34-533d-4042-adc4-bf1e74028801",
   "metadata": {},
   "outputs": [],
   "source": []
  },
  {
   "cell_type": "code",
   "execution_count": null,
   "id": "df64c673-c58a-43f2-9055-fa0e82fb085a",
   "metadata": {},
   "outputs": [],
   "source": []
  },
  {
   "cell_type": "code",
   "execution_count": null,
   "id": "f9998ec0-7a3b-45e0-9c74-8eb04ed814b6",
   "metadata": {},
   "outputs": [],
   "source": []
  }
 ],
 "metadata": {
  "kernelspec": {
   "display_name": "Python 3 (ipykernel)",
   "language": "python",
   "name": "python3"
  },
  "language_info": {
   "codemirror_mode": {
    "name": "ipython",
    "version": 3
   },
   "file_extension": ".py",
   "mimetype": "text/x-python",
   "name": "python",
   "nbconvert_exporter": "python",
   "pygments_lexer": "ipython3",
   "version": "3.10.0"
  }
 },
 "nbformat": 4,
 "nbformat_minor": 5
}
