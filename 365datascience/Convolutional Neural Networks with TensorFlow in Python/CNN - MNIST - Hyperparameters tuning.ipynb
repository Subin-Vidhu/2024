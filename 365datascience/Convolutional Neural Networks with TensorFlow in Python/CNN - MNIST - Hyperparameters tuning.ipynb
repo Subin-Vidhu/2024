{
 "cells": [
  {
   "cell_type": "code",
   "execution_count": 1,
   "metadata": {
    "colab": {
     "base_uri": "https://localhost:8080/",
     "height": 530
    },
    "colab_type": "code",
    "id": "Rlp5wUW_FDmH",
    "outputId": "375cb352-57f9-4bc4-aa5b-8a9824e8cad2"
   },
   "outputs": [],
   "source": [
    "# Importing the relevant packages\n",
    "import tensorflow as tf\n",
    "import tensorflow_datasets as tfds\n",
    "from tensorboard.plugins.hparams import api as hp"
   ]
  },
  {
   "cell_type": "markdown",
   "metadata": {},
   "source": [
    "## Downloading and preprocessing the data"
   ]
  },
  {
   "cell_type": "code",
   "execution_count": 2,
   "metadata": {
    "colab": {
     "base_uri": "https://localhost:8080/",
     "height": 173
    },
    "colab_type": "code",
    "id": "9S6uGLzkFDmP",
    "outputId": "6a5bad6b-035f-4f2e-a81c-8015e17001f4"
   },
   "outputs": [],
   "source": [
    "# Defining some constants/hyperparameters\n",
    "BUFFER_SIZE = 70_000 # for reshuffling\n",
    "BATCH_SIZE = 128\n",
    "NUM_EPOCHS = 20"
   ]
  },
  {
   "cell_type": "code",
   "execution_count": 3,
   "metadata": {
    "colab": {
     "base_uri": "https://localhost:8080/",
     "height": 173
    },
    "colab_type": "code",
    "id": "9S6uGLzkFDmP",
    "outputId": "6a5bad6b-035f-4f2e-a81c-8015e17001f4"
   },
   "outputs": [],
   "source": [
    "# Downloading the MNIST dataset\n",
    "mnist_dataset, mnist_info = tfds.load(name='mnist', with_info=True, as_supervised=True)"
   ]
  },
  {
   "cell_type": "code",
   "execution_count": 4,
   "metadata": {
    "colab": {
     "base_uri": "https://localhost:8080/",
     "height": 173
    },
    "colab_type": "code",
    "id": "9S6uGLzkFDmP",
    "outputId": "6a5bad6b-035f-4f2e-a81c-8015e17001f4"
   },
   "outputs": [],
   "source": [
    "mnist_train, mnist_test = mnist_dataset['train'], mnist_dataset['test']"
   ]
  },
  {
   "cell_type": "code",
   "execution_count": 5,
   "metadata": {
    "colab": {
     "base_uri": "https://localhost:8080/",
     "height": 173
    },
    "colab_type": "code",
    "id": "9S6uGLzkFDmP",
    "outputId": "6a5bad6b-035f-4f2e-a81c-8015e17001f4"
   },
   "outputs": [],
   "source": [
    "# Creating a function to scale our data\n",
    "def scale(image, label):\n",
    "    image = tf.cast(image, tf.float32)\n",
    "    image /= 255.\n",
    "\n",
    "    return image, label"
   ]
  },
  {
   "cell_type": "code",
   "execution_count": 6,
   "metadata": {},
   "outputs": [],
   "source": [
    "# Scaling the data\n",
    "train_and_validation_data = mnist_train.map(scale)\n",
    "test_data = mnist_test.map(scale)"
   ]
  },
  {
   "cell_type": "code",
   "execution_count": 7,
   "metadata": {
    "colab": {
     "base_uri": "https://localhost:8080/",
     "height": 173
    },
    "colab_type": "code",
    "id": "9S6uGLzkFDmP",
    "outputId": "6a5bad6b-035f-4f2e-a81c-8015e17001f4"
   },
   "outputs": [],
   "source": [
    "# Defining the size of the validation set\n",
    "num_validation_samples = 0.1 * mnist_info.splits['train'].num_examples\n",
    "num_validation_samples = tf.cast(num_validation_samples, tf.int64)"
   ]
  },
  {
   "cell_type": "code",
   "execution_count": 8,
   "metadata": {
    "colab": {
     "base_uri": "https://localhost:8080/",
     "height": 173
    },
    "colab_type": "code",
    "id": "9S6uGLzkFDmP",
    "outputId": "6a5bad6b-035f-4f2e-a81c-8015e17001f4"
   },
   "outputs": [],
   "source": [
    "# Defining the size of the test set\n",
    "num_test_samples = mnist_info.splits['test'].num_examples\n",
    "num_test_samples = tf.cast(num_test_samples, tf.int64)"
   ]
  },
  {
   "cell_type": "code",
   "execution_count": 9,
   "metadata": {
    "colab": {
     "base_uri": "https://localhost:8080/",
     "height": 173
    },
    "colab_type": "code",
    "id": "9S6uGLzkFDmP",
    "outputId": "6a5bad6b-035f-4f2e-a81c-8015e17001f4"
   },
   "outputs": [],
   "source": [
    "# Reshuffling the dataset\n",
    "train_and_validation_data = train_and_validation_data.shuffle(BUFFER_SIZE)"
   ]
  },
  {
   "cell_type": "code",
   "execution_count": 10,
   "metadata": {
    "colab": {
     "base_uri": "https://localhost:8080/",
     "height": 173
    },
    "colab_type": "code",
    "id": "9S6uGLzkFDmP",
    "outputId": "6a5bad6b-035f-4f2e-a81c-8015e17001f4"
   },
   "outputs": [],
   "source": [
    "# Splitting the dataset into trainig + validation\n",
    "train_data = train_and_validation_data.skip(num_validation_samples)\n",
    "validation_data = train_and_validation_data.take(num_validation_samples)"
   ]
  },
  {
   "cell_type": "code",
   "execution_count": 11,
   "metadata": {
    "colab": {
     "base_uri": "https://localhost:8080/",
     "height": 173
    },
    "colab_type": "code",
    "id": "9S6uGLzkFDmP",
    "outputId": "6a5bad6b-035f-4f2e-a81c-8015e17001f4"
   },
   "outputs": [],
   "source": [
    "# Batching the data\n",
    "train_data = train_data.batch(BATCH_SIZE)\n",
    "validation_data = validation_data.batch(num_validation_samples)\n",
    "test_data = mnist_test.map(scale).batch(num_test_samples)"
   ]
  },
  {
   "cell_type": "markdown",
   "metadata": {},
   "source": [
    "## Defining hyperparameters"
   ]
  },
  {
   "cell_type": "code",
   "execution_count": 12,
   "metadata": {},
   "outputs": [],
   "source": [
    "# Defining the hypermatarest we would test and their range\n",
    "HP_FILTER_SIZE = hp.HParam('filter_size', hp.Discrete([3,5,7]))\n",
    "HP_OPTIMIZER = hp.HParam('optimizer', hp.Discrete(['adam', 'sgd']))\n",
    "\n",
    "METRIC_ACCURACY = 'accuracy'\n",
    "\n",
    "# Logging setup info\n",
    "with tf.summary.create_file_writer('logs/hparam_tuning').as_default():\n",
    "    hp.hparams_config(\n",
    "        hparams=[HP_FILTER_SIZE, HP_OPTIMIZER],\n",
    "        metrics=[hp.Metric(METRIC_ACCURACY, display_name='Accuracy')],\n",
    "    )"
   ]
  },
  {
   "cell_type": "markdown",
   "metadata": {},
   "source": [
    "## Cerating functions for training our model and for logging purposes"
   ]
  },
  {
   "cell_type": "code",
   "execution_count": 13,
   "metadata": {
    "colab": {
     "base_uri": "https://localhost:8080/",
     "height": 173
    },
    "colab_type": "code",
    "id": "9S6uGLzkFDmP",
    "outputId": "6a5bad6b-035f-4f2e-a81c-8015e17001f4"
   },
   "outputs": [],
   "source": [
    "# Wrapping our model and training in a function\n",
    "def train_test_model(hparams):\n",
    "    \n",
    "    # Outlining the model/architecture of our CNN\n",
    "    model = tf.keras.Sequential([\n",
    "        tf.keras.layers.Conv2D(50, hparams[HP_FILTER_SIZE], activation='relu', input_shape=(28, 28, 1)),\n",
    "        tf.keras.layers.MaxPooling2D(pool_size=(2,2)),\n",
    "        tf.keras.layers.Conv2D(50, hparams[HP_FILTER_SIZE], activation='relu'),\n",
    "        tf.keras.layers.MaxPooling2D(pool_size=(2,2)), \n",
    "        tf.keras.layers.Flatten(),\n",
    "        tf.keras.layers.Dense(10)\n",
    "    ])\n",
    "    \n",
    "    # Defining the loss function\n",
    "    loss_fn = tf.keras.losses.SparseCategoricalCrossentropy(from_logits=True)\n",
    "\n",
    "    # Compiling the model with parameter value for the optimizer\n",
    "    model.compile(optimizer=hparams[HP_OPTIMIZER], loss=loss_fn, metrics=['accuracy'])\n",
    "    \n",
    "    # Defining early stopping to prevent overfitting\n",
    "    early_stopping = tf.keras.callbacks.EarlyStopping(\n",
    "        monitor = 'val_loss',\n",
    "        mode = 'auto',\n",
    "        min_delta = 0,\n",
    "        patience = 2,\n",
    "        verbose = 0, \n",
    "        restore_best_weights = True\n",
    "    )\n",
    "    \n",
    "    # Training the model\n",
    "    model.fit(\n",
    "        train_data, \n",
    "        epochs = NUM_EPOCHS,\n",
    "        callbacks = [early_stopping],\n",
    "        validation_data = validation_data,\n",
    "        verbose = 2\n",
    "    )\n",
    "    \n",
    "    _, accuracy = model.evaluate(test_data)\n",
    "    \n",
    "    return accuracy"
   ]
  },
  {
   "cell_type": "code",
   "execution_count": 14,
   "metadata": {},
   "outputs": [],
   "source": [
    "# Creating a function to log the resuls\n",
    "def run(log_dir, hparams):\n",
    "    \n",
    "    with tf.summary.create_file_writer(log_dir).as_default():\n",
    "        hp.hparams(hparams)  # record the values used in this trial\n",
    "        accuracy = train_test_model(hparams)\n",
    "        tf.summary.scalar(METRIC_ACCURACY, accuracy, step=1)"
   ]
  },
  {
   "cell_type": "markdown",
   "metadata": {},
   "source": [
    "## Training the model with the different hyperparameters"
   ]
  },
  {
   "cell_type": "code",
   "execution_count": 15,
   "metadata": {},
   "outputs": [
    {
     "name": "stdout",
     "output_type": "stream",
     "text": [
      "--- Starting trial: run-0\n",
      "{'filter_size': 3, 'optimizer': 'adam'}\n",
      "Epoch 1/20\n",
      "422/422 - 21s - loss: 0.2906 - accuracy: 0.9168 - val_loss: 0.0817 - val_accuracy: 0.9762\n",
      "Epoch 2/20\n",
      "422/422 - 20s - loss: 0.0801 - accuracy: 0.9754 - val_loss: 0.0600 - val_accuracy: 0.9830\n",
      "Epoch 3/20\n",
      "422/422 - 21s - loss: 0.0606 - accuracy: 0.9820 - val_loss: 0.0520 - val_accuracy: 0.9848\n",
      "Epoch 4/20\n",
      "422/422 - 21s - loss: 0.0496 - accuracy: 0.9850 - val_loss: 0.0389 - val_accuracy: 0.9882\n",
      "Epoch 5/20\n",
      "422/422 - 21s - loss: 0.0423 - accuracy: 0.9873 - val_loss: 0.0293 - val_accuracy: 0.9907\n",
      "Epoch 6/20\n",
      "422/422 - 20s - loss: 0.0370 - accuracy: 0.9887 - val_loss: 0.0266 - val_accuracy: 0.9935\n",
      "Epoch 7/20\n",
      "422/422 - 20s - loss: 0.0310 - accuracy: 0.9904 - val_loss: 0.0251 - val_accuracy: 0.9930\n",
      "Epoch 8/20\n",
      "422/422 - 21s - loss: 0.0276 - accuracy: 0.9915 - val_loss: 0.0220 - val_accuracy: 0.9932\n",
      "Epoch 9/20\n",
      "422/422 - 20s - loss: 0.0243 - accuracy: 0.9925 - val_loss: 0.0154 - val_accuracy: 0.9955\n",
      "Epoch 10/20\n",
      "422/422 - 21s - loss: 0.0215 - accuracy: 0.9935 - val_loss: 0.0176 - val_accuracy: 0.9945\n",
      "Epoch 11/20\n",
      "422/422 - 21s - loss: 0.0197 - accuracy: 0.9936 - val_loss: 0.0165 - val_accuracy: 0.9948\n",
      "      1/Unknown - 1s 1s/step - loss: 0.0329 - accuracy: 0.99 - 1s 1s/step - loss: 0.0329 - accuracy: 0.9903--- Starting trial: run-1\n",
      "{'filter_size': 3, 'optimizer': 'sgd'}\n",
      "Epoch 1/20\n",
      "422/422 - 21s - loss: 1.3202 - accuracy: 0.6425 - val_loss: 0.4644 - val_accuracy: 0.8770\n",
      "Epoch 2/20\n",
      "422/422 - 21s - loss: 0.3828 - accuracy: 0.8887 - val_loss: 0.3248 - val_accuracy: 0.9080\n",
      "Epoch 3/20\n",
      "422/422 - 21s - loss: 0.2924 - accuracy: 0.9145 - val_loss: 0.2717 - val_accuracy: 0.9192\n",
      "Epoch 4/20\n",
      "422/422 - 21s - loss: 0.2408 - accuracy: 0.9288 - val_loss: 0.2170 - val_accuracy: 0.9350\n",
      "Epoch 5/20\n",
      "422/422 - 21s - loss: 0.2026 - accuracy: 0.9405 - val_loss: 0.1897 - val_accuracy: 0.9432\n",
      "Epoch 6/20\n",
      "422/422 - 21s - loss: 0.1750 - accuracy: 0.9485 - val_loss: 0.1671 - val_accuracy: 0.9510\n",
      "Epoch 7/20\n",
      "422/422 - 21s - loss: 0.1549 - accuracy: 0.9547 - val_loss: 0.1530 - val_accuracy: 0.9563\n",
      "Epoch 8/20\n",
      "422/422 - 21s - loss: 0.1413 - accuracy: 0.9589 - val_loss: 0.1266 - val_accuracy: 0.9632\n",
      "Epoch 9/20\n",
      "422/422 - 21s - loss: 0.1273 - accuracy: 0.9634 - val_loss: 0.1187 - val_accuracy: 0.9647\n",
      "Epoch 10/20\n",
      "422/422 - 21s - loss: 0.1199 - accuracy: 0.9650 - val_loss: 0.1067 - val_accuracy: 0.9692\n",
      "Epoch 11/20\n",
      "422/422 - 21s - loss: 0.1113 - accuracy: 0.9667 - val_loss: 0.1164 - val_accuracy: 0.9627\n",
      "Epoch 12/20\n",
      "422/422 - 21s - loss: 0.1053 - accuracy: 0.9685 - val_loss: 0.1024 - val_accuracy: 0.9685\n",
      "Epoch 13/20\n",
      "422/422 - 21s - loss: 0.0996 - accuracy: 0.9704 - val_loss: 0.1017 - val_accuracy: 0.9722\n",
      "Epoch 14/20\n",
      "422/422 - 21s - loss: 0.0943 - accuracy: 0.9714 - val_loss: 0.0822 - val_accuracy: 0.9745\n",
      "Epoch 15/20\n",
      "422/422 - 21s - loss: 0.0909 - accuracy: 0.9731 - val_loss: 0.0908 - val_accuracy: 0.9708\n",
      "Epoch 16/20\n",
      "422/422 - 21s - loss: 0.0879 - accuracy: 0.9735 - val_loss: 0.0918 - val_accuracy: 0.9702\n",
      "      1/Unknown - 1s 1s/step - loss: 0.0812 - accuracy: 0.97 - 1s 1s/step - loss: 0.0812 - accuracy: 0.9765--- Starting trial: run-2\n",
      "{'filter_size': 5, 'optimizer': 'adam'}\n",
      "Epoch 1/20\n",
      "422/422 - 24s - loss: 0.2376 - accuracy: 0.9320 - val_loss: 0.0793 - val_accuracy: 0.9767\n",
      "Epoch 2/20\n",
      "422/422 - 23s - loss: 0.0644 - accuracy: 0.9804 - val_loss: 0.0504 - val_accuracy: 0.9858\n",
      "Epoch 3/20\n",
      "422/422 - 23s - loss: 0.0451 - accuracy: 0.9860 - val_loss: 0.0392 - val_accuracy: 0.9890\n",
      "Epoch 4/20\n",
      "422/422 - 23s - loss: 0.0361 - accuracy: 0.9888 - val_loss: 0.0334 - val_accuracy: 0.9902\n",
      "Epoch 5/20\n",
      "422/422 - 23s - loss: 0.0299 - accuracy: 0.9905 - val_loss: 0.0223 - val_accuracy: 0.9932\n",
      "Epoch 6/20\n",
      "422/422 - 23s - loss: 0.0241 - accuracy: 0.9923 - val_loss: 0.0216 - val_accuracy: 0.9928\n",
      "Epoch 7/20\n",
      "422/422 - 23s - loss: 0.0214 - accuracy: 0.9935 - val_loss: 0.0177 - val_accuracy: 0.9945\n",
      "Epoch 8/20\n",
      "422/422 - 23s - loss: 0.0181 - accuracy: 0.9942 - val_loss: 0.0121 - val_accuracy: 0.9968\n",
      "Epoch 9/20\n",
      "422/422 - 23s - loss: 0.0153 - accuracy: 0.9952 - val_loss: 0.0123 - val_accuracy: 0.9963\n",
      "Epoch 10/20\n",
      "422/422 - 23s - loss: 0.0137 - accuracy: 0.9956 - val_loss: 0.0127 - val_accuracy: 0.9958\n",
      "      1/Unknown - 1s 1s/step - loss: 0.0298 - accuracy: 0.99 - 1s 1s/step - loss: 0.0298 - accuracy: 0.9912--- Starting trial: run-3\n",
      "{'filter_size': 5, 'optimizer': 'sgd'}\n",
      "Epoch 1/20\n",
      "422/422 - 23s - loss: 1.1076 - accuracy: 0.7357 - val_loss: 0.3821 - val_accuracy: 0.8963\n",
      "Epoch 2/20\n",
      "422/422 - 23s - loss: 0.3235 - accuracy: 0.9052 - val_loss: 0.2613 - val_accuracy: 0.9222\n",
      "Epoch 3/20\n",
      "422/422 - 23s - loss: 0.2427 - accuracy: 0.9287 - val_loss: 0.2046 - val_accuracy: 0.9432\n",
      "Epoch 4/20\n",
      "422/422 - 23s - loss: 0.2001 - accuracy: 0.9419 - val_loss: 0.1846 - val_accuracy: 0.9477\n",
      "Epoch 5/20\n",
      "422/422 - 23s - loss: 0.1694 - accuracy: 0.9506 - val_loss: 0.1487 - val_accuracy: 0.9588\n",
      "Epoch 6/20\n",
      "422/422 - 23s - loss: 0.1472 - accuracy: 0.9577 - val_loss: 0.1310 - val_accuracy: 0.9625\n",
      "Epoch 7/20\n",
      "422/422 - 24s - loss: 0.1324 - accuracy: 0.9616 - val_loss: 0.1300 - val_accuracy: 0.9632\n",
      "Epoch 8/20\n",
      "422/422 - 23s - loss: 0.1203 - accuracy: 0.9647 - val_loss: 0.1218 - val_accuracy: 0.9650\n",
      "Epoch 9/20\n",
      "422/422 - 23s - loss: 0.1105 - accuracy: 0.9680 - val_loss: 0.1057 - val_accuracy: 0.9683\n",
      "Epoch 10/20\n",
      "422/422 - 23s - loss: 0.1012 - accuracy: 0.9711 - val_loss: 0.0976 - val_accuracy: 0.9698\n",
      "Epoch 11/20\n",
      "422/422 - 23s - loss: 0.0957 - accuracy: 0.9721 - val_loss: 0.1097 - val_accuracy: 0.9702\n",
      "Epoch 12/20\n",
      "422/422 - 23s - loss: 0.0902 - accuracy: 0.9732 - val_loss: 0.0805 - val_accuracy: 0.9733\n",
      "Epoch 13/20\n",
      "422/422 - 23s - loss: 0.0852 - accuracy: 0.9753 - val_loss: 0.0810 - val_accuracy: 0.9743\n",
      "Epoch 14/20\n",
      "422/422 - 23s - loss: 0.0826 - accuracy: 0.9768 - val_loss: 0.0892 - val_accuracy: 0.9707\n",
      "      1/Unknown - 1s 1s/step - loss: 0.0750 - accuracy: 0.97 - 1s 1s/step - loss: 0.0750 - accuracy: 0.9761--- Starting trial: run-4\n",
      "{'filter_size': 7, 'optimizer': 'adam'}\n",
      "Epoch 1/20\n",
      "422/422 - 20s - loss: 0.2375 - accuracy: 0.9318 - val_loss: 0.0883 - val_accuracy: 0.9747\n",
      "Epoch 2/20\n",
      "422/422 - 19s - loss: 0.0717 - accuracy: 0.9790 - val_loss: 0.0643 - val_accuracy: 0.9805\n",
      "Epoch 3/20\n",
      "422/422 - 20s - loss: 0.0497 - accuracy: 0.9853 - val_loss: 0.0388 - val_accuracy: 0.9883\n",
      "Epoch 4/20\n",
      "422/422 - 20s - loss: 0.0406 - accuracy: 0.9875 - val_loss: 0.0312 - val_accuracy: 0.9883\n",
      "Epoch 5/20\n",
      "422/422 - 19s - loss: 0.0313 - accuracy: 0.9904 - val_loss: 0.0334 - val_accuracy: 0.9897\n",
      "Epoch 6/20\n",
      "422/422 - 19s - loss: 0.0263 - accuracy: 0.9919 - val_loss: 0.0240 - val_accuracy: 0.9923\n",
      "Epoch 7/20\n",
      "422/422 - 19s - loss: 0.0225 - accuracy: 0.9928 - val_loss: 0.0167 - val_accuracy: 0.9948\n",
      "Epoch 8/20\n",
      "422/422 - 19s - loss: 0.0189 - accuracy: 0.9941 - val_loss: 0.0124 - val_accuracy: 0.9965\n",
      "Epoch 9/20\n",
      "422/422 - 19s - loss: 0.0156 - accuracy: 0.9952 - val_loss: 0.0086 - val_accuracy: 0.9983\n",
      "Epoch 10/20\n",
      "422/422 - 19s - loss: 0.0139 - accuracy: 0.9954 - val_loss: 0.0184 - val_accuracy: 0.9927\n",
      "Epoch 11/20\n",
      "422/422 - 19s - loss: 0.0126 - accuracy: 0.9957 - val_loss: 0.0129 - val_accuracy: 0.9952\n",
      "      1/Unknown - 1s 882ms/step - loss: 0.0300 - accuracy: 0.991 - 1s 893ms/step - loss: 0.0300 - accuracy: 0.9917--- Starting trial: run-5\n",
      "{'filter_size': 7, 'optimizer': 'sgd'}\n",
      "Epoch 1/20\n",
      "422/422 - 21s - loss: 1.0211 - accuracy: 0.7491 - val_loss: 0.4012 - val_accuracy: 0.8838\n",
      "Epoch 2/20\n",
      "422/422 - 21s - loss: 0.3284 - accuracy: 0.9050 - val_loss: 0.2717 - val_accuracy: 0.9228\n",
      "Epoch 3/20\n",
      "422/422 - 21s - loss: 0.2476 - accuracy: 0.9284 - val_loss: 0.2274 - val_accuracy: 0.9327\n",
      "Epoch 4/20\n",
      "422/422 - 21s - loss: 0.2079 - accuracy: 0.9397 - val_loss: 0.1732 - val_accuracy: 0.9505\n",
      "Epoch 5/20\n",
      "422/422 - 21s - loss: 0.1795 - accuracy: 0.9475 - val_loss: 0.1708 - val_accuracy: 0.9473\n",
      "Epoch 6/20\n",
      "422/422 - 21s - loss: 0.1606 - accuracy: 0.9528 - val_loss: 0.1347 - val_accuracy: 0.9613\n",
      "Epoch 7/20\n",
      "422/422 - 21s - loss: 0.1458 - accuracy: 0.9574 - val_loss: 0.1331 - val_accuracy: 0.9592\n",
      "Epoch 8/20\n",
      "422/422 - 21s - loss: 0.1324 - accuracy: 0.9601 - val_loss: 0.1226 - val_accuracy: 0.9643\n",
      "Epoch 9/20\n",
      "422/422 - 20s - loss: 0.1224 - accuracy: 0.9645 - val_loss: 0.1288 - val_accuracy: 0.9605\n",
      "Epoch 10/20\n",
      "422/422 - 21s - loss: 0.1148 - accuracy: 0.9660 - val_loss: 0.1146 - val_accuracy: 0.9683\n"
     ]
    },
    {
     "name": "stdout",
     "output_type": "stream",
     "text": [
      "Epoch 11/20\n",
      "422/422 - 20s - loss: 0.1082 - accuracy: 0.9683 - val_loss: 0.1077 - val_accuracy: 0.9710\n",
      "Epoch 12/20\n",
      "422/422 - 20s - loss: 0.1022 - accuracy: 0.9702 - val_loss: 0.0974 - val_accuracy: 0.9718\n",
      "Epoch 13/20\n",
      "422/422 - 20s - loss: 0.0969 - accuracy: 0.9713 - val_loss: 0.0961 - val_accuracy: 0.9710\n",
      "Epoch 14/20\n",
      "422/422 - 21s - loss: 0.0935 - accuracy: 0.9728 - val_loss: 0.0795 - val_accuracy: 0.9780\n",
      "Epoch 15/20\n",
      "422/422 - 21s - loss: 0.0893 - accuracy: 0.9740 - val_loss: 0.0865 - val_accuracy: 0.9742\n",
      "Epoch 16/20\n",
      "422/422 - 20s - loss: 0.0847 - accuracy: 0.9756 - val_loss: 0.0802 - val_accuracy: 0.9750\n",
      "      1/Unknown - 1s 899ms/step - loss: 0.0812 - accuracy: 0.975 - 1s 910ms/step - loss: 0.0812 - accuracy: 0.9756"
     ]
    }
   ],
   "source": [
    "# Performing a grid search on the hyperparameters we need to test\n",
    "session_num = 0\n",
    "\n",
    "for filter_size in HP_FILTER_SIZE.domain.values:\n",
    "    for optimizer in HP_OPTIMIZER.domain.values:\n",
    "    \n",
    "        hparams = {\n",
    "            HP_FILTER_SIZE: filter_size,\n",
    "            HP_OPTIMIZER: optimizer\n",
    "        }\n",
    "        run_name = \"run-%d\" % session_num\n",
    "        print('--- Starting trial: %s' % run_name)\n",
    "        print({h.name: hparams[h] for h in hparams})\n",
    "        run('logs/hparam_tuning/' + run_name, hparams)\n",
    "\n",
    "        session_num += 1"
   ]
  },
  {
   "cell_type": "code",
   "execution_count": null,
   "metadata": {},
   "outputs": [],
   "source": []
  },
  {
   "cell_type": "markdown",
   "metadata": {},
   "source": [
    "## Visualizing the hyperparameter results with Tensorboard"
   ]
  },
  {
   "cell_type": "code",
   "execution_count": 2,
   "metadata": {
    "scrolled": false
   },
   "outputs": [
    {
     "name": "stdout",
     "output_type": "stream",
     "text": [
      "The tensorboard extension is already loaded. To reload it, use:\n",
      "  %reload_ext tensorboard\n"
     ]
    },
    {
     "data": {
      "text/plain": [
       "Reusing TensorBoard on port 6006 (pid 3304), started 0:00:59 ago. (Use '!kill 3304' to kill it.)"
      ]
     },
     "metadata": {},
     "output_type": "display_data"
    },
    {
     "data": {
      "text/html": [
       "\n",
       "      <iframe id=\"tensorboard-frame-b10da81c43b0c839\" width=\"100%\" height=\"800\" frameborder=\"0\">\n",
       "      </iframe>\n",
       "      <script>\n",
       "        (function() {\n",
       "          const frame = document.getElementById(\"tensorboard-frame-b10da81c43b0c839\");\n",
       "          const url = new URL(\"/\", window.location);\n",
       "          url.port = 6006;\n",
       "          frame.src = url;\n",
       "        })();\n",
       "      </script>\n",
       "  "
      ],
      "text/plain": [
       "<IPython.core.display.HTML object>"
      ]
     },
     "metadata": {},
     "output_type": "display_data"
    }
   ],
   "source": [
    "# Loading the Tensorboard extension\n",
    "%load_ext tensorboard\n",
    "%tensorboard --logdir \"logs/hparam_tuning\""
   ]
  },
  {
   "cell_type": "code",
   "execution_count": null,
   "metadata": {},
   "outputs": [],
   "source": []
  }
 ],
 "metadata": {
  "colab": {
   "collapsed_sections": [],
   "name": "defaultNotebook.ipynb",
   "provenance": [],
   "version": "0.3.2"
  },
  "kernelspec": {
   "display_name": "Python 3",
   "language": "python",
   "name": "python3"
  },
  "language_info": {
   "codemirror_mode": {
    "name": "ipython",
    "version": 3
   },
   "file_extension": ".py",
   "mimetype": "text/x-python",
   "name": "python",
   "nbconvert_exporter": "python",
   "pygments_lexer": "ipython3",
   "version": "3.7.3"
  }
 },
 "nbformat": 4,
 "nbformat_minor": 1
}
