{
 "cells": [
  {
   "cell_type": "code",
   "execution_count": null,
   "metadata": {},
   "outputs": [],
   "source": [
    "import numpy as np\n",
    "import tensorflow as tf"
   ]
  },
  {
   "cell_type": "code",
   "execution_count": null,
   "metadata": {},
   "outputs": [],
   "source": [
    "# Loading the dataset\n",
    "# Only need the test set, as we will not train any netwroks in this notebook\n",
    "data_test  = np.load(r\"Dataset/Trousers & Jeans - All - Test.npz\")"
   ]
  },
  {
   "cell_type": "code",
   "execution_count": null,
   "metadata": {},
   "outputs": [],
   "source": [
    "# Extracting the images array\n",
    "images_test = data_test['images']\n",
    "\n",
    "# Extracting the label arrays\n",
    "gender_test = data_test['genders']\n",
    "type_test   = data_test['labels'] % 2\n",
    "\n",
    "# The Type label is contained in the combined labels:\n",
    "#    - 0 and 2 correspond to Trousers   (0)\n",
    "#    - 1 and 3 correspond to Jeans      (1)\n",
    "# 0 and 2 are both even, 1 and 3 are odd\n",
    "# Therefore '% 2' works as it: \n",
    "#     returns 0, for input 0 and 2\n",
    "# and returns 1, for input 1 and 3"
   ]
  },
  {
   "cell_type": "code",
   "execution_count": null,
   "metadata": {},
   "outputs": [],
   "source": [
    "# Scaling the pixel values\n",
    "images_test = images_test/255.0"
   ]
  },
  {
   "cell_type": "code",
   "execution_count": null,
   "metadata": {},
   "outputs": [],
   "source": [
    "# Loading the necessary models\n",
    "\n",
    "# Model for 'Combined Labels' approach\n",
    "model_all = tf.keras.models.load_model(r\"saved_models\\Model_All\")\n",
    "\n",
    "# Models for 'Hierarchical classification' approach\n",
    "model_gender = tf.keras.models.load_model(r\"saved_models\\Model_Gender\")\n",
    "model_male = tf.keras.models.load_model(r\"saved_models\\Model_Male\")\n",
    "model_female = tf.keras.models.load_model(r\"saved_models\\Model_Female\")"
   ]
  },
  {
   "cell_type": "code",
   "execution_count": null,
   "metadata": {},
   "outputs": [],
   "source": []
  },
  {
   "cell_type": "code",
   "execution_count": null,
   "metadata": {},
   "outputs": [],
   "source": [
    "# Defining the scores for both approaches\n",
    "score_all = 0\n",
    "score_hierarchy = 0"
   ]
  },
  {
   "cell_type": "code",
   "execution_count": null,
   "metadata": {},
   "outputs": [],
   "source": [
    "for i in range(len(images_test)):\n",
    "    \n",
    "    \n",
    "    # Testing the 'Combined Labels' approach\n",
    "    \n",
    "    # Obtaining the model's output for the image\n",
    "    predict_all = model_all(images_test[i:i+1])\n",
    "    # The predicted label is the index corresponding with the highest score\n",
    "    label_all = np.argmax(predict_all)\n",
    "    \n",
    "    # Scoring the prediction\n",
    "    if label_all // 2 == gender_test[i]: # Combined Label // 2 corresponds to the 'gender' label\n",
    "        score_all = score_all + 1\n",
    "    \n",
    "    if label_all % 2 == type_test[i]:    # Combined Label % 2 corresponds to the 'type' label\n",
    "        score_all = score_all + 1\n",
    "        \n",
    "    \n",
    "    \n",
    "    # Testing the 'Hierarchical Classification' approach\n",
    "    \n",
    "    # Running the Gender model first\n",
    "    predict_gender = model_gender(images_test[i:i+1])\n",
    "    label_gender = np.argmax(predict_gender)\n",
    "    \n",
    "    if label_gender == gender_test[i]:\n",
    "        score_hierarchy = score_hierarchy + 1\n",
    "    \n",
    "    \n",
    "    # Evaluating the Male model, if the gender prediction was male\n",
    "    if label_gender == 0:\n",
    "        \n",
    "        predict_male = model_male(images_test[i:i+1])\n",
    "        label_type = np.argmax(predict_male)\n",
    "        \n",
    "        if label_type == type_test[i]:\n",
    "            score_hierarchy = score_hierarchy + 1\n",
    "    \n",
    "    # Evaluating the Female model, if the gender prediction was female\n",
    "    if label_gender == 1:\n",
    "        \n",
    "        predict_female = model_female(images_test[i:i+1])\n",
    "        label_type = np.argmax(predict_female)\n",
    "        \n",
    "        if label_type == type_test[i]:\n",
    "            score_hierarchy = score_hierarchy + 1\n",
    "    \n",
    "    "
   ]
  },
  {
   "cell_type": "code",
   "execution_count": null,
   "metadata": {},
   "outputs": [],
   "source": [
    "# Printing the scores\n",
    "print(\"Combined Labels: \\n{0} points \\n \\nHierarchical Classification: \\n{1} points\".format(score_all,score_hierarchy))"
   ]
  },
  {
   "cell_type": "code",
   "execution_count": null,
   "metadata": {},
   "outputs": [],
   "source": []
  },
  {
   "cell_type": "code",
   "execution_count": null,
   "metadata": {},
   "outputs": [],
   "source": []
  }
 ],
 "metadata": {
  "kernelspec": {
   "display_name": "Python 3",
   "language": "python",
   "name": "python3"
  },
  "language_info": {
   "codemirror_mode": {
    "name": "ipython",
    "version": 3
   },
   "file_extension": ".py",
   "mimetype": "text/x-python",
   "name": "python",
   "nbconvert_exporter": "python",
   "pygments_lexer": "ipython3",
   "version": "3.7.3"
  }
 },
 "nbformat": 4,
 "nbformat_minor": 2
}
