{
 "cells": [
  {
   "cell_type": "markdown",
   "id": "817221c9",
   "metadata": {},
   "source": [
    "# L8 : Variables"
   ]
  },
  {
   "cell_type": "markdown",
   "id": "1512b57b",
   "metadata": {},
   "source": [
    "In computer programming, <b>variables</b> are used to store, process, and manipulate data. So, let's say you wanted to store `28` in the variable `age`, this is what you would do:"
   ]
  },
  {
   "cell_type": "code",
   "execution_count": 1,
   "id": "9ae82ae7",
   "metadata": {
    "height": 30
   },
   "outputs": [],
   "source": [
    "age = 28"
   ]
  },
  {
   "cell_type": "markdown",
   "id": "e0d89b8d",
   "metadata": {},
   "source": [
    "So if you used `print()` with `age` as an argument, you would get the value that you assigned to that variable."
   ]
  },
  {
   "cell_type": "code",
   "execution_count": 2,
   "id": "80b5943a",
   "metadata": {
    "height": 30
   },
   "outputs": [
    {
     "name": "stdout",
     "output_type": "stream",
     "text": [
      "28\n"
     ]
    }
   ],
   "source": [
    "print(age)"
   ]
  },
  {
   "cell_type": "markdown",
   "id": "8ddf96c1",
   "metadata": {},
   "source": [
    "With `age = 28` you are telling Python to create a variable named `age` and use it to store the value `28`. However, you can change the value assigned to any variable you previously created. For instance, you can assign a value of `5` to `age` using the following code:"
   ]
  },
  {
   "cell_type": "code",
   "execution_count": 3,
   "id": "0cc2c56f",
   "metadata": {
    "height": 30
   },
   "outputs": [],
   "source": [
    "age = 5"
   ]
  },
  {
   "cell_type": "markdown",
   "id": "448a0658",
   "metadata": {},
   "source": [
    "So if you display `age`, you will get `5` instead of `28`."
   ]
  },
  {
   "cell_type": "code",
   "execution_count": 4,
   "id": "b594137a",
   "metadata": {
    "height": 30
   },
   "outputs": [
    {
     "name": "stdout",
     "output_type": "stream",
     "text": [
      "5\n"
     ]
    }
   ],
   "source": [
    "print(age)"
   ]
  },
  {
   "cell_type": "markdown",
   "id": "764df696",
   "metadata": {},
   "source": [
    "## Variables store numbers, strings and other type of data"
   ]
  },
  {
   "cell_type": "markdown",
   "id": "3b4f1b37",
   "metadata": {},
   "source": [
    "Variables can be used to store floating point numbers, integers, strings, and other types of data. For instance, you can create a variable `name` and assign it the string `\"Otto\"`, or a variable `gnome_height` and assign it the floating point number `12.7`."
   ]
  },
  {
   "cell_type": "code",
   "execution_count": 5,
   "id": "d2e765a1",
   "metadata": {
    "height": 47
   },
   "outputs": [],
   "source": [
    "name = \"Otto\"\n",
    "gnome_height = 12.7"
   ]
  },
  {
   "cell_type": "markdown",
   "id": "e6595034",
   "metadata": {},
   "source": [
    "You can use variables within f-strings to make your output more readable. For example, you can print the value assigned to `age` along with the string `\"Age: \"` so that anyone reading the display will understand what the value represents.\n",
    "\n",
    "Here’s how you can do it:"
   ]
  },
  {
   "cell_type": "code",
   "execution_count": 6,
   "id": "37d2833c",
   "metadata": {
    "height": 30
   },
   "outputs": [
    {
     "name": "stdout",
     "output_type": "stream",
     "text": [
      "Age: 5\n"
     ]
    }
   ],
   "source": [
    "print(f\"Age: {age}\")"
   ]
  },
  {
   "cell_type": "markdown",
   "id": "d156652d",
   "metadata": {},
   "source": [
    "As another example, let's use f-strings to display the values assigned to `name` and `gnome_height`."
   ]
  },
  {
   "cell_type": "code",
   "execution_count": 7,
   "id": "f4dd9caa",
   "metadata": {
    "height": 47
   },
   "outputs": [
    {
     "name": "stdout",
     "output_type": "stream",
     "text": [
      "Name: Otto\n",
      "Gnome height: 12.7\n"
     ]
    }
   ],
   "source": [
    "print(f\"Name: {name}\")\n",
    "print(f\"Gnome height: {gnome_height}\")"
   ]
  },
  {
   "cell_type": "markdown",
   "id": "f86ccabc",
   "metadata": {},
   "source": [
    "<b>Important:</b> Variables are case-sensitive, so `Gnome_height` and `gnome_height` are not the same. To see this, you can run the next cell where you will get an error message."
   ]
  },
  {
   "cell_type": "code",
   "execution_count": 8,
   "id": "c43043e4",
   "metadata": {
    "height": 30
   },
   "outputs": [
    {
     "ename": "NameError",
     "evalue": "name 'Gnome_height' is not defined",
     "output_type": "error",
     "traceback": [
      "\u001b[0;31m---------------------------------------------------------------------------\u001b[0m",
      "\u001b[0;31mNameError\u001b[0m                                 Traceback (most recent call last)",
      "Cell \u001b[0;32mIn[8], line 1\u001b[0m\n\u001b[0;32m----> 1\u001b[0m \u001b[38;5;28mprint\u001b[39m(\u001b[38;5;124mf\u001b[39m\u001b[38;5;124m\"\u001b[39m\u001b[38;5;124mGnome height: \u001b[39m\u001b[38;5;132;01m{\u001b[39;00mGnome_height\u001b[38;5;132;01m}\u001b[39;00m\u001b[38;5;124m\"\u001b[39m)\n",
      "\u001b[0;31mNameError\u001b[0m: name 'Gnome_height' is not defined"
     ]
    }
   ],
   "source": [
    "print(f\"Gnome height: {Gnome_height}\")"
   ]
  },
  {
   "cell_type": "markdown",
   "id": "99c43159-f5b4-4ab5-b9d4-b142979cb172",
   "metadata": {},
   "source": [
    "## Variables help you store values that constantly change "
   ]
  },
  {
   "cell_type": "markdown",
   "id": "9154a6a6-ab67-4d96-85fc-5bbfbea65e11",
   "metadata": {},
   "source": [
    "Take a game where the score starts at zero. In the next cell, you create a variable `score`, assign it the value of `0`, and display the current score."
   ]
  },
  {
   "cell_type": "code",
   "execution_count": 9,
   "id": "5a47354d",
   "metadata": {
    "height": 47
   },
   "outputs": [
    {
     "name": "stdout",
     "output_type": "stream",
     "text": [
      "0\n"
     ]
    }
   ],
   "source": [
    "score = 0 # now score is 0\n",
    "print(score)"
   ]
  },
  {
   "cell_type": "markdown",
   "id": "b59c99bb-d58a-4a8e-9f1b-fd2010cf7e12",
   "metadata": {},
   "source": [
    "When the score increases by 50 points, you can update the variable by using its previous value and adding `50`."
   ]
  },
  {
   "cell_type": "code",
   "execution_count": 10,
   "id": "019ca96e",
   "metadata": {
    "height": 47
   },
   "outputs": [
    {
     "name": "stdout",
     "output_type": "stream",
     "text": [
      "50\n"
     ]
    }
   ],
   "source": [
    "score = score + 50 # now score is 0 + 50 which is 50\n",
    "print(score)"
   ]
  },
  {
   "cell_type": "markdown",
   "id": "b6d6a85b-c210-4bd3-8cb3-7013775fcec4",
   "metadata": {},
   "source": [
    "In a similar way, when the score increases by 100 points, the variable `score` can be updated by adding `100` to the previous value stored in `score`."
   ]
  },
  {
   "cell_type": "code",
   "execution_count": null,
   "id": "a7b08d88",
   "metadata": {
    "height": 47
   },
   "outputs": [],
   "source": [
    "score = score + 100 # now score is 100 + 50 which is 150\n",
    "print(score)"
   ]
  },
  {
   "cell_type": "markdown",
   "id": "cbd2c6e3-edd1-42fc-9f3b-b4b1eed37412",
   "metadata": {},
   "source": [
    "And, after scoring an extra 300 points, the variable `score` is updated by adding `300` to the previous value stored in `score`."
   ]
  },
  {
   "cell_type": "code",
   "execution_count": 11,
   "id": "101602ad",
   "metadata": {
    "height": 47
   },
   "outputs": [
    {
     "name": "stdout",
     "output_type": "stream",
     "text": [
      "350\n"
     ]
    }
   ],
   "source": [
    "score = score + 300 # now score is 150 + 300 which is 450\n",
    "print(score)"
   ]
  },
  {
   "cell_type": "markdown",
   "id": "50b3f514-dd75-475c-819f-ad55e93f2728",
   "metadata": {},
   "source": [
    "So at the end, the variable `score` stores the most updated score value. \n",
    "\n",
    "You can print the final score using an f-string as shown in the cell below:"
   ]
  },
  {
   "cell_type": "code",
   "execution_count": 12,
   "id": "4a0cc976",
   "metadata": {
    "height": 30
   },
   "outputs": [
    {
     "name": "stdout",
     "output_type": "stream",
     "text": [
      "Your final score was: 350\n"
     ]
    }
   ],
   "source": [
    "print(f\"Your final score was: {score}\") # prints 450"
   ]
  },
  {
   "cell_type": "markdown",
   "id": "8c98ef76-dbc5-46e9-bfea-44e1eead9e19",
   "metadata": {},
   "source": [
    "## Variable names restrictions"
   ]
  },
  {
   "cell_type": "markdown",
   "id": "a521e742-511b-4d4d-b07c-248ec3d5e43d",
   "metadata": {},
   "source": [
    "To demonstrate an important fact about variable names in Python, try to run the code below."
   ]
  },
  {
   "cell_type": "code",
   "execution_count": 13,
   "id": "42e3bcd2",
   "metadata": {
    "height": 30
   },
   "outputs": [
    {
     "ename": "SyntaxError",
     "evalue": "invalid syntax (3682349852.py, line 1)",
     "output_type": "error",
     "traceback": [
      "\u001b[0;36m  Cell \u001b[0;32mIn[13], line 1\u001b[0;36m\u001b[0m\n\u001b[0;31m    my score = 450\u001b[0m\n\u001b[0m       ^\u001b[0m\n\u001b[0;31mSyntaxError\u001b[0m\u001b[0;31m:\u001b[0m invalid syntax\n"
     ]
    }
   ],
   "source": [
    "my score = 450 "
   ]
  },
  {
   "cell_type": "markdown",
   "id": "a4b2761a-e06d-46a3-a68f-1b6017a81881",
   "metadata": {},
   "source": [
    "Now, ask the chatbot why that code didn't work. You can use the prompt suggested here.\n",
    "\n",
    "<p style=\"background-color:#F5C780; padding:15px\"> 🤖 <b>Use the Chatbot</b>: Why doesn't this code work? my score = 450\n",
    "</p>"
   ]
  },
  {
   "cell_type": "markdown",
   "id": "5aece0d4",
   "metadata": {},
   "source": [
    "## Variables allow you to code efficiently!"
   ]
  },
  {
   "cell_type": "markdown",
   "id": "a5e87451",
   "metadata": {},
   "source": [
    "Recall the dog age example that you saw in previous lessons. Assuming that Otto is 49 years old, you can display his dog age by using `print(49 / 7)`."
   ]
  },
  {
   "cell_type": "code",
   "execution_count": 14,
   "id": "1643e928",
   "metadata": {
    "height": 30
   },
   "outputs": [
    {
     "name": "stdout",
     "output_type": "stream",
     "text": [
      "7.0\n"
     ]
    }
   ],
   "source": [
    "print(49 / 7)"
   ]
  },
  {
   "cell_type": "markdown",
   "id": "e3de9f60",
   "metadata": {},
   "source": [
    "Using f-strings so that it is clear what you are displaying, you would use code similar to the one in the cell below."
   ]
  },
  {
   "cell_type": "code",
   "execution_count": 15,
   "id": "4db3559f",
   "metadata": {
    "height": 30
   },
   "outputs": [
    {
     "name": "stdout",
     "output_type": "stream",
     "text": [
      "Otto's age in dog years is 7.0\n"
     ]
    }
   ],
   "source": [
    "print(f\"Otto's age in dog years is {49 / 7}\")"
   ]
  },
  {
   "cell_type": "markdown",
   "id": "98904686",
   "metadata": {},
   "source": [
    "Alternatively, now that you have seen how variables work, you can compute Otto's dog age and assign it to the variable `dog_age`."
   ]
  },
  {
   "cell_type": "code",
   "execution_count": 16,
   "id": "a9918f72",
   "metadata": {
    "height": 30
   },
   "outputs": [],
   "source": [
    "dog_age = 49 / 7"
   ]
  },
  {
   "cell_type": "markdown",
   "id": "8db0f9f6",
   "metadata": {},
   "source": [
    "You can see how this would be an advantage if you consider the following scenario. Let's say you want to display an f-string with Otto's dog age multiple times. Without using variables, you would need to compute his dog age as many times as you refer to it."
   ]
  },
  {
   "cell_type": "code",
   "execution_count": 17,
   "id": "2874dcd1",
   "metadata": {
    "height": 81
   },
   "outputs": [
    {
     "name": "stdout",
     "output_type": "stream",
     "text": [
      "Otto's dog age is 7.0. So a dog that's about\n",
      "7.0 would be the same age as Otto. Any dog born about 7.0\n",
      "years ago would be in the same stage of life as Otto.\n"
     ]
    }
   ],
   "source": [
    "print(f\"\"\"Otto's dog age is {49/7}. So a dog that's about\n",
    "{49/7} would be the same age as Otto. Any dog born about {49/7}\n",
    "years ago would be in the same stage of life as Otto.\"\"\")"
   ]
  },
  {
   "cell_type": "markdown",
   "id": "335511cc",
   "metadata": {},
   "source": [
    "If Otto became a year older, you would need to change the values in each of the curly braces to `50/7`. Instead, if you used an f-string with the `dog_age` variable as the one below:"
   ]
  },
  {
   "cell_type": "code",
   "execution_count": 18,
   "id": "98bf95bf",
   "metadata": {
    "height": 81
   },
   "outputs": [
    {
     "name": "stdout",
     "output_type": "stream",
     "text": [
      "Otto's dog age is 7.0. So a dog that's about\n",
      "7.0 would be the same age as Otto. Any dog born about 7.0\n",
      "years ago would be in the same stage of life as Otto.\n"
     ]
    }
   ],
   "source": [
    "print(f\"\"\"Otto's dog age is {dog_age}. So a dog that's about\n",
    "{dog_age} would be the same age as Otto. Any dog born about {dog_age}\n",
    "years ago would be in the same stage of life as Otto.\"\"\")"
   ]
  },
  {
   "cell_type": "markdown",
   "id": "bc58205f",
   "metadata": {},
   "source": [
    "You will only need to update `dog_age` with Otto's new equivalent dog age:"
   ]
  },
  {
   "cell_type": "code",
   "execution_count": 19,
   "id": "e7652ae2",
   "metadata": {
    "height": 30
   },
   "outputs": [],
   "source": [
    "dog_age = 50/7"
   ]
  },
  {
   "cell_type": "markdown",
   "id": "87549ba8",
   "metadata": {},
   "source": [
    "And use the same f-string that you used before without editing. By defining a variable once, you can use it in multiple places, which makes computer programs much more efficient."
   ]
  },
  {
   "cell_type": "code",
   "execution_count": 20,
   "id": "9df1557b",
   "metadata": {
    "height": 81
   },
   "outputs": [
    {
     "name": "stdout",
     "output_type": "stream",
     "text": [
      "Otto's dog age is 7.142857142857143. So a dog that's about\n",
      "7.142857142857143 would be the same age as Otto. Any dog born about 7.142857142857143\n",
      "years ago would be in the same stage of life as Otto.\n"
     ]
    }
   ],
   "source": [
    "print(f\"\"\"Otto's dog age is {dog_age}. So a dog that's about\n",
    "{dog_age} would be the same age as Otto. Any dog born about {dog_age}\n",
    "years ago would be in the same stage of life as Otto.\"\"\")"
   ]
  },
  {
   "cell_type": "markdown",
   "id": "c2fd294e",
   "metadata": {},
   "source": [
    "As another example, you can replace the name \"Otto\" with the variable `name` in curly braces."
   ]
  },
  {
   "cell_type": "code",
   "execution_count": 21,
   "id": "d75fdd48",
   "metadata": {
    "height": 81
   },
   "outputs": [
    {
     "name": "stdout",
     "output_type": "stream",
     "text": [
      "Otto's dog age is 7.142857142857143. So a dog that's about\n",
      "7.142857142857143 would be the same age as Otto. Any dog born about 7.142857142857143\n",
      "years ago would be in the same stage of life as Otto.\n"
     ]
    }
   ],
   "source": [
    "print(f\"\"\"{name}'s dog age is {dog_age}. So a dog that's about\n",
    "{dog_age} would be the same age as {name}. Any dog born about {dog_age}\n",
    "years ago would be in the same stage of life as {name}.\"\"\")"
   ]
  },
  {
   "cell_type": "markdown",
   "id": "18ea082a",
   "metadata": {},
   "source": [
    "This way, you can change Otto's name to his first and last name:"
   ]
  },
  {
   "cell_type": "code",
   "execution_count": 22,
   "id": "1b6d403b",
   "metadata": {
    "height": 30
   },
   "outputs": [],
   "source": [
    "name = \"Otto Matic\""
   ]
  },
  {
   "cell_type": "markdown",
   "id": "8ace1ea1",
   "metadata": {},
   "source": [
    "And use the f-string where the change is reflected in all places where the variable `name` appears."
   ]
  },
  {
   "cell_type": "code",
   "execution_count": 23,
   "id": "21d5d631",
   "metadata": {
    "height": 81
   },
   "outputs": [
    {
     "name": "stdout",
     "output_type": "stream",
     "text": [
      "Otto Matic's dog age is 7.142857142857143. So a dog that's about\n",
      "7.142857142857143 would be the same age as Otto Matic. Any dog born about 7.142857142857143\n",
      "years ago would be in the same stage of life as Otto Matic.\n"
     ]
    }
   ],
   "source": [
    "print(f\"\"\"{name}'s dog age is {dog_age}. So a dog that's about\n",
    "{dog_age} would be the same age as {name}. Any dog born about {dog_age}\n",
    "years ago would be in the same stage of life as {name}.\"\"\")"
   ]
  },
  {
   "cell_type": "markdown",
   "id": "98ec7de7",
   "metadata": {},
   "source": [
    "## Extra practice\n",
    "\n",
    "Try the exercises below to practice the concepts from this lesson. Read the comments in each cell with the instructions for each exercise.\n",
    "\n",
    "<b>Feel free to use the chatbot if you need help.</b>"
   ]
  },
  {
   "cell_type": "code",
   "execution_count": null,
   "id": "4e522416",
   "metadata": {
    "height": 98
   },
   "outputs": [],
   "source": [
    "# Create a variable called 'my_name' and assign it the value of your name as a string.\n",
    "# Then print out a greeting using the variable, like \"Hello, Andrew!\"\n",
    "my_name = \n",
    "print()"
   ]
  },
  {
   "cell_type": "code",
   "execution_count": null,
   "id": "8124eec4",
   "metadata": {
    "height": 98
   },
   "outputs": [],
   "source": [
    "# Enter your favorite number below and store it in a variable called 'fav_num'. \n",
    "# Print out a message telling you what your favorite number plus 10 is.\n",
    "fav_num = \n",
    "print(f\"Your favorite number plus 10 is {}\")"
   ]
  },
  {
   "cell_type": "code",
   "execution_count": null,
   "id": "1bc3acdd",
   "metadata": {
    "height": 149
   },
   "outputs": [],
   "source": [
    "# Create two variables, 'countries_visited' and 'countries_to_visit' and assign them the number of\n",
    "# countries you've been to and the number of countries you hope to visit. Then complete the print statement.\n",
    "\n",
    "\n",
    "\n",
    "print(f\"\"\"I have visited {} countries. I plan to visit {} more countries, \n",
    "      and when I'm done I will have visited {} countries.\"\"\")"
   ]
  }
 ],
 "metadata": {
  "kernelspec": {
   "display_name": "Python 3 (ipykernel)",
   "language": "python",
   "name": "python3"
  },
  "language_info": {
   "codemirror_mode": {
    "name": "ipython",
    "version": 3
   },
   "file_extension": ".py",
   "mimetype": "text/x-python",
   "name": "python",
   "nbconvert_exporter": "python",
   "pygments_lexer": "ipython3",
   "version": "3.9.19"
  }
 },
 "nbformat": 4,
 "nbformat_minor": 5
}
