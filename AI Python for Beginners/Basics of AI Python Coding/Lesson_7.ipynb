{
 "cells": [
  {
   "cell_type": "markdown",
   "id": "214ecaa7",
   "metadata": {},
   "source": [
    "# Lesson 7: Displaying text and calculations together"
   ]
  },
  {
   "cell_type": "markdown",
   "id": "7b673ff9",
   "metadata": {},
   "source": [
    "You have seen that strings are used to store text and integers and floats are used to store numbers. \n",
    "\n",
    "<b>Strings</b>:\n",
    "\n",
    "- `\"Hello, world\"`\n",
    "\n",
    "- `\"My favorite drink is Earl Grey tea\"`\n",
    "\n",
    "<b>Integers and floats</b>:\n",
    "\n",
    "- `42`\n",
    "\n",
    "- `3.14`\n",
    "\n",
    "You have also seen that you can display data with `print()`:\n",
    "\n",
    "- `print(\"Hello, World!\")`\n",
    "\n",
    "And you can use Python as a calculator:\n",
    "\n",
    "- `print(3 * 4.5)`\n",
    "\n",
    "In this lesson, you will see how to mix computations and strings together to display results in a readable way using Python's f-strings."
   ]
  },
  {
   "cell_type": "markdown",
   "id": "9e17dcfc",
   "metadata": {},
   "source": [
    "## Mixing strings with computations or data: f-Strings"
   ]
  },
  {
   "cell_type": "markdown",
   "id": "fe7c44ec",
   "metadata": {},
   "source": [
    "If you wanted to display the equivalent degrees Celsius to a temperature in degrees Fahrenheit, you would do something like this:"
   ]
  },
  {
   "cell_type": "code",
   "execution_count": null,
   "id": "b25dbb3d",
   "metadata": {},
   "outputs": [],
   "source": [
    "print(((75 - 32) * 5 / 9))"
   ]
  },
  {
   "cell_type": "markdown",
   "id": "c46cd21a",
   "metadata": {},
   "source": [
    "Now, if you wanted to display that degrees conversion using a string that included the computation, you could try:"
   ]
  },
  {
   "cell_type": "code",
   "execution_count": null,
   "id": "e0c8dbb3",
   "metadata": {},
   "outputs": [],
   "source": [
    "print(\"The temperature 75F in degrees Celsius is ((75 - 32) * 5 / 9)C\")"
   ]
  },
  {
   "cell_type": "markdown",
   "id": "96d232d1",
   "metadata": {},
   "source": [
    "But that doesn't work. It gives you back the formula, but it doesn't actually convert from degrees Fahrenheit to Celsius. \n",
    "\n",
    "To print the result of the computation within that string rather than just the formula, you can use what is called an <b>f-string</b> in Python which looks like this:"
   ]
  },
  {
   "cell_type": "code",
   "execution_count": null,
   "id": "a434574b",
   "metadata": {},
   "outputs": [],
   "source": [
    "print(f\"The temperature 75F in degrees celsius is {(75 - 32) * 5 / 9}C\")"
   ]
  },
  {
   "cell_type": "markdown",
   "id": "b0ff33f8",
   "metadata": {},
   "source": [
    "There, I have written `f` (for formatted) before the quotation marks that denote a string, and I included the computation within curly braces `{(75 - 32) * 5 / 9}`. The `f` character tells Python that the subsequent string has data or computations within any pair of curly braces."
   ]
  },
  {
   "cell_type": "markdown",
   "id": "b8081f54",
   "metadata": {},
   "source": [
    "## Determining how data is displayed in f-strings"
   ]
  },
  {
   "cell_type": "markdown",
   "id": "1ad2fbac",
   "metadata": {},
   "source": [
    "Let's go through another example. You can print Isabel's age as follows:\n"
   ]
  },
  {
   "cell_type": "code",
   "execution_count": null,
   "id": "11225cfb",
   "metadata": {},
   "outputs": [],
   "source": [
    "print(\"Isabel is 28 years old.\")"
   ]
  },
  {
   "cell_type": "markdown",
   "id": "434aa478",
   "metadata": {},
   "source": [
    "In some countries, there exists the concept of dog age. Since people live longer than dogs on average, someone's dog age is supposed to be one-seventh of their real human age. So, if you wanted to compute and display Isabel's dog age in a readable way, you wouldn't use a regular string like the one below."
   ]
  },
  {
   "cell_type": "code",
   "execution_count": null,
   "id": "3fb5fdb4",
   "metadata": {},
   "outputs": [],
   "source": [
    "print(\"Isabel is 28/7 dog years old.\")"
   ]
  },
  {
   "cell_type": "markdown",
   "id": "aec3622b",
   "metadata": {},
   "source": [
    "Instead, you would use an f-string that includes the dog age equivalency computation as in the temperature conversion example."
   ]
  },
  {
   "cell_type": "code",
   "execution_count": null,
   "id": "8b166959",
   "metadata": {},
   "outputs": [],
   "source": [
    "print(f\"Isabel is {28/7} dog years old.\")"
   ]
  },
  {
   "cell_type": "markdown",
   "id": "8a177221",
   "metadata": {},
   "source": [
    "Now, you see that the last print statement did work, but it displayed the number with one decimal place. What if you wanted to display a whole number, which is much more natural when speaking about ages? You can use the chatbot to answer that question. Feel free to copy and paste the prompt provided below or use your own, using it as a guideline:\n",
    "\n",
    "<p style=\"background-color:#F5C780; padding:15px\"> 🤖 <b>Use the Chatbot</b>: Modify this code to print the answer without any characters after the decimal place: print(f\"Isabel's dog age is {28/7}.\")  \n",
    "</p>\n"
   ]
  },
  {
   "cell_type": "markdown",
   "id": "60469567",
   "metadata": {},
   "source": [
    "If you used that prompt, or another similar one, you would have gotten the code provided below. "
   ]
  },
  {
   "cell_type": "code",
   "execution_count": null,
   "id": "c8cb9777",
   "metadata": {},
   "outputs": [],
   "source": [
    "print(f\"Isabel is {28/7:.0f} dog years old.\")"
   ]
  },
  {
   "cell_type": "markdown",
   "id": "b8f96a44",
   "metadata": {},
   "source": [
    "In `f\"{28/7:.0f}\"`, the `:.0f` part tells Python to display the result of `28/7` without any decimal places. You don’t need to worry too much about the details, but the `f` in `:.0f` indicates that the number is a floating-point number and should be formatted accordingly. This means it will be rounded to the nearest whole number and displayed without any decimal part."
   ]
  },
  {
   "cell_type": "markdown",
   "id": "abe5e612",
   "metadata": {},
   "source": [
    "<b>You just used AI to help you code!</b> You provided it with a piece of code that works in one way (displaying a number with decimal places) and asked it to modify it to work in a different way (displaying a number without decimal places). \n",
    "\n",
    "<b>Congratulations 🎉🎉🎉</b>"
   ]
  },
  {
   "cell_type": "markdown",
   "id": "8b16c40d",
   "metadata": {},
   "source": [
    "## Multi-line f-strings"
   ]
  },
  {
   "cell_type": "markdown",
   "id": "177387db",
   "metadata": {},
   "source": [
    "So far, you have worked with strings that have a relatively small length. For lengthy strings, you will use multi-line strings, which are easier to read in a code editor.\n",
    "\n",
    "The following multi-line f-string includes a description of how Americans use measurements in units that are not in the metric system. It displays the equivalent milliliters (ml) for 8 fluid ounces of milk and the equivalent fluid ounces to 100 ml of water."
   ]
  },
  {
   "cell_type": "code",
   "execution_count": null,
   "id": "01f5be22",
   "metadata": {},
   "outputs": [],
   "source": [
    "print(f\"\"\"\n",
    "    Most countries use the metric system for recipe measurement, \n",
    "    but American bakers use a different system. For example, they use \n",
    "    fluid ounces to measure liquids instead of milliliters (ml).\n",
    "    \n",
    "    So you need to convert recipe units to your local measuring system!\n",
    "    \n",
    "    For example, 8 fluid ounces of milk is {8 * 29.5735} ml.\n",
    "    And 100ml of water is {100 / 29.5735} fluid ounces.\n",
    "\"\"\")"
   ]
  },
  {
   "cell_type": "markdown",
   "id": "acc8ec4c",
   "metadata": {},
   "source": [
    "As you see there, you have to use triple quotes `\"\"\"` instead of single quotes `\"` for multi-line strings, and you have multiple lines with text and computations; but besides that, everything works pretty much the same way."
   ]
  },
  {
   "cell_type": "markdown",
   "id": "65bf114b",
   "metadata": {},
   "source": [
    "You may have noticed that the way you are using f-strings right now is not that easy to read. All those numbers inside the curly braces don't let you see at a glance what the output is going to be, and if you have lots of calculations, it can be distracting.\n",
    "\n",
    "In the next lesson, you'll see how to make your code easier to read, more flexible and reusable at the same time."
   ]
  },
  {
   "cell_type": "markdown",
   "id": "630c7ed6",
   "metadata": {},
   "source": [
    "## Extra practice\n",
    "\n",
    "Try the exercises below to practice the concepts from this lesson. Read the comments in each cell with the instructions for each exercise.\n",
    "\n",
    "<b>Feel free to use the chatbot if you need help.</b>"
   ]
  },
  {
   "cell_type": "code",
   "execution_count": null,
   "id": "98b11e54",
   "metadata": {},
   "outputs": [],
   "source": [
    "# Modify the code to print your age\n",
    "print(f\"I am {} years old.\")"
   ]
  },
  {
   "cell_type": "code",
   "execution_count": null,
   "id": "e815ac9d",
   "metadata": {},
   "outputs": [],
   "source": [
    "# Fix this code\n",
    "print(f\"There are {365/7 weeks in a year\")"
   ]
  },
  {
   "cell_type": "code",
   "execution_count": null,
   "id": "1bddecfc",
   "metadata": {},
   "outputs": [],
   "source": [
    "# Complete the code\n",
    "print(f\"The area of a square with side 5 cm is {} cm squared.\")"
   ]
  },
  {
   "cell_type": "code",
   "execution_count": null,
   "id": "fcd07d9b",
   "metadata": {},
   "outputs": [],
   "source": [
    "# Modify the code to display one decimal place\n",
    "print(f\"The house was a good size: 1200 square feet, or {1200 * 0.092903} meters squared!\")"
   ]
  }
 ],
 "metadata": {
  "kernelspec": {
   "display_name": "Python 3 (ipykernel)",
   "language": "python",
   "name": "python3"
  },
  "language_info": {
   "codemirror_mode": {
    "name": "ipython",
    "version": 3
   },
   "file_extension": ".py",
   "mimetype": "text/x-python",
   "name": "python",
   "nbconvert_exporter": "python",
   "pygments_lexer": "ipython3",
   "version": "3.9.19"
  }
 },
 "nbformat": 4,
 "nbformat_minor": 5
}
