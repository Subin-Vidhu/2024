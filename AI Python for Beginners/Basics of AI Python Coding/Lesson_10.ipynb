{
 "cells": [
  {
   "cell_type": "markdown",
   "id": "de660b8e",
   "metadata": {},
   "source": [
    "# Lesson 10: Functions - Actions on Data"
   ]
  },
  {
   "cell_type": "markdown",
   "id": "a3c720f4",
   "metadata": {},
   "source": [
    "First, start by running the command below. This imports some functions, including the `print_llm_response` function you used before, from the `helper_functions` Python file."
   ]
  },
  {
   "cell_type": "code",
   "execution_count": 1,
   "id": "e7d9dd05",
   "metadata": {
    "height": 30
   },
   "outputs": [],
   "source": [
    "from helper_functions import *"
   ]
  },
  {
   "cell_type": "markdown",
   "id": "a229ce91",
   "metadata": {},
   "source": [
    "In previous lessons, you have used the `print()` function to display values directly to the screen and the `print_llm_response()` function to use an LLM following the instruction you provide as a string. Below, you will print `\"¯\\_(ツ)_/¯\"` and ask the LLM about the capital of France."
   ]
  },
  {
   "cell_type": "code",
   "execution_count": 2,
   "id": "a753314f",
   "metadata": {
    "height": 30
   },
   "outputs": [
    {
     "name": "stdout",
     "output_type": "stream",
     "text": [
      "¯\\_(ツ)_/¯\n"
     ]
    }
   ],
   "source": [
    "print(\"¯\\_(ツ)_/¯\")"
   ]
  },
  {
   "cell_type": "code",
   "execution_count": 3,
   "id": "cf25d93a-1d9d-4ba8-bb54-6503acbb1930",
   "metadata": {
    "height": 30
   },
   "outputs": [
    {
     "name": "stdout",
     "output_type": "stream",
     "text": [
      "The capital of France is Paris.\n"
     ]
    }
   ],
   "source": [
    "print_llm_response(\"What is the capital of France?\")"
   ]
  },
  {
   "cell_type": "markdown",
   "id": "52ece8c0",
   "metadata": {},
   "source": [
    "You have also used the `type` function, which gives you the type used in Python for a value or variable you provide. For instance, the type of 17 is `int` (for integer)."
   ]
  },
  {
   "cell_type": "code",
   "execution_count": 4,
   "id": "c81ad492",
   "metadata": {
    "height": 30
   },
   "outputs": [
    {
     "data": {
      "text/plain": [
       "int"
      ]
     },
     "execution_count": 4,
     "metadata": {},
     "output_type": "execute_result"
    }
   ],
   "source": [
    "type(17)"
   ]
  },
  {
   "cell_type": "markdown",
   "id": "df1e3c22",
   "metadata": {},
   "source": [
    "In this lesson, you will see more function examples and explore more deeply how functions work."
   ]
  },
  {
   "cell_type": "markdown",
   "id": "17034de4",
   "metadata": {},
   "source": [
    "## Functions to count, to round, and to do much more"
   ]
  },
  {
   "cell_type": "markdown",
   "id": "76aa246f",
   "metadata": {},
   "source": [
    "There are many functions in Python that you can use straight out of the box. For instance, the `len()` function counts the characters in a string. So when you run the code below, you will display (using `print()`) the result of counting (with `len()`) the number of characters in the string `\"Hello World!\"`."
   ]
  },
  {
   "cell_type": "code",
   "execution_count": 5,
   "id": "05f09a2e",
   "metadata": {
    "height": 30
   },
   "outputs": [
    {
     "name": "stdout",
     "output_type": "stream",
     "text": [
      "12\n"
     ]
    }
   ],
   "source": [
    "print( len(\"Hello World!\") ) "
   ]
  },
  {
   "cell_type": "markdown",
   "id": "b0987e9f",
   "metadata": {},
   "source": [
    "As another example, you can use `round()` to take a floating point number and round it to the nearest integer. Below, you use `print()` to display the result of rounding (with `round()`) the number `42.17`."
   ]
  },
  {
   "cell_type": "code",
   "execution_count": 6,
   "id": "ce418e1a",
   "metadata": {
    "height": 30
   },
   "outputs": [
    {
     "name": "stdout",
     "output_type": "stream",
     "text": [
      "42\n"
     ]
    }
   ],
   "source": [
    "print(round(42.17))"
   ]
  },
  {
   "cell_type": "markdown",
   "id": "94a9d309",
   "metadata": {},
   "source": [
    "You can save the result from a function using variables in a very similar way to what you have already explored in previous lessons. Below, you save the result from `len(\"Hello World!\")` to the variable `string_length`."
   ]
  },
  {
   "cell_type": "code",
   "execution_count": 7,
   "id": "c4690998",
   "metadata": {
    "height": 47
   },
   "outputs": [
    {
     "name": "stdout",
     "output_type": "stream",
     "text": [
      "12\n"
     ]
    }
   ],
   "source": [
    "string_length = len(\"Hello World!\")\n",
    "print(string_length)"
   ]
  },
  {
   "cell_type": "markdown",
   "id": "783e327e",
   "metadata": {},
   "source": [
    "There are many functions in Python, and you don't have to memorize them all. If you ever need a function to perform a specific task, you can ask the chatbot. Try it now with the suggested prompt here or try your own.\n",
    "\n",
    "<p style=\"background-color:#F5C780; padding:15px\"> 🤖 <b>Use the Chatbot</b>: How can I find the length of a string?\n",
    "</p>"
   ]
  },
  {
   "cell_type": "markdown",
   "id": "90b0fdc4-e01f-425b-af70-755ee52334f2",
   "metadata": {},
   "source": [
    "## Using functions in AI programs"
   ]
  },
  {
   "cell_type": "markdown",
   "id": "1b0dee8d-14f8-4078-bbc1-ed3e8aafce86",
   "metadata": {},
   "source": [
    "Functions can be used alongside variables in AI programs. In the previous lesson, you saw how to create custom instructions (or prompts) for an LLM using variables. In the cell below, you will use variables and the `round()` function to create a prompt that you will use for an LLM with the `get_llm_response()` function. The `get_llm_response()` function is very similar to `print_llm_response()` (which you used before); the main difference is that you get a string as a result instead of just displaying the LLM response. This way, you can store the LLM response in the variable `response`."
   ]
  },
  {
   "cell_type": "code",
   "execution_count": null,
   "id": "03b730a6",
   "metadata": {
    "height": 115
   },
   "outputs": [],
   "source": [
    "name = \"Tommy\"\n",
    "potatoes = 4.75\n",
    "prompt = f\"\"\"Write a couplet about my friend {name} who has about {round(potatoes)} potatoes\"\"\"\n",
    "response = get_llm_response(prompt)\n",
    "print(response)"
   ]
  },
  {
   "cell_type": "markdown",
   "id": "25fc5429",
   "metadata": {},
   "source": [
    "## Extra practice\n",
    "\n",
    "Try the exercises below to practice the concepts from this lesson. Read the comments in each cell with the instructions for each exercise.\n",
    "\n",
    "<b>Feel free to use the chatbot if you need help.</b>"
   ]
  },
  {
   "cell_type": "code",
   "execution_count": null,
   "id": "5c38d622",
   "metadata": {
    "height": 115
   },
   "outputs": [],
   "source": [
    "# Enter one of your favorite numbers. Multiply the result by 10 and save it to a variable called 'lucky_number'.\n",
    "# Print a message saying \"Your lucky number is [lucky_number]!\"\n",
    "\n",
    "lucky_number = \n",
    "print(f\"Your lucky number is {}!\")"
   ]
  },
  {
   "cell_type": "code",
   "execution_count": null,
   "id": "c3f62ddb",
   "metadata": {
    "height": 132
   },
   "outputs": [],
   "source": [
    "# Use print_llm_response() to get a knock-knock joke with the specified number of knocks. Use the \n",
    "# prompt variable to save your prompt before calling print_llm_response()\n",
    "\n",
    "number_of_knocks = \n",
    "prompt = \n",
    "print_llm_response()"
   ]
  },
  {
   "cell_type": "code",
   "execution_count": null,
   "id": "653e6a72",
   "metadata": {
    "height": 183
   },
   "outputs": [],
   "source": [
    "# Repeat exercise 2, this time using the function get_llm_response(), then print() to print it. This function asks \n",
    "# the LLM for a response, just like print_llm_response, but does not print it. You'll need to save the response to\n",
    "# a variable, then print it out separately.\n",
    "\n",
    "number_of_knocks = \n",
    "prompt = \n",
    "response = \n",
    "response_length =\n",
    "print()"
   ]
  }
 ],
 "metadata": {
  "kernelspec": {
   "display_name": "Python 3 (ipykernel)",
   "language": "python",
   "name": "python3"
  },
  "language_info": {
   "codemirror_mode": {
    "name": "ipython",
    "version": 3
   },
   "file_extension": ".py",
   "mimetype": "text/x-python",
   "name": "python",
   "nbconvert_exporter": "python",
   "pygments_lexer": "ipython3",
   "version": "3.9.19"
  }
 },
 "nbformat": 4,
 "nbformat_minor": 5
}
