{
 "cells": [
  {
   "cell_type": "markdown",
   "metadata": {},
   "source": [
    "# Lesson 5: APIs to get data from the web"
   ]
  },
  {
   "cell_type": "markdown",
   "metadata": {},
   "source": [
    "In this lesson, you will work with a weather API (Application Programming Interface) to get the current conditions at any location.\n",
    "\n",
    "Start by importing some helper functions\n",
    "* **Note:** You are now importing `print_llm_response` from the `aisetup` package!\n"
   ]
  },
  {
   "cell_type": "code",
   "execution_count": 1,
   "metadata": {
    "height": 81
   },
   "outputs": [],
   "source": [
    "import os\n",
    "import requests\n",
    "from aisetup import print_llm_response\n",
    "from dotenv import load_dotenv"
   ]
  },
  {
   "cell_type": "markdown",
   "metadata": {},
   "source": [
    "## Retrieving weather data from an API"
   ]
  },
  {
   "cell_type": "markdown",
   "metadata": {},
   "source": [
    "In this section, you'll use an API to retrieve real time weather data from [https://openweathermap.org](https://openweathermap.org). \n",
    "\n",
    "Most APIs require an **API key**. You can think of this as a password that is unique to you.\n",
    "\n",
    "The API key has been setup for this learning environment, so you don't have to do anything except run the code.\n",
    "\n",
    "You can visit the [openweathermap website](https://openweathermap.org/price) for information about setting up an API key to use outside of this learning platform.\n",
    "\n",
    "Run the following cell to setup the API key for this lesson:"
   ]
  },
  {
   "cell_type": "code",
   "execution_count": 2,
   "metadata": {
    "height": 81
   },
   "outputs": [],
   "source": [
    "# Get the Weather API key from the .env file\n",
    "# https://openweathermap.org/price\n",
    "load_dotenv('.env', override=True)\n",
    "api_key = os.getenv('WEATHER_API_KEY')"
   ]
  },
  {
   "cell_type": "markdown",
   "metadata": {},
   "source": [
    "Set up the latitude and longitude coordinates to pass to the API:"
   ]
  },
  {
   "cell_type": "code",
   "execution_count": 3,
   "metadata": {
    "height": 98
   },
   "outputs": [],
   "source": [
    "# Store the latitude value in the 'lat' variable\n",
    "lat = 37.4419   # Palo Alto, CA\n",
    "\n",
    "# Store the longitude value in the 'long' variable\n",
    "lon = -122.1430"
   ]
  },
  {
   "cell_type": "markdown",
   "metadata": {},
   "source": [
    "**Note:** Feel free to change the lat and lon values above to your current location or a place you would like to retrieve weather data!"
   ]
  },
  {
   "cell_type": "markdown",
   "metadata": {},
   "source": [
    "Call the Weather API, passing in the API key and your coordinates.\n",
    "* These are added as part of the `url` f-string below:"
   ]
  },
  {
   "cell_type": "code",
   "execution_count": 4,
   "metadata": {
    "height": 98
   },
   "outputs": [],
   "source": [
    "url = f\"https://api.openweathermap.org/data/2.5/forecast?units=metric&cnt=1&lat={lat}&lon={lon}&appid={api_key}\"\n",
    "\n",
    "# Use the get function from the requests library to store the response from the API\n",
    "response = requests.get(url)"
   ]
  },
  {
   "cell_type": "markdown",
   "metadata": {},
   "source": [
    "Now extract the data from the response variable:"
   ]
  },
  {
   "cell_type": "code",
   "execution_count": 5,
   "metadata": {
    "height": 115
   },
   "outputs": [
    {
     "name": "stdout",
     "output_type": "stream",
     "text": [
      "{'cod': '200', 'message': 0, 'cnt': 1, 'list': [{'dt': 1728734400, 'main': {'temp': 14.17, 'feels_like': 13.76, 'temp_min': 14.17, 'temp_max': 15.29, 'pressure': 1019, 'sea_level': 1019, 'grnd_level': 1005, 'humidity': 81, 'temp_kf': -1.12}, 'weather': [{'id': 800, 'main': 'Clear', 'description': 'clear sky', 'icon': '01n'}], 'clouds': {'all': 7}, 'wind': {'speed': 0.83, 'deg': 206, 'gust': 1.02}, 'visibility': 10000, 'pop': 0, 'sys': {'pod': 'n'}, 'dt_txt': '2024-10-12 12:00:00'}], 'city': {'id': 5380748, 'name': 'Palo Alto', 'coord': {'lat': 37.4419, 'lon': -122.143}, 'country': 'US', 'population': 64403, 'timezone': -25200, 'sunrise': 1728742452, 'sunset': 1728783315}}\n"
     ]
    }
   ],
   "source": [
    "# Take the response from the API (in JSON) and assign it to a Python dictionary\n",
    "data = response.json()\n",
    "\n",
    "# Print\n",
    "print(data)"
   ]
  },
  {
   "cell_type": "markdown",
   "metadata": {},
   "source": [
    "**Note** The responses you get from APIs are usually given in JSON (JavaScript Object Notation) format, which is a variation on a python dictionary."
   ]
  },
  {
   "cell_type": "markdown",
   "metadata": {},
   "source": [
    "## Display the weather forecast\n",
    "\n",
    "To display the weather forecast in a nicely formatted way, you need to extract information from the data dictionary. Let's ask the chatbot how to do this:"
   ]
  },
  {
   "cell_type": "markdown",
   "metadata": {},
   "source": [
    "<p style=\"background-color:#F5C780; padding:15px\"> 🤖 <b>Use the Chatbot</b>:\n",
    "<br><br>\n",
    "How do I get the temperature, description and wind speed from this data variable: \n",
    "<br><br>\n",
    "{'cod': '200', 'message': 0, 'cnt': 1, 'list': [{'dt': 1723831200, 'main': {'temp': 34.14, 'feels_like': 23.94, 'temp_min': 22.84, 'temp_max': 24.02, 'pressure': 1017, 'sea_level': 1017, 'grnd_level': 949, 'humidity': 56, 'temp_kf': 1.15}, 'weather': [{'id': 800, 'main': 'Clear', 'description': 'clear sky', 'icon': '01d'}], 'clouds': {'all': 0}, 'wind': {'speed': 3.18, 'deg': 191, 'gust': 3.83}, 'visibility': 10000, 'pop': 0, 'sys': {'pod': 'd'}, 'dt_txt': '2024-08-16 18:00:00'}], 'city': {'id': 5518301, 'name': 'Carey', 'coord': {'lat': 34.38, 'lon': -100.36}, 'country': 'US', 'population': 0, 'timezone': -18000, 'sunrise': 1723809821, 'sunset': 1723858068}\n",
    "</p>"
   ]
  },
  {
   "cell_type": "markdown",
   "metadata": {},
   "source": [
    "Try the code suggested by the chatbot to save the desired information as variables:"
   ]
  },
  {
   "cell_type": "code",
   "execution_count": 6,
   "metadata": {
    "height": 64
   },
   "outputs": [],
   "source": [
    "temperature = data['list'][0]['main']['temp']\n",
    "description = data['list'][0]['weather'][0]['description']\n",
    "wind_speed = data['list'][0]['wind']['speed']"
   ]
  },
  {
   "cell_type": "markdown",
   "metadata": {},
   "source": [
    "Print out the results nicely!"
   ]
  },
  {
   "cell_type": "code",
   "execution_count": 7,
   "metadata": {
    "height": 64
   },
   "outputs": [
    {
     "name": "stdout",
     "output_type": "stream",
     "text": [
      "Temperature: 14.17\n",
      "Weather Description: clear sky\n",
      "Wind Speed: 0.83\n"
     ]
    }
   ],
   "source": [
    "print(f\"Temperature: {temperature}\")\n",
    "print(f\"Weather Description: {description}\")\n",
    "print(f\"Wind Speed: {wind_speed}\")"
   ]
  },
  {
   "cell_type": "markdown",
   "metadata": {},
   "source": [
    "Write a better weather report:"
   ]
  },
  {
   "cell_type": "code",
   "execution_count": 8,
   "metadata": {
    "height": 115
   },
   "outputs": [
    {
     "name": "stdout",
     "output_type": "stream",
     "text": [
      "The temperature is 14.17°C. \n",
      "It is currently clear sky,\n",
      "with a wind speed of 0.83m/s.\n",
      "\n"
     ]
    }
   ],
   "source": [
    "weather_string = f\"\"\"The temperature is {temperature}°C. \n",
    "It is currently {description},\n",
    "with a wind speed of {wind_speed}m/s.\n",
    "\"\"\"\n",
    "\n",
    "print(weather_string)"
   ]
  },
  {
   "cell_type": "markdown",
   "metadata": {},
   "source": [
    "## Use an LLM to plan your outfit\n",
    "\n",
    "You can ask an LLM for outfit recommendations based on the current weather conditions at your location.\n",
    "\n",
    "Setup a prompt with the instructions and the weather report you just created, then pass it to the LLM:"
   ]
  },
  {
   "cell_type": "code",
   "execution_count": 9,
   "metadata": {
    "height": 149
   },
   "outputs": [
    {
     "name": "stdout",
     "output_type": "stream",
     "text": [
      "Wear a light long-sleeve shirt or a thin sweater, paired with comfortable jeans or chinos. A light jacket may be useful for the breeze. Opt for closed-toe shoes.\n"
     ]
    }
   ],
   "source": [
    "prompt = f\"\"\"Based on the following weather, \n",
    "suggest an appropriate outdoor outfit.\n",
    "\n",
    "Forecast: {weather_string}\n",
    "\"\"\"\n",
    "\n",
    "# Print the LLM response\n",
    "print_llm_response(prompt)"
   ]
  },
  {
   "cell_type": "markdown",
   "metadata": {},
   "source": [
    "## Extra practice \n",
    "\n",
    "Try the exercise below to practice what you have learned. Don't hesitate to ask the chatbot for help if you get stuck!\n",
    "\n",
    "**Note:** To find your current coordinates, you can navigate to [Google Maps](maps.google.com) and right click your location:\n",
    "\n",
    "<img src=\"google_maps_coordinates.png\" alt=\"Finding your coordinates using Google Maps\" style=\"width:60%;\"/>"
   ]
  },
  {
   "cell_type": "code",
   "execution_count": 10,
   "metadata": {
    "height": 217
   },
   "outputs": [
    {
     "ename": "SyntaxError",
     "evalue": "invalid syntax (1362217596.py, line 2)",
     "output_type": "error",
     "traceback": [
      "\u001b[0;36m  Cell \u001b[0;32mIn[10], line 2\u001b[0;36m\u001b[0m\n\u001b[0;31m    lat =\u001b[0m\n\u001b[0m          ^\u001b[0m\n\u001b[0;31mSyntaxError\u001b[0m\u001b[0;31m:\u001b[0m invalid syntax\n"
     ]
    }
   ],
   "source": [
    "# Complete the code below to get the \"feels_like\" temperature at your current location\n",
    "lat = \n",
    "lon = \n",
    "url = f\"https://api.openweathermap.org/data/2.5/forecast?units=metric&cnt=1&lat={lat}&lon={lon}&appid={api_key}\"\n",
    "response = \n",
    "\n",
    "data = response.json()\n",
    "feels_like = \n",
    "city = data['city']['name']\n",
    "print(f\"The temperature currently feels like {feels_like}°C in {city}.\")\n"
   ]
  }
 ],
 "metadata": {
  "kernelspec": {
   "display_name": "Python 3 (ipykernel)",
   "language": "python",
   "name": "python3"
  },
  "language_info": {
   "codemirror_mode": {
    "name": "ipython",
    "version": 3
   },
   "file_extension": ".py",
   "mimetype": "text/x-python",
   "name": "python",
   "nbconvert_exporter": "python",
   "pygments_lexer": "ipython3",
   "version": "3.9.19"
  }
 },
 "nbformat": 4,
 "nbformat_minor": 2
}
