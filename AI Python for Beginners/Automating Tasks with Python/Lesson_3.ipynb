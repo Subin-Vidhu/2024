{
 "cells": [
  {
   "cell_type": "markdown",
   "id": "f6bf49f7-21f0-47bc-9a3e-7fd325a0b9bf",
   "metadata": {},
   "source": [
    "# Lesson 3 - Prioritizing tasks with dictionaries and AI"
   ]
  },
  {
   "cell_type": "markdown",
   "id": "8ab78425-c090-450a-a810-1ff6d8f4aefb",
   "metadata": {},
   "source": [
    "In this lesson, you will explore dictionaries, a data structure that helps you store key-value pairs. The main difference with list, is that dictionaries assign a key to each values instead of an index. Let's start by importing some functions."
   ]
  },
  {
   "cell_type": "code",
   "execution_count": 1,
   "id": "0669df5d-5013-466b-90c8-679364ff80a1",
   "metadata": {
    "height": 30
   },
   "outputs": [],
   "source": [
    "from helper_functions import print_llm_response, get_llm_response"
   ]
  },
  {
   "cell_type": "markdown",
   "id": "25969c7c",
   "metadata": {},
   "source": [
    "If you wanted to store ice cream flavor descriptions using lists, you would have something like this:"
   ]
  },
  {
   "cell_type": "code",
   "execution_count": 2,
   "id": "ca5a2042",
   "metadata": {
    "height": 234
   },
   "outputs": [],
   "source": [
    "ice_cream_flavors = [\n",
    "    \"Vanilla: Classic and creamy with a rich, smooth flavor from real vanilla beans.\",\n",
    "    \"Chocolate: Deep and indulgent, made with rich cocoa for a satisfying chocolate experience.\",\n",
    "    \"Strawberry: Sweet and fruity, bursting with the fresh taste of ripe strawberries.\",\n",
    "    \"Mint Chocolate Chip: Refreshing mint ice cream studded with decadent chocolate chips.\",\n",
    "    \"Cookie Dough: Vanilla ice cream loaded with chunks of chocolate chip cookie dough.\",\n",
    "    \"Salted Caramel: Sweet and salty with a smooth caramel swirl and a hint of sea salt.\",\n",
    "    \"Pistachio: Nutty and creamy, featuring the distinct taste of real pistachios.\",\n",
    "    \"Cookies and Cream: Vanilla ice cream packed with chunks of chocolate sandwich cookies.\",\n",
    "    \"Mango: Tropical and tangy, made with juicy mangoes for a refreshing treat.\",\n",
    "    \"Rocky Road: Chocolate ice cream mixed with marshmallows, nuts, and chocolate chunks.\"\n",
    "]"
   ]
  },
  {
   "cell_type": "markdown",
   "id": "1eeea849-9f55-4f3c-884a-9181814c55fc",
   "metadata": {},
   "source": [
    "If you wanted to look up the description for a particular flavor, you would have to memorize its index."
   ]
  },
  {
   "cell_type": "markdown",
   "id": "36e7364c-e8ac-4f32-80dc-955883ce072a",
   "metadata": {},
   "source": [
    "## Building intuition and definitions\n",
    "\n",
    "Dictionaries in Python are very similar to the dictionaries you would find in a library. Each value in a dictionary is associated with a key, just as you will find definitions associated to words in a hardcover dictionary. Let's take as an example the following dictionary with ice cream flavors."
   ]
  },
  {
   "cell_type": "code",
   "execution_count": 3,
   "id": "7e725e5e-4fa2-4a09-95e9-a67c34f96e46",
   "metadata": {
    "height": 115
   },
   "outputs": [],
   "source": [
    "ice_cream_flavors = {\n",
    "    \"Mint Chocolate Chip\": \"Refreshing mint ice cream studded with decadent chocolate chips.\",\n",
    "    \"Cookie Dough\": \"Vanilla ice cream loaded with chunks of chocolate chip cookie dough.\",\n",
    "    \"Salted Caramel\": \"Sweet and salty with a smooth caramel swirl and a hint of sea salt.\"\n",
    "}   "
   ]
  },
  {
   "cell_type": "markdown",
   "id": "ec17ee22",
   "metadata": {},
   "source": [
    "The `ice_cream_flavors` dictionary has keys:"
   ]
  },
  {
   "cell_type": "code",
   "execution_count": 4,
   "id": "f798f6bf-7fa9-4eb3-b576-77fa101e24b2",
   "metadata": {
    "height": 30
   },
   "outputs": [
    {
     "name": "stdout",
     "output_type": "stream",
     "text": [
      "dict_keys(['Mint Chocolate Chip', 'Cookie Dough', 'Salted Caramel'])\n"
     ]
    }
   ],
   "source": [
    "print(ice_cream_flavors.keys())"
   ]
  },
  {
   "cell_type": "markdown",
   "id": "2fb5e9c3",
   "metadata": {},
   "source": [
    "and values:"
   ]
  },
  {
   "cell_type": "code",
   "execution_count": 5,
   "id": "91a35e3b-f437-4832-8610-0960ac9705b5",
   "metadata": {
    "height": 30
   },
   "outputs": [
    {
     "name": "stdout",
     "output_type": "stream",
     "text": [
      "dict_values(['Refreshing mint ice cream studded with decadent chocolate chips.', 'Vanilla ice cream loaded with chunks of chocolate chip cookie dough.', 'Sweet and salty with a smooth caramel swirl and a hint of sea salt.'])\n"
     ]
    }
   ],
   "source": [
    "print(ice_cream_flavors.values())"
   ]
  },
  {
   "cell_type": "markdown",
   "id": "e5700c35-4814-4e92-8435-eb614da9bce0",
   "metadata": {},
   "source": [
    "## Accessing elements"
   ]
  },
  {
   "cell_type": "markdown",
   "id": "cb11e3ff",
   "metadata": {},
   "source": [
    "Dictionaries don't index their elements as list do, so you cannot access values in the way you would using lists. If you run the cell below, you will get an error message since the index 0 is not a key in the `ice_cream_flavors` dictionary. "
   ]
  },
  {
   "cell_type": "code",
   "execution_count": 6,
   "id": "c20fbfe7-e0fd-45e9-8fbb-071bf5a64ecb",
   "metadata": {
    "height": 47
   },
   "outputs": [
    {
     "ename": "KeyError",
     "evalue": "0",
     "output_type": "error",
     "traceback": [
      "\u001b[0;31m---------------------------------------------------------------------------\u001b[0m",
      "\u001b[0;31mKeyError\u001b[0m                                  Traceback (most recent call last)",
      "Cell \u001b[0;32mIn[6], line 2\u001b[0m\n\u001b[1;32m      1\u001b[0m \u001b[38;5;66;03m#Wrong way of accessing elements (treating dict as a list)\u001b[39;00m\n\u001b[0;32m----> 2\u001b[0m \u001b[38;5;28mprint\u001b[39m(\u001b[43mice_cream_flavors\u001b[49m\u001b[43m[\u001b[49m\u001b[38;5;241;43m0\u001b[39;49m\u001b[43m]\u001b[49m)\n",
      "\u001b[0;31mKeyError\u001b[0m: 0"
     ]
    }
   ],
   "source": [
    "#Wrong way of accessing elements (treating dict as a list)\n",
    "print(ice_cream_flavors[0])"
   ]
  },
  {
   "cell_type": "markdown",
   "id": "5f0d780a",
   "metadata": {},
   "source": [
    "Let's ask the chatbot how to access items in this dictionary.\n",
    "\n",
    "<p style=\"background-color:#F5C780; padding:15px\"> 🤖 <b>Use the Chatbot</b>: How do I access a single item in this dictionary? <br>\n",
    "ice_cream_flavors = {<br>\n",
    "    \"Mint Chocolate Chip\": \"Refreshing mint ice cream studded with decadent chocolate chips.\",<br>\n",
    "    \"Cookie Dough\": \"Vanilla ice cream loaded with chunks of chocolate chip cookie dough.\",<br>\n",
    "    \"Salted Caramel\": \"Sweet and salty with a smooth caramel swirl and a hint of sea salt.\"<br>\n",
    "} <br>\n",
    "</p> "
   ]
  },
  {
   "cell_type": "markdown",
   "id": "66d94bb2",
   "metadata": {},
   "source": [
    "So, to access the values in the dictionary you need to use its keys. For instance, for `Cookie Dough`, you can run the following code:"
   ]
  },
  {
   "cell_type": "code",
   "execution_count": 7,
   "id": "529b68a1-57fe-4ebb-ad6a-db08c3c3f38a",
   "metadata": {
    "height": 47
   },
   "outputs": [
    {
     "name": "stdout",
     "output_type": "stream",
     "text": [
      "Vanilla ice cream loaded with chunks of chocolate chip cookie dough.\n"
     ]
    }
   ],
   "source": [
    "cookie_dough_description = ice_cream_flavors[\"Cookie Dough\"]\n",
    "print(cookie_dough_description)"
   ]
  },
  {
   "cell_type": "markdown",
   "id": "0c72ec6c-54c3-4452-aeb6-7ca4c11365f8",
   "metadata": {},
   "source": [
    "## Adding and updating elements in a dictionary"
   ]
  },
  {
   "cell_type": "markdown",
   "id": "525a82e3-8815-4e38-8c05-0d17b8e29e8b",
   "metadata": {},
   "source": [
    "Let's take another look at the `ice_cream_flavors` dictionary"
   ]
  },
  {
   "cell_type": "code",
   "execution_count": 8,
   "id": "85b77c6b-f3a9-4c43-a88b-8b21a8ea3b14",
   "metadata": {
    "height": 30
   },
   "outputs": [
    {
     "name": "stdout",
     "output_type": "stream",
     "text": [
      "{'Mint Chocolate Chip': 'Refreshing mint ice cream studded with decadent chocolate chips.', 'Cookie Dough': 'Vanilla ice cream loaded with chunks of chocolate chip cookie dough.', 'Salted Caramel': 'Sweet and salty with a smooth caramel swirl and a hint of sea salt.'}\n"
     ]
    }
   ],
   "source": [
    "print(ice_cream_flavors)"
   ]
  },
  {
   "cell_type": "markdown",
   "id": "c4f538b4",
   "metadata": {},
   "source": [
    "Now, to add a new item for the `\"Rocky Road\"` flavor, you will need to assign its definition to `ice_cream_flavors[\"Rocky Road\"]` as follows:"
   ]
  },
  {
   "cell_type": "code",
   "execution_count": 9,
   "id": "f443cc67-2008-4e6a-93e9-b5ce7955dda2",
   "metadata": {
    "height": 47
   },
   "outputs": [],
   "source": [
    "ice_cream_flavors[\"Rocky Road\"] = \"Chocolate ice cream mixd witother ngredients.\""
   ]
  },
  {
   "cell_type": "markdown",
   "id": "97ed0ed1",
   "metadata": {},
   "source": [
    "Note that you are using the same syntax that selects a single item, but this time use a key that didn't exist before and assign it a value. Let's check the dictionary after this update:"
   ]
  },
  {
   "cell_type": "code",
   "execution_count": 10,
   "id": "6547f5e5",
   "metadata": {
    "height": 30
   },
   "outputs": [
    {
     "name": "stdout",
     "output_type": "stream",
     "text": [
      "{'Mint Chocolate Chip': 'Refreshing mint ice cream studded with decadent chocolate chips.', 'Cookie Dough': 'Vanilla ice cream loaded with chunks of chocolate chip cookie dough.', 'Salted Caramel': 'Sweet and salty with a smooth caramel swirl and a hint of sea salt.', 'Rocky Road': 'Chocolate ice cream mixd witother ngredients.'}\n"
     ]
    }
   ],
   "source": [
    "print(ice_cream_flavors)"
   ]
  },
  {
   "cell_type": "markdown",
   "id": "e1e0cce4",
   "metadata": {},
   "source": [
    "You can update existing dictionary items in a similar way. Let's fix the typos from the `\"Rocky Road\"` description."
   ]
  },
  {
   "cell_type": "code",
   "execution_count": 11,
   "id": "37d150d3",
   "metadata": {
    "height": 47
   },
   "outputs": [],
   "source": [
    "ice_cream_flavors[\"Rocky Road\"] = \"Chocolate ice cream mixed with other ingredients.\""
   ]
  },
  {
   "cell_type": "code",
   "execution_count": 12,
   "id": "2a411986-59a5-4553-9192-65a3b54a8410",
   "metadata": {
    "height": 30
   },
   "outputs": [
    {
     "name": "stdout",
     "output_type": "stream",
     "text": [
      "{'Mint Chocolate Chip': 'Refreshing mint ice cream studded with decadent chocolate chips.', 'Cookie Dough': 'Vanilla ice cream loaded with chunks of chocolate chip cookie dough.', 'Salted Caramel': 'Sweet and salty with a smooth caramel swirl and a hint of sea salt.', 'Rocky Road': 'Chocolate ice cream mixed with other ingredients.'}\n"
     ]
    }
   ],
   "source": [
    "print(ice_cream_flavors)"
   ]
  },
  {
   "cell_type": "markdown",
   "id": "00ada507-22fe-468e-b3b4-5af0994a0cce",
   "metadata": {},
   "source": [
    "## Different types of elements"
   ]
  },
  {
   "cell_type": "markdown",
   "id": "84da9a17-038e-4d95-9dab-ec9471b48bd3",
   "metadata": {},
   "source": [
    "Let's say that you store data about your friends. For Isabel you have the following dictionary."
   ]
  },
  {
   "cell_type": "code",
   "execution_count": 13,
   "id": "a021ebf7-25c6-45b5-913b-b159c73a54b6",
   "metadata": {
    "height": 98
   },
   "outputs": [
    {
     "name": "stdout",
     "output_type": "stream",
     "text": [
      "{'age': 28, 'Favorite color': 'red'}\n"
     ]
    }
   ],
   "source": [
    "isabel_facts = {\n",
    "    \"age\": 28,\n",
    "    \"Favorite color\": \"red\"\n",
    "}\n",
    "print(isabel_facts)"
   ]
  },
  {
   "cell_type": "markdown",
   "id": "71c84574-6b83-4586-83a2-1a12e6bc0878",
   "metadata": {},
   "source": [
    "You can store information within that dictionary using lists. For instance, the names for each of her cats."
   ]
  },
  {
   "cell_type": "code",
   "execution_count": 14,
   "id": "b1e47c85-fd16-404a-a866-a01a9410b7f1",
   "metadata": {
    "height": 30
   },
   "outputs": [],
   "source": [
    "isabel_facts[\"Cat names\"] = [\"Charlie\", \"Smokey\", \"Tabitha\"]"
   ]
  },
  {
   "cell_type": "code",
   "execution_count": 15,
   "id": "5596580c-7715-4b6e-92df-ca0f92134ddb",
   "metadata": {
    "height": 30
   },
   "outputs": [
    {
     "name": "stdout",
     "output_type": "stream",
     "text": [
      "{'age': 28, 'Favorite color': 'red', 'Cat names': ['Charlie', 'Smokey', 'Tabitha']}\n"
     ]
    }
   ],
   "source": [
    "print(isabel_facts)"
   ]
  },
  {
   "cell_type": "markdown",
   "id": "414c3b49-112a-48b2-b1ba-9bde195dcc44",
   "metadata": {},
   "source": [
    "Or her favorite snacks:"
   ]
  },
  {
   "cell_type": "code",
   "execution_count": 16,
   "id": "db4c72de-08b1-4960-9b1a-d9d6b7a8c867",
   "metadata": {
    "height": 30
   },
   "outputs": [],
   "source": [
    "isabel_facts[\"Favorite Snacks\"] = [\"pineapple cake\",\"candy\"]"
   ]
  },
  {
   "cell_type": "code",
   "execution_count": 17,
   "id": "2f9d168e-793b-42a5-bce3-c4d5573f7b45",
   "metadata": {
    "height": 30
   },
   "outputs": [
    {
     "name": "stdout",
     "output_type": "stream",
     "text": [
      "{'age': 28, 'Favorite color': 'red', 'Cat names': ['Charlie', 'Smokey', 'Tabitha'], 'Favorite Snacks': ['pineapple cake', 'candy']}\n"
     ]
    }
   ],
   "source": [
    "print(isabel_facts)"
   ]
  },
  {
   "cell_type": "markdown",
   "id": "dca7e8ac-9a22-4298-a09a-05325bbd00bd",
   "metadata": {},
   "source": [
    "## Using dictionaries to complete high priority tasks using AI"
   ]
  },
  {
   "cell_type": "markdown",
   "id": "057ee2c7",
   "metadata": {},
   "source": [
    "In the previous lessons you completed the tasks from a list --like the one below-- using AI."
   ]
  },
  {
   "cell_type": "code",
   "execution_count": 18,
   "id": "1c7e996d-2cc1-48e5-9c8f-51b1403cfcb8",
   "metadata": {
    "height": 166
   },
   "outputs": [],
   "source": [
    "#task example, large list not ordered by priority. Want to prioritize\n",
    "list_of_tasks = [\n",
    "    \"Compose a brief email to my boss explaining that I will be late for tomorrow's meeting.\",\n",
    "    \"Write a birthday poem for Otto, celebrating his 28th birthday.\",\n",
    "    \"Write a 300-word review of the movie 'The Arrival'.\",\n",
    "    \"Draft a thank-you note for my neighbor Dapinder who helped water my plants while I was on vacation.\",\n",
    "    \"Create an outline for a presentation on the benefits of remote work.\"\n",
    "]"
   ]
  },
  {
   "cell_type": "markdown",
   "id": "6bbfc589",
   "metadata": {},
   "source": [
    "In reality, not all tasks would have the same priority. In fact, for this example, you have tasks with high, medium and low priorities as defined by the following lists:"
   ]
  },
  {
   "cell_type": "code",
   "execution_count": 19,
   "id": "24fe42ec-0cbf-46e8-af15-6cc2eeff98a9",
   "metadata": {
    "height": 268
   },
   "outputs": [],
   "source": [
    "#instead of that unorganized large list, divide tasks by priority\n",
    "high_priority_tasks = [\n",
    "    \"Compose a brief email to my boss explaining that I will be late for tomorrow's meeting.\",\n",
    "    \"Create an outline for a presentation on the benefits of remote work.\"\n",
    "]\n",
    "\n",
    "medium_priority_tasks = [\n",
    "    \"Write a birthday poem for Otto, celebrating his 28th birthday.\",\n",
    "    \"Draft a thank-you note for my neighbor Dapinder who helped water my plants while I was on vacation.\"\n",
    "]\n",
    "\n",
    "low_priority_tasks = [\n",
    "    \"Write a 300-word review of the movie 'The Arrival'.\"\n",
    "]"
   ]
  },
  {
   "cell_type": "markdown",
   "id": "f5732409",
   "metadata": {},
   "source": [
    "You can use dictionaries to store all the tasks with their priorities in a single data object. Run the following cell to create that dictionary and display its contents:"
   ]
  },
  {
   "cell_type": "code",
   "execution_count": 20,
   "id": "9db13c1e-3c7a-49c2-aaf7-96ba2f5c129d",
   "metadata": {
    "height": 132
   },
   "outputs": [],
   "source": [
    "#create dictionary with all tasks\n",
    "#dictionaries can contain lists!\n",
    "prioritized_tasks = {\n",
    "    \"high_priority\": high_priority_tasks,\n",
    "    \"medium_priority\": medium_priority_tasks,\n",
    "    \"low_priority\": low_priority_tasks\n",
    "}"
   ]
  },
  {
   "cell_type": "code",
   "execution_count": 21,
   "id": "0b5a6caf-ac2b-42de-bfed-34f65e7af533",
   "metadata": {
    "height": 30
   },
   "outputs": [
    {
     "name": "stdout",
     "output_type": "stream",
     "text": [
      "{'high_priority': [\"Compose a brief email to my boss explaining that I will be late for tomorrow's meeting.\", 'Create an outline for a presentation on the benefits of remote work.'], 'medium_priority': ['Write a birthday poem for Otto, celebrating his 28th birthday.', 'Draft a thank-you note for my neighbor Dapinder who helped water my plants while I was on vacation.'], 'low_priority': [\"Write a 300-word review of the movie 'The Arrival'.\"]}\n"
     ]
    }
   ],
   "source": [
    "print(prioritized_tasks)"
   ]
  },
  {
   "cell_type": "markdown",
   "id": "b9133811",
   "metadata": {},
   "source": [
    "With this data structure, it is easy for you to focus only on the high priority tasks and complete them using a for loop and LLMs:"
   ]
  },
  {
   "cell_type": "code",
   "execution_count": 22,
   "id": "a5983ba4-e53c-4e43-b00b-a405ed95cba4",
   "metadata": {
    "height": 30
   },
   "outputs": [
    {
     "name": "stdout",
     "output_type": "stream",
     "text": [
      "[\"Compose a brief email to my boss explaining that I will be late for tomorrow's meeting.\", 'Create an outline for a presentation on the benefits of remote work.']\n"
     ]
    }
   ],
   "source": [
    "print(prioritized_tasks[\"high_priority\"])"
   ]
  },
  {
   "cell_type": "code",
   "execution_count": 23,
   "id": "497c5938-347d-4551-a291-2eb8d5c137f9",
   "metadata": {
    "height": 64
   },
   "outputs": [
    {
     "name": "stdout",
     "output_type": "stream",
     "text": [
      "____________________________________________________________________________________________________\n",
      "Subject: Running Late for Tomorrow's Meeting\n",
      "\n",
      "Hi [Boss's Name],\n",
      "\n",
      "I wanted to let you know that I will be running a few minutes late for tomorrow's meeting. I apologize for any inconvenience this may cause.\n",
      "\n",
      "Thank you for your understanding.\n",
      "\n",
      "Best regards,\n",
      "[Your Name]\n",
      "____________________________________________________________________________________________________\n",
      "\n",
      "\n",
      "____________________________________________________________________________________________________\n",
      "I. Introduction\n",
      "    A. Definition of remote work\n",
      "    B. Overview of remote work trends\n",
      "\n",
      "II. Benefits of Remote Work\n",
      "    A. Increased flexibility and work-life balance\n",
      "    B. Cost savings for both employees and employers\n",
      "    C. Improved productivity and focus\n",
      "    D. Access to a larger talent pool\n",
      "    E. Positive impact on the environment\n",
      "\n",
      "III. Challenges of Remote Work\n",
      "    A. Communication and collaboration issues\n",
      "    B. Feelings of isolation and disconnection\n",
      "    C. Difficulty in setting boundaries between work and personal life\n",
      "\n",
      "IV. Best Practices for Remote Work\n",
      "    A. Establishing a dedicated workspace\n",
      "    B. Setting clear expectations and boundaries\n",
      "    C. Utilizing technology for communication and collaboration\n",
      "    D. Prioritizing self-care and work-life balance\n",
      "\n",
      "V. Conclusion\n",
      "    A. Recap of benefits and challenges of remote work\n",
      "    B. Encouragement for organizations to embrace remote work opportunities\n",
      "    C. Q&A session\n",
      "____________________________________________________________________________________________________\n",
      "\n",
      "\n"
     ]
    }
   ],
   "source": [
    "#complete high priority tasks \n",
    "for task in prioritized_tasks[\"high_priority\"]:\n",
    "    print_llm_response(task)"
   ]
  },
  {
   "cell_type": "markdown",
   "id": "0252164f-5855-4c65-a631-bd71fd3b0586",
   "metadata": {},
   "source": [
    "In the next lesson we will continue exploring dictionaries. You will see how to use values to create prompts to use with LLMs."
   ]
  },
  {
   "cell_type": "markdown",
   "id": "0b3b2ee6-0afb-4b3b-afc0-9d4906333edc",
   "metadata": {},
   "source": [
    "## Extra practice"
   ]
  },
  {
   "cell_type": "markdown",
   "id": "39e1f950-58a2-43bb-a586-4e9f14155b32",
   "metadata": {},
   "source": [
    "Please go through the exercises in the cells below if you want some extra practice for the topics you covered in this lesson."
   ]
  },
  {
   "cell_type": "code",
   "execution_count": null,
   "id": "84928944-5d07-4475-8dda-07bb54823e32",
   "metadata": {
    "height": 166
   },
   "outputs": [],
   "source": [
    "# Update the description for the \n",
    "# Rocky Road flavor using get_llm_response()\n",
    "\n",
    "flavor = \"Rocky Road\" \n",
    "prompt = f\"Provide a brief description for the {flavor} ice cream flavor\"\n",
    "\n",
    "### EDIT THE FOLLOWING CODE ###\n",
    "ice_cream_flavors[\"Rocky Road\"] = \n",
    "### --------------- ###"
   ]
  },
  {
   "cell_type": "code",
   "execution_count": null,
   "id": "2bb222c9-9f01-4f29-9abc-d7c189e5d2d5",
   "metadata": {
    "height": 132
   },
   "outputs": [],
   "source": [
    "# Complete the medium priority tasks\n",
    "# by modifying the following code\n",
    "\n",
    "### EDIT THE FOLLOWING CODE ###\n",
    "for task in prioritized_tasks[\"high_priority\"]:\n",
    "    print_llm_response(task)\n",
    "### --------------- ###"
   ]
  }
 ],
 "metadata": {
  "kernelspec": {
   "display_name": "Python 3 (ipykernel)",
   "language": "python",
   "name": "python3"
  },
  "language_info": {
   "codemirror_mode": {
    "name": "ipython",
    "version": 3
   },
   "file_extension": ".py",
   "mimetype": "text/x-python",
   "name": "python",
   "nbconvert_exporter": "python",
   "pygments_lexer": "ipython3",
   "version": "3.9.19"
  }
 },
 "nbformat": 4,
 "nbformat_minor": 5
}
