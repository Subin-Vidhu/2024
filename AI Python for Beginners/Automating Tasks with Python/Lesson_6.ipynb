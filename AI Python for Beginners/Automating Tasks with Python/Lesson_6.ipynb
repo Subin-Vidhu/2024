{
 "cells": [
  {
   "cell_type": "markdown",
   "id": "c37dfb58-902b-44dd-a56b-11d6afee457a",
   "metadata": {},
   "source": [
    "# Lesson 6 - Helping AI make decisions"
   ]
  },
  {
   "cell_type": "markdown",
   "id": "acc85383-e456-40d7-8b09-79bd91da0eed",
   "metadata": {},
   "source": [
    "In this lesson you will see how booleans can be used to create sophisticated programs with branching decisions."
   ]
  },
  {
   "cell_type": "code",
   "execution_count": 1,
   "id": "09291854-2c07-4c09-8378-d825734df7c6",
   "metadata": {
    "height": 30
   },
   "outputs": [],
   "source": [
    "from helper_functions import print_llm_response"
   ]
  },
  {
   "cell_type": "markdown",
   "id": "3b5f7010-989e-4fc2-87be-ac437ce70df7",
   "metadata": {},
   "source": [
    "## Performing tasks depending on their time to completion"
   ]
  },
  {
   "cell_type": "markdown",
   "id": "9d8faf4e-714e-492d-a3ef-c45a5fd02460",
   "metadata": {},
   "source": [
    "Let's say that you have a task list with tasks that LLMs could assist you with. Each element in that list is a dictionary with two keys: the `description` for the task and the `time_to_complete` after the LLM's first pass."
   ]
  },
  {
   "cell_type": "code",
   "execution_count": 2,
   "id": "224d7983-2e71-40e9-af21-92b9433c34c5",
   "metadata": {
    "height": 336
   },
   "outputs": [],
   "source": [
    "task_list = [\n",
    "    {\n",
    "        \"description\": \"Compose a brief email to my boss explaining that I will be late for next week's meeting.\",\n",
    "        \"time_to_complete\": 3\n",
    "    },\n",
    "    {\n",
    "        \"description\": \"Create an outline for a presentation on the benefits of remote work.\",\n",
    "        \"time_to_complete\": 60\n",
    "    },\n",
    "    {\n",
    "        \"description\": \"Write a 300-word review of the movie 'The Arrival'.\",\n",
    "        \"time_to_complete\": 30\n",
    "    },\n",
    "    {\n",
    "        \"description\": \"Create a shopping list for tofu and olive stir fry.\",\n",
    "        \"time_to_complete\": 5\n",
    "    }\n",
    "]"
   ]
  },
  {
   "cell_type": "markdown",
   "id": "e4326c98-b881-43aa-8c9a-c3dce0aa8312",
   "metadata": {},
   "source": [
    "So, if you access the first element, you will get the following dictionary:"
   ]
  },
  {
   "cell_type": "code",
   "execution_count": 3,
   "id": "033a9da9-5d47-41e5-9366-eb396afdf87a",
   "metadata": {
    "height": 47
   },
   "outputs": [
    {
     "name": "stdout",
     "output_type": "stream",
     "text": [
      "{'description': \"Compose a brief email to my boss explaining that I will be late for next week's meeting.\", 'time_to_complete': 3}\n"
     ]
    }
   ],
   "source": [
    "task = task_list[0]\n",
    "print(task)"
   ]
  },
  {
   "cell_type": "markdown",
   "id": "f222c387-f959-4f24-98ac-8dabad18792c",
   "metadata": {},
   "source": [
    "Now, let's check whether the first task takes at most 5 minutes to complete after the LLM's first pass."
   ]
  },
  {
   "cell_type": "code",
   "execution_count": 4,
   "id": "3e4d5838-e14a-4f10-8492-4b0f45491600",
   "metadata": {
    "height": 30
   },
   "outputs": [
    {
     "data": {
      "text/plain": [
       "True"
      ]
     },
     "execution_count": 4,
     "metadata": {},
     "output_type": "execute_result"
    }
   ],
   "source": [
    "task[\"time_to_complete\"] <= 5 "
   ]
  },
  {
   "cell_type": "markdown",
   "id": "80a9bb09-1f08-48f0-94ae-ec81997fac3f",
   "metadata": {},
   "source": [
    "To complete a task that requires 5 minutes or less after the LLM's first pass, you can use an `if` statement like the one below:"
   ]
  },
  {
   "cell_type": "code",
   "execution_count": 6,
   "id": "48f46f36-1ddc-4add-850a-db1146ea255a",
   "metadata": {
    "height": 64
   },
   "outputs": [
    {
     "name": "stdout",
     "output_type": "stream",
     "text": [
      "____________________________________________________________________________________________________\n",
      "Subject: Late Arrival for Next Week's Meeting\n",
      "\n",
      "Hi [Boss's Name],\n",
      "\n",
      "I wanted to inform you that I will be arriving late for next week's meeting due to a prior commitment. I apologize for any inconvenience this may cause and will make sure to catch up on any missed information upon my arrival.\n",
      "\n",
      "Thank you for your understanding.\n",
      "\n",
      "Best regards,\n",
      "[Your Name]\n",
      "____________________________________________________________________________________________________\n",
      "\n",
      "\n"
     ]
    }
   ],
   "source": [
    "if task[\"time_to_complete\"] <= 5:\n",
    "    task_to_do = task[\"description\"]\n",
    "    print_llm_response(task_to_do)"
   ]
  },
  {
   "cell_type": "markdown",
   "id": "94757062-3a0b-4988-bb33-147762c11d97",
   "metadata": {},
   "source": [
    "Let's see what would happen if you execute that same code for the second task:"
   ]
  },
  {
   "cell_type": "code",
   "execution_count": 7,
   "id": "f868908d-2a8b-498f-954d-11e058694913",
   "metadata": {
    "height": 81
   },
   "outputs": [],
   "source": [
    "task = task_list[1]\n",
    "if task[\"time_to_complete\"] <= 5:\n",
    "    task_to_do = task[\"description\"]\n",
    "    print_llm_response(task_to_do)"
   ]
  },
  {
   "cell_type": "code",
   "execution_count": 8,
   "id": "3e71c360-2aba-4fc8-9afe-6acedef33b57",
   "metadata": {
    "height": 30
   },
   "outputs": [
    {
     "data": {
      "text/plain": [
       "False"
      ]
     },
     "execution_count": 8,
     "metadata": {},
     "output_type": "execute_result"
    }
   ],
   "source": [
    "task[\"time_to_complete\"] <= 5"
   ]
  },
  {
   "cell_type": "markdown",
   "id": "ce67bfcc-bf70-4678-bc5f-fc70713aeb2f",
   "metadata": {},
   "source": [
    "And for the third and fourth tasks:"
   ]
  },
  {
   "cell_type": "code",
   "execution_count": 9,
   "id": "6d2d541f-be6c-43ac-8ce9-8088d6ac82fb",
   "metadata": {
    "height": 81
   },
   "outputs": [],
   "source": [
    "task = task_list[2]\n",
    "if task[\"time_to_complete\"] <= 5:\n",
    "    task_to_do = task[\"description\"]\n",
    "    print_llm_response(task_to_do)"
   ]
  },
  {
   "cell_type": "code",
   "execution_count": 10,
   "id": "ee1a2257-e87a-4c01-91c0-649765cf3144",
   "metadata": {
    "height": 81
   },
   "outputs": [
    {
     "name": "stdout",
     "output_type": "stream",
     "text": [
      "____________________________________________________________________________________________________\n",
      "1. Tofu\n",
      "2. Olive oil\n",
      "3. Soy sauce\n",
      "4. Garlic\n",
      "5. Ginger\n",
      "6. Bell peppers\n",
      "7. Broccoli\n",
      "8. Carrots\n",
      "9. Green onions\n",
      "10. Rice\n",
      "____________________________________________________________________________________________________\n",
      "\n",
      "\n"
     ]
    }
   ],
   "source": [
    "task = task_list[3]\n",
    "if task[\"time_to_complete\"] <= 5:\n",
    "    task_to_do = task[\"description\"]\n",
    "    print_llm_response(task_to_do)"
   ]
  },
  {
   "cell_type": "markdown",
   "id": "629e34bd-f02b-4163-b826-4626215f55f3",
   "metadata": {},
   "source": [
    "## Looping through the task list"
   ]
  },
  {
   "cell_type": "markdown",
   "id": "9bbb1658-819b-4f72-a90c-6d99643e6e20",
   "metadata": {},
   "source": [
    "There is a more efficient way to avoid repeating the same code over and over again for different elements in a list. You have used the `for` loop in previous lessons. Here, you will use it to iterate through all the tasks, check if they take 5 minutes or less to complete, and ask the LLM to do a first pass at them if that's the case."
   ]
  },
  {
   "cell_type": "code",
   "execution_count": 11,
   "id": "af2044cb-6cc4-4ad7-aa70-a447641c5f63",
   "metadata": {
    "height": 81
   },
   "outputs": [
    {
     "name": "stdout",
     "output_type": "stream",
     "text": [
      "____________________________________________________________________________________________________\n",
      "Subject: Running Late for Next Week's Meeting\n",
      "\n",
      "Hi [Boss's Name],\n",
      "\n",
      "I wanted to let you know that I will be running late for next week's meeting. I apologize for any inconvenience this may cause. Please let me know if there is anything I can do to prepare in advance.\n",
      "\n",
      "Thank you for your understanding.\n",
      "\n",
      "Best,\n",
      "[Your Name]\n",
      "____________________________________________________________________________________________________\n",
      "\n",
      "\n",
      "____________________________________________________________________________________________________\n",
      "1. Tofu\n",
      "2. Olive oil\n",
      "3. Soy sauce\n",
      "4. Garlic\n",
      "5. Ginger\n",
      "6. Bell peppers\n",
      "7. Broccoli\n",
      "8. Carrots\n",
      "9. Green onions\n",
      "10. Rice\n",
      "____________________________________________________________________________________________________\n",
      "\n",
      "\n"
     ]
    }
   ],
   "source": [
    "for task in task_list:\n",
    "    if task[\"time_to_complete\"] <= 5:\n",
    "        task_to_do = task[\"description\"]\n",
    "        print_llm_response(task_to_do)        "
   ]
  },
  {
   "cell_type": "markdown",
   "id": "77194b60-9e68-461a-a920-eb84d268bd87",
   "metadata": {},
   "source": [
    "## `if`-`else` blocks"
   ]
  },
  {
   "cell_type": "markdown",
   "id": "8f276ad1-48d1-4211-b509-20ce20ae3a1d",
   "metadata": {},
   "source": [
    "In some cases, you may want to perform another action when the `if` condition is not met. In those cases, you can use `else`. For instance, here Python will let you know that some of the tasks were not completed and will provide you with the `time_to_complete` information for those tasks."
   ]
  },
  {
   "cell_type": "code",
   "execution_count": 12,
   "id": "a403c715-e321-446c-9fd9-ee5db1c28b05",
   "metadata": {
    "height": 132
   },
   "outputs": [
    {
     "name": "stdout",
     "output_type": "stream",
     "text": [
      "____________________________________________________________________________________________________\n",
      "Subject: Running Late for Next Week's Meeting\n",
      "\n",
      "Hi [Boss's Name],\n",
      "\n",
      "I wanted to let you know that I will be running late for next week's meeting. I apologize for any inconvenience this may cause. Please let me know if there is anything I can do to prepare in advance.\n",
      "\n",
      "Thank you for your understanding.\n",
      "\n",
      "Best,\n",
      "[Your Name]\n",
      "____________________________________________________________________________________________________\n",
      "\n",
      "\n",
      "To complete later: 60 time to complete.\n",
      "To complete later: 30 time to complete.\n",
      "____________________________________________________________________________________________________\n",
      "1. Tofu\n",
      "2. Olive oil\n",
      "3. Soy sauce\n",
      "4. Garlic\n",
      "5. Ginger\n",
      "6. Bell peppers\n",
      "7. Broccoli\n",
      "8. Carrots\n",
      "9. Green onions\n",
      "10. Rice\n",
      "____________________________________________________________________________________________________\n",
      "\n",
      "\n"
     ]
    }
   ],
   "source": [
    "for task in task_list:\n",
    "    if task[\"time_to_complete\"] <= 5:\n",
    "        task_to_do = task[\"description\"]\n",
    "        print_llm_response(task_to_do) \n",
    "    else:\n",
    "        print(f\"To complete later: {task['time_to_complete']} time to complete.\")        "
   ]
  },
  {
   "cell_type": "markdown",
   "id": "425e5bb2-c90e-42b0-a046-8b760ea007b7",
   "metadata": {},
   "source": [
    "## Saving tasks for later using lists"
   ]
  },
  {
   "cell_type": "markdown",
   "id": "04030334-2cdf-4164-967d-4d2af593c3d9",
   "metadata": {},
   "source": [
    "After you executed the previous cell, you saw that some of the tasks were not completed and their time to completion. However, it is better practice to save all the information from those tasks using a new list. Here, you will again use the coding paradigm where you initialize an empty list to save information (the tasks to complete later) using `.append()`."
   ]
  },
  {
   "cell_type": "code",
   "execution_count": 13,
   "id": "20751a1a-e73e-4ded-98a5-48c341debae5",
   "metadata": {
    "height": 149
   },
   "outputs": [
    {
     "name": "stdout",
     "output_type": "stream",
     "text": [
      "____________________________________________________________________________________________________\n",
      "Subject: Running Late for Next Week's Meeting\n",
      "\n",
      "Hi [Boss's Name],\n",
      "\n",
      "I wanted to let you know that I will be running late for next week's meeting. I apologize for any inconvenience this may cause. Please let me know if there is anything I can do to prepare in advance.\n",
      "\n",
      "Thank you for your understanding.\n",
      "\n",
      "Best,\n",
      "[Your Name]\n",
      "____________________________________________________________________________________________________\n",
      "\n",
      "\n",
      "____________________________________________________________________________________________________\n",
      "1. Tofu\n",
      "2. Olive oil\n",
      "3. Soy sauce\n",
      "4. Garlic\n",
      "5. Ginger\n",
      "6. Bell peppers\n",
      "7. Broccoli\n",
      "8. Carrots\n",
      "9. Green onions\n",
      "10. Rice\n",
      "____________________________________________________________________________________________________\n",
      "\n",
      "\n"
     ]
    }
   ],
   "source": [
    "tasks_for_later = []\n",
    "\n",
    "for task in task_list:\n",
    "    if task[\"time_to_complete\"] <= 5:\n",
    "        task_to_do = task[\"description\"]\n",
    "        print_llm_response(task_to_do)\n",
    "    else:\n",
    "        tasks_for_later.append(task)"
   ]
  },
  {
   "cell_type": "code",
   "execution_count": 14,
   "id": "f5969c9f-57ac-4146-839b-226ce092387a",
   "metadata": {
    "height": 30
   },
   "outputs": [
    {
     "name": "stdout",
     "output_type": "stream",
     "text": [
      "[{'description': 'Create an outline for a presentation on the benefits of remote work.', 'time_to_complete': 60}, {'description': \"Write a 300-word review of the movie 'The Arrival'.\", 'time_to_complete': 30}]\n"
     ]
    }
   ],
   "source": [
    "print(tasks_for_later)"
   ]
  },
  {
   "cell_type": "markdown",
   "id": "9d616998-e210-4d8b-8928-a9776856f518",
   "metadata": {},
   "source": [
    "Congratulations 🎉🎉🎉, you are very close to completing this course. In the next lesson, you will go through a quick demo about working with files."
   ]
  },
  {
   "cell_type": "markdown",
   "id": "3b4a0ab3-f01a-4fe4-9a50-5f985972b51f",
   "metadata": {},
   "source": [
    "## Extra practice"
   ]
  },
  {
   "cell_type": "markdown",
   "id": "ecbfea5c-678a-4a50-9843-a8a939098c18",
   "metadata": {},
   "source": [
    "Please go through the exercises in the cells below if you want some extra practice for the topics you covered in this lesson."
   ]
  },
  {
   "cell_type": "code",
   "execution_count": null,
   "id": "f625ce01-fca2-4754-9503-2c33020524be",
   "metadata": {
    "height": 183
   },
   "outputs": [],
   "source": [
    "# Modify this code to complete the task \n",
    "# if it takes more than 15 minutes\n",
    "\n",
    "task = task_list[2]\n",
    "\n",
    "### EDIT THE FOLLOWING CODE ###\n",
    "if task[\"time_to_complete\"]: #Modify this line\n",
    "    task_to_do = task[\"description\"]\n",
    "    print_llm_response(task_to_do)\n",
    "### --------------- ###"
   ]
  },
  {
   "cell_type": "code",
   "execution_count": null,
   "id": "42a8fb32-b7f9-4dbb-be2b-0eaa790a0e0f",
   "metadata": {
    "height": 336
   },
   "outputs": [],
   "source": [
    "# Fix the code here by only using indentation.\n",
    "# It should print a message if the \"Chocolate\" ice cream flavor \n",
    "# is located in the ice_cream_flavors list.\n",
    "\n",
    "ice_cream_flavors = [\n",
    "    \"Vanilla\", \"Strawberry\", \"Mint Chocolate Chip\",\n",
    "    \"Cookies and Cream\", \"Rocky Road\", \"Butter Pecan\",\n",
    "    \"Pistachio\", \"Salted Caramel\", \"Chocolate\",\n",
    "    \"Mango\"\n",
    "]\n",
    "\n",
    "### EDIT THE FOLLOWING CODE ### \n",
    "#Hint: Recall that the code within for loops \n",
    "# and if statements is indented. The convention\n",
    "# in Python is to add four spaces for indented code.\n",
    "for flavor in ice_cream_flavors:\n",
    "if flavor == \"Chocolate\":\n",
    "print(f\"The list of flavors contains {flavor}, Andrew's favorite.\")\n",
    "### --------------- ###"
   ]
  },
  {
   "cell_type": "code",
   "execution_count": null,
   "id": "fe5406ef-5da6-41d3-993a-764ef3e6dff9",
   "metadata": {
    "height": 251
   },
   "outputs": [],
   "source": [
    "# Add variables to the f-string to provide the\n",
    "# task description as well as the time to complete \n",
    "# for the tasks that are left for later.\n",
    "\n",
    "for task in task_list:\n",
    "    if task[\"time_to_complete\"] <= 5:\n",
    "        task_to_do = task[\"description\"]\n",
    "        print_llm_response(task_to_do) \n",
    "    else:\n",
    "        ### EDIT THE FOLLOWING CODE ###\n",
    "        # Hint: To add a variable in an f-string\n",
    "        # you need to use the following syntax: {variable_name}. \n",
    "        print(f\"To complete later:\") \n",
    "        ### ---------------  ###"
   ]
  }
 ],
 "metadata": {
  "kernelspec": {
   "display_name": "Python 3 (ipykernel)",
   "language": "python",
   "name": "python3"
  },
  "language_info": {
   "codemirror_mode": {
    "name": "ipython",
    "version": 3
   },
   "file_extension": ".py",
   "mimetype": "text/x-python",
   "name": "python",
   "nbconvert_exporter": "python",
   "pygments_lexer": "ipython3",
   "version": "3.9.19"
  }
 },
 "nbformat": 4,
 "nbformat_minor": 5
}
