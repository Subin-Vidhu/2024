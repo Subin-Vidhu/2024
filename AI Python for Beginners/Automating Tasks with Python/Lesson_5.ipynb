{
 "cells": [
  {
   "cell_type": "markdown",
   "id": "1d3c3445-0836-45b7-b879-df92ba1fd264",
   "metadata": {},
   "source": [
    "# Lesson 5 - Comparing data in Python\n"
   ]
  },
  {
   "cell_type": "code",
   "execution_count": 1,
   "id": "3f11902c-9cf7-42f5-9c0f-890cfed3506c",
   "metadata": {
    "height": 30
   },
   "outputs": [],
   "source": [
    "from helper_functions import print_llm_response, get_llm_response"
   ]
  },
  {
   "cell_type": "markdown",
   "id": "27643fe1-d280-4c25-9df6-4c1fbdc93c91",
   "metadata": {},
   "source": [
    "Take a closer look at the True/False variable you saw at the end of the last lesson."
   ]
  },
  {
   "cell_type": "code",
   "execution_count": 2,
   "id": "66fd82db-5451-4286-a2d8-bc2b48de47d0",
   "metadata": {
    "height": 115
   },
   "outputs": [],
   "source": [
    "food_preferences_tommy = {\n",
    "    #\"dietary_restrictions\": \"vegetarian\",\n",
    "    \"favorite_ingredients\": [\"mushrooms\", \"olives\"],\n",
    "    \"experience_level\": \"intermediate\",\n",
    "    \"maximum_spice_level\": 6\n",
    "}"
   ]
  },
  {
   "cell_type": "markdown",
   "id": "53d1571a-0f64-45b8-8cee-2b427e9055e4",
   "metadata": {},
   "source": [
    "You added the element `\"is vegetarian\"` with a value equal to `True`"
   ]
  },
  {
   "cell_type": "code",
   "execution_count": 3,
   "id": "fa282cdb",
   "metadata": {
    "height": 30
   },
   "outputs": [],
   "source": [
    "food_preferences_tommy[\"is_vegetarian\"] = True"
   ]
  },
  {
   "cell_type": "markdown",
   "id": "c21c36e3-3b19-403c-b667-e81c38e8dc09",
   "metadata": {},
   "source": [
    "This type of data is know as booleans. It can take only two values: `True` or `False`."
   ]
  },
  {
   "cell_type": "code",
   "execution_count": 4,
   "id": "c986cc9a-853c-46f7-bdf8-ef8df55abe32",
   "metadata": {
    "height": 30
   },
   "outputs": [
    {
     "name": "stdout",
     "output_type": "stream",
     "text": [
      "{'favorite_ingredients': ['mushrooms', 'olives'], 'experience_level': 'intermediate', 'maximum_spice_level': 6, 'is_vegetarian': True}\n"
     ]
    }
   ],
   "source": [
    "print(food_preferences_tommy)"
   ]
  },
  {
   "cell_type": "markdown",
   "id": "df2a16f0",
   "metadata": {},
   "source": [
    "## True and False\n",
    "\n",
    "`True` and `False` may look like strings without quotation marks. They are the two values that booleans can take. "
   ]
  },
  {
   "cell_type": "code",
   "execution_count": 5,
   "id": "bf4bbcab",
   "metadata": {
    "height": 47
   },
   "outputs": [
    {
     "name": "stdout",
     "output_type": "stream",
     "text": [
      "True\n",
      "False\n"
     ]
    }
   ],
   "source": [
    "print(True)\n",
    "print(False)"
   ]
  },
  {
   "cell_type": "markdown",
   "id": "dd28620f",
   "metadata": {},
   "source": [
    "Below, you can check the type for each of these values."
   ]
  },
  {
   "cell_type": "code",
   "execution_count": 6,
   "id": "81b76163-452a-41fc-99d9-7409d501739d",
   "metadata": {
    "height": 30
   },
   "outputs": [
    {
     "data": {
      "text/plain": [
       "bool"
      ]
     },
     "execution_count": 6,
     "metadata": {},
     "output_type": "execute_result"
    }
   ],
   "source": [
    "type(True)"
   ]
  },
  {
   "cell_type": "code",
   "execution_count": 7,
   "id": "65304293",
   "metadata": {
    "height": 30
   },
   "outputs": [
    {
     "data": {
      "text/plain": [
       "bool"
      ]
     },
     "execution_count": 7,
     "metadata": {},
     "output_type": "execute_result"
    }
   ],
   "source": [
    "type(False)"
   ]
  },
  {
   "cell_type": "markdown",
   "id": "54b865d5",
   "metadata": {},
   "source": [
    "If you're curious, ask chatbot why it's called Boolean\n",
    "<p style=\"background-color:#F5C780; padding:15px\"> 🤖 <b>Use the Chatbot</b>: Why is the True or False data type called a Boolean?\n",
    "</p>  \n"
   ]
  },
  {
   "cell_type": "markdown",
   "id": "00fc7a7e",
   "metadata": {},
   "source": [
    "As with any other data type, you can assign booleans to variables:"
   ]
  },
  {
   "cell_type": "code",
   "execution_count": 8,
   "id": "d94fb8d3-4c0a-4247-b802-fa0a1821754b",
   "metadata": {
    "height": 30
   },
   "outputs": [],
   "source": [
    "is_tommy_my_friend = True"
   ]
  },
  {
   "cell_type": "code",
   "execution_count": 9,
   "id": "fe3aef3c-8c01-4ad2-867a-fef7c8afe109",
   "metadata": {
    "height": 30
   },
   "outputs": [],
   "source": [
    "is_isabel_older_than_me = False"
   ]
  },
  {
   "cell_type": "code",
   "execution_count": 10,
   "id": "41c2106f-2878-459e-9b91-8b59efe0de1f",
   "metadata": {
    "height": 30
   },
   "outputs": [
    {
     "name": "stdout",
     "output_type": "stream",
     "text": [
      "True\n"
     ]
    }
   ],
   "source": [
    "print(is_tommy_my_friend)"
   ]
  },
  {
   "cell_type": "code",
   "execution_count": 11,
   "id": "2160cb40-97a6-48f9-a3ef-fc97a1b74f11",
   "metadata": {
    "height": 30
   },
   "outputs": [
    {
     "name": "stdout",
     "output_type": "stream",
     "text": [
      "False\n"
     ]
    }
   ],
   "source": [
    "print(is_isabel_older_than_me)"
   ]
  },
  {
   "cell_type": "code",
   "execution_count": 12,
   "id": "110edbfc-3412-4f97-91d3-f294ddf009c6",
   "metadata": {
    "height": 30
   },
   "outputs": [
    {
     "data": {
      "text/plain": [
       "bool"
      ]
     },
     "execution_count": 12,
     "metadata": {},
     "output_type": "execute_result"
    }
   ],
   "source": [
    "type(is_isabel_older_than_me)"
   ]
  },
  {
   "cell_type": "markdown",
   "id": "6930b80c",
   "metadata": {},
   "source": [
    "### Comparison Operators\n",
    "\n",
    "Booleans are what you get back when you compare variables in python. For example, here are the ages for Isabel, Daniel and Tommy:"
   ]
  },
  {
   "cell_type": "code",
   "execution_count": 13,
   "id": "2e3000f5",
   "metadata": {
    "height": 64
   },
   "outputs": [],
   "source": [
    "isabel_age = 28\n",
    "daniel_age = 30\n",
    "tommy_age = 30"
   ]
  },
  {
   "cell_type": "markdown",
   "id": "cc9b9c70",
   "metadata": {},
   "source": [
    "In Python you can compare values using the same operator you probably encounter in math classes. Let's start determining if Isabel is older than Daniel using `>`."
   ]
  },
  {
   "cell_type": "code",
   "execution_count": 14,
   "id": "6c9370d2-5d69-428f-8c8a-c321fa8d830b",
   "metadata": {
    "height": 30
   },
   "outputs": [
    {
     "name": "stdout",
     "output_type": "stream",
     "text": [
      "False\n"
     ]
    }
   ],
   "source": [
    "print(isabel_age > daniel_age)     "
   ]
  },
  {
   "cell_type": "markdown",
   "id": "3ecf1493-cddf-495f-ba6d-b21549d33538",
   "metadata": {},
   "source": [
    "Now, let's determine if she is younger using `<`:"
   ]
  },
  {
   "cell_type": "code",
   "execution_count": 15,
   "id": "0c6dca17-e8d0-4b22-935e-9162882f9910",
   "metadata": {
    "height": 30
   },
   "outputs": [
    {
     "name": "stdout",
     "output_type": "stream",
     "text": [
      "True\n"
     ]
    }
   ],
   "source": [
    "print(isabel_age < daniel_age) "
   ]
  },
  {
   "cell_type": "code",
   "execution_count": 16,
   "id": "d52d2c60-0ac9-4a4d-acb9-3bf98d56efb6",
   "metadata": {
    "height": 47
   },
   "outputs": [
    {
     "name": "stdout",
     "output_type": "stream",
     "text": [
      "False\n"
     ]
    }
   ],
   "source": [
    "is_isabel_older_than_daniel = isabel_age > daniel_age\n",
    "print(is_isabel_older_than_daniel)"
   ]
  },
  {
   "cell_type": "markdown",
   "id": "104a2ac5",
   "metadata": {},
   "source": [
    "You can also use `<=` and `>=` to check if one number is greater than or equal to the other, or if it is lower than or equal to the other. "
   ]
  },
  {
   "cell_type": "code",
   "execution_count": 17,
   "id": "b9a720e6-8727-4284-812a-96c5a7f502c5",
   "metadata": {
    "height": 30
   },
   "outputs": [
    {
     "name": "stdout",
     "output_type": "stream",
     "text": [
      "True\n"
     ]
    }
   ],
   "source": [
    "print(isabel_age <= daniel_age)"
   ]
  },
  {
   "cell_type": "markdown",
   "id": "73861806-67ac-4554-91a0-9d46c226cbc8",
   "metadata": {},
   "source": [
    "Since Daniel and Tommy are the same age, when you use `<=` and `>=` you will get `True` for both cases:"
   ]
  },
  {
   "cell_type": "code",
   "execution_count": 18,
   "id": "2ce5ab16-cc4c-4911-977b-1b1bad075434",
   "metadata": {
    "height": 30
   },
   "outputs": [
    {
     "name": "stdout",
     "output_type": "stream",
     "text": [
      "False\n"
     ]
    }
   ],
   "source": [
    "print(tommy_age < daniel_age)"
   ]
  },
  {
   "cell_type": "code",
   "execution_count": 19,
   "id": "4919a6c8-8c01-48e4-95da-51cf265d900e",
   "metadata": {
    "height": 30
   },
   "outputs": [
    {
     "name": "stdout",
     "output_type": "stream",
     "text": [
      "True\n"
     ]
    }
   ],
   "source": [
    "print(tommy_age <= daniel_age)"
   ]
  },
  {
   "cell_type": "markdown",
   "id": "b2cc56ad",
   "metadata": {},
   "source": [
    "### Equality Operator\n",
    "So, what if you want to check if to things are equal? You would neeed to use `==`. \n",
    "\n",
    "- `= `is an assignment operator, it assigns values to variables\n",
    "- `==` is a comparison operator, it checks if two things are holding the same value, or if two pieces of data are equal "
   ]
  },
  {
   "cell_type": "markdown",
   "id": "1ad8f8b9-5511-4647-899f-83c1cab8b659",
   "metadata": {},
   "source": [
    "So, going back to comparing Daniel's and Tommy's age:"
   ]
  },
  {
   "cell_type": "code",
   "execution_count": 20,
   "id": "4ee287e3-3cd2-4e34-8d4e-eada1cb17b1c",
   "metadata": {
    "height": 30
   },
   "outputs": [
    {
     "name": "stdout",
     "output_type": "stream",
     "text": [
      "True\n"
     ]
    }
   ],
   "source": [
    "print(tommy_age == daniel_age)"
   ]
  },
  {
   "cell_type": "markdown",
   "id": "1bb8a1ef-e7cd-4c8d-bb85-bac592a3cfa2",
   "metadata": {},
   "source": [
    "And Isabel's and Daniel's:"
   ]
  },
  {
   "cell_type": "code",
   "execution_count": 21,
   "id": "bed57b0f",
   "metadata": {
    "height": 30
   },
   "outputs": [
    {
     "name": "stdout",
     "output_type": "stream",
     "text": [
      "False\n"
     ]
    }
   ],
   "source": [
    "print(isabel_age == daniel_age) "
   ]
  },
  {
   "cell_type": "markdown",
   "id": "e9d3f4f0",
   "metadata": {},
   "source": [
    "This operator works for strings too. Here you have definitive proof that a vegetarian is not the same as a vegan."
   ]
  },
  {
   "cell_type": "code",
   "execution_count": 22,
   "id": "f2f80d9f-4f26-490d-a331-8e59db46f060",
   "metadata": {
    "height": 47
   },
   "outputs": [
    {
     "name": "stdout",
     "output_type": "stream",
     "text": [
      "False\n"
     ]
    }
   ],
   "source": [
    "#strings\n",
    "print(\"vegetarian\" == \"vegan\")"
   ]
  },
  {
   "cell_type": "markdown",
   "id": "3faccc81",
   "metadata": {},
   "source": [
    "### Logical Operators"
   ]
  },
  {
   "cell_type": "markdown",
   "id": "2de271c3-68b0-41e9-821b-a6b1d8788b17",
   "metadata": {},
   "source": [
    "Operations with booleans involve logical operators like `and` and `or`. Let's define a couple of boolean variables:"
   ]
  },
  {
   "cell_type": "code",
   "execution_count": 23,
   "id": "9cc10aa3-44a1-4663-80af-198008a2be60",
   "metadata": {
    "height": 47
   },
   "outputs": [],
   "source": [
    "is_tommy_my_friend = True\n",
    "is_isabel_my_friend = True"
   ]
  },
  {
   "cell_type": "markdown",
   "id": "ccbd2a3e-9fff-4c62-8365-76a466d69480",
   "metadata": {},
   "source": [
    "If you want to check whether both Tommy and Isabel are your friends, you can use the `and` operator:"
   ]
  },
  {
   "cell_type": "code",
   "execution_count": 24,
   "id": "31f3bcc0-4bcb-43e8-b146-ab0470f96dd5",
   "metadata": {
    "height": 30
   },
   "outputs": [
    {
     "name": "stdout",
     "output_type": "stream",
     "text": [
      "True\n"
     ]
    }
   ],
   "source": [
    "print(is_tommy_my_friend and is_isabel_my_friend)"
   ]
  },
  {
   "cell_type": "markdown",
   "id": "292e21dc-4aff-402c-80a0-481c0dece2cf",
   "metadata": {},
   "source": [
    "If you want to check whether at least one of them is your friend, you can use the `or` operator:"
   ]
  },
  {
   "cell_type": "code",
   "execution_count": 25,
   "id": "18256980-3b56-4d5b-8197-7a920a3004dd",
   "metadata": {
    "height": 30
   },
   "outputs": [
    {
     "name": "stdout",
     "output_type": "stream",
     "text": [
      "True\n"
     ]
    }
   ],
   "source": [
    "print(is_tommy_my_friend or is_isabel_my_friend)"
   ]
  },
  {
   "cell_type": "markdown",
   "id": "8b34bd9d",
   "metadata": {},
   "source": [
    "Let's say that Isabel, Tommy and Daniel are playing a game involving their ages:"
   ]
  },
  {
   "cell_type": "code",
   "execution_count": 26,
   "id": "2debc569-bdc9-4756-989c-a2be8b1cf2d1",
   "metadata": {
    "height": 64
   },
   "outputs": [],
   "source": [
    "isabel_age = 28\n",
    "daniel_age = 30\n",
    "otto_age = 29"
   ]
  },
  {
   "cell_type": "markdown",
   "id": "92787623-d59b-4195-bca0-9ab36a993010",
   "metadata": {},
   "source": [
    "The game involves checking whether Isabel is younger than both Tommy and Daniel:"
   ]
  },
  {
   "cell_type": "code",
   "execution_count": 27,
   "id": "31d50ba0-7fc6-4867-81b4-84e6202c7415",
   "metadata": {
    "height": 47
   },
   "outputs": [],
   "source": [
    "is_isabel_younger_than_tommy = isabel_age < tommy_age\n",
    "is_isabel_younger_than_daniel = isabel_age < daniel_age"
   ]
  },
  {
   "cell_type": "code",
   "execution_count": 28,
   "id": "ebd00bba-e1e0-49f1-97f5-0c307e65c2f3",
   "metadata": {
    "height": 30
   },
   "outputs": [
    {
     "name": "stdout",
     "output_type": "stream",
     "text": [
      "True\n"
     ]
    }
   ],
   "source": [
    "print(is_isabel_younger_than_tommy and is_isabel_younger_than_daniel)"
   ]
  },
  {
   "cell_type": "markdown",
   "id": "58f13ff5-abb1-4f49-b754-20b2301f572d",
   "metadata": {},
   "source": [
    "In the next video, you will use booleans to write programs that execute different lines of code depending on the boolean value."
   ]
  },
  {
   "cell_type": "markdown",
   "id": "e63f57b8-f653-4295-aff1-fac06a807136",
   "metadata": {},
   "source": [
    "## Extra practice"
   ]
  },
  {
   "cell_type": "markdown",
   "id": "ce9e6425-5ea6-4216-9262-225b79ede6df",
   "metadata": {},
   "source": [
    "Please go through the exercises in the cells below if you want some extra practice for the topics you covered in this lesson."
   ]
  },
  {
   "cell_type": "code",
   "execution_count": null,
   "id": "54049d9c-c247-4ade-bee3-0ee5d72cb73c",
   "metadata": {
    "height": 234
   },
   "outputs": [],
   "source": [
    "# Check whether Isabel is older\n",
    "# than at least one of my friends (Tommy and Daniel)\n",
    "\n",
    "### EDIT THE FOLLOWING CODE ###\n",
    "# Hint: Replace the \"?\" with the correct comparison operator\n",
    "is_isabel_older_than_tommy = isabel_age ? tommy_age\n",
    "is_isabel_older_than_daniel = isabel_age ? daniel_age\n",
    "### --------------- ###\n",
    "\n",
    "### EDIT THE FOLLOWING CODE ###\n",
    "#Hint: Recall the logical operators \"and\" and \"or\" \n",
    "print(\"Check if Isabel is older than at least one of my friends\")\n",
    "### --------------- ###"
   ]
  }
 ],
 "metadata": {
  "kernelspec": {
   "display_name": "Python 3 (ipykernel)",
   "language": "python",
   "name": "python3"
  },
  "language_info": {
   "codemirror_mode": {
    "name": "ipython",
    "version": 3
   },
   "file_extension": ".py",
   "mimetype": "text/x-python",
   "name": "python",
   "nbconvert_exporter": "python",
   "pygments_lexer": "ipython3",
   "version": "3.9.19"
  }
 },
 "nbformat": 4,
 "nbformat_minor": 5
}
