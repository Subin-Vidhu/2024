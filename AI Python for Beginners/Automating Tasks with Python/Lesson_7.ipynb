{
 "cells": [
  {
   "cell_type": "markdown",
   "id": "f6bf49f7-21f0-47bc-9a3e-7fd325a0b9bf",
   "metadata": {},
   "source": [
    "# Lesson 7 - Next course preview: working with files"
   ]
  },
  {
   "cell_type": "markdown",
   "id": "3b995ca7-0cb5-493f-bd27-72af8b13e7bb",
   "metadata": {},
   "source": [
    "In the next course, you will work with files in Python, exploring some fun applications. This lesson is a quick teaser of the topics you will cover next."
   ]
  },
  {
   "cell_type": "code",
   "execution_count": 1,
   "id": "96cd66e4-95b9-4ec3-ac05-e792a8675759",
   "metadata": {
    "height": 30
   },
   "outputs": [],
   "source": [
    "from helper_functions import *"
   ]
  },
  {
   "cell_type": "markdown",
   "id": "2bcd475f-2f4a-48e4-a0c1-610e622bb1c2",
   "metadata": {},
   "source": [
    "In the next cell, you load text from a file that contains a journal entry with descriptions of restaurants and their specialties."
   ]
  },
  {
   "cell_type": "code",
   "execution_count": 2,
   "id": "fec224a6-51f8-4dcf-819f-ccceeef75d48",
   "metadata": {
    "height": 47
   },
   "outputs": [
    {
     "name": "stdout",
     "output_type": "stream",
     "text": [
      "Embarking on a gastronomic journey through Cape Town revealed a city brimming with culinary treasures. Each stop was a testament to the rich flavors and unique dishes that define this vibrant city's food scene.\n",
      "\n",
      "My first destination was The Test Kitchen, a restaurant that has earned its place among the world's best. Situated in the trendy Woodstock area, this dining spot is celebrated for its innovative dishes. I was particularly taken by their signature dish, the \"Pickled Fish Tacos.\" The tangy, flavorful fish wrapped in a soft taco, paired with a zesty salsa, was a delightful start to my culinary adventure. The industrial-chic ambiance added a modern edge to the dining experience.\n",
      "\n",
      "Next, I made my way to La Colombe, perched on the slopes of Constantia. Known for its refined and artistic approach to cuisine, La Colombe's \"Tuna La Colombe\" is a must-try. This dish features perfectly seared tuna, complemented by a delicate ponzu dressing and bursts of citrus. The presentation was as exquisite as the flavors, making it a memorable highlight of the day.\n",
      "\n",
      "For a taste of traditional South African fare, I headed to Gold Restaurant. Located in Green Point, this vibrant eatery offers a culinary tour of the continent. The \"Bobotie,\" a classic Cape Malay dish, stood out with its spiced minced meat topped with a savory custard. The rich, aromatic flavors, combined with the lively African drumming and dance performances, created an immersive cultural experience.\n",
      "\n",
      "At the bustling V&A Waterfront, I visited Harbour House for some of the freshest seafood in town. The \"Grilled Kingklip\" was a revelation. The succulent, flaky fish, grilled to perfection and served with a side of roasted vegetables, highlighted the ocean's bounty. The stunning views of the harbor added to the meal's appeal.\n",
      "\n",
      "Finally, my journey concluded at The Pot Luck Club, another gem in Woodstock. This trendy spot is known for its small plates, perfect for sharing. The standout dish was the \"Beef Tataki.\" Thinly sliced, seared beef with a tangy soy dressing and a hint of wasabi provided a burst of umami and heat. The eclectic, artistic vibe of the restaurant made for a fitting end to my culinary tour.\n",
      "\n"
     ]
    }
   ],
   "source": [
    "journal = read_journal(\"journal_entries/cape_town.txt\") \n",
    "print(journal)"
   ]
  },
  {
   "cell_type": "markdown",
   "id": "0c817471-c24e-4e0b-a274-b09271e06004",
   "metadata": {},
   "source": [
    "As you can see, there is a lot of text, and finding the important information can take some time. You can use LLMs to highlight the important information for you. For instance, the restaurants and their specialties."
   ]
  },
  {
   "cell_type": "code",
   "execution_count": 4,
   "id": "12fad143-833a-44db-a5cc-1f7791e8705e",
   "metadata": {
    "height": 200
   },
   "outputs": [
    {
     "data": {
      "text/html": [
       "```html\n",
       "<p>Embarking on a gastronomic journey through Cape Town revealed a city brimming with culinary treasures. Each stop was a testament to the rich flavors and unique dishes that define this vibrant city's food scene.</p>\n",
       "\n",
       "<p>My first destination was <span style=\"color:blue\"><strong>The Test Kitchen</strong></span>, a restaurant that has earned its place among the world's best. Situated in the trendy Woodstock area, this dining spot is celebrated for its innovative dishes. I was particularly taken by their signature dish, the \"<span style=\"color:blue\">Pickled Fish Tacos</span>.\" The tangy, flavorful fish wrapped in a soft taco, paired with a zesty salsa, was a delightful start to my culinary adventure. The industrial-chic ambiance added a modern edge to the dining experience.</p>\n",
       "\n",
       "<p>Next, I made my way to <span style=\"color:red\"><strong>La Colombe</strong></span>, perched on the slopes of Constantia. Known for its refined and artistic approach to cuisine, <span style=\"color:red\">La Colombe's \"Tuna La Colombe\"</span> is a must-try. This dish features perfectly seared tuna, complemented by a delicate ponzu dressing and bursts of citrus. The presentation was as exquisite as the flavors, making it a memorable highlight of the day.</p>\n",
       "\n",
       "<p>For a taste of traditional South African fare, I headed to <span style=\"color:green\"><strong>Gold Restaurant</strong></span>. Located in Green Point, this vibrant eatery offers a culinary tour of the continent. The \"<span style=\"color:green\">Bobotie</span>,\" a classic Cape Malay dish, stood out with its spiced minced meat topped with a savory custard. The rich, aromatic flavors, combined with the lively African drumming and dance performances, created an immersive cultural experience.</p>\n",
       "\n",
       "<p>At the bustling V&A Waterfront, I visited <span style=\"color:purple\"><strong>Harbour House</strong></span> for some of the freshest seafood in town. The \"<span style=\"color:purple\">Grilled Kingklip</span>\" was a revelation. The succulent, flaky fish, grilled to perfection and served with a side of roasted vegetables, highlighted the ocean's bounty. The stunning views of the harbor added to the meal's appeal.</p>\n",
       "\n",
       "<p>Finally, my journey concluded at <span style=\"color:orange\"><strong>The Pot Luck Club</strong></span>, another gem in Woodstock. This trendy spot is known for its small plates, perfect for sharing. The standout dish was the \"<span style=\"color:orange\">Beef Tataki</span>.\" Thinly sliced, seared beef with a tangy soy dressing and a hint of wasabi provided a burst of umami and heat. The eclectic, artistic vibe of the restaurant made for a fitting end to my culinary tour.</p>\n",
       "```"
      ],
      "text/plain": [
       "<IPython.core.display.HTML object>"
      ]
     },
     "metadata": {},
     "output_type": "display_data"
    }
   ],
   "source": [
    "prompt = f\"\"\"\n",
    "Given the following journal entry from a food critic, identify the restaurants and their specialties.\n",
    "For each restaurant, highlight its name and specialties in bold and use different colors for each.\n",
    "Provide the output as HTML suitable for display in a Jupyter notebook.\n",
    "\n",
    "Journal entry:\n",
    "{journal}\n",
    "\"\"\"\n",
    "html_response = get_llm_response(prompt)\n",
    "display_html(html_response)"
   ]
  },
  {
   "cell_type": "markdown",
   "id": "580a69ac-4b3c-49e2-a397-4ff033370fe5",
   "metadata": {},
   "source": [
    "You have achieved a fantastic feat! 🎉🎉🎉 You completed this course and are ready to tackle new programming challenges. You have already seen how to work with lists, dictionaries, and booleans, and are familiar with how to use all of them with LLMs. I hope to see you in the next course so that you continue to explore cool examples like the one in this lesson! 🚀👏"
   ]
  }
 ],
 "metadata": {
  "kernelspec": {
   "display_name": "Python 3 (ipykernel)",
   "language": "python",
   "name": "python3"
  },
  "language_info": {
   "codemirror_mode": {
    "name": "ipython",
    "version": 3
   },
   "file_extension": ".py",
   "mimetype": "text/x-python",
   "name": "python",
   "nbconvert_exporter": "python",
   "pygments_lexer": "ipython3",
   "version": "3.9.19"
  }
 },
 "nbformat": 4,
 "nbformat_minor": 5
}
