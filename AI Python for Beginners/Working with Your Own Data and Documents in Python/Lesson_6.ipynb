{
 "cells": [
  {
   "cell_type": "markdown",
   "metadata": {},
   "source": [
    "# Lesson 6: Turning code blocks into reusable functions"
   ]
  },
  {
   "cell_type": "markdown",
   "metadata": {},
   "source": [
    "Through this and the previous courses, you have been using several different **functions**. \n",
    "\n",
    "In this lesson, you'll learn how to create your own, and see how they can help you avoid writing lines of code over and over again.\n",
    "\n",
    "Let's start by importing the helper functions you'll use:"
   ]
  },
  {
   "cell_type": "code",
   "execution_count": 1,
   "metadata": {
    "height": 47
   },
   "outputs": [],
   "source": [
    "from helper_functions import print_llm_response\n",
    "from IPython.display import Markdown, display"
   ]
  },
  {
   "cell_type": "markdown",
   "metadata": {},
   "source": [
    "## Revisiting functions you've already used\n",
    "\n",
    "Here are some of the functions you've encountered so far in these courses.\n",
    "\n",
    "The `print` function displays data to the screen:"
   ]
  },
  {
   "cell_type": "code",
   "execution_count": 2,
   "metadata": {
    "height": 30
   },
   "outputs": [
    {
     "name": "stdout",
     "output_type": "stream",
     "text": [
      "Hello World!\n"
     ]
    }
   ],
   "source": [
    "print(\"Hello World!\")"
   ]
  },
  {
   "cell_type": "markdown",
   "metadata": {},
   "source": [
    "The `len` function returns the number of items, or elements, in a list:"
   ]
  },
  {
   "cell_type": "code",
   "execution_count": 3,
   "metadata": {
    "height": 98
   },
   "outputs": [
    {
     "data": {
      "text/plain": [
       "4"
      ]
     },
     "execution_count": 3,
     "metadata": {},
     "output_type": "execute_result"
    }
   ],
   "source": [
    "# Create a list of friends\n",
    "friends_list = [\"Tommy\", \"Isabel\", \"Daniel\", \"Otto\"]\n",
    "\n",
    "# Return the number of friends in the list\n",
    "len(friends_list)"
   ]
  },
  {
   "cell_type": "markdown",
   "metadata": {},
   "source": [
    "And you've been using a special helper function called `print_llm_response` to pass prompts to an LLM and display the response to screen:"
   ]
  },
  {
   "cell_type": "code",
   "execution_count": 4,
   "metadata": {
    "height": 64
   },
   "outputs": [
    {
     "name": "stdout",
     "output_type": "stream",
     "text": [
      "The capital of France is Paris.\n"
     ]
    }
   ],
   "source": [
    "# The 'print_llm_response' function is in the helper_functions.py file\n",
    "print_llm_response(\"What is the capital of France\")"
   ]
  },
  {
   "cell_type": "markdown",
   "metadata": {},
   "source": [
    "## Defining your own functions"
   ]
  },
  {
   "cell_type": "markdown",
   "metadata": {},
   "source": [
    "Defining functions can help you avoid typing the same code over and over. \n",
    "\n",
    "For example, to read in the text from different food journals, you'd need to repeat the following code:"
   ]
  },
  {
   "cell_type": "code",
   "execution_count": 5,
   "metadata": {
    "height": 98
   },
   "outputs": [
    {
     "name": "stdout",
     "output_type": "stream",
     "text": [
      "My first destination was The Test Kitchen, a restaurant that has earned its place among the world's best. Situated in the trendy Woodstock area, this dining spot is celebrated for its innovative dishes. I was particularly taken by their signature dish, the \"Pickled Fish Tacos.\" The tangy, flavorful fish wrapped in a soft taco, paired with a zesty salsa, was a delightful start to my culinary adventure. The industrial-chic ambiance added a modern edge to the dining experience.\n",
      "\n",
      "Next, I made my way to La Colombe, perched on the slopes of Constantia. Known for its refined and artistic approach to cuisine, La Colombe's \"Tuna La Colombe\" is a must-try. This dish features perfectly seared tuna, complemented by a delicate ponzu dressing and bursts of citrus. The presentation was as exquisite as the flavors, making it a memorable highlight of the day.\n",
      "\n",
      "At the bustling V&A Waterfront, I visited Harbour House for some of the freshest seafood in town. The \"Grilled Kingklip\" was a revelation. The succulent, flaky fish, grilled to perfection and served with a side of roasted vegetables, highlighted the ocean's bounty. The stunning views of the harbor added to the meal's appeal.\n",
      "\n",
      "Finally, my journey concluded at The Pot Luck Club, another gem in Woodstock. This trendy spot is known for its small plates, perfect for sharing. The standout dish was the \"Beef Tataki.\" Thinly sliced, seared beef with a tangy soy dressing and a hint of wasabi provided a burst of umami and heat. The eclectic, artistic vibe of the restaurant made for a fitting end to my culinary tour.\n",
      "\n"
     ]
    }
   ],
   "source": [
    "# read in the Cape Town journal\n",
    "f = open(\"cape_town.txt\", \"r\")\n",
    "journal_cape_town = f.read()\n",
    "f.close()\n",
    "print(journal_cape_town)"
   ]
  },
  {
   "cell_type": "code",
   "execution_count": 6,
   "metadata": {
    "height": 98
   },
   "outputs": [
    {
     "name": "stdout",
     "output_type": "stream",
     "text": [
      "My first stop was the legendary Le Comptoir du Relais in the heart of Saint-Germain-des-Prés. Known for its bistro classics, I opted for the \"Coq au Vin.\" This traditional dish, featuring chicken braised in red wine with mushrooms and onions, was the epitome of comfort food. The rich, flavorful sauce and tender chicken were perfection on a plate. The cozy, bustling atmosphere of the bistro added to the experience, making it feel authentically Parisian.\n",
      "\n",
      "Next, I ventured to Le Jules Verne, located in the Eiffel Tower. Dining here is as much about the view as it is about the food. I was treated to \"Filet de Boeuf,\" a beautifully cooked beef fillet served with a delicate truffle sauce. The meat was succulent and flavorful, and the elegant presentation was matched only by the breathtaking panorama of Paris below. It was a dining experience that combined culinary excellence with visual splendor.\n",
      "\n",
      "Seeking something sweet, I made my way to Pierre Hermé, a patisserie revered for its exquisite pastries. I indulged in a \"Ispahan,\" a delicate macaron filled with rose, lychee, and raspberry. Each bite was a harmonious blend of sweetness and floral notes, showcasing the artistry of French patisserie. The elegant, minimalist setting of the boutique allowed the pastries to shine as the true stars.\n",
      "\n",
      "To cap off my culinary journey, I visited L'Ambroisie in Place des Vosges. This three-Michelin-starred restaurant is the pinnacle of fine dining. I savored the \"Turbot with Artichokes and Truffle,\" a dish that was as luxurious as it sounds. The fish was perfectly cooked, and the combination of flavors was both sophisticated and sublime. Dining at L'Ambroisie was an unforgettable experience, with impeccable service and an ambiance of timeless elegance.\n",
      "\n"
     ]
    }
   ],
   "source": [
    "# read in the Paris journal\n",
    "f = open(\"paris.txt\", \"r\")\n",
    "journal_paris = f.read()\n",
    "f.close()\n",
    "print(journal_paris)"
   ]
  },
  {
   "cell_type": "markdown",
   "metadata": {},
   "source": [
    "If you need to load multiple files, you'll have to repeat these three lines for each file.\n",
    "\n",
    "To avoid this, you can instead define a **function** to read in a file and store the contents to a variable:"
   ]
  },
  {
   "cell_type": "code",
   "execution_count": 7,
   "metadata": {
    "height": 98
   },
   "outputs": [],
   "source": [
    "def print_journal(file):\n",
    "    f = open(file, \"r\")\n",
    "    journal = f.read()\n",
    "    f.close()\n",
    "    print(journal)"
   ]
  },
  {
   "cell_type": "markdown",
   "metadata": {},
   "source": [
    "Now that you have created this function, you can reuse it to read in different files:"
   ]
  },
  {
   "cell_type": "code",
   "execution_count": 8,
   "metadata": {
    "height": 47
   },
   "outputs": [
    {
     "name": "stdout",
     "output_type": "stream",
     "text": [
      "My culinary adventure began at Saint Peter, a renowned seafood restaurant in Paddington. This place is a temple to Australian seafood, and the \"Murray Cod\" was a revelation. The fish, sourced from the Murray River, was perfectly cooked, with a crispy skin and tender, flaky flesh. It was served with a simple yet flavorful accompaniment of seasonal vegetables, allowing the quality of the fish to shine. The restaurant's dedication to sustainability and nose-to-tail seafood cooking added an educational aspect to the delicious meal.\n",
      "\n",
      "Next, I visited Billy Kwong in Potts Point, where celebrated chef Kylie Kwong puts a unique spin on modern Australian cuisine using native ingredients. The standout dish here was the \"Crispy Skin Duck with Davidson’s Plum Sauce.\" The duck was cooked to perfection, with a rich, flavorful meat and delightfully crispy skin, complemented by the tart and slightly sweet Davidson’s plum sauce. This dish was a perfect example of how traditional recipes can be elevated with local, indigenous ingredients, creating something both familiar and new.\n",
      "\n",
      "In search of a true Australian pub experience, I headed to The Lord Nelson Brewery Hotel in The Rocks. This historic pub serves up hearty, classic Australian fare, and the \"Roast Lamb\" was exactly what I was craving. The lamb, roasted to tender perfection, was served with a medley of root vegetables and a rich gravy, making for a comforting and satisfying meal. Paired with one of their house-brewed ales, it was a quintessential Aussie pub experience that I would highly recommend.\n",
      "\n",
      "I couldn't miss out on trying some of the famous Australian barbecue, so I headed to Vic's Meat Market at the Sydney Fish Market. The \"BBQ Beef Brisket\" was a highlight, slow-cooked to achieve a melt-in-the-mouth texture, and served with a tangy barbecue sauce. The smoky, rich flavor of the brisket was enhanced by the vibrant, outdoor setting of the market, where the aroma of grilling meat filled the air.\n",
      "\n",
      "To round off my exploration of local cuisine, I visited Bennelong, located within the iconic Sydney Opera House. This fine dining restaurant celebrates Australian produce in every dish. The \"Sydney Rock Oysters\" were an exquisite start to the meal, served with a delicate vinaigrette that highlighted their briny freshness. The oysters, sourced from local waters, were plump and succulent, offering a pure taste of the sea.\n",
      "\n",
      "\n"
     ]
    }
   ],
   "source": [
    "# Read in the Sydney journal\n",
    "print_journal(\"sydney.txt\")"
   ]
  },
  {
   "cell_type": "markdown",
   "metadata": {},
   "source": [
    "You can define a function that **returns** a variable, rather than printing to screen:"
   ]
  },
  {
   "cell_type": "code",
   "execution_count": 9,
   "metadata": {
    "height": 115
   },
   "outputs": [],
   "source": [
    "def read_journal(file):\n",
    "    f = open(file, \"r\")\n",
    "    journal = f.read()\n",
    "    f.close()\n",
    "    # print(journal)\n",
    "    return journal"
   ]
  },
  {
   "cell_type": "markdown",
   "metadata": {},
   "source": [
    "Use the `read_journal` function to store the contents of the Tokyo journal in a variable:"
   ]
  },
  {
   "cell_type": "code",
   "execution_count": 10,
   "metadata": {
    "height": 30
   },
   "outputs": [],
   "source": [
    "journal_tokyo = read_journal(\"tokyo.txt\")"
   ]
  },
  {
   "cell_type": "markdown",
   "metadata": {},
   "source": [
    "Print out the Tokyo journal content:"
   ]
  },
  {
   "cell_type": "code",
   "execution_count": 11,
   "metadata": {
    "height": 30
   },
   "outputs": [
    {
     "name": "stdout",
     "output_type": "stream",
     "text": [
      "Tokyo's culinary landscape is nothing short of extraordinary. Each spot offers a unique taste of the city's diverse food culture. Here's a quick guide to some must-try places and dishes.\n",
      "\n",
      "    Sukiyabashi Jiro\n",
      "        Location: Ginza\n",
      "        Dish: Omakase sushi\n",
      "        Highlight: Impeccably crafted sushi made by the legendary Jiro Ono. Each piece is a masterclass in balance and flavor.\n",
      "\n",
      "    Ichiran Ramen\n",
      "        Location: Shibuya\n",
      "        Dish: Tonkotsu ramen\n",
      "        Highlight: A personal ramen booth for focused, uninterrupted enjoyment. Rich, creamy broth with perfectly cooked noodles.\n",
      "\n",
      "    Tsukiji Outer Market\n",
      "        Location: Tsukiji\n",
      "        Dish: Fresh sashimi and street food\n",
      "        Highlight: Vibrant market atmosphere. Indulge in ultra-fresh sashimi, grilled seafood, and other Japanese street food delights.\n",
      "\n",
      "    Narisawa\n",
      "        Location: Minato\n",
      "        Dish: Innovative tasting menu\n",
      "        Highlight: A fusion of French and Japanese techniques. Creative dishes with an emphasis on sustainability and local ingredients.\n",
      "\n",
      "    Ginza Kojyu\n",
      "        Location: Ginza\n",
      "        Dish: Kaiseki (traditional multi-course meal)\n",
      "        Highlight: Exquisite presentation and meticulous preparation. A journey through seasonal Japanese flavors.\n",
      "\n",
      "    Akasaka Kikunoi\n",
      "        Location: Akasaka\n",
      "        Dish: Kaiseki\n",
      "        Highlight: Elegant and serene setting. Seasonal ingredients transformed into artful, delicious courses.\n",
      "\n",
      "\n"
     ]
    }
   ],
   "source": [
    "print(journal_tokyo)"
   ]
  },
  {
   "cell_type": "markdown",
   "metadata": {},
   "source": [
    "Print out the length of the journal - the value is the number of individual characters in the string variable `journal_tokyo`:"
   ]
  },
  {
   "cell_type": "code",
   "execution_count": 12,
   "metadata": {
    "height": 30
   },
   "outputs": [
    {
     "name": "stdout",
     "output_type": "stream",
     "text": [
      "1430\n"
     ]
    }
   ],
   "source": [
    "print(len(journal_tokyo))"
   ]
  },
  {
   "cell_type": "markdown",
   "metadata": {},
   "source": [
    "## Parameters in functions"
   ]
  },
  {
   "cell_type": "markdown",
   "metadata": {},
   "source": [
    "Previously, you saw how to use Python to carry out calculations that convert degrees Fahrenheit to degrees Celsius:"
   ]
  },
  {
   "cell_type": "code",
   "execution_count": 13,
   "metadata": {
    "height": 132
   },
   "outputs": [
    {
     "name": "stdout",
     "output_type": "stream",
     "text": [
      "72°F is equivalent to 22.22°C\n"
     ]
    }
   ],
   "source": [
    "# Value of temperature in Fahrenheit\n",
    "fahrenheit = 72\n",
    "# Calculation for getting the temperature in Celsius\n",
    "celsius = (fahrenheit - 32) * 5 / 9\n",
    "\n",
    "# Print the results\n",
    "print(f\"{fahrenheit}°F is equivalent to {celsius:.2f}°C\")"
   ]
  },
  {
   "cell_type": "markdown",
   "metadata": {},
   "source": [
    "If you want to convert another temperature, you have to write the code again, replacing the value for the ```fahrenheit``` variable with the new temperature to convert:"
   ]
  },
  {
   "cell_type": "code",
   "execution_count": 14,
   "metadata": {
    "height": 132
   },
   "outputs": [
    {
     "name": "stdout",
     "output_type": "stream",
     "text": [
      "68°F is equivalent to 20.00°C\n"
     ]
    }
   ],
   "source": [
    "# Value of temperature in Fahrenheit\n",
    "fahrenheit = 68\n",
    "# Calculation for getting the temperature in Celsius\n",
    "celsius = (fahrenheit - 32) * 5 / 9\n",
    "\n",
    "# Print the results\n",
    "print(f\"{fahrenheit}°F is equivalent to {celsius:.2f}°C\")"
   ]
  },
  {
   "cell_type": "markdown",
   "metadata": {},
   "source": [
    "You can do this as many times as you need"
   ]
  },
  {
   "cell_type": "code",
   "execution_count": 15,
   "metadata": {
    "height": 132
   },
   "outputs": [
    {
     "name": "stdout",
     "output_type": "stream",
     "text": [
      "76°F is equivalent to 24.44°C\n"
     ]
    }
   ],
   "source": [
    "# Value of temperature in Fahrenheit\n",
    "fahrenheit = 76\n",
    "# Calculation for getting the temperature in Celsius\n",
    "celsius = (fahrenheit - 32) * 5 / 9\n",
    "\n",
    "# Print the results\n",
    "print(f\"{fahrenheit}°F is equivalent to {celsius:.2f}°C\")"
   ]
  },
  {
   "cell_type": "markdown",
   "metadata": {},
   "source": [
    "Again, this is a lot of typing! You can avoid this by writing a function for converting Fahrenheit to Celsius. Here is the code:"
   ]
  },
  {
   "cell_type": "code",
   "execution_count": 16,
   "metadata": {
    "height": 98
   },
   "outputs": [],
   "source": [
    "def fahrenheit_to_celsius(fahrenheit):\n",
    "    # Calculation for getting the temperature in celsius\n",
    "    celsius = (fahrenheit - 32) * 5 / 9\n",
    "    # Print the results\n",
    "    print(f\"{fahrenheit}°F is equivalent to {celsius:.2f}°C\")"
   ]
  },
  {
   "cell_type": "markdown",
   "metadata": {},
   "source": [
    "Now, instead of changing the value of the ```fahrenheit``` variable directly each time, you'll pass the desired value to the function as a ***parameter***. A parameter is a variable that is used in functions to pass in information to the function - in this case the temperature in Fahrenheit that you want to covert to Celsius."
   ]
  },
  {
   "cell_type": "markdown",
   "metadata": {},
   "source": [
    "Let's use the ```fahrenheit_to_celsius``` function and pass in a temperature as the input parameter!"
   ]
  },
  {
   "cell_type": "code",
   "execution_count": 17,
   "metadata": {
    "height": 30
   },
   "outputs": [
    {
     "name": "stdout",
     "output_type": "stream",
     "text": [
      "71°F is equivalent to 21.67°C\n"
     ]
    }
   ],
   "source": [
    "fahrenheit_to_celsius(71)"
   ]
  },
  {
   "cell_type": "code",
   "execution_count": 18,
   "metadata": {
    "height": 30
   },
   "outputs": [
    {
     "name": "stdout",
     "output_type": "stream",
     "text": [
      "70°F is equivalent to 21.11°C\n"
     ]
    }
   ],
   "source": [
    "fahrenheit_to_celsius(70)"
   ]
  },
  {
   "cell_type": "code",
   "execution_count": 19,
   "metadata": {
    "height": 30
   },
   "outputs": [
    {
     "name": "stdout",
     "output_type": "stream",
     "text": [
      "212°F is equivalent to 100.00°C\n"
     ]
    }
   ],
   "source": [
    "fahrenheit_to_celsius(212)"
   ]
  },
  {
   "cell_type": "markdown",
   "metadata": {},
   "source": [
    "## Returning values"
   ]
  },
  {
   "cell_type": "markdown",
   "metadata": {},
   "source": [
    "To be able to save the result from the temperature conversion function, you need to include a ```return``` statement.\n",
    "\n",
    "Here is a modification of the `fahrenheit_to_celsius` function that returns the converted temperature as a variable:"
   ]
  },
  {
   "cell_type": "code",
   "execution_count": 20,
   "metadata": {
    "height": 115
   },
   "outputs": [],
   "source": [
    "def fahrenheit_to_celsius(fahrenheit):\n",
    "    celsius = (fahrenheit - 32) * 5 / 9\n",
    "    # print(f\"{fahrenheit}°F is equivalent to {celsius:.2f}°C\")\n",
    "    \n",
    "    # Return the calculated value (not to print it, as before)\n",
    "    return celsius"
   ]
  },
  {
   "cell_type": "markdown",
   "metadata": {},
   "source": [
    "So when you run this function, the result is stored in a variable:"
   ]
  },
  {
   "cell_type": "code",
   "execution_count": 21,
   "metadata": {
    "height": 64
   },
   "outputs": [],
   "source": [
    "# The value of temperature in Fahrenheit is 45\n",
    "fahrenheit = 45\n",
    "celsius = fahrenheit_to_celsius(fahrenheit)"
   ]
  },
  {
   "cell_type": "markdown",
   "metadata": {},
   "source": [
    "You can now print the result:"
   ]
  },
  {
   "cell_type": "code",
   "execution_count": 22,
   "metadata": {
    "height": 30
   },
   "outputs": [
    {
     "name": "stdout",
     "output_type": "stream",
     "text": [
      "7.222222222222222\n"
     ]
    }
   ],
   "source": [
    "print(celsius)"
   ]
  },
  {
   "cell_type": "markdown",
   "metadata": {},
   "source": [
    "Note that this function returns a number, in this case a `float`:"
   ]
  },
  {
   "cell_type": "code",
   "execution_count": 23,
   "metadata": {
    "height": 30
   },
   "outputs": [
    {
     "data": {
      "text/plain": [
       "float"
      ]
     },
     "execution_count": 23,
     "metadata": {},
     "output_type": "execute_result"
    }
   ],
   "source": [
    "type(celsius)"
   ]
  },
  {
   "cell_type": "markdown",
   "metadata": {},
   "source": [
    "## Extra practice\n",
    "\n",
    "Try the exercises below to practice what you have learned in this lesson!\n",
    "\n",
    "### Exercise 1\n",
    "\n",
    "Complete the code below to create a function that converts Celsius to Fahrenheit and displays the result to the screen.\n",
    "\n",
    "**Hint:** Use the code from Fahrenheit to Celsius to help you!\n"
   ]
  },
  {
   "cell_type": "code",
   "execution_count": 24,
   "metadata": {
    "height": 132
   },
   "outputs": [
    {
     "ename": "IndentationError",
     "evalue": "expected an indented block (1576535364.py, line 4)",
     "output_type": "error",
     "traceback": [
      "\u001b[0;36m  Cell \u001b[0;32mIn[24], line 4\u001b[0;36m\u001b[0m\n\u001b[0;31m    celsius_to_fahrenheit(0)   # Should print 32\u001b[0m\n\u001b[0m    ^\u001b[0m\n\u001b[0;31mIndentationError\u001b[0m\u001b[0;31m:\u001b[0m expected an indented block\n"
     ]
    }
   ],
   "source": [
    "\n",
    "def celsius_to_fahrenheit():\n",
    "    # WRITE YOUR CODE HERE\n",
    "\n",
    "celsius_to_fahrenheit(0)   # Should print 32\n",
    "celsius_to_fahrenheit(100) # Should print 212\n",
    "celsius_to_fahrenheit(13)  # Should print 55.4"
   ]
  },
  {
   "cell_type": "markdown",
   "metadata": {},
   "source": [
    "### Exercise 2\n",
    "\n",
    "Write a function below that converts a length in **meters** to a length in **feet**, then returns the result.\n",
    "\n",
    "Ask the chatbot if you're not certain of the equation!\n"
   ]
  },
  {
   "cell_type": "code",
   "execution_count": null,
   "metadata": {
    "height": 115
   },
   "outputs": [],
   "source": [
    "\n",
    "def meters_to_feet:\n",
    "    # WRITE YOUR CODE HERE\n",
    "\n",
    "print(meters_to_feet(10)) # Should print 32.8084\n",
    "print(meters_to_feet(0.7)) # Should print 2.29659"
   ]
  },
  {
   "cell_type": "markdown",
   "metadata": {},
   "source": [
    "### Challenge exercise!\n",
    "\n",
    "Write a function that takes in a **filename** as a parameter, uses an LLM to create a three bullet point summary, and returns the bullets as a string.\n",
    "\n",
    "Use the chatbot for help when you need it!"
   ]
  },
  {
   "cell_type": "code",
   "execution_count": null,
   "metadata": {
    "height": 319
   },
   "outputs": [],
   "source": [
    "\n",
    "\n",
    "def create_bullet_points(file):\n",
    "    # Complete code below to read in the file and store the contents as a string\n",
    "    f = open(file, \"r\")\n",
    "    file_contents = \n",
    "\n",
    "    # Write a prompt and pass to an LLM\n",
    "    prompt = f\"\"\"YOUR PROMPT HERE\n",
    "    \"\"\"\n",
    "    bullets = print_llm_response() # Don't forget to add your prompt!\n",
    "\n",
    "    # Return the bullet points\n",
    "    return bullets\n",
    "\n",
    "# This line of code runs your function for istanbul.txt\n",
    "create_bullet_points(\"istanbul.txt\")"
   ]
  }
 ],
 "metadata": {
  "kernelspec": {
   "display_name": "Python 3 (ipykernel)",
   "language": "python",
   "name": "python3"
  },
  "language_info": {
   "codemirror_mode": {
    "name": "ipython",
    "version": 3
   },
   "file_extension": ".py",
   "mimetype": "text/x-python",
   "name": "python",
   "nbconvert_exporter": "python",
   "pygments_lexer": "ipython3",
   "version": "3.9.19"
  }
 },
 "nbformat": 4,
 "nbformat_minor": 2
}
