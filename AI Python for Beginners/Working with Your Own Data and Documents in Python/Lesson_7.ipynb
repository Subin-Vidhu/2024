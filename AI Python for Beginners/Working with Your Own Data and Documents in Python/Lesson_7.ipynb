{
 "cells": [
  {
   "cell_type": "markdown",
   "metadata": {},
   "source": [
    "# Lesson 7: Creating itineraries for multiple cities"
   ]
  },
  {
   "cell_type": "markdown",
   "metadata": {},
   "source": [
    "In this lesson, you will use everything you have seen so far to plan the perfect vacation around the world!\n",
    "\n",
    "To get started, import some helper functions:"
   ]
  },
  {
   "cell_type": "code",
   "execution_count": 1,
   "metadata": {
    "height": 81
   },
   "outputs": [],
   "source": [
    "from helper_functions import print_llm_response, get_llm_response, display_table\n",
    "from IPython.display import Markdown\n",
    "import csv"
   ]
  },
  {
   "cell_type": "markdown",
   "metadata": {},
   "source": [
    "## Reading travel itineraries from a CSV file"
   ]
  },
  {
   "cell_type": "markdown",
   "metadata": {},
   "source": [
    "First, define a new function that reads data stored in a CSV file and returns it as a dictionary variable:"
   ]
  },
  {
   "cell_type": "code",
   "execution_count": 2,
   "metadata": {
    "height": 183
   },
   "outputs": [],
   "source": [
    "def read_csv(file):\n",
    "    f = open(file, \"r\")\n",
    "    \n",
    "    csv_reader = csv.DictReader(f)\n",
    "    data = []\n",
    "    for row in csv_reader:\n",
    "        data.append(row)\n",
    "    f.close()\n",
    "    \n",
    "    return data"
   ]
  },
  {
   "cell_type": "markdown",
   "metadata": {},
   "source": [
    "Next, load itineraries from `itinerary.csv` using the function you just defined (notice how much less code this is!) and then display the table of itineraries:"
   ]
  },
  {
   "cell_type": "code",
   "execution_count": 3,
   "metadata": {
    "height": 98
   },
   "outputs": [
    {
     "data": {
      "text/html": [
       "<table border=\"1\" class=\"dataframe\">\n",
       "  <thead>\n",
       "    <tr style=\"text-align: right;\">\n",
       "      <th>Arrival</th>\n",
       "      <th>Departure</th>\n",
       "      <th>City</th>\n",
       "      <th>Country</th>\n",
       "    </tr>\n",
       "  </thead>\n",
       "  <tbody>\n",
       "    <tr>\n",
       "      <td>July-01</td>\n",
       "      <td>July-08</td>\n",
       "      <td>New York</td>\n",
       "      <td>USA</td>\n",
       "    </tr>\n",
       "    <tr>\n",
       "      <td>July-09</td>\n",
       "      <td>July-16</td>\n",
       "      <td>Rio de Janeiro</td>\n",
       "      <td>Brazil</td>\n",
       "    </tr>\n",
       "    <tr>\n",
       "      <td>July-17</td>\n",
       "      <td>July-24</td>\n",
       "      <td>Cape Town</td>\n",
       "      <td>South Africa</td>\n",
       "    </tr>\n",
       "    <tr>\n",
       "      <td>July-25</td>\n",
       "      <td>August-01</td>\n",
       "      <td>Istanbul</td>\n",
       "      <td>Turkey</td>\n",
       "    </tr>\n",
       "    <tr>\n",
       "      <td>August-02</td>\n",
       "      <td>August-09</td>\n",
       "      <td>Paris</td>\n",
       "      <td>France</td>\n",
       "    </tr>\n",
       "    <tr>\n",
       "      <td>August-10</td>\n",
       "      <td>August-17</td>\n",
       "      <td>Tokyo</td>\n",
       "      <td>Japan</td>\n",
       "    </tr>\n",
       "    <tr>\n",
       "      <td>August-18</td>\n",
       "      <td>August-25</td>\n",
       "      <td>Sydney</td>\n",
       "      <td>Australia</td>\n",
       "    </tr>\n",
       "  </tbody>\n",
       "</table>"
      ],
      "text/plain": [
       "<IPython.core.display.HTML object>"
      ]
     },
     "metadata": {},
     "output_type": "display_data"
    }
   ],
   "source": [
    "# Read the itinerary.csv file\n",
    "itinerary = read_csv(\"itinerary.csv\")\n",
    "\n",
    "# Display the itinerary\n",
    "display_table(itinerary)"
   ]
  },
  {
   "cell_type": "markdown",
   "metadata": {},
   "source": [
    "## Reading restaurant information from food journal entries"
   ]
  },
  {
   "cell_type": "markdown",
   "metadata": {},
   "source": [
    "Now create a new function called `read_journal` that reads in the contents of a plain text file with '.txt' extension and stores it into a string variable:"
   ]
  },
  {
   "cell_type": "code",
   "execution_count": 4,
   "metadata": {
    "height": 149
   },
   "outputs": [],
   "source": [
    "# The function called 'read_journal'\n",
    "def read_journal(journal_file):\n",
    "    f = open(journal_file, \"r\")\n",
    "    journal = f.read() \n",
    "    f.close()\n",
    "\n",
    "    # Return the journal content\n",
    "    return journal"
   ]
  },
  {
   "cell_type": "markdown",
   "metadata": {},
   "source": [
    "Note that you used this function in an earlier lesson - now you know how it works!\n",
    "\n",
    "You can now use the `read_journal` function to read in a food journal file - let's start with Sydney:"
   ]
  },
  {
   "cell_type": "code",
   "execution_count": 5,
   "metadata": {
    "height": 64
   },
   "outputs": [
    {
     "name": "stdout",
     "output_type": "stream",
     "text": [
      "My culinary adventure began at Saint Peter, a renowned seafood restaurant in Paddington. This place is a temple to Australian seafood, and the \"Murray Cod\" was a revelation. The fish, sourced from the Murray River, was perfectly cooked, with a crispy skin and tender, flaky flesh. It was served with a simple yet flavorful accompaniment of seasonal vegetables, allowing the quality of the fish to shine. The restaurant's dedication to sustainability and nose-to-tail seafood cooking added an educational aspect to the delicious meal.\n",
      "\n",
      "Next, I visited Billy Kwong in Potts Point, where celebrated chef Kylie Kwong puts a unique spin on modern Australian cuisine using native ingredients. The standout dish here was the \"Crispy Skin Duck with Davidson’s Plum Sauce.\" The duck was cooked to perfection, with a rich, flavorful meat and delightfully crispy skin, complemented by the tart and slightly sweet Davidson’s plum sauce. This dish was a perfect example of how traditional recipes can be elevated with local, indigenous ingredients, creating something both familiar and new.\n",
      "\n",
      "In search of a true Australian pub experience, I headed to The Lord Nelson Brewery Hotel in The Rocks. This historic pub serves up hearty, classic Australian fare, and the \"Roast Lamb\" was exactly what I was craving. The lamb, roasted to tender perfection, was served with a medley of root vegetables and a rich gravy, making for a comforting and satisfying meal. Paired with one of their house-brewed ales, it was a quintessential Aussie pub experience that I would highly recommend.\n",
      "\n",
      "I couldn't miss out on trying some of the famous Australian barbecue, so I headed to Vic's Meat Market at the Sydney Fish Market. The \"BBQ Beef Brisket\" was a highlight, slow-cooked to achieve a melt-in-the-mouth texture, and served with a tangy barbecue sauce. The smoky, rich flavor of the brisket was enhanced by the vibrant, outdoor setting of the market, where the aroma of grilling meat filled the air.\n",
      "\n",
      "To round off my exploration of local cuisine, I visited Bennelong, located within the iconic Sydney Opera House. This fine dining restaurant celebrates Australian produce in every dish. The \"Sydney Rock Oysters\" were an exquisite start to the meal, served with a delicate vinaigrette that highlighted their briny freshness. The oysters, sourced from local waters, were plump and succulent, offering a pure taste of the sea.\n",
      "\n",
      "\n"
     ]
    }
   ],
   "source": [
    "journal = read_journal(\"sydney.txt\")\n",
    "\n",
    "print(journal)"
   ]
  },
  {
   "cell_type": "markdown",
   "metadata": {},
   "source": [
    "Write a prompt that extracts restaurant and specialty dish information from the journal text and stores it in CSV format:"
   ]
  },
  {
   "cell_type": "code",
   "execution_count": 6,
   "metadata": {
    "height": 336
   },
   "outputs": [
    {
     "name": "stdout",
     "output_type": "stream",
     "text": [
      "Restaurant,Specialty\n",
      "Saint Peter,Murray Cod\n",
      "Billy Kwong,Crispy Skin Duck with Davidson’s Plum Sauce\n",
      "The Lord Nelson Brewery Hotel,Roast Lamb\n",
      "Vic's Meat Market,BBQ Beef Brisket\n",
      "Bennelong,Sydney Rock Oysters\n"
     ]
    }
   ],
   "source": [
    "# Write the prompt\n",
    "prompt = f\"\"\"Please extract a comprehensive list of the restaurants \n",
    "and their respective specialties mentioned in the following journal entry. \n",
    "Ensure that each restaurant name is accurately identified and listed. \n",
    "Provide your answer in CSV format, ready to save. \n",
    "Exclude the \"```csv\" declaration, don't add spaces after the comma, include column headers.\n",
    "\n",
    "Format:\n",
    "Restaurant, Specialty\n",
    "Res_1, Sp_1\n",
    "...\n",
    "\n",
    "Journal entry:\n",
    "{journal}\n",
    "\"\"\"\n",
    "\n",
    "# Print the prompt\n",
    "print_llm_response(prompt)"
   ]
  },
  {
   "cell_type": "markdown",
   "metadata": {},
   "source": [
    "Read in restaurant information from `Sydney.csv` file that was created for you and display it using the `display_table` function:"
   ]
  },
  {
   "cell_type": "code",
   "execution_count": 7,
   "metadata": {
    "height": 81
   },
   "outputs": [
    {
     "data": {
      "text/html": [
       "<table border=\"1\" class=\"dataframe\">\n",
       "  <thead>\n",
       "    <tr style=\"text-align: right;\">\n",
       "      <th>Restaurant</th>\n",
       "      <th>Specialty</th>\n",
       "    </tr>\n",
       "  </thead>\n",
       "  <tbody>\n",
       "    <tr>\n",
       "      <td>Saint Peter</td>\n",
       "      <td>Murray Cod</td>\n",
       "    </tr>\n",
       "    <tr>\n",
       "      <td>Billy Kwong</td>\n",
       "      <td>Crispy Skin Duck with Davidson’s Plum Sauce</td>\n",
       "    </tr>\n",
       "    <tr>\n",
       "      <td>The Lord Nelson Brewery Hotel</td>\n",
       "      <td>Roast Lamb</td>\n",
       "    </tr>\n",
       "    <tr>\n",
       "      <td>Carriageworks Farmers Market</td>\n",
       "      <td>Kangaroo Pie</td>\n",
       "    </tr>\n",
       "    <tr>\n",
       "      <td>Vic's Meat Market</td>\n",
       "      <td>BBQ Beef Brisket</td>\n",
       "    </tr>\n",
       "    <tr>\n",
       "      <td>Bennelong</td>\n",
       "      <td>Sydney Rock Oysters</td>\n",
       "    </tr>\n",
       "  </tbody>\n",
       "</table>"
      ],
      "text/plain": [
       "<IPython.core.display.HTML object>"
      ]
     },
     "metadata": {},
     "output_type": "display_data"
    }
   ],
   "source": [
    "# Use the read_csv function\n",
    "sydney_restaurants = read_csv(\"Sydney.csv\")\n",
    "\n",
    "display_table(sydney_restaurants)"
   ]
  },
  {
   "cell_type": "markdown",
   "metadata": {},
   "source": [
    "## Creating detailed itineraries with restaurant suggestions"
   ]
  },
  {
   "cell_type": "markdown",
   "metadata": {},
   "source": [
    "In this section, you'll combine the data in the journal and the itinerary to create a detailed plan for your visit to Sydney. \n",
    "\n",
    "To access Sydney's data in the ```itinerary``` list, you have to use index '6' since Sydney is the seventh trip destination."
   ]
  },
  {
   "cell_type": "code",
   "execution_count": 8,
   "metadata": {
    "height": 47
   },
   "outputs": [],
   "source": [
    "# Select Sydney from the 'itinerary' list\n",
    "trip_stop = itinerary[6]"
   ]
  },
  {
   "cell_type": "markdown",
   "metadata": {},
   "source": [
    "Next, store all the information from that ```trip_stop```, as well as the restaurant information you read in above, in separate variables:"
   ]
  },
  {
   "cell_type": "code",
   "execution_count": 9,
   "metadata": {
    "height": 98
   },
   "outputs": [],
   "source": [
    "city = trip_stop[\"City\"]\n",
    "country = trip_stop[\"Country\"]\n",
    "arrival = trip_stop[\"Arrival\"]\n",
    "departure = trip_stop[\"Departure\"]\n",
    "restaurants = sydney_restaurants"
   ]
  },
  {
   "cell_type": "markdown",
   "metadata": {},
   "source": [
    "Pass all of this information in a detailed prompt to an LLM to create a detailed itinerary:"
   ]
  },
  {
   "cell_type": "code",
   "execution_count": 10,
   "metadata": {
    "height": 336
   },
   "outputs": [
    {
     "data": {
      "text/markdown": [
       "### Sydney Itinerary: August 18 - August 25\n",
       "\n",
       "#### Day 1: August 18 (Saturday)\n",
       "- **Breakfast**: 8:00 AM - Local café (try a flat white)\n",
       "- **Morning Activity**: Explore the Sydney Opera House and take a guided tour (10:00 AM - 11:30 AM)\n",
       "- **Lunch**: 12:00 PM - **Bennelong**  \n",
       "  *Specialty*: Sydney Rock Oysters\n",
       "- **Afternoon Activity**: Stroll through the Royal Botanic Garden (1:30 PM - 3:00 PM)\n",
       "- **Dinner**: 6:00 PM - Local restaurant (try a seafood platter)\n",
       "\n",
       "---\n",
       "\n",
       "#### Day 2: August 19 (Sunday)\n",
       "- **Breakfast**: 8:00 AM - Local café (try avocado toast)\n",
       "- **Morning Activity**: Visit Bondi Beach and walk the Bondi to Coogee coastal walk (10:00 AM - 12:30 PM)\n",
       "- **Lunch**: 1:00 PM - **Carriageworks Farmers Market**  \n",
       "  *Specialty*: Kangaroo Pie\n",
       "- **Afternoon Activity**: Explore the markets and local art (2:00 PM - 4:00 PM)\n",
       "- **Dinner**: 6:30 PM - Local restaurant (try a classic Aussie burger)\n",
       "\n",
       "---\n",
       "\n",
       "#### Day 3: August 20 (Monday)\n",
       "- **Breakfast**: 8:00 AM - Local café (try a smoothie bowl)\n",
       "- **Morning Activity**: Visit the Art Gallery of New South Wales (10:00 AM - 12:00 PM)\n",
       "- **Lunch**: 12:30 PM - **Billy Kwong**  \n",
       "  *Specialty*: Crispy Skin Duck with Davidson’s Plum Sauce\n",
       "- **Afternoon Activity**: Explore Darling Harbour (2:00 PM - 4:00 PM)\n",
       "- **Dinner**: 6:00 PM - Local restaurant (try a steak)\n",
       "\n",
       "---\n",
       "\n",
       "#### Day 4: August 21 (Tuesday)\n",
       "- **Breakfast**: 8:00 AM - Local café (try pancakes)\n",
       "- **Morning Activity**: Take a ferry to Manly Beach (10:00 AM - 11:00 AM)\n",
       "- **Lunch**: 12:00 PM - Local beachside café (try fish and chips)\n",
       "- **Afternoon Activity**: Relax at Manly Beach (1:00 PM - 3:00 PM)\n",
       "- **Dinner**: 6:00 PM - **The Lord Nelson Brewery Hotel**  \n",
       "  *Specialty*: Roast Lamb\n",
       "\n",
       "---\n",
       "\n",
       "#### Day 5: August 22 (Wednesday)\n",
       "- **Breakfast**: 8:00 AM - Local café (try a breakfast burrito)\n",
       "- **Morning Activity**: Visit Taronga Zoo (10:00 AM - 1:00 PM)\n",
       "- **Lunch**: 1:30 PM - Local café at the zoo (try a salad)\n",
       "- **Afternoon Activity**: Explore the zoo and see the animals (2:00 PM - 4:00 PM)\n",
       "- **Dinner**: 6:30 PM - Local restaurant (try a curry)\n",
       "\n",
       "---\n",
       "\n",
       "#### Day 6: August 23 (Thursday)\n",
       "- **Breakfast**: 8:00 AM - Local café (try a chai latte)\n",
       "- **Morning Activity**: Visit the Sydney Tower Eye (10:00 AM - 11:30 AM)\n",
       "- **Lunch**: 12:00 PM - Local restaurant (try a poke bowl)\n",
       "- **Afternoon Activity**: Shopping at Pitt Street Mall (1:30 PM - 3:30 PM)\n",
       "- **Dinner**: 6:00 PM - **Vic's Meat Market**  \n",
       "  *Specialty*: BBQ Beef Brisket\n",
       "\n",
       "---\n",
       "\n",
       "#### Day 7: August 24 (Friday)\n",
       "- **Breakfast**: 8:00 AM - Local café (try a croissant)\n",
       "- **Morning Activity**: Explore The Rocks and its markets (10:00 AM - 12:00 PM)\n",
       "- **Lunch**: 12:30 PM - Local pub (try a meat pie)\n",
       "- **Afternoon Activity**: Visit the Museum of Contemporary Art (1:30 PM - 3:30 PM)\n",
       "- **Dinner**: 6:00 PM - Local restaurant (try a seafood dish)\n",
       "\n",
       "---\n",
       "\n",
       "#### Day 8: August 25 (Saturday)\n",
       "- **Breakfast**: 8:00 AM - Local café (try a breakfast bowl)\n",
       "- **Morning Activity**: Last-minute shopping or sightseeing (10:00 AM - 12:00 PM)\n",
       "- **Lunch**: 12:30 PM - Local café (try a sandwich)\n",
       "- **Afternoon Activity**: Relax at a park or beach (1:30 PM - 3:00 PM)\n",
       "- **Departure**: Prepare for departure in the evening.\n",
       "\n",
       "Enjoy your trip to Sydney!"
      ],
      "text/plain": [
       "<IPython.core.display.Markdown object>"
      ]
     },
     "metadata": {},
     "output_type": "display_data"
    }
   ],
   "source": [
    "# Write the prompt\n",
    "prompt = f\"\"\"I will visit {city}, {country} from {arrival} to {departure}. \n",
    "Create a daily itinerary with detailed activities. \n",
    "Designate times for breakfast, lunch, and dinner. \n",
    "\n",
    "I want to visit the restaurants listed in the restaurant dictionary \n",
    "without repeating any place. Make sure to mention the specialty\n",
    "that I should try at each of them.\n",
    "\n",
    "Restaurant dictionary:\n",
    "{restaurants}\n",
    "\n",
    "\"\"\"\n",
    "\n",
    "response = get_llm_response(prompt)\n",
    "\n",
    "# Print the LLM response in Markdown format\n",
    "display(Markdown(response))"
   ]
  },
  {
   "cell_type": "markdown",
   "metadata": {},
   "source": [
    "## Create detailed itineraries for all the cities in your trip"
   ]
  },
  {
   "cell_type": "markdown",
   "metadata": {},
   "source": [
    "You'll use a 'for' loop to iterate over all the cities in the ```itinerary``` list and create a detailed itinerary for each location:"
   ]
  },
  {
   "cell_type": "code",
   "execution_count": 11,
   "metadata": {
    "height": 489
   },
   "outputs": [
    {
     "name": "stdout",
     "output_type": "stream",
     "text": [
      "Creating detailed itinerary for New York, USA.\n",
      "Creating detailed itinerary for Rio de Janeiro, Brazil.\n",
      "Creating detailed itinerary for Cape Town, South Africa.\n",
      "Creating detailed itinerary for Istanbul, Turkey.\n",
      "Creating detailed itinerary for Paris, France.\n",
      "Creating detailed itinerary for Tokyo, Japan.\n",
      "Creating detailed itinerary for Sydney, Australia.\n"
     ]
    }
   ],
   "source": [
    "# Create an empty dictionary to store the itinerary for each destination\n",
    "detailed_itinerary = {}\n",
    "\n",
    " # Use the 'for' loop over the 'itinerary' list   \n",
    "for trip_stop in itinerary:\n",
    "    city = trip_stop[\"City\"]\n",
    "    country = trip_stop[\"Country\"]\n",
    "    arrival = trip_stop[\"Arrival\"]\n",
    "    departure = trip_stop[\"Departure\"]\n",
    "\n",
    "    rest_dict = read_csv(f\"{city}.csv\")\n",
    "    \n",
    "    print(f\"Creating detailed itinerary for {city}, {country}.\")\n",
    "    \n",
    "    prompt = f\"\"\"I will visit {city}, {country} from {arrival} to {departure}. \n",
    "    Create a daily itinerary with detailed activities. \n",
    "    Designate times for breakfast, lunch, and dinner. \n",
    "\n",
    "    I want to visit the restaurants listed in the restaurant dictionary without repeating any place.\n",
    "    Make sure to mention the specialty that I should try at each of them.\n",
    "\n",
    "    Restaurant dictionary:\n",
    "    {rest_dict}\n",
    "\n",
    "    \"\"\"\n",
    "    # Store the detailed itinerary for the city to the dictionary\n",
    "    detailed_itinerary[city] = get_llm_response(prompt)"
   ]
  },
  {
   "cell_type": "markdown",
   "metadata": {},
   "source": [
    "You can now access the detailed itinerary for any city by passing in the city name as the key to the `detailed_itinerary` dictionary:"
   ]
  },
  {
   "cell_type": "code",
   "execution_count": 12,
   "metadata": {
    "height": 47
   },
   "outputs": [
    {
     "data": {
      "text/markdown": [
       "### Tokyo Itinerary: August 10 - August 17\n",
       "\n",
       "#### Day 1: August 10 (Saturday)\n",
       "- **Breakfast**: 8:00 AM - Local café (try a Japanese breakfast set)\n",
       "- **Morning Activity**: Explore Asakusa and visit Senso-ji Temple\n",
       "- **Lunch**: 12:00 PM - **Tsukiji Outer Market**  \n",
       "  *Specialty*: Fresh sashimi and street food\n",
       "- **Afternoon Activity**: Stroll through Ueno Park and visit the Tokyo National Museum\n",
       "- **Dinner**: 7:00 PM - **Sukiyabashi Jiro**  \n",
       "  *Specialty*: Omakase sushi\n",
       "\n",
       "---\n",
       "\n",
       "#### Day 2: August 11 (Sunday)\n",
       "- **Breakfast**: 8:00 AM - Hotel breakfast or nearby bakery\n",
       "- **Morning Activity**: Visit the Meiji Shrine and Harajuku\n",
       "- **Lunch**: 12:30 PM - **Afuri**  \n",
       "  *Specialty*: Yuzu shio ramen\n",
       "- **Afternoon Activity**: Explore Shibuya and see the famous Shibuya Crossing\n",
       "- **Dinner**: 6:30 PM - **Den**  \n",
       "  *Specialty*: Creative Japanese cuisine\n",
       "\n",
       "---\n",
       "\n",
       "#### Day 3: August 12 (Monday)\n",
       "- **Breakfast**: 8:00 AM - Local café (try matcha latte and pastries)\n",
       "- **Morning Activity**: Visit the Tokyo Tower\n",
       "- **Lunch**: 12:00 PM - **Ichiran Ramen**  \n",
       "  *Specialty*: Tonkotsu ramen\n",
       "- **Afternoon Activity**: Explore Roppongi Hills and the Mori Art Museum\n",
       "- **Dinner**: 7:00 PM - **Ginza Kojyu**  \n",
       "  *Specialty*: Kaiseki (traditional multi-course meal)\n",
       "\n",
       "---\n",
       "\n",
       "#### Day 4: August 13 (Tuesday)\n",
       "- **Breakfast**: 8:00 AM - Traditional Japanese breakfast at hotel\n",
       "- **Morning Activity**: Day trip to Nikko (Toshogu Shrine)\n",
       "- **Lunch**: 12:00 PM - Local eatery in Nikko (try yuba)\n",
       "- **Afternoon Activity**: Continue exploring Nikko\n",
       "- **Dinner**: 7:00 PM - **Kyubey**  \n",
       "  *Specialty*: Sushi\n",
       "\n",
       "---\n",
       "\n",
       "#### Day 5: August 14 (Wednesday)\n",
       "- **Breakfast**: 8:00 AM - Local café (try a Japanese pancake)\n",
       "- **Morning Activity**: Visit Akihabara for electronics and anime culture\n",
       "- **Lunch**: 12:30 PM - **Tempura Kondo**  \n",
       "  *Specialty*: Seasonal vegetable and seafood tempura\n",
       "- **Afternoon Activity**: Explore the Imperial Palace and East Gardens\n",
       "- **Dinner**: 6:30 PM - **Akasaka Kikunoi**  \n",
       "  *Specialty*: Kaiseki\n",
       "\n",
       "---\n",
       "\n",
       "#### Day 6: August 15 (Thursday)\n",
       "- **Breakfast**: 8:00 AM - Hotel breakfast\n",
       "- **Morning Activity**: Visit Odaiba and teamLab Borderless\n",
       "- **Lunch**: 12:00 PM - Local café in Odaiba\n",
       "- **Afternoon Activity**: Explore DiverCity Tokyo Plaza\n",
       "- **Dinner**: 7:00 PM - **Narisawa**  \n",
       "  *Specialty*: Innovative tasting menu\n",
       "\n",
       "---\n",
       "\n",
       "#### Day 7: August 16 (Friday)\n",
       "- **Breakfast**: 8:00 AM - Local café (try a Japanese-style sandwich)\n",
       "- **Morning Activity**: Visit the National Museum of Nature and Science\n",
       "- **Lunch**: 12:00 PM - Local eatery near the museum\n",
       "- **Afternoon Activity**: Explore Yanaka district for traditional atmosphere\n",
       "- **Dinner**: 6:30 PM - **Den** (if you want to revisit) or choose a local izakaya for a casual meal\n",
       "\n",
       "---\n",
       "\n",
       "#### Day 8: August 17 (Saturday)\n",
       "- **Breakfast**: 8:00 AM - Last breakfast at hotel\n",
       "- **Morning Activity**: Last-minute shopping in Ginza\n",
       "- **Lunch**: 12:00 PM - Local café or restaurant\n",
       "- **Afternoon Activity**: Prepare for departure, visit any missed attractions\n",
       "- **Dinner**: 5:00 PM - Early dinner at a local favorite before heading to the airport\n",
       "\n",
       "---\n",
       "\n",
       "Enjoy your trip to Tokyo!"
      ],
      "text/plain": [
       "<IPython.core.display.Markdown object>"
      ]
     },
     "metadata": {},
     "output_type": "display_data"
    }
   ],
   "source": [
    "# Print in Markdown format\n",
    "display(Markdown(detailed_itinerary[\"Tokyo\"]))"
   ]
  },
  {
   "cell_type": "markdown",
   "metadata": {},
   "source": [
    "## Try it yourself! \n",
    "\n",
    "Update the code below to check out the itinerary for another city. \n",
    "\n",
    "**Options:**\n",
    "- Cape Town\n",
    "- Istanbul\n",
    "- New York\n",
    "- Paris\n",
    "- Rio de Janeiro\n",
    "- Sydney\n",
    "- Tokyo"
   ]
  },
  {
   "cell_type": "code",
   "execution_count": 13,
   "metadata": {
    "height": 47
   },
   "outputs": [
    {
     "data": {
      "text/markdown": [
       "### Sydney Itinerary: August 18 - August 25\n",
       "\n",
       "#### Day 1: August 18 (Saturday)\n",
       "- **Breakfast**: 8:00 AM - Café nearby your accommodation\n",
       "- **Morning Activity**: Explore the Sydney Opera House and take a guided tour.\n",
       "- **Lunch**: 12:30 PM - **Bennelong**  \n",
       "  - **Specialty**: Sydney Rock Oysters\n",
       "- **Afternoon Activity**: Stroll through the Royal Botanic Garden.\n",
       "- **Dinner**: 7:00 PM - Restaurant of your choice nearby\n",
       "\n",
       "---\n",
       "\n",
       "#### Day 2: August 19 (Sunday)\n",
       "- **Breakfast**: 8:00 AM - Local café\n",
       "- **Morning Activity**: Visit the Art Gallery of New South Wales.\n",
       "- **Lunch**: 12:30 PM - **Billy Kwong**  \n",
       "  - **Specialty**: Crispy Skin Duck with Davidson’s Plum Sauce\n",
       "- **Afternoon Activity**: Explore the historic Rocks district.\n",
       "- **Dinner**: 7:00 PM - Restaurant of your choice nearby\n",
       "\n",
       "---\n",
       "\n",
       "#### Day 3: August 20 (Monday)\n",
       "- **Breakfast**: 8:00 AM - Local café\n",
       "- **Morning Activity**: Take a ferry to Manly Beach.\n",
       "- **Lunch**: 12:30 PM - Beachside café\n",
       "- **Afternoon Activity**: Relax on the beach or walk along the Manly Scenic Walkway.\n",
       "- **Dinner**: 7:00 PM - **The Lord Nelson Brewery Hotel**  \n",
       "  - **Specialty**: Roast Lamb\n",
       "\n",
       "---\n",
       "\n",
       "#### Day 4: August 21 (Tuesday)\n",
       "- **Breakfast**: 8:00 AM - Local café\n",
       "- **Morning Activity**: Visit Taronga Zoo.\n",
       "- **Lunch**: 12:30 PM - Café at the zoo\n",
       "- **Afternoon Activity**: Return to the city and visit Darling Harbour.\n",
       "- **Dinner**: 7:00 PM - **Saint Peter**  \n",
       "  - **Specialty**: Murray Cod\n",
       "\n",
       "---\n",
       "\n",
       "#### Day 5: August 22 (Wednesday)\n",
       "- **Breakfast**: 8:00 AM - Local café\n",
       "- **Morning Activity**: Explore the Sydney Tower Eye for panoramic views.\n",
       "- **Lunch**: 12:30 PM - Local eatery\n",
       "- **Afternoon Activity**: Visit the Queen Victoria Building for shopping.\n",
       "- **Dinner**: 7:00 PM - Restaurant of your choice nearby\n",
       "\n",
       "---\n",
       "\n",
       "#### Day 6: August 23 (Thursday)\n",
       "- **Breakfast**: 8:00 AM - Local café\n",
       "- **Morning Activity**: Visit the Australian Museum.\n",
       "- **Lunch**: 12:30 PM - Local café\n",
       "- **Afternoon Activity**: Explore the historic district of Paddington.\n",
       "- **Dinner**: 7:00 PM - **Vic's Meat Market**  \n",
       "  - **Specialty**: BBQ Beef Brisket\n",
       "\n",
       "---\n",
       "\n",
       "#### Day 7: August 24 (Friday)\n",
       "- **Breakfast**: 8:00 AM - Local café\n",
       "- **Morning Activity**: Visit Carriageworks Farmers Market.\n",
       "- **Lunch**: 12:30 PM - **Carriageworks Farmers Market**  \n",
       "  - **Specialty**: Kangaroo Pie\n",
       "- **Afternoon Activity**: Explore Newtown and its vibrant street art.\n",
       "- **Dinner**: 7:00 PM - Restaurant of your choice nearby\n",
       "\n",
       "---\n",
       "\n",
       "#### Day 8: August 25 (Saturday)\n",
       "- **Breakfast**: 8:00 AM - Local café\n",
       "- **Morning Activity**: Last-minute shopping or visit Bondi Beach.\n",
       "- **Lunch**: 12:30 PM - Beachside café\n",
       "- **Afternoon Activity**: Relax at the beach or visit Bondi Markets (if open).\n",
       "- **Dinner**: 7:00 PM - Final dinner at a restaurant of your choice nearby\n",
       "\n",
       "---\n",
       "\n",
       "Enjoy your trip to Sydney!"
      ],
      "text/plain": [
       "<IPython.core.display.Markdown object>"
      ]
     },
     "metadata": {},
     "output_type": "display_data"
    }
   ],
   "source": [
    "# Update the next line of code to view a different city\n",
    "display(Markdown(detailed_itinerary[\"Sydney\"]))"
   ]
  },
  {
   "cell_type": "markdown",
   "metadata": {},
   "source": [
    "## Congratulations on completing this course! 🎉🎉🎉\n",
    "\n",
    "Please go onto the fourth and final course of this sequence where you'll learn how to extend the capabilities of Python using code written by other programmers!"
   ]
  }
 ],
 "metadata": {
  "kernelspec": {
   "display_name": "Python 3 (ipykernel)",
   "language": "python",
   "name": "python3"
  },
  "language_info": {
   "codemirror_mode": {
    "name": "ipython",
    "version": 3
   },
   "file_extension": ".py",
   "mimetype": "text/x-python",
   "name": "python",
   "nbconvert_exporter": "python",
   "pygments_lexer": "ipython3",
   "version": "3.9.19"
  }
 },
 "nbformat": 4,
 "nbformat_minor": 2
}
