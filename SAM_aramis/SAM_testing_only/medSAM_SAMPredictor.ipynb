{
 "cells": [
  {
   "cell_type": "code",
   "execution_count": 1,
   "metadata": {},
   "outputs": [],
   "source": [
    "from segment_anything import sam_model_registry, SamPredictor, SamAutomaticMaskGenerator\n",
    "import numpy as np\n",
    "import cv2\n",
    "import matplotlib.pyplot as plt\n",
    "import matplotlib.patches as patches\n",
    "import functools\n",
    "from segment_anything.utils.onnx import SamOnnxModel\n",
    "from segment_anything.modeling import Sam\n",
    "import nibabel as nib"
   ]
  },
  {
   "cell_type": "code",
   "execution_count": 2,
   "metadata": {},
   "outputs": [],
   "source": [
    "device = 'cuda'\n",
    "# 1. Load the image\n",
    "img = nib.load(r\"E:\\Mine\\SAM_editor\\static\\nifti_files\\img_CT_new.nii.gz\")\n",
    "img = img.get_fdata()\n",
    "min = img.min()\n",
    "max = img.max()\n",
    "img = (img[...,481,None] - min)*255/(max - min)\n",
    "img = np.transpose(np.repeat(img, 3, axis=-1).astype(np.uint8), (1,0,2))"
   ]
  },
  {
   "cell_type": "code",
   "execution_count": 3,
   "metadata": {},
   "outputs": [
    {
     "data": {
      "text/plain": [
       "(13, 103, dtype('uint8'), (512, 512, 3))"
      ]
     },
     "execution_count": 3,
     "metadata": {},
     "output_type": "execute_result"
    }
   ],
   "source": [
    "img.min(), img.max(), img.dtype, img.shape"
   ]
  },
  {
   "cell_type": "code",
   "execution_count": 4,
   "metadata": {},
   "outputs": [
    {
     "data": {
      "text/plain": [
       "(512, 512, 3)"
      ]
     },
     "execution_count": 4,
     "metadata": {},
     "output_type": "execute_result"
    }
   ],
   "source": [
    "img.shape"
   ]
  },
  {
   "cell_type": "code",
   "execution_count": null,
   "metadata": {},
   "outputs": [],
   "source": [
    "# 2. Load the Segment anything model\n",
    "sam = sam_model_registry[\"vit_b\"]( checkpoint = r\"E:\\Mine\\SAM_editor\\SAM_testing_only\\SAM_models\\MedSAM\\medsam_vit_b.pth\").to(device)\n",
    "sam.eval()"
   ]
  },
  {
   "cell_type": "code",
   "execution_count": null,
   "metadata": {},
   "outputs": [],
   "source": [
    "sam.device"
   ]
  },
  {
   "cell_type": "code",
   "execution_count": null,
   "metadata": {},
   "outputs": [],
   "source": [
    "# 3. Put the model to the SamPredictor helper object\n",
    "predictor = SamPredictor(sam)\n",
    "mask_generator = SamAutomaticMaskGenerator(sam)\n",
    "\n",
    "# 4. Encode the image to embeddings.\n",
    "predictor.set_image(img)"
   ]
  },
  {
   "cell_type": "markdown",
   "metadata": {},
   "source": [
    "FOR POINTS"
   ]
  },
  {
   "cell_type": "code",
   "execution_count": null,
   "metadata": {},
   "outputs": [],
   "source": [
    "# 5. Prepare the prompt\n",
    "input_point = np.array([[150,250], [350, 250]])\n",
    "input_label = np.array([1,1])\n",
    "\n",
    "# 6. Decode masks\n",
    "masks = predictor.predict(point_coords=input_point, point_labels=input_label, multimask_output=True)"
   ]
  },
  {
   "cell_type": "code",
   "execution_count": null,
   "metadata": {},
   "outputs": [],
   "source": [
    "input_point.shape"
   ]
  },
  {
   "cell_type": "code",
   "execution_count": null,
   "metadata": {},
   "outputs": [],
   "source": [
    "help(predictor.predict)"
   ]
  },
  {
   "cell_type": "code",
   "execution_count": null,
   "metadata": {},
   "outputs": [],
   "source": [
    "masks[0].shape,masks[1],masks[2].shape"
   ]
  },
  {
   "cell_type": "code",
   "execution_count": null,
   "metadata": {},
   "outputs": [],
   "source": [
    "plt.imshow(img, cmap='gray')\n",
    "plt.imshow(masks[0][0], cmap='jet', alpha=0.5)  # 'jet' colormap and 50% transparency\n",
    "plt.scatter( input_point[0,0], input_point[0,1], color='red', s=100, marker='x')\n",
    "plt.scatter( input_point[1,0], input_point[1,1], color='red', s=100, marker='x')\n",
    "\n",
    "# Show the plot\n",
    "# plt.axis('off')  # Hide axis\n",
    "plt.show()"
   ]
  },
  {
   "cell_type": "markdown",
   "metadata": {},
   "source": [
    "FOR BOX"
   ]
  },
  {
   "cell_type": "code",
   "execution_count": null,
   "metadata": {},
   "outputs": [],
   "source": [
    "bbox = np.array([80, 150, 420, 390])\n",
    "\n",
    "bbox_masks = predictor.predict(box=bbox, multimask_output=True)"
   ]
  },
  {
   "cell_type": "code",
   "execution_count": null,
   "metadata": {},
   "outputs": [],
   "source": [
    "bbox_masks[0].shape,bbox_masks[1],bbox_masks[2].shape"
   ]
  },
  {
   "cell_type": "code",
   "execution_count": null,
   "metadata": {},
   "outputs": [],
   "source": [
    "fig, ax = plt.subplots()\n",
    "ax.imshow(img, cmap='gray')\n",
    "ax.imshow(bbox_masks[0][2], cmap='jet', alpha=0.5)  # 'jet' colormap and 50% transparency\n",
    "# ax.scatter( input_point[0,0], input_point[0,1], color='red', s=100, marker='x')\n",
    "# ax.scatter( input_point[1,0], input_point[1,1], color='red', s=100, marker='x')\n",
    "\n",
    "# Show the plot\n",
    "# plt.axis('off')  # Hide axis\n",
    "x0,y0,x1,y1 = bbox\n",
    "w = x1 - x0\n",
    "h = y1 - y0\n",
    "ax.add_patch(plt.Rectangle((x0, y0), w, h, edgecolor='green', facecolor=(0,0,0,0), lw=2))  \n",
    "plt.show()"
   ]
  },
  {
   "cell_type": "code",
   "execution_count": null,
   "metadata": {},
   "outputs": [],
   "source": [
    "output_mask = mask_generator.generate(img)\n",
    "output_mask"
   ]
  },
  {
   "cell_type": "code",
   "execution_count": null,
   "metadata": {},
   "outputs": [],
   "source": [
    "output_mask[0]"
   ]
  },
  {
   "cell_type": "code",
   "execution_count": null,
   "metadata": {},
   "outputs": [],
   "source": [
    "sorted_output_mask = sorted(output_mask,key = lambda x: x['predicted_iou'])\n",
    "for i in sorted_output_mask:\n",
    "    fig, ax = plt.subplots()\n",
    "    ax.imshow(img, cmap='gray')\n",
    "    ax.imshow(i['segmentation'], cmap='jet', alpha=0.5)  # 'jet' colormap and 50% transparency\n",
    "    ax.scatter( int(i['point_coords'][0][0]), int(i['point_coords'][0][1]), color='red', s=100, marker='x')\n",
    "    x, y, width, height = i['bbox']\n",
    "    rect = patches.Rectangle((x, y), width, height, linewidth=2, edgecolor='r', facecolor='none')\n",
    "    ax.add_patch(rect)\n",
    "\n",
    "\n",
    "    # Show the plot\n",
    "    # plt.axis('off')  # Hide axis\n",
    "    plt.show()\n",
    "    print(\"predicted_iou : \",i['predicted_iou'])\n",
    "    print(\"stability_score : \",i['stability_score'])"
   ]
  },
  {
   "cell_type": "code",
   "execution_count": null,
   "metadata": {},
   "outputs": [],
   "source": [
    "output_mask[0]['segmentation'].astype(np.uint8).max()"
   ]
  },
  {
   "cell_type": "code",
   "execution_count": null,
   "metadata": {},
   "outputs": [],
   "source": [
    "sorted_output_mask = sorted(output_mask,key = lambda x: x['predicted_iou'])\n",
    "combinedmask = functools.reduce(lambda a, b: a + ( b['segmentation'].astype(np.uint8) * ( a.max() + 1)), output_mask, np.zeros_like(output_mask[0]['segmentation'], dtype=np.uint8))\n",
    "print(\"np.unique(combinedmask)\", np.unique(combinedmask), np.unique(combinedmask).shape)\n",
    "fig, ax = plt.subplots()\n",
    "# ax.imshow(img, cmap='gray')\n",
    "ax.imshow(combinedmask, cmap='jet')  # 'jet' colormap and 50% transparency\n",
    "# ax.scatter( int(i['point_coords'][0][0]), int(i['point_coords'][0][1]), color='red', s=100, marker='x')\n",
    "# x, y, width, height = i['bbox']\n",
    "# rect = patches.Rectangle((x, y), width, height, linewidth=2, edgecolor='r', facecolor='none')\n",
    "# ax.add_patch(rect)\n",
    "\n",
    "\n",
    "# Show the plot\n",
    "# plt.axis('off')  # Hide axis\n",
    "plt.show()\n",
    "# print(\"predicted_iou : \",i['predicted_iou'])\n",
    "# print(\"stability_score : \",i['stability_score'])"
   ]
  },
  {
   "cell_type": "code",
   "execution_count": null,
   "metadata": {},
   "outputs": [],
   "source": [
    "output_mask[0]['segmentation'].astype(np.uint8)"
   ]
  },
  {
   "cell_type": "code",
   "execution_count": null,
   "metadata": {},
   "outputs": [],
   "source": [
    "np.array([1]) & np.array([1000])"
   ]
  }
 ],
 "metadata": {
  "kernelspec": {
   "display_name": "SAM_test_env",
   "language": "python",
   "name": "python3"
  },
  "language_info": {
   "codemirror_mode": {
    "name": "ipython",
    "version": 3
   },
   "file_extension": ".py",
   "mimetype": "text/x-python",
   "name": "python",
   "nbconvert_exporter": "python",
   "pygments_lexer": "ipython3",
   "version": "3.12.3"
  }
 },
 "nbformat": 4,
 "nbformat_minor": 2
}
