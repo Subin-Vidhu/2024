{
 "cells": [
  {
   "cell_type": "markdown",
   "metadata": {},
   "source": [
    "## What are Jupyter Notebooks?\n",
    "\n",
    "[Jupyter](https://jupyter.org/) is a web-based interactive development environment that supports multiple programming languages.  It is commonly used as an \"IDE\" (Integrated Development Environment) for the Python programming language, especially when doing data science.  The interactive environment that Jupyter provides enables researchers to create reproducible analyses and formulate a story from data within a single document.\n",
    "\n",
    "[Here](http://nbviewer.jupyter.org/github/cossatot/lanf_earthquake_likelihood/blob/master/notebooks/lanf_manuscript_notebook.ipynb) is an example of a completed Jupyter Notebook from a scientific investigation that includes extensive code, mathematics, graphics, and text.\n",
    "\n",
    "Concretely speaking, a Jupyter notebook is a file with file extension \".ipynb\".  You can download and share these files to share your work.\n",
    "\n",
    "### How does it work?\n",
    "\n",
    "Jupyter is an interface that runs in a web browser.  The code that you write in a Jupyter notebook does not execute in the browser, instead Jupyter connects to a Python session which may be running on your computer, or somewhere in the cloud.  In this course, you will be using Jupyter notebooks that interface with Python sessions running on Coursera's cloud. \n",
    "\n",
    "### The structure of a Jupyter notebook\n",
    "\n",
    "A Jupyter notebook is a series of \"cells\". Each cell in a Jupyter notebook is either a \"code cell\" or a \"Markdown cell\".  In the toolbar you will see a dropdown that allows you to change the type of a cell. For this series of courses, the code will always be Python code.  The contents of \"Markdown\" cells is entered as plain text, optionally formatted using Markdown as discussed further below.\n",
    "\n",
    "Double-click a cell to edit its contents.  Then press shift-enter to cause Markdown cells to be rendered, and code cells to be executed.\n",
    "\n",
    "After executing a cell, anything that is explicitly printed by your code will be displayed below the cell.  The result of the last line of code in a cell will always be printed, unless the line ends with a semicolon.  If your code generates any graphics they will be displayed below the cell.\n",
    "\n",
    "### Program flow\n",
    "\n",
    "In a Jupyter notebook you will probably organize your code into multiple cells.  These cells execute in the same underlying Python session and can access the results of each other's computations.  Note that it is possible to run the cells in any order (by pressing shift-enter on the cells in some sequence).  However doing this can be quite dangerous as the results may depend on the order in which the cells are run.  It is strongly advised to always run the cells in order, starting from the first cell, unless you are sure that there are no dependencies between the cells.  The \"Cell\" menu on the toolbar contains an option to \"Run All\" cells, which is the safest way to produce a reproducible result.\n",
    "\n",
    "The number next to each code cell gives the order in which the cells were run.  A cell that has not yet been run will not be assigned a number, and a cell that is currently running will have an asterisk (*) instead of a number."
   ]
  },
  {
   "cell_type": "markdown",
   "metadata": {},
   "source": [
    "### What is Markdown?\n",
    "\n",
    "[Markdown](https://en.wikipedia.org/wiki/Markdown) is a \"markup language\" that uses plain text formatting syntax.  This means that we can modify the formatting of our text with the use of plain text format specifiers.  Almost all plain text is also valid Markdown, and will appear exactly as you have typed it.  You can learn Markdown gradually, beginning with plain text, and then learning some of the formatting syntax as it arises in your work.\n",
    "\n",
    "Some examples of formatting that can be accomplished in Markdown are:\n",
    "\n",
    "* Headers\n",
    "* Text modifications such as italics and bold\n",
    "* Ordered and Unordered lists\n",
    "* Links\n",
    "* Tables\n",
    "* Images\n",
    "* Etc.\n",
    "\n",
    "Next we will showcase some examples of how this formatting is done.  For each of the cells below, double click on the cell to reveal the underlying Markdown, and then type ctrl+enter to return to the formatted view."
   ]
  },
  {
   "cell_type": "markdown",
   "metadata": {},
   "source": [
    "Headers:\n",
    "\n",
    "# H1\n",
    "## H2\n",
    "### H3\n",
    "#### H4\n",
    "##### H5\n",
    "###### H6"
   ]
  },
  {
   "cell_type": "markdown",
   "metadata": {},
   "source": [
    "Text modifications:\n",
    "\n",
    "Emphasis, aka italics, with *asterisks* or _underscores_.\n",
    "\n",
    "Strong emphasis, aka bold, with **asterisks** or __underscores__.\n",
    "\n",
    "Combined emphasis with **asterisks and _underscores_**.\n",
    "\n",
    "Strikethrough uses two tildes. ~~Scratch this.~~"
   ]
  },
  {
   "cell_type": "markdown",
   "metadata": {},
   "source": [
    "Lists:\n",
    "\n",
    "1. First ordered list item\n",
    "2. Another item\n",
    "  * Unordered sub-list. \n",
    "1. Actual numbers don't matter, just that it's a number\n",
    "  1. Ordered sub-list\n",
    "4. And another item.\n",
    "\n",
    "* Unordered list can use asterisks\n",
    "- Or minuses\n",
    "+ Or pluses"
   ]
  },
  {
   "cell_type": "markdown",
   "metadata": {},
   "source": [
    "Hyperlinks:\n",
    "\n",
    "http://www.umich.edu\n",
    "\n",
    "<http://www.umich.edu>\n",
    "\n",
    "[The University of Michigan's Homepage](www.http://umich.edu/)\n",
    "\n",
    "To see more examples of Markdown syntax and features such as tables, images, etc. head to the following link: [Markdown Reference](https://github.com/adam-p/markdown-here/wiki/Markdown-Cheatsheet)"
   ]
  },
  {
   "cell_type": "markdown",
   "metadata": {},
   "source": [
    "## Simple examples of code cells"
   ]
  },
  {
   "cell_type": "code",
   "execution_count": 6,
   "metadata": {},
   "outputs": [
    {
     "name": "stdout",
     "output_type": "stream",
     "text": [
      "This is a python code cell\n"
     ]
    }
   ],
   "source": [
    "# This is python code\n",
    "print(\"This is a python code cell\")"
   ]
  },
  {
   "cell_type": "code",
   "execution_count": 2,
   "metadata": {},
   "outputs": [
    {
     "data": {
      "text/plain": [
       "4"
      ]
     },
     "execution_count": 2,
     "metadata": {},
     "output_type": "execute_result"
    }
   ],
   "source": [
    "# All lines of code are executed, but only the results of the final line are displayed\n",
    "1+2\n",
    "1+3"
   ]
  },
  {
   "cell_type": "code",
   "execution_count": 5,
   "metadata": {},
   "outputs": [
    {
     "name": "stdout",
     "output_type": "stream",
     "text": [
      "3\n"
     ]
    },
    {
     "data": {
      "text/plain": [
       "4"
      ]
     },
     "execution_count": 5,
     "metadata": {},
     "output_type": "execute_result"
    }
   ],
   "source": [
    "# To display the result of a line that is not the final line, use print.\n",
    "print(1+2)\n",
    "1+3"
   ]
  },
  {
   "cell_type": "code",
   "execution_count": 3,
   "metadata": {},
   "outputs": [],
   "source": [
    "# To suppress display of the final line of code, use a semicolon.\n",
    "1+2\n",
    "1+3;"
   ]
  },
  {
   "cell_type": "code",
   "execution_count": 7,
   "metadata": {},
   "outputs": [
    {
     "name": "stdout",
     "output_type": "stream",
     "text": [
      "x has been set to 1738\n"
     ]
    }
   ],
   "source": [
    "### Global variables initialized in one cell are visible in any cell executed subsequently\n",
    "\n",
    "x = 1738\n",
    "\n",
    "print(\"x has been set to \" + str(x))"
   ]
  },
  {
   "cell_type": "code",
   "execution_count": 8,
   "metadata": {},
   "outputs": [
    {
     "name": "stdout",
     "output_type": "stream",
     "text": [
      "1738\n"
     ]
    }
   ],
   "source": [
    "### Print x\n",
    "\n",
    "print(x)"
   ]
  },
  {
   "cell_type": "markdown",
   "metadata": {},
   "source": [
    "### Command vs. Edit Mode & Shortcuts\n",
    "\n",
    "There is an edit and a command mode for jupyter notebooks.  The mode is easily identifiable by the color of the left border of the cell.\n",
    "\n",
    "Blue = Command Mode.\n",
    "\n",
    "Green = Edit Mode.\n",
    "\n",
    "Command Mode can be toggled by pressing **esc** on your keyboard.\n",
    "\n",
    "Commands can be used to execute notebook functions.  For example, changing the format of a markdown cell or adding line numbers.\n",
    "\n",
    "Lets toggle line numbers while in command mode by pressing **L**.\n",
    "\n",
    "#### Additional Shortcuts\n",
    "\n",
    "There are a lot of shortcuts that can be used to improve productivity while using Jupyter Notebooks.\n",
    "\n",
    "Here is a list:\n",
    "\n",
    "![Jupyter Notebook Shortcuts](img/shortcuts.png)"
   ]
  },
  {
   "cell_type": "markdown",
   "metadata": {},
   "source": [
    "### How do you install Jupyter Notebooks?\n",
    "\n",
    "**Note:** *Coursera provides embedded Jupyter notebooks within the course, thus the download is not a requirement unless you wish to explore Jupyter further on your own computer.*\n",
    "\n",
    "Official Installation Guide: https://jupyter.readthedocs.io/en/latest/install.html\n",
    "\n",
    "Jupyter recommends utilizing Anaconda, which is a bundle of software compatible with Windows, macOS, and Linux systems.  \n",
    "\n",
    "Anaconda Download: https://www.anaconda.com/download/#macos"
   ]
  }
 ],
 "metadata": {
  "kernelspec": {
   "display_name": "Python 3 (ipykernel)",
   "language": "python",
   "name": "python3"
  },
  "language_info": {
   "codemirror_mode": {
    "name": "ipython",
    "version": 3
   },
   "file_extension": ".py",
   "mimetype": "text/x-python",
   "name": "python",
   "nbconvert_exporter": "python",
   "pygments_lexer": "ipython3",
   "version": "3.11.4"
  }
 },
 "nbformat": 4,
 "nbformat_minor": 2
}
