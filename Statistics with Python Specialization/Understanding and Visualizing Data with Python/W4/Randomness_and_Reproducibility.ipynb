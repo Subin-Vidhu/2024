{
 "cells": [
  {
   "cell_type": "markdown",
   "metadata": {},
   "source": [
    "# Probability distributions, randomness, and sampling\n",
    "\n",
    "\n",
    "A probability distribution is a description of a means for generating random values.  The probability distribution specifies what values can be observed (the *sample space*), and how likely it is that each specific value is observed (the *probabilities*).  A simple example is a toss of a fair coin, where the sample space is {head, tail} and the corresponding probabilities are 1/2, 1/2.\n",
    "\n",
    "There are many \"named\" probability distributions such as the Normal, exponential, and Poisson distributions. We will illustrate a few of these distributions below.\n",
    "\n",
    "In statistics, probability distributions are used to define the unknown *population* of interest, from which we observe a *sample* of data from which we learn about the population.  This process of \"sampling\" is one of the fundamental issues that is considered by most statistical procedures.\n",
    "\n",
    "Many statistical procedures are based on idealized infinite populations (sometimes called *superpopulations*).  For example, if we repeatedly measure the moisture content of a soil sample, we will obtain a slightly different value each time due to various inconsistencies in the measurement process.  We might decide to treat these values as following a normal distribution, centered at the true (unknown) soil moisture concentration, with a dispersion (standard deviation) that reflects the precision of the measurement process.  Since a sample of one observation from a normal distribution can produce any real number, this is an infinite population.\n",
    "\n",
    "When working with infinite populations, it is oftent useful to talk about an *independent and identically distributed* sample, or an *IID* sample.  This is a collection of random values that follow the given distribution, which are independent of each other (we will discuss independence later in the course, but roughly speaking it means that no observation in the sample contains information that can be used to predict the value of another observation in the sample).\n",
    "\n",
    "Some statistical procedures take a *finite population* perspective, in which the population of interest is seen as a finite collection of unknown values, and we observe a *simple random sample* from this finite population.\n",
    "\n",
    "In this notebook we will consider sampling from both idealized infinite populations and finite populations."
   ]
  },
  {
   "cell_type": "code",
   "execution_count": 25,
   "metadata": {},
   "outputs": [],
   "source": [
    "import numpy as np"
   ]
  },
  {
   "cell_type": "markdown",
   "metadata": {},
   "source": [
    "### Generating random values from a distribution\n",
    "\n",
    "In practice we usually observe our data by making observations in the natural world, and then we analyze the data by fitting probability models to it.  Sometimes it is useful to generate a sample of data from a given distribution on a computer.  Since computers are inherently deterministic devices, it is not obvious how to do this.  We won't go into the details on this point here, but it turns out to be possible to construct *pseudo-random* sequences that behave like samples from a given distribution, although the values themselves are actually deterministic.\n",
    "\n",
    "Below we illustrate how to generate one observation, or an IID sample, from a few probability distributions.\n",
    "\n",
    "A *uniform* distribution on an interval $[a, b]$ is one in which any value in the interval is equally likely to be observed.  Below we generate first one observation, then a set of 10 IID observations from a uniform distribution on the interval $[25, 50]$."
   ]
  },
  {
   "cell_type": "code",
   "execution_count": 26,
   "metadata": {},
   "outputs": [
    {
     "data": {
      "text/plain": [
       "36.68934166464129"
      ]
     },
     "execution_count": 26,
     "metadata": {},
     "output_type": "execute_result"
    }
   ],
   "source": [
    "np.random.uniform(25,50)"
   ]
  },
  {
   "cell_type": "code",
   "execution_count": 27,
   "metadata": {},
   "outputs": [
    {
     "data": {
      "text/plain": [
       "array([41.30263751, 49.9298036 , 37.93655706, 35.09028889, 26.46116909,\n",
       "       26.12989276, 40.6770111 , 25.20171029, 35.44700648, 25.15855834])"
      ]
     },
     "execution_count": 27,
     "metadata": {},
     "output_type": "execute_result"
    }
   ],
   "source": [
    "np.random.uniform(25, 50, 10)"
   ]
  },
  {
   "cell_type": "markdown",
   "metadata": {},
   "source": [
    "A *normal* distribution (also called a *Gaussian* distribution) is a distribution on the real number line with a \"bell shaped\" density function.  This means that there is a single \"central value\" (the mean), and observations are quite strongly concentrated around this value.  The dispersion of these values is determined by a standard deviation parameter $\\sigma$.  In a normal distribution, about 95% of the observations will fall within $2\\sigma$ of the mean.\n",
    "\n",
    "Below we generate a single observation from a normal distribution with mean zero and standard deviation equal to 1 (a *standard normal distribution*), then we generate a single observation from a normal distribution with mean 5 and standard deviation 2, and then we generate an IID sample of 10 observations from a standard normal distribution."
   ]
  },
  {
   "cell_type": "code",
   "execution_count": 28,
   "metadata": {},
   "outputs": [
    {
     "data": {
      "text/plain": [
       "0.8186442546550885"
      ]
     },
     "execution_count": 28,
     "metadata": {},
     "output_type": "execute_result"
    }
   ],
   "source": [
    "mu = 0\n",
    "sigma = 1\n",
    "np.random.normal(mu, sigma)"
   ]
  },
  {
   "cell_type": "code",
   "execution_count": 29,
   "metadata": {},
   "outputs": [
    {
     "data": {
      "text/plain": [
       "1.2290751719326147"
      ]
     },
     "execution_count": 29,
     "metadata": {},
     "output_type": "execute_result"
    }
   ],
   "source": [
    "mu = 5\n",
    "sigma = 2\n",
    "np.random.normal(mu, sigma)"
   ]
  },
  {
   "cell_type": "code",
   "execution_count": 30,
   "metadata": {},
   "outputs": [
    {
     "data": {
      "text/plain": [
       "array([-1.04145904, -1.25790326,  1.84474995, -0.03871632, -0.21727888,\n",
       "        0.1609551 , -1.50619314,  0.11777234,  1.5159437 , -0.74735492])"
      ]
     },
     "execution_count": 30,
     "metadata": {},
     "output_type": "execute_result"
    }
   ],
   "source": [
    "mu = 0\n",
    "sigma = 1\n",
    "np.random.normal(mu, sigma, 10)"
   ]
  },
  {
   "cell_type": "markdown",
   "metadata": {},
   "source": [
    "## Random sampling from a finite population\n",
    "\n",
    "Now suppose we have a finite population, and we have a list of the sample space (i.e. we know all possible elements that may be sampled).  A \"simple random sample\" (SRS) of size $m$ is one in which all possible subsets of size $m$ can be observed.  Since a simple random sample cannot include the same observation two times, this is also sometimes called \"sampling without replacement\".\n",
    "\n",
    "As a simple example, the following creates a list containing the 26 letters of the latin alphabet."
   ]
  },
  {
   "cell_type": "code",
   "execution_count": 31,
   "metadata": {},
   "outputs": [],
   "source": [
    "import string\n",
    "x = [_ for _ in string.ascii_lowercase]"
   ]
  },
  {
   "cell_type": "markdown",
   "metadata": {},
   "source": [
    "We can now generate several simple random samples of size 5 from this distribution:"
   ]
  },
  {
   "cell_type": "code",
   "execution_count": 32,
   "metadata": {},
   "outputs": [
    {
     "name": "stdout",
     "output_type": "stream",
     "text": [
      "['p' 'f' 'z' 's' 'h']\n",
      "['h' 'p' 'o' 'i' 't']\n",
      "['v' 'n' 'g' 'q' 'x']\n",
      "['g' 'b' 'c' 'x' 'k']\n",
      "['s' 'f' 'z' 'q' 'c']\n"
     ]
    }
   ],
   "source": [
    "rng = np.random.default_rng(12345)\n",
    "for _ in range(5):\n",
    "    print(rng.choice(x, 5, replace=False))"
   ]
  }
 ],
 "metadata": {
  "kernelspec": {
   "display_name": "Python 3 (ipykernel)",
   "language": "python",
   "name": "python3"
  },
  "language_info": {
   "codemirror_mode": {
    "name": "ipython",
    "version": 3
   },
   "file_extension": ".py",
   "mimetype": "text/x-python",
   "name": "python",
   "nbconvert_exporter": "python",
   "pygments_lexer": "ipython3",
   "version": "3.11.4"
  }
 },
 "nbformat": 4,
 "nbformat_minor": 2
}
