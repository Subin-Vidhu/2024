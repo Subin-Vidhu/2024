{
 "cells": [
  {
   "cell_type": "markdown",
   "metadata": {},
   "source": [
    "# The Empirical Rule and Normal Distribution\n",
    "\n",
    "In week 2, we discussed the empirical rule or the 68 - 95 - 99.7 rule, which describes how many observations fall within a certain distance from our mean.  This \"rule\" applies to normally distributed populations.  \n",
    "\n",
    "To understand the empirical rule it is important to understand the meaning of the \"standard deviation\".  The standard deviation, or SD, is often denoted $\\sigma$ (sigma).  For any distribution, the standard deviation is the \"typical\" distance of a single randomly selected value from the mean.  To be precise, the standard deviation is defined to be the square root of the average squared distance of an observation from the mean.  Since this definition involves squaring, and then taking a square root, the standard deviation has the same units as the data (e.g. if the data are measured in centimeters, then the SD has units of centimeters as well).\n",
    "\n",
    "The following graph displays a normal density curve with the central intervals denoted along with their corresponding percentages:\n",
    "\n",
    "![Three Sigma Rule](three_sigma_rule.png)\n",
    "\n",
    "For this tutorial, we will be exploring the number of hours that college students sleep.\n",
    "\n",
    "The example used in lecture stated that the sleep duration had a mean of 7 hours and standard deviation of 1.7 hours; we will use these same values and treat the distribution as being normal."
   ]
  },
  {
   "cell_type": "code",
   "execution_count": 51,
   "metadata": {},
   "outputs": [],
   "source": [
    "import numpy as np\n",
    "import pandas as pd\n",
    "import matplotlib.pyplot as plt\n",
    "import seaborn as sns\n",
    "\n",
    "np.random.seed(1738)"
   ]
  },
  {
   "cell_type": "markdown",
   "metadata": {},
   "source": [
    "Below we generate a large sample of data from a normal population with the desired mean and standard deviation."
   ]
  },
  {
   "cell_type": "code",
   "execution_count": 52,
   "metadata": {},
   "outputs": [],
   "source": [
    "mu = 7 # The population mean\n",
    "sigma = 1.7 # The population standard deviation\n",
    "\n",
    "# Generate a large set of random observations\n",
    "Observations = np.random.normal(mu, sigma, size=100000)"
   ]
  },
  {
   "cell_type": "markdown",
   "metadata": {},
   "source": [
    "Next we generate an \"empirical\" version of the plot above, based on simulated data instead of based on the theoretical normal population.  Since we have a very large sample, the figures below and above are very similar to each other."
   ]
  },
  {
   "cell_type": "code",
   "execution_count": 53,
   "metadata": {},
   "outputs": [
    {
     "data": {
      "image/png": "[encoded data removed]",
      "text/plain": [
       "<Figure size 360x360 with 1 Axes>"
      ]
     },
     "metadata": {
      "needs_background": "light"
     },
     "output_type": "display_data"
    }
   ],
   "source": [
    "sns.displot(Observations)\n",
    "\n",
    "plt.axvline(np.mean(Observations) + np.std(Observations), color = \"g\")\n",
    "plt.axvline(np.mean(Observations) - np.std(Observations), color = \"g\")\n",
    "\n",
    "plt.axvline(np.mean(Observations) + (np.std(Observations) * 2), color = \"y\")\n",
    "plt.axvline(np.mean(Observations) - (np.std(Observations) * 2), color = \"y\");"
   ]
  },
  {
   "cell_type": "markdown",
   "metadata": {},
   "source": [
    "Below we use Pandas to obtain a set of descriptive statistics for the data generated above.  As expected, the sample mean is close to but not equal to the population mean, and the sample SD (denoted std below) is close to but not equal to the population SD."
   ]
  },
  {
   "cell_type": "code",
   "execution_count": 54,
   "metadata": {},
   "outputs": [
    {
     "data": {
      "text/plain": [
       "count    100000.000000\n",
       "mean          6.992853\n",
       "std           1.704479\n",
       "min          -0.412972\n",
       "25%           5.848168\n",
       "50%           6.984680\n",
       "75%           8.141981\n",
       "max          14.893770\n",
       "dtype: float64"
      ]
     },
     "execution_count": 54,
     "metadata": {},
     "output_type": "execute_result"
    }
   ],
   "source": [
    "pd.Series(Observations).describe()"
   ]
  },
  {
   "cell_type": "markdown",
   "metadata": {},
   "source": [
    "Next we randomly subsample from the large set of data generated above."
   ]
  },
  {
   "cell_type": "code",
   "execution_count": 55,
   "metadata": {},
   "outputs": [],
   "source": [
    "SampleA = np.random.choice(Observations, 400)\n",
    "SampleB = np.random.choice(Observations, 400)\n",
    "SampleC = np.random.choice(Observations, 400)"
   ]
  },
  {
   "cell_type": "markdown",
   "metadata": {},
   "source": [
    "The histograms of these samples resemble normal distributions."
   ]
  },
  {
   "cell_type": "code",
   "execution_count": 56,
   "metadata": {},
   "outputs": [
    {
     "data": {
      "text/plain": [
       "<AxesSubplot:ylabel='Count'>"
      ]
     },
     "execution_count": 56,
     "metadata": {},
     "output_type": "execute_result"
    },
    {
     "data": {
      "image/png": "[encoded data removed]",
      "text/plain": [
       "<Figure size 432x288 with 1 Axes>"
      ]
     },
     "metadata": {
      "needs_background": "light"
     },
     "output_type": "display_data"
    }
   ],
   "source": [
    "fig, ax = plt.subplots()\n",
    "\n",
    "sns.histplot(SampleA, ax = ax, color=\"orange\", alpha=0.2)\n",
    "sns.histplot(SampleB, ax = ax, color=\"purple\", alpha=0.2)\n",
    "sns.histplot(SampleC, ax = ax, color=\"green\", alpha=0.2)"
   ]
  },
  {
   "cell_type": "markdown",
   "metadata": {},
   "source": [
    "Approximately 68% of each sample falls within one standard deviation of the mean:"
   ]
  },
  {
   "cell_type": "code",
   "execution_count": 57,
   "metadata": {},
   "outputs": [
    {
     "name": "stdout",
     "output_type": "stream",
     "text": [
      "0.73\n",
      "0.685\n",
      "0.6625\n"
     ]
    }
   ],
   "source": [
    "print((np.abs(SampleA - mu) < 1 * sigma).mean())\n",
    "print((np.abs(SampleB - mu) < 1 * sigma).mean())\n",
    "print((np.abs(SampleC - mu) < 1 * sigma).mean())"
   ]
  },
  {
   "cell_type": "markdown",
   "metadata": {},
   "source": [
    "Now consider a population that is not normal.  For example, we can sample from the standard exponential distribution, which has mean 1 and standard deviation 1."
   ]
  },
  {
   "cell_type": "code",
   "execution_count": 58,
   "metadata": {},
   "outputs": [
    {
     "name": "stdout",
     "output_type": "stream",
     "text": [
      "0.86\n",
      "0.94\n"
     ]
    }
   ],
   "source": [
    "expdata = np.random.exponential(size=1000)\n",
    "print((np.abs(expdata - 1) < 1).mean())\n",
    "print((np.abs(expdata - 1) < 2).mean())"
   ]
  },
  {
   "cell_type": "markdown",
   "metadata": {},
   "source": [
    "We see that a far greater fraction of the data fall within 1 standard deviation of the mean compared to the empirical rule (86% versus 68%)."
   ]
  },
  {
   "cell_type": "markdown",
   "metadata": {},
   "source": [
    "The Student t distribution with three degrees of freedom has mean 0 and variance 3, so the standard deviation is $\\sqrt{3} \\approx 1.73$."
   ]
  },
  {
   "cell_type": "code",
   "execution_count": 59,
   "metadata": {},
   "outputs": [
    {
     "name": "stdout",
     "output_type": "stream",
     "text": [
      "0.803\n",
      "0.953\n"
     ]
    }
   ],
   "source": [
    "tdata = np.random.standard_t(3, size=1000)\n",
    "print((np.abs(tdata) < np.sqrt(3)).mean())\n",
    "print((np.abs(tdata) < 2*np.sqrt(3)).mean())"
   ]
  },
  {
   "cell_type": "markdown",
   "metadata": {},
   "source": [
    "Again, a far greater fraction of the data fall within one standard deviation of the mean than would occur under the empirical rule."
   ]
  },
  {
   "cell_type": "markdown",
   "metadata": {},
   "source": [
    "Now that we have covered the 68 - 95 - 99.7 rule, we will take this a step further and discuss the empirical distribution function.\n",
    "\n",
    "The empirical distribution function is a cumulative density function that gives the proportion of observations that are less than or equal to a given value.\n",
    "\n",
    "Let's use the initial image above as an example of this concept:\n",
    "\n",
    "<img src=\"img/three_sigma_rule.png\">\n",
    "\n",
    "Now, by using our observations for hours of sleep, we can create an empirical distribution function in Python that estimates the population proportion of observations falling below a given number of hours of sleep."
   ]
  },
  {
   "cell_type": "code",
   "execution_count": 60,
   "metadata": {},
   "outputs": [
    {
     "data": {
      "text/plain": [
       "<matplotlib.lines.Line2D at 0x14d3fdb7c850>"
      ]
     },
     "execution_count": 60,
     "metadata": {},
     "output_type": "execute_result"
    },
    {
     "data": {
      "image/png": "[encoded data removed]",
      "text/plain": [
       "<Figure size 360x360 with 1 Axes>"
      ]
     },
     "metadata": {
      "needs_background": "light"
     },
     "output_type": "display_data"
    }
   ],
   "source": [
    "mu = 7\n",
    "sigma = 1.7\n",
    "\n",
    "Observations = [np.random.normal(mu, sigma) for _ in range(100000)]\n",
    "\n",
    "sns.displot(Observations)\n",
    "plt.axvline(np.mean(Observations) + np.std(Observations), 0, .59, color = 'g')\n",
    "plt.axvline(np.mean(Observations) - np.std(Observations), 0, .59, color = 'g')\n",
    "\n",
    "plt.axvline(np.mean(Observations) + (np.std(Observations) * 2), 0, .15, color = 'y')\n",
    "plt.axvline(np.mean(Observations) - (np.std(Observations) * 2), 0, .15, color = 'y')"
   ]
  },
  {
   "cell_type": "code",
   "execution_count": 61,
   "metadata": {},
   "outputs": [
    {
     "data": {
      "text/plain": [
       "<matplotlib.lines.Line2D at 0x14d3fda0bc40>"
      ]
     },
     "execution_count": 61,
     "metadata": {},
     "output_type": "execute_result"
    },
    {
     "data": {
      "image/png": "[encoded data removed]",
      "text/plain": [
       "<Figure size 432x288 with 1 Axes>"
      ]
     },
     "metadata": {
      "needs_background": "light"
     },
     "output_type": "display_data"
    }
   ],
   "source": [
    "from statsmodels.distributions.empirical_distribution import ECDF\n",
    "import matplotlib.pyplot as plt\n",
    "\n",
    "ecdf = ECDF(Observations)\n",
    "\n",
    "plt.plot(ecdf.x, ecdf.y)\n",
    "\n",
    "plt.axhline(y = 0.025, color = 'y', linestyle='-')\n",
    "plt.axvline(x = np.mean(Observations) - (2 * np.std(Observations)), color = 'y', linestyle='-')\n",
    "\n",
    "plt.axhline(y = 0.975, color = 'y', linestyle='-')\n",
    "plt.axvline(x = np.mean(Observations) + (2 * np.std(Observations)), color = 'y', linestyle='-')"
   ]
  }
 ],
 "metadata": {
  "kernelspec": {
   "display_name": "Python 3 (ipykernel)",
   "language": "python",
   "name": "python3"
  },
  "language_info": {
   "codemirror_mode": {
    "name": "ipython",
    "version": 3
   },
   "file_extension": ".py",
   "mimetype": "text/x-python",
   "name": "python",
   "nbconvert_exporter": "python",
   "pygments_lexer": "ipython3",
   "version": "3.11.4"
  }
 },
 "nbformat": 4,
 "nbformat_minor": 2
}
