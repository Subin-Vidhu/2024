{
 "cells": [
  {
   "cell_type": "markdown",
   "metadata": {
    "colab_type": "text",
    "id": "Wp6u2WFB6sD3"
   },
   "source": [
    "# Python libraries for regression analysis\n",
    "\n",
    "For this tutorial, we introduce the python libraries that provide functionality to analyze data using regression modeling methods covered in the course.\n",
    "\n",
    "The primary Python package we will be using is:\n",
    "\n",
    "* **Statsmodels:** a library that supports estimation of many different statistical models, as well as for conducting statistical tests, and exploring data.  \n",
    "\n",
    "*__Attention__:* If you are not familiar with the following packages, we recommend that you review the first and second courses of the Statistics with Python specialization, **Understanding and Visualizing Data** and **Inferential Statistical Analysis with Python**.\n",
    "\n",
    "* **Numpy** is a library for working with arrays of data.  \n",
    "\n",
    "* **Pandas** is a library for data management, manipulation, and analysis.  \n",
    "\n",
    "* **Matplotlib** is a library for making visualizations.  \n",
    "\n",
    "* **Seaborn** is a higher-level interface to Matplotlib that can be used to simplify many visualization tasks.  \n",
    "\n",
    "*__Important__: While this notebooks provides insight into the basics of these libraries,  it is recommended that you dig into the [documentation](https://www.statsmodels.org/stable/index.html) available online.*"
   ]
  },
  {
   "cell_type": "markdown",
   "metadata": {
    "colab_type": "text",
    "id": "bS09niUH6sD4"
   },
   "source": [
    "## StatsModels\n",
    "\n",
    "The StatsModels package supports a wide range of statistical data analyses, including regression, time-series analysis, and multivariate statistics.\n",
    "\n",
    "Here we will mainly be using that StatsModels stats, OLS, and GLM sub-libraries.  However, we will begin by reviewing some functionality that has been referenced in earlier course of the Statistics with Python specialization."
   ]
  },
  {
   "cell_type": "code",
   "execution_count": 123,
   "metadata": {
    "colab": {},
    "colab_type": "code",
    "id": "zAmQwUrM6sD4"
   },
   "outputs": [],
   "source": [
    "# Import the libraries that we will be using\n",
    "import statsmodels.api as sm\n",
    "import statsmodels\n",
    "import numpy as np\n",
    "import pandas as pd\n",
    "import seaborn as sns"
   ]
  },
  {
   "cell_type": "code",
   "execution_count": 124,
   "metadata": {},
   "outputs": [],
   "source": [
    "# Read the NHANES dataset into a data frame\n",
    "da = pd.read_csv(\"nhanes_2015_2016.csv\")"
   ]
  },
  {
   "cell_type": "markdown",
   "metadata": {
    "colab_type": "text",
    "id": "yHW550yS6sD9"
   },
   "source": [
    "### Descriptive statistics\n",
    "\n",
    "The [describe](https://www.statsmodels.org/stable/generated/statsmodels.stats.descriptivestats.describe.html#statsmodels.stats.descriptivestats.describe) method in StatsModels produces a collection of descriptive statistics.  Below we obtain the descriptive statistics for the BMI variable in the NHANES dataset."
   ]
  },
  {
   "cell_type": "code",
   "execution_count": 125,
   "metadata": {
    "colab": {},
    "colab_type": "code",
    "id": "T0Diw1p66sD-",
    "outputId": "38a8e936-209c-49de-d828-7dae305acaf8"
   },
   "outputs": [
    {
     "name": "stderr",
     "output_type": "stream",
     "text": [
      "/sw/pkgs/arc/python3.9-anaconda/2021.11/lib/python3.9/site-packages/statsmodels/stats/descriptivestats.py:509: FutureWarning: In a future version of pandas all arguments of concat except for the argument 'objs' will be keyword-only\n",
      "  return self._reorder(pd.concat([results_df, perc], 0))\n"
     ]
    },
    {
     "data": {
      "text/html": [
       "<div>\n",
       "<style scoped>\n",
       "    .dataframe tbody tr th:only-of-type {\n",
       "        vertical-align: middle;\n",
       "    }\n",
       "\n",
       "    .dataframe tbody tr th {\n",
       "        vertical-align: top;\n",
       "    }\n",
       "\n",
       "    .dataframe thead th {\n",
       "        text-align: right;\n",
       "    }\n",
       "</style>\n",
       "<table border=\"1\" class=\"dataframe\">\n",
       "  <thead>\n",
       "    <tr style=\"text-align: right;\">\n",
       "      <th></th>\n",
       "      <th>BMXBMI</th>\n",
       "    </tr>\n",
       "  </thead>\n",
       "  <tbody>\n",
       "    <tr>\n",
       "      <th>nobs</th>\n",
       "      <td>5735.000000</td>\n",
       "    </tr>\n",
       "    <tr>\n",
       "      <th>missing</th>\n",
       "      <td>73.000000</td>\n",
       "    </tr>\n",
       "    <tr>\n",
       "      <th>mean</th>\n",
       "      <td>29.382197</td>\n",
       "    </tr>\n",
       "    <tr>\n",
       "      <th>std_err</th>\n",
       "      <td>0.001253</td>\n",
       "    </tr>\n",
       "    <tr>\n",
       "      <th>upper_ci</th>\n",
       "      <td>29.384653</td>\n",
       "    </tr>\n",
       "    <tr>\n",
       "      <th>lower_ci</th>\n",
       "      <td>29.379741</td>\n",
       "    </tr>\n",
       "    <tr>\n",
       "      <th>std</th>\n",
       "      <td>7.095921</td>\n",
       "    </tr>\n",
       "    <tr>\n",
       "      <th>iqr</th>\n",
       "      <td>8.700000</td>\n",
       "    </tr>\n",
       "    <tr>\n",
       "      <th>iqr_normal</th>\n",
       "      <td>6.449320</td>\n",
       "    </tr>\n",
       "    <tr>\n",
       "      <th>mad</th>\n",
       "      <td>5.428255</td>\n",
       "    </tr>\n",
       "    <tr>\n",
       "      <th>mad_normal</th>\n",
       "      <td>6.803309</td>\n",
       "    </tr>\n",
       "    <tr>\n",
       "      <th>coef_var</th>\n",
       "      <td>0.241504</td>\n",
       "    </tr>\n",
       "    <tr>\n",
       "      <th>range</th>\n",
       "      <td>52.800000</td>\n",
       "    </tr>\n",
       "    <tr>\n",
       "      <th>max</th>\n",
       "      <td>67.300000</td>\n",
       "    </tr>\n",
       "    <tr>\n",
       "      <th>min</th>\n",
       "      <td>14.500000</td>\n",
       "    </tr>\n",
       "    <tr>\n",
       "      <th>skew</th>\n",
       "      <td>1.109101</td>\n",
       "    </tr>\n",
       "    <tr>\n",
       "      <th>kurtosis</th>\n",
       "      <td>4.957164</td>\n",
       "    </tr>\n",
       "    <tr>\n",
       "      <th>jarque_bera</th>\n",
       "      <td>2064.484880</td>\n",
       "    </tr>\n",
       "    <tr>\n",
       "      <th>jarque_bera_pval</th>\n",
       "      <td>0.000000</td>\n",
       "    </tr>\n",
       "    <tr>\n",
       "      <th>mode</th>\n",
       "      <td>29.100000</td>\n",
       "    </tr>\n",
       "    <tr>\n",
       "      <th>mode_freq</th>\n",
       "      <td>0.009184</td>\n",
       "    </tr>\n",
       "    <tr>\n",
       "      <th>median</th>\n",
       "      <td>28.300000</td>\n",
       "    </tr>\n",
       "  </tbody>\n",
       "</table>\n",
       "</div>"
      ],
      "text/plain": [
       "                       BMXBMI\n",
       "nobs              5735.000000\n",
       "missing             73.000000\n",
       "mean                29.382197\n",
       "std_err              0.001253\n",
       "upper_ci            29.384653\n",
       "lower_ci            29.379741\n",
       "std                  7.095921\n",
       "iqr                  8.700000\n",
       "iqr_normal           6.449320\n",
       "mad                  5.428255\n",
       "mad_normal           6.803309\n",
       "coef_var             0.241504\n",
       "range               52.800000\n",
       "max                 67.300000\n",
       "min                 14.500000\n",
       "skew                 1.109101\n",
       "kurtosis             4.957164\n",
       "jarque_bera       2064.484880\n",
       "jarque_bera_pval     0.000000\n",
       "mode                29.100000\n",
       "mode_freq            0.009184\n",
       "median              28.300000"
      ]
     },
     "execution_count": 125,
     "metadata": {},
     "output_type": "execute_result"
    }
   ],
   "source": [
    "statsmodels.stats.descriptivestats.describe(da[\"BMXBMI\"])"
   ]
  },
  {
   "cell_type": "markdown",
   "metadata": {},
   "source": [
    "The Pandas library also provides a [describe](https://pandas.pydata.org/docs/reference/api/pandas.Series.describe.html) method that provides a more limited set of descriptive statistics:"
   ]
  },
  {
   "cell_type": "code",
   "execution_count": 126,
   "metadata": {},
   "outputs": [
    {
     "data": {
      "text/plain": [
       "count    5662.000000\n",
       "mean       29.382197\n",
       "std         7.095921\n",
       "min        14.500000\n",
       "25%        24.300000\n",
       "50%        28.300000\n",
       "75%        33.000000\n",
       "max        67.300000\n",
       "Name: BMXBMI, dtype: float64"
      ]
     },
     "execution_count": 126,
     "metadata": {},
     "output_type": "execute_result"
    }
   ],
   "source": [
    "da[\"BMXBMI\"].describe()"
   ]
  },
  {
   "cell_type": "markdown",
   "metadata": {},
   "source": [
    "Often we may wish to calculate descriptive statistics on multiple strata within a dataset.  For example, below we stratify the NHANES data by gender and calculate the descriptive statistics for each gender."
   ]
  },
  {
   "cell_type": "code",
   "execution_count": 127,
   "metadata": {},
   "outputs": [
    {
     "data": {
      "text/html": [
       "<div>\n",
       "<style scoped>\n",
       "    .dataframe tbody tr th:only-of-type {\n",
       "        vertical-align: middle;\n",
       "    }\n",
       "\n",
       "    .dataframe tbody tr th {\n",
       "        vertical-align: top;\n",
       "    }\n",
       "\n",
       "    .dataframe thead th {\n",
       "        text-align: right;\n",
       "    }\n",
       "</style>\n",
       "<table border=\"1\" class=\"dataframe\">\n",
       "  <thead>\n",
       "    <tr style=\"text-align: right;\">\n",
       "      <th></th>\n",
       "      <th>count</th>\n",
       "      <th>mean</th>\n",
       "      <th>std</th>\n",
       "      <th>min</th>\n",
       "      <th>25%</th>\n",
       "      <th>50%</th>\n",
       "      <th>75%</th>\n",
       "      <th>max</th>\n",
       "    </tr>\n",
       "    <tr>\n",
       "      <th>RIAGENDR</th>\n",
       "      <th></th>\n",
       "      <th></th>\n",
       "      <th></th>\n",
       "      <th></th>\n",
       "      <th></th>\n",
       "      <th></th>\n",
       "      <th></th>\n",
       "      <th></th>\n",
       "    </tr>\n",
       "  </thead>\n",
       "  <tbody>\n",
       "    <tr>\n",
       "      <th>1</th>\n",
       "      <td>2718.0</td>\n",
       "      <td>28.778072</td>\n",
       "      <td>6.252568</td>\n",
       "      <td>15.1</td>\n",
       "      <td>24.4</td>\n",
       "      <td>27.9</td>\n",
       "      <td>31.975</td>\n",
       "      <td>58.8</td>\n",
       "    </tr>\n",
       "    <tr>\n",
       "      <th>2</th>\n",
       "      <td>2944.0</td>\n",
       "      <td>29.939946</td>\n",
       "      <td>7.753319</td>\n",
       "      <td>14.5</td>\n",
       "      <td>24.1</td>\n",
       "      <td>28.8</td>\n",
       "      <td>34.100</td>\n",
       "      <td>67.3</td>\n",
       "    </tr>\n",
       "  </tbody>\n",
       "</table>\n",
       "</div>"
      ],
      "text/plain": [
       "           count       mean       std   min   25%   50%     75%   max\n",
       "RIAGENDR                                                             \n",
       "1         2718.0  28.778072  6.252568  15.1  24.4  27.9  31.975  58.8\n",
       "2         2944.0  29.939946  7.753319  14.5  24.1  28.8  34.100  67.3"
      ]
     },
     "execution_count": 127,
     "metadata": {},
     "output_type": "execute_result"
    }
   ],
   "source": [
    "da.groupby(\"RIAGENDR\")[\"BMXBMI\"].describe()"
   ]
  },
  {
   "cell_type": "markdown",
   "metadata": {
    "colab_type": "text",
    "id": "Ko78IcAX6sEX"
   },
   "source": [
    "# OLS (Ordinary Least Squares), GLM (Generalized Linear Models), GEE (Generalize Estimated Equations), MIXEDLM (Multilevel Models)\n",
    "\n",
    "The OLS, GLM, GEE, and MIXEDLM modules in StatsModels are used to fit various types of statistical models to data.\n",
    "\n",
    "Below, we will give a brief description of each model and a skeleton of the functions you will see going forward in the course.  This is simply for you to get familiar with the syntax for fitting the models and the form of input and output to expect. If their application at this time seems a bit unclear have no fear as everything will be discussed in detail throughout this course!"
   ]
  },
  {
   "cell_type": "markdown",
   "metadata": {},
   "source": [
    "#### Ordinary Least Squares\n",
    "\n",
    "Ordinary Least Squares (OLS) is a method for estimating the unknown parameters in a linear regression model.  Linear regression modeling is arguably the most widely-applicable form of regression.  First, we prepare the data by recoding some variables and dropping observations with missing values."
   ]
  },
  {
   "cell_type": "code",
   "execution_count": 128,
   "metadata": {},
   "outputs": [],
   "source": [
    "# Drop unused columns, drop rows with any missing values.\n",
    "vars = [\"BPXSY1\", \"RIDAGEYR\", \"RIAGENDR\", \"RIDRETH1\", \"DMDEDUC2\", \"BMXBMI\",\n",
    "        \"SMQ020\", \"SDMVSTRA\", \"SDMVPSU\"]\n",
    "da = da[vars].dropna()\n",
    "\n",
    "da[\"RIAGENDRx\"] = da.RIAGENDR.replace({1: \"Male\", 2: \"Female\"})"
   ]
  },
  {
   "cell_type": "markdown",
   "metadata": {},
   "source": [
    "Now we can proceed to fit the linear regression model that considers the variation in systolic blood pressure (BPXSY1) in terms of age and gender as explanatory variables.  This model is fit (estimated) using ordinary least squares."
   ]
  },
  {
   "cell_type": "code",
   "execution_count": 129,
   "metadata": {
    "colab": {},
    "colab_type": "code",
    "id": "MhalCiu-6sEX"
   },
   "outputs": [
    {
     "name": "stdout",
     "output_type": "stream",
     "text": [
      "                            OLS Regression Results                            \n",
      "==============================================================================\n",
      "Dep. Variable:                 BPXSY1   R-squared:                       0.215\n",
      "Model:                            OLS   Adj. R-squared:                  0.214\n",
      "Method:                 Least Squares   F-statistic:                     697.4\n",
      "Date:                Sun, 29 Jan 2023   Prob (F-statistic):          1.87e-268\n",
      "Time:                        11:08:30   Log-Likelihood:                -21505.\n",
      "No. Observations:                5102   AIC:                         4.302e+04\n",
      "Df Residuals:                    5099   BIC:                         4.304e+04\n",
      "Df Model:                           2                                         \n",
      "Covariance Type:            nonrobust                                         \n",
      "=====================================================================================\n",
      "                        coef    std err          t      P>|t|      [0.025      0.975]\n",
      "-------------------------------------------------------------------------------------\n",
      "Intercept           100.6305      0.712    141.257      0.000      99.234     102.027\n",
      "RIAGENDRx[T.Male]     3.2322      0.459      7.040      0.000       2.332       4.132\n",
      "RIDAGEYR              0.4739      0.013     36.518      0.000       0.448       0.499\n",
      "==============================================================================\n",
      "Omnibus:                      706.732   Durbin-Watson:                   2.036\n",
      "Prob(Omnibus):                  0.000   Jarque-Bera (JB):             1582.730\n",
      "Skew:                           0.818   Prob(JB):                         0.00\n",
      "Kurtosis:                       5.184   Cond. No.                         168.\n",
      "==============================================================================\n",
      "\n",
      "Notes:\n",
      "[1] Standard Errors assume that the covariance matrix of the errors is correctly specified.\n"
     ]
    }
   ],
   "source": [
    "model = sm.OLS.from_formula(\"BPXSY1 ~ RIDAGEYR + RIAGENDRx\", data=da)\n",
    "res = model.fit()\n",
    "print(res.summary())"
   ]
  },
  {
   "cell_type": "markdown",
   "metadata": {},
   "source": [
    "The scatterplot below shows how well we are able to capture systolic blood pressure as a linear function of gender and age."
   ]
  },
  {
   "cell_type": "code",
   "execution_count": 130,
   "metadata": {
    "colab_type": "text",
    "id": "ujGjtQwR6sEa"
   },
   "outputs": [
    {
     "data": {
      "image/png": "[encoded data removed]",
      "text/plain": [
       "<Figure size 432x288 with 1 Axes>"
      ]
     },
     "metadata": {
      "needs_background": "light"
     },
     "output_type": "display_data"
    }
   ],
   "source": [
    "ax = sns.regplot(x=model.endog, y=res.fittedvalues, fit_reg=False, scatter_kws={\"alpha\": 0.2})\n",
    "ax.set(xlabel=\"Observed SBP\", ylabel=\"Fitted SBP\");"
   ]
  },
  {
   "cell_type": "markdown",
   "metadata": {
    "colab_type": "text",
    "id": "t7mrqEjx6sEb"
   },
   "source": [
    "#### Generalized Linear Models\n",
    "\n",
    "Generalized Linear Models (GLM) is a broad class of regression models that can be used to capture nonlinear mean structures and non-constant variance (heteroscedasticity).  In this course we will focus on one specific GLM known as logistic regression.  Logistic regression is most often used when the response variable is binary, typically coded numerically as 0 and 1.\n",
    "\n",
    "To illustrate logistic regression, we construct a binary variable for each NHANES subject indicating their smoking history."
   ]
  },
  {
   "cell_type": "code",
   "execution_count": 131,
   "metadata": {
    "colab": {},
    "colab_type": "code",
    "id": "66gX6Ivv6sEb"
   },
   "outputs": [],
   "source": [
    "da[\"smq\"] = da.SMQ020.replace({2: 0, 7: np.nan, 9: np.nan})"
   ]
  },
  {
   "cell_type": "markdown",
   "metadata": {},
   "source": [
    "Above is a example of creating a logistic regression model where the response variable is SMQ020x, which in this case is whether or not this person has ever been a smoker.  The predictor (explanatory) variables are age (RIDAGEYR) and gender (RIAGENDRx)."
   ]
  },
  {
   "cell_type": "code",
   "execution_count": 132,
   "metadata": {},
   "outputs": [
    {
     "name": "stdout",
     "output_type": "stream",
     "text": [
      "                 Generalized Linear Model Regression Results                  \n",
      "==============================================================================\n",
      "Dep. Variable:                    smq   No. Observations:                 5094\n",
      "Model:                            GLM   Df Residuals:                     5091\n",
      "Model Family:                Binomial   Df Model:                            2\n",
      "Link Function:                  logit   Scale:                          1.0000\n",
      "Method:                          IRLS   Log-Likelihood:                -3296.6\n",
      "Date:                Sun, 29 Jan 2023   Deviance:                       6593.2\n",
      "Time:                        11:08:30   Pearson chi2:                 5.10e+03\n",
      "No. Iterations:                     4                                         \n",
      "Covariance Type:            nonrobust                                         \n",
      "=====================================================================================\n",
      "                        coef    std err          z      P>|z|      [0.025      0.975]\n",
      "-------------------------------------------------------------------------------------\n",
      "Intercept            -1.6166      0.095    -16.985      0.000      -1.803      -1.430\n",
      "RIAGENDRx[T.Male]     0.8920      0.059     15.170      0.000       0.777       1.007\n",
      "RIDAGEYR              0.0172      0.002     10.289      0.000       0.014       0.021\n",
      "=====================================================================================\n"
     ]
    }
   ],
   "source": [
    "model = sm.GLM.from_formula(\"smq ~ RIDAGEYR + RIAGENDRx\", family=sm.families.Binomial(), data=da)\n",
    "res = model.fit()\n",
    "print(res.summary())"
   ]
  },
  {
   "cell_type": "markdown",
   "metadata": {
    "colab_type": "text",
    "id": "HAGWs0sA6sEg"
   },
   "source": [
    "We will not explain the output in detail here, except to note that according to the model results, men are more likely to have smoked than women, and older people are more likely to have smoked than younger people. "
   ]
  },
  {
   "cell_type": "markdown",
   "metadata": {
    "colab_type": "text",
    "id": "HPr2J3Xu6sEh"
   },
   "source": [
    "#### Generalized Estimated Equations\n",
    "\n",
    "Generalized Estimating Equations (GEE) is not a new class of models, but rather is a new way of estimating generalized linear models (GLMs).  The GEE approach is used when the data are non-independent, which usually arises with specific types of study designs such as panel, cluster, or longitudinal designs.  In a GEE, we provide a \"cluster\" variable which partitions the sample into groups.  The observations are possibly correlated within a cluster but must be independent between clusters.  The resulting \"marginal model\" describes the relationships between the explanatory variables and the outcome, and properly accounts for the dependence among observations."
   ]
  },
  {
   "cell_type": "markdown",
   "metadata": {},
   "source": [
    "NHANES is a cluster sample, meaning that the NHANES subjects are recruited in two steps: first a representative set of communities is identified, then representative subjects within each community are identified.  In such a \"cluster sample\", there may be correlations between two subjects from the same community.  For confidentiality reasons, the actual communiity identifiers are not provided in the NHANES data, but we can construct a proxy for them as the \"group\" variable defined below."
   ]
  },
  {
   "cell_type": "code",
   "execution_count": 133,
   "metadata": {
    "colab": {},
    "colab_type": "code",
    "id": "N2UPibR56sEi"
   },
   "outputs": [],
   "source": [
    "da[\"group\"] = 10*da.SDMVSTRA + da.SDMVPSU"
   ]
  },
  {
   "cell_type": "markdown",
   "metadata": {},
   "source": [
    "Now that we have constructed a cluster variable, we can estimate a linear model using the GEE approach.  This linear model considers the relationship between systolic blood pressure (BPXSY1) with age and gender as explanatory variables."
   ]
  },
  {
   "cell_type": "code",
   "execution_count": 136,
   "metadata": {},
   "outputs": [
    {
     "name": "stdout",
     "output_type": "stream",
     "text": [
      "                               GEE Regression Results                              \n",
      "===================================================================================\n",
      "Dep. Variable:                      BPXSY1   No. Observations:                 5102\n",
      "Model:                                 GEE   No. clusters:                       30\n",
      "Method:                        Generalized   Min. cluster size:                 106\n",
      "                      Estimating Equations   Max. cluster size:                 226\n",
      "Family:                           Gaussian   Mean cluster size:               170.1\n",
      "Dependence structure:         Exchangeable   Num. iterations:                     7\n",
      "Date:                     Sun, 29 Jan 2023   Scale:                         268.502\n",
      "Covariance type:                    robust   Time:                         11:09:26\n",
      "=====================================================================================\n",
      "                        coef    std err          z      P>|z|      [0.025      0.975]\n",
      "-------------------------------------------------------------------------------------\n",
      "Intercept           100.7673      0.907    111.155      0.000      98.990     102.544\n",
      "RIAGENDRx[T.Male]     3.2566      0.424      7.681      0.000       2.426       4.088\n",
      "RIDAGEYR              0.4672      0.018     25.268      0.000       0.431       0.503\n",
      "==============================================================================\n",
      "Skew:                          0.8265   Kurtosis:                       2.1947\n",
      "Centered skew:                 0.8084   Centered kurtosis:              2.1137\n",
      "==============================================================================\n",
      "The correlation between two observations in the same cluster is 0.019\n"
     ]
    }
   ],
   "source": [
    "model = sm.GEE.from_formula(\"BPXSY1 ~ RIDAGEYR + RIAGENDRx\", groups=\"group\", cov_struct=sm.cov_struct.Exchangeable(), data=da)\n",
    "res = model.fit()\n",
    "print(res.summary())\n",
    "print(res.cov_struct.summary())"
   ]
  },
  {
   "cell_type": "markdown",
   "metadata": {
    "colab_type": "text",
    "id": "GI-wvJZz6sEm"
   },
   "source": [
    "The analysis above shows a small correlation between two observations in the same cluster, with an intraclass correlation (ICC) of approximately 0.02."
   ]
  },
  {
   "cell_type": "markdown",
   "metadata": {
    "colab_type": "text",
    "id": "qTDJVIpQ6sEn"
   },
   "source": [
    "#### Multilevel Models\n",
    "\n",
    "Multilevel models (also known as \"mixed models\", \"random effects models\", or in some cases \"variance components models\") are a way to jointly model the mean and covariance structure of data in a regression framework.  It is a very powerful and broadly-useful set of tools, and we will only scratch the surface of this powerful framework in this course.  Below is a simple example that illustrates a multilevel regression using systolic blood pressure as the dependent variable, with several explanatory variables.  This model includes a \"random intercept\" for \"group\" (the survey cluster)."
   ]
  },
  {
   "cell_type": "code",
   "execution_count": 149,
   "metadata": {
    "colab": {},
    "colab_type": "code",
    "id": "kx8UyI4b6sEo"
   },
   "outputs": [
    {
     "name": "stdout",
     "output_type": "stream",
     "text": [
      "           Mixed Linear Model Regression Results\n",
      "============================================================\n",
      "Model:             MixedLM  Dependent Variable:  BPXSY1     \n",
      "No. Observations:  5094     Method:              REML       \n",
      "No. Groups:        30       Scale:               258.9089   \n",
      "Min. group size:   106      Log-Likelihood:      -21404.3485\n",
      "Max. group size:   226      Converged:           Yes        \n",
      "Mean group size:   169.8                                    \n",
      "------------------------------------------------------------\n",
      "                  Coef.  Std.Err.   z    P>|z| [0.025 0.975]\n",
      "------------------------------------------------------------\n",
      "Intercept         91.769    1.271 72.208 0.000 89.278 94.260\n",
      "RIAGENDRx[T.Male]  3.616    0.465  7.779 0.000  2.705  4.527\n",
      "RIDAGEYR           0.466    0.013 35.599 0.000  0.440  0.491\n",
      "BMXBMI             0.303    0.033  9.181 0.000  0.238  0.367\n",
      "smq                0.010    0.479  0.021 0.983 -0.928  0.948\n",
      "group Var          4.694    0.102                           \n",
      "============================================================\n",
      "\n"
     ]
    }
   ],
   "source": [
    "db = da[[\"BPXSY1\", \"RIDAGEYR\", \"RIAGENDRx\", \"BMXBMI\", \"smq\", \"group\"]].dropna()\n",
    "model = sm.MixedLM.from_formula(\"BPXSY1 ~ RIDAGEYR + RIAGENDRx + BMXBMI + smq\", groups=\"group\", data=db)\n",
    "result = model.fit()\n",
    "print(result.summary())"
   ]
  },
  {
   "cell_type": "markdown",
   "metadata": {
    "colab_type": "text",
    "id": "oCAM_2cf6sEt"
   },
   "source": [
    "The statsmodels library aims to provide a uniform syntax and workflow for regression modeling in Python.  \n",
    "\n",
    "Documentation and examples of these models can be found at the following links:\n",
    "\n",
    "* OLS: https://www.statsmodels.org/stable/generated/statsmodels.regression.linear_model.OLS.html\n",
    "\n",
    "* GLM: https://www.statsmodels.org/stable/glm.html\n",
    "\n",
    "* GEE: https://www.statsmodels.org/stable/gee.html\n",
    "\n",
    "* MIXEDLM: https://www.statsmodels.org/stable/generated/statsmodels.regression.linear_model.OLS.html\n",
    "\n",
    "Feel free to further explore these powerful tools and their use cases.  In week 2 of this course you will see examples of OLS and GLM, and in week 3 we will introduce GEE and MIXEDLM."
   ]
  }
 ],
 "metadata": {
  "colab": {
   "collapsed_sections": [],
   "name": "Important Python Libraries - Fitting Statistical Models to Data with Python.ipynb",
   "provenance": [],
   "version": "0.3.2"
  },
  "kernelspec": {
   "display_name": "Python 3 (ipykernel)",
   "language": "python",
   "name": "python3"
  },
  "language_info": {
   "codemirror_mode": {
    "name": "ipython",
    "version": 3
   },
   "file_extension": ".py",
   "mimetype": "text/x-python",
   "name": "python",
   "nbconvert_exporter": "python",
   "pygments_lexer": "ipython3",
   "version": "3.11.4"
  }
 },
 "nbformat": 4,
 "nbformat_minor": 1
}
