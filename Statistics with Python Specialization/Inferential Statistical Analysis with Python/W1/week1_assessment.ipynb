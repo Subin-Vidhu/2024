{
 "cells": [
  {
   "cell_type": "markdown",
   "metadata": {
    "colab_type": "text",
    "id": "J5p3JZwvGQEe"
   },
   "source": [
    "You will use the values of what you find in this assignment to answer questions in the quiz that follows. You may want to open this notebook to be displayed side-by-side on screen with this next quiz."
   ]
  },
  {
   "cell_type": "markdown",
   "metadata": {
    "colab_type": "text",
    "id": "20Hp_V-eFzbI"
   },
   "source": [
    "1. Write a function that inputs an integers and returns the negative"
   ]
  },
  {
   "cell_type": "code",
   "execution_count": 1,
   "metadata": {
    "colab": {},
    "colab_type": "code",
    "id": "tFPbRKR4FzbL"
   },
   "outputs": [],
   "source": [
    "# Write your function here\n",
    "def integer(x):\n",
    "    return -1*x"
   ]
  },
  {
   "cell_type": "code",
   "execution_count": 2,
   "metadata": {
    "colab": {},
    "colab_type": "code",
    "id": "jW5MfUUnFzbQ"
   },
   "outputs": [
    {
     "data": {
      "text/plain": [
       "-4"
      ]
     },
     "execution_count": 2,
     "metadata": {},
     "output_type": "execute_result"
    }
   ],
   "source": [
    "# Test your function with input x\n",
    "x = 4\n",
    "integer(x)"
   ]
  },
  {
   "cell_type": "markdown",
   "metadata": {
    "colab_type": "text",
    "id": "f6kLOf6_FzbU"
   },
   "source": [
    "2. Write a function that inputs a list of integers and returns the minimum value"
   ]
  },
  {
   "cell_type": "code",
   "execution_count": 13,
   "metadata": {
    "colab": {},
    "colab_type": "code",
    "id": "IHV-wS_hFzbW"
   },
   "outputs": [],
   "source": [
    "# Write your function here\n",
    "def min(x):\n",
    "    x.sort()\n",
    "    return x[:1]"
   ]
  },
  {
   "cell_type": "code",
   "execution_count": 14,
   "metadata": {
    "colab": {},
    "colab_type": "code",
    "id": "EfvSeoaOFzba"
   },
   "outputs": [
    {
     "data": {
      "text/plain": [
       "[-3]"
      ]
     },
     "execution_count": 14,
     "metadata": {},
     "output_type": "execute_result"
    }
   ],
   "source": [
    "# Test your function with input lst\n",
    "lst = [-3, 0, 2, 100, -1, 2]\n",
    "\n",
    "\n",
    "# Create you own input list to test with\n",
    "min(lst)"
   ]
  },
  {
   "cell_type": "markdown",
   "metadata": {
    "colab_type": "text",
    "id": "-yjvHCDuFzbd"
   },
   "source": [
    "#### Challenge problem:  \n",
    "Write a function that take in four arguments: lst1, lst2, str1, str2, and returns a pandas DataFrame that has the first column labeled str1 and the second column labaled str2, that have values lst1 and lst2 scaled to be between 0 and 1.\n",
    "\n",
    "For example\n",
    "```\n",
    "lst1 = [1, 2, 3]\n",
    "lst2 = [2, 4, 5]\n",
    "str1 = 'one'\n",
    "str2 = 'two'\n",
    "\n",
    "my_function(lst1, lst2, str1, str2)\n",
    "``` \n",
    "should return a DataFrame that looks like:\n",
    "\n",
    "\n",
    "\n",
    "|  <i></i> | one | two |\n",
    "| --- | --- | --- |\n",
    "| 0 | 0 | 0 |\n",
    "| 1 | .5 | .666 |\n",
    "| 2 | 1 | 1 |\n",
    "\n"
   ]
  },
  {
   "cell_type": "code",
   "execution_count": 0,
   "metadata": {
    "colab": {},
    "colab_type": "code",
    "id": "UhTlOZX1Fzbf"
   },
   "outputs": [],
   "source": []
  },
  {
   "cell_type": "code",
   "execution_count": 0,
   "metadata": {
    "colab": {},
    "colab_type": "code",
    "id": "0yABet-jFzbi"
   },
   "outputs": [],
   "source": [
    "# test your challenge problem function\n",
    "import numpy as np\n",
    "\n",
    "lst1 = np.random.randint(-234, 938, 100)\n",
    "lst2 = np.random.randint(-522, 123, 100)\n",
    "str1 = 'one'\n",
    "str2 = 'alpha'"
   ]
  }
 ],
 "metadata": {
  "colab": {
   "collapsed_sections": [],
   "name": "week1_assessment.ipynb",
   "provenance": [],
   "version": "0.3.2"
  },
  "kernelspec": {
   "display_name": "Python 3 (ipykernel)",
   "language": "python",
   "name": "python3"
  },
  "language_info": {
   "codemirror_mode": {
    "name": "ipython",
    "version": 3
   },
   "file_extension": ".py",
   "mimetype": "text/x-python",
   "name": "python",
   "nbconvert_exporter": "python",
   "pygments_lexer": "ipython3",
   "version": "3.11.4"
  }
 },
 "nbformat": 4,
 "nbformat_minor": 1
}
