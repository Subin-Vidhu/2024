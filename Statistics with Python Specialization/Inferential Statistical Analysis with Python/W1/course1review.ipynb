{
 "cells": [
  {
   "cell_type": "markdown",
   "metadata": {
    "colab_type": "text",
    "id": "7UyYjcDiDA9y"
   },
   "source": [
    "# Overview of software tools\n",
    "\n",
    "This notebook is a brief overview of some key concepts in the Python-based software ecosystem used in this course.\n",
    "\n",
    "#### Table of contents\n",
    "\n",
    "* Jupyter notebook \n",
    "* Libraries\n",
    "* Plotting\n",
    "* Pandas DataFrame manipulation\n",
    "* Randomness and reproducibility\n",
    "* Vectorization and list comprehensions"
   ]
  },
  {
   "cell_type": "markdown",
   "metadata": {
    "colab_type": "text",
    "id": "2HNBxH9iDA90"
   },
   "source": [
    "## Jupyter notebook \n",
    "\n",
    "According to the [Jupyter website](http://jupyter.org/): \"The Jupyter Notebook is an open-source web application that allows you to create and share documents that contain live code, equations, visualizations and narrative text. Uses include: data cleaning and transformation, numerical simulation, statistical modeling, data visualization, machine learning, and much more.\"  \n",
    "\n",
    "Jupyter is the interface we will be using in this course. It is web-based, meaning that the interface appears in a tab on your web browser.  Depending on how things are configured, the computations may be done on your local machine, or in the cloud.\n",
    "\n",
    "A Jupyter notebook consists of a series of cells.  Each cell may contain Python code or [markdown](https://en.wikipedia.org/wiki/Markdown)-formatted text.  Below a code cell, the results of running the code will appear (this may consist of graphical or text output).\n",
    "\n",
    "Across the top of the Jupyter notebook is a series of menus.\n",
    "\n",
    "You can enter code or text into a cell simply by clicking on the cell and typing.  Just below the main menu bar is a drop-down selector that lets you specify whether a given cell contains code or text (Markdown).  The code cells will be executed by the Python interpreter, so should only contain valid Python code.  The markdown cells will not be executed.  If you do not know markdown that isn't a problem at this point, you can simply enter plain text into the markdown cells.\n",
    "\n",
    "To run code in a single cell, you can click on the `run` button, or press control + enter. The `Cell` menu contains an important item labeled \"Run All\" that allows you to run all the cells in the notebook in sequence.  The 'Kernel' menu is also quite useful. If you find that your code is stuck running (maybe you inadvertently wrote an infinite loop), you can go to 'Kernel' -> 'Interrupt' to force the interpreter to quit. \n",
    "\n",
    "A few useful keyboard shortcuts:\n",
    "* Run cell, select below: shift + enter\n",
    "* Run cell: ctrl + enter\n",
    "* Run cell, insert below: option + enter\n",
    "\n",
    "By pressing the 'esc' key, you enter command mode (the colored border around the currently selected cell should change from green to blue). Once in command mode, you can use these shortcuts:\n",
    "* Insert cell above: a\n",
    "* Insert cell below: b\n",
    "* Copy cell: c\n",
    "* Paste cell: v\n",
    "* Delete selected cell(s): d d\n",
    "* Change selected cell to markdown: m\n",
    "* Change selected cell to code: y\n",
    "\n",
    "To exit command mode, click anywhere in a cell or press enter.\n",
    "\n",
    "Jupyter will autosave your work periodically, but if you want to force an immediate save of your notebook:\n",
    "* Save file: command + s\n",
    "\n",
    "Jupyter notebooks are easy to use and powerful.  However it is important to note that when you run cells in an arbitrary order, you may get non-reproducible results.  It is good to confirm that your notebook runs correctly from top to bottom (using the Cell/Run All menu item). This ensures that you are not relying on manually running the cells out of order to obtain your findings."
   ]
  },
  {
   "cell_type": "markdown",
   "metadata": {
    "colab_type": "text",
    "id": "zAHeJQIuDA91"
   },
   "source": [
    "## Libraries\n",
    "\n",
    "There are a few libraries that you will use in almost every section of this course:\n",
    "\n",
    "* [Numpy](https://numpy.org/)\n",
    "* [Pandas](https://pandas.pydata.org/)\n",
    "* [Matplotlib](https://matplotlib.org/)\n",
    "* [Seaborn](https://seaborn.pydata.org/)\n",
    "\n",
    "The key points to remember are how to import these libraries and their standard import names, as well as their main uses. \n",
    "\n",
    "Numpy (from the [Numpy website](http://www.numpy.org/)):  \n",
    "*NumPy is the fundamental package for scientific computing with Python. It contains among other things:*\n",
    "\n",
    "* a powerful N-dimensional array object\n",
    "* sophisticated (broadcasting) functions\n",
    "* tools for integrating C/C++ and Fortran code\n",
    "* useful linear algebra, Fourier transform, and random number capabilities\n",
    "\n",
    "Pandas (from the [Pandas website](https://pandas.pydata.org/)):  \n",
    "*high-performance, easy-to-use data structures and data analysis tools for the Python programming language*\n",
    "\n",
    "Both the Matplotlib and Seaborn libraries are for creating graphs. "
   ]
  },
  {
   "cell_type": "code",
   "execution_count": 138,
   "metadata": {
    "colab": {},
    "colab_type": "code",
    "id": "XDhCzJAgDA93"
   },
   "outputs": [],
   "source": [
    "import numpy as np\n",
    "import pandas as pd\n",
    "import matplotlib.pyplot as plt\n",
    "import seaborn as sns"
   ]
  },
  {
   "cell_type": "markdown",
   "metadata": {
    "colab_type": "text",
    "id": "AWXNu2LUDA97"
   },
   "source": [
    "## Plotting"
   ]
  },
  {
   "cell_type": "markdown",
   "metadata": {},
   "source": [
    "Here we provide a few simple examples of statistical plots.  In many cases, you will have the option to make a plot using matplotlib, or seaborn.  You can think of Seaborn as a more abstract layer that sits on top of matplotlib.\n",
    "\n",
    "To illustrate, we load a small dataset into a Pandas dataframe.  The dataset contains data on the US dollar amount of restaurant bills and tips at restaurants."
   ]
  },
  {
   "cell_type": "code",
   "execution_count": 139,
   "metadata": {
    "colab": {},
    "colab_type": "code",
    "id": "RlLd-AFwDA98"
   },
   "outputs": [],
   "source": [
    "tips_data = sns.load_dataset(\"tips\")"
   ]
  },
  {
   "cell_type": "markdown",
   "metadata": {
    "colab_type": "text",
    "id": "wqUTo_4zDA9_"
   },
   "source": [
    "### Plot a histogram of the tips\n",
    "\n",
    "Here we make histograms of the tip amounts using Seaborn and Matplotlib."
   ]
  },
  {
   "cell_type": "code",
   "execution_count": 140,
   "metadata": {
    "colab": {},
    "colab_type": "code",
    "id": "hJr5vmjWDA-A",
    "outputId": "bd821bbf-a237-4aa2-befc-3d4a80356021"
   },
   "outputs": [
    {
     "data": {
      "image/png": "[encoded data removed]",
      "text/plain": [
       "<Figure size 360x360 with 1 Axes>"
      ]
     },
     "metadata": {
      "needs_background": "light"
     },
     "output_type": "display_data"
    }
   ],
   "source": [
    "# with seaborn\n",
    "g = sns.displot(tips_data[\"tip\"], kde = False, bins=10)\n",
    "g.fig.suptitle(\"Histogram of Total Tip\")\n",
    "plt.show()"
   ]
  },
  {
   "cell_type": "code",
   "execution_count": 141,
   "metadata": {
    "colab": {},
    "colab_type": "code",
    "id": "508jTWv8DA-G",
    "outputId": "24fc0ec9-d1b0-4f72-9729-34adc7492f52"
   },
   "outputs": [
    {
     "data": {
      "image/png": "[encoded data removed]",
      "text/plain": [
       "<Figure size 432x288 with 1 Axes>"
      ]
     },
     "metadata": {
      "needs_background": "light"
     },
     "output_type": "display_data"
    }
   ],
   "source": [
    "# with matplotlib\n",
    "plt.hist(tips_data['tip'], bins=10)\n",
    "plt.title(\"Histogram of Total Tip\")\n",
    "plt.show()"
   ]
  },
  {
   "cell_type": "markdown",
   "metadata": {
    "colab_type": "text",
    "id": "3JOFc8-ZDA-K"
   },
   "source": [
    "### Create a boxplot of the total bill amounts"
   ]
  },
  {
   "cell_type": "code",
   "execution_count": 142,
   "metadata": {
    "colab": {},
    "colab_type": "code",
    "id": "GhFztzPUDA-L",
    "outputId": "b3c0e805-e176-4a4b-a2f2-e4d6ab3a379c"
   },
   "outputs": [
    {
     "data": {
      "image/png": "[encoded data removed]",
      "text/plain": [
       "<Figure size 432x288 with 1 Axes>"
      ]
     },
     "metadata": {
      "needs_background": "light"
     },
     "output_type": "display_data"
    }
   ],
   "source": [
    "# with seaborn\n",
    "sns.boxplot(x=tips_data[\"total_bill\"]).set_title(\"Box plot of the total bill\")\n",
    "plt.show()"
   ]
  },
  {
   "cell_type": "code",
   "execution_count": 143,
   "metadata": {
    "colab": {},
    "colab_type": "code",
    "id": "4d0ruBq2DA-Q",
    "outputId": "2f004e83-4d66-4cea-fe39-8e48c097c25f"
   },
   "outputs": [
    {
     "data": {
      "image/png": "[encoded data removed]",
      "text/plain": [
       "<Figure size 432x288 with 1 Axes>"
      ]
     },
     "metadata": {
      "needs_background": "light"
     },
     "output_type": "display_data"
    }
   ],
   "source": [
    "# with matplotlib\n",
    "plt.boxplot(tips_data[\"total_bill\"])\n",
    "plt.title(\"Box plot of the total bill\")\n",
    "plt.show()"
   ]
  },
  {
   "cell_type": "markdown",
   "metadata": {
    "colab_type": "text",
    "id": "zJmj9GItDA-U"
   },
   "source": [
    "## Pandas DataFrame manipulation"
   ]
  },
  {
   "cell_type": "markdown",
   "metadata": {},
   "source": [
    "Pandas is a library for storing and manipulating datasets.  Here we provide a brief illustration of Pandas.\n",
    "\n",
    "First, we use Pandas to read a text/csv file into a dataframe that is stored in your computer's memory."
   ]
  },
  {
   "cell_type": "code",
   "execution_count": 144,
   "metadata": {
    "colab": {},
    "colab_type": "code",
    "id": "xq_FoVzDDA-V"
   },
   "outputs": [],
   "source": [
    "df = pd.read_csv(\"nhanes_2015_2016.csv\")"
   ]
  },
  {
   "cell_type": "markdown",
   "metadata": {},
   "source": [
    "We can display the first few rows of data:"
   ]
  },
  {
   "cell_type": "code",
   "execution_count": 145,
   "metadata": {
    "colab": {},
    "colab_type": "code",
    "id": "tewPGCuZDA-Z",
    "outputId": "19a83f89-5646-4e13-9bf3-678f62b05ceb"
   },
   "outputs": [
    {
     "data": {
      "text/html": [
       "<div>\n",
       "<style scoped>\n",
       "    .dataframe tbody tr th:only-of-type {\n",
       "        vertical-align: middle;\n",
       "    }\n",
       "\n",
       "    .dataframe tbody tr th {\n",
       "        vertical-align: top;\n",
       "    }\n",
       "\n",
       "    .dataframe thead th {\n",
       "        text-align: right;\n",
       "    }\n",
       "</style>\n",
       "<table border=\"1\" class=\"dataframe\">\n",
       "  <thead>\n",
       "    <tr style=\"text-align: right;\">\n",
       "      <th></th>\n",
       "      <th>SEQN</th>\n",
       "      <th>ALQ101</th>\n",
       "      <th>ALQ110</th>\n",
       "      <th>ALQ130</th>\n",
       "      <th>SMQ020</th>\n",
       "      <th>RIAGENDR</th>\n",
       "      <th>RIDAGEYR</th>\n",
       "      <th>RIDRETH1</th>\n",
       "      <th>DMDCITZN</th>\n",
       "      <th>DMDEDUC2</th>\n",
       "      <th>...</th>\n",
       "      <th>BPXSY2</th>\n",
       "      <th>BPXDI2</th>\n",
       "      <th>BMXWT</th>\n",
       "      <th>BMXHT</th>\n",
       "      <th>BMXBMI</th>\n",
       "      <th>BMXLEG</th>\n",
       "      <th>BMXARML</th>\n",
       "      <th>BMXARMC</th>\n",
       "      <th>BMXWAIST</th>\n",
       "      <th>HIQ210</th>\n",
       "    </tr>\n",
       "  </thead>\n",
       "  <tbody>\n",
       "    <tr>\n",
       "      <th>0</th>\n",
       "      <td>83732</td>\n",
       "      <td>1.0</td>\n",
       "      <td>NaN</td>\n",
       "      <td>1.0</td>\n",
       "      <td>1</td>\n",
       "      <td>1</td>\n",
       "      <td>62</td>\n",
       "      <td>3</td>\n",
       "      <td>1.0</td>\n",
       "      <td>5.0</td>\n",
       "      <td>...</td>\n",
       "      <td>124.0</td>\n",
       "      <td>64.0</td>\n",
       "      <td>94.8</td>\n",
       "      <td>184.5</td>\n",
       "      <td>27.8</td>\n",
       "      <td>43.3</td>\n",
       "      <td>43.6</td>\n",
       "      <td>35.9</td>\n",
       "      <td>101.1</td>\n",
       "      <td>2.0</td>\n",
       "    </tr>\n",
       "    <tr>\n",
       "      <th>1</th>\n",
       "      <td>83733</td>\n",
       "      <td>1.0</td>\n",
       "      <td>NaN</td>\n",
       "      <td>6.0</td>\n",
       "      <td>1</td>\n",
       "      <td>1</td>\n",
       "      <td>53</td>\n",
       "      <td>3</td>\n",
       "      <td>2.0</td>\n",
       "      <td>3.0</td>\n",
       "      <td>...</td>\n",
       "      <td>140.0</td>\n",
       "      <td>88.0</td>\n",
       "      <td>90.4</td>\n",
       "      <td>171.4</td>\n",
       "      <td>30.8</td>\n",
       "      <td>38.0</td>\n",
       "      <td>40.0</td>\n",
       "      <td>33.2</td>\n",
       "      <td>107.9</td>\n",
       "      <td>NaN</td>\n",
       "    </tr>\n",
       "    <tr>\n",
       "      <th>2</th>\n",
       "      <td>83734</td>\n",
       "      <td>1.0</td>\n",
       "      <td>NaN</td>\n",
       "      <td>NaN</td>\n",
       "      <td>1</td>\n",
       "      <td>1</td>\n",
       "      <td>78</td>\n",
       "      <td>3</td>\n",
       "      <td>1.0</td>\n",
       "      <td>3.0</td>\n",
       "      <td>...</td>\n",
       "      <td>132.0</td>\n",
       "      <td>44.0</td>\n",
       "      <td>83.4</td>\n",
       "      <td>170.1</td>\n",
       "      <td>28.8</td>\n",
       "      <td>35.6</td>\n",
       "      <td>37.0</td>\n",
       "      <td>31.0</td>\n",
       "      <td>116.5</td>\n",
       "      <td>2.0</td>\n",
       "    </tr>\n",
       "  </tbody>\n",
       "</table>\n",
       "<p>3 rows × 28 columns</p>\n",
       "</div>"
      ],
      "text/plain": [
       "    SEQN  ALQ101  ALQ110  ALQ130  SMQ020  RIAGENDR  RIDAGEYR  RIDRETH1  \\\n",
       "0  83732     1.0     NaN     1.0       1         1        62         3   \n",
       "1  83733     1.0     NaN     6.0       1         1        53         3   \n",
       "2  83734     1.0     NaN     NaN       1         1        78         3   \n",
       "\n",
       "   DMDCITZN  DMDEDUC2  ...  BPXSY2  BPXDI2  BMXWT  BMXHT  BMXBMI  BMXLEG  \\\n",
       "0       1.0       5.0  ...   124.0    64.0   94.8  184.5    27.8    43.3   \n",
       "1       2.0       3.0  ...   140.0    88.0   90.4  171.4    30.8    38.0   \n",
       "2       1.0       3.0  ...   132.0    44.0   83.4  170.1    28.8    35.6   \n",
       "\n",
       "   BMXARML  BMXARMC  BMXWAIST  HIQ210  \n",
       "0     43.6     35.9     101.1     2.0  \n",
       "1     40.0     33.2     107.9     NaN  \n",
       "2     37.0     31.0     116.5     2.0  \n",
       "\n",
       "[3 rows x 28 columns]"
      ]
     },
     "execution_count": 145,
     "metadata": {},
     "output_type": "execute_result"
    }
   ],
   "source": [
    "# look at top 3 rows\n",
    "df.head(3)"
   ]
  },
  {
   "cell_type": "markdown",
   "metadata": {
    "colab_type": "text",
    "id": "wz1LNI_2DA-d"
   },
   "source": [
    "We can select a column by name and display its first few values:"
   ]
  },
  {
   "cell_type": "code",
   "execution_count": 146,
   "metadata": {
    "colab": {},
    "colab_type": "code",
    "id": "WqNvrg5qDA-e",
    "outputId": "b045b0d9-e272-4e04-b5c1-98030569fdbd"
   },
   "outputs": [
    {
     "data": {
      "text/plain": [
       "0    83732\n",
       "1    83733\n",
       "2    83734\n",
       "3    83735\n",
       "4    83736\n",
       "Name: SEQN, dtype: int64"
      ]
     },
     "execution_count": 146,
     "metadata": {},
     "output_type": "execute_result"
    }
   ],
   "source": [
    "df['SEQN'].head()"
   ]
  },
  {
   "cell_type": "markdown",
   "metadata": {
    "colab_type": "text",
    "id": "LWWEDWD5DA-i"
   },
   "source": [
    "We can select limited ranges of rows and columns based on the row and column index labels, and display the result:"
   ]
  },
  {
   "cell_type": "code",
   "execution_count": 147,
   "metadata": {
    "colab": {},
    "colab_type": "code",
    "id": "dsrjsMKLDA-j",
    "outputId": "120de112-a2fa-42a0-f5b2-754a8a043cf6"
   },
   "outputs": [
    {
     "data": {
      "text/html": [
       "<div>\n",
       "<style scoped>\n",
       "    .dataframe tbody tr th:only-of-type {\n",
       "        vertical-align: middle;\n",
       "    }\n",
       "\n",
       "    .dataframe tbody tr th {\n",
       "        vertical-align: top;\n",
       "    }\n",
       "\n",
       "    .dataframe thead th {\n",
       "        text-align: right;\n",
       "    }\n",
       "</style>\n",
       "<table border=\"1\" class=\"dataframe\">\n",
       "  <thead>\n",
       "    <tr style=\"text-align: right;\">\n",
       "      <th></th>\n",
       "      <th>SEQN</th>\n",
       "      <th>RIAGENDR</th>\n",
       "    </tr>\n",
       "  </thead>\n",
       "  <tbody>\n",
       "    <tr>\n",
       "      <th>0</th>\n",
       "      <td>83732</td>\n",
       "      <td>1</td>\n",
       "    </tr>\n",
       "    <tr>\n",
       "      <th>1</th>\n",
       "      <td>83733</td>\n",
       "      <td>1</td>\n",
       "    </tr>\n",
       "  </tbody>\n",
       "</table>\n",
       "</div>"
      ],
      "text/plain": [
       "    SEQN  RIAGENDR\n",
       "0  83732         1\n",
       "1  83733         1"
      ]
     },
     "execution_count": 147,
     "metadata": {},
     "output_type": "execute_result"
    }
   ],
   "source": [
    "df.loc[[0, 1], ['SEQN', 'RIAGENDR']]"
   ]
  },
  {
   "cell_type": "markdown",
   "metadata": {
    "colab_type": "text",
    "id": "HUIr4aF3DA-n"
   },
   "source": [
    "We can select limited ranges of rows and columns based on the row and column positions (counting from zero), and display the result:"
   ]
  },
  {
   "cell_type": "code",
   "execution_count": 148,
   "metadata": {
    "colab": {},
    "colab_type": "code",
    "id": "6yGgrqRbDA-o",
    "outputId": "945c04ce-caa4-4a37-870a-d085540ccd1e"
   },
   "outputs": [
    {
     "data": {
      "text/html": [
       "<div>\n",
       "<style scoped>\n",
       "    .dataframe tbody tr th:only-of-type {\n",
       "        vertical-align: middle;\n",
       "    }\n",
       "\n",
       "    .dataframe tbody tr th {\n",
       "        vertical-align: top;\n",
       "    }\n",
       "\n",
       "    .dataframe thead th {\n",
       "        text-align: right;\n",
       "    }\n",
       "</style>\n",
       "<table border=\"1\" class=\"dataframe\">\n",
       "  <thead>\n",
       "    <tr style=\"text-align: right;\">\n",
       "      <th></th>\n",
       "      <th>SEQN</th>\n",
       "      <th>RIAGENDR</th>\n",
       "    </tr>\n",
       "  </thead>\n",
       "  <tbody>\n",
       "    <tr>\n",
       "      <th>1</th>\n",
       "      <td>83733</td>\n",
       "      <td>1</td>\n",
       "    </tr>\n",
       "    <tr>\n",
       "      <th>2</th>\n",
       "      <td>83734</td>\n",
       "      <td>1</td>\n",
       "    </tr>\n",
       "  </tbody>\n",
       "</table>\n",
       "</div>"
      ],
      "text/plain": [
       "    SEQN  RIAGENDR\n",
       "1  83733         1\n",
       "2  83734         1"
      ]
     },
     "execution_count": 148,
     "metadata": {},
     "output_type": "execute_result"
    }
   ],
   "source": [
    "df.iloc[[1,2], [0,5]]"
   ]
  },
  {
   "cell_type": "markdown",
   "metadata": {
    "colab_type": "text",
    "id": "ZDKYf9ovDA_O"
   },
   "source": [
    "## Randomness and reproducibility\n",
    "\n",
    "Some procedures for analyzing data involve generating random values.  Also, we frequently simulate random data in order to test the performance of methods for analyzing data.\n",
    "\n",
    "When a computer generates random data, the data are actually \"pseudo-random\".  We will not explain this in detail here, but essentially it means that the values are actually deterministic (the opposite of random), but appear random for most purposes.  By setting the *seed* of the pseudo-random number generator, the random values subsequently obtained will always be the same.\n",
    "\n",
    "Sometimes it is useful to set the seed explicitly, so that the results of your code are reproducible.  For example, below we show that once we set the seed (to 123) the first two random numbers generated (here from a normal distribution) are always the same."
   ]
  },
  {
   "cell_type": "code",
   "execution_count": 149,
   "metadata": {
    "colab": {},
    "colab_type": "code",
    "id": "foZecAKgDA_Q"
   },
   "outputs": [
    {
     "name": "stdout",
     "output_type": "stream",
     "text": [
      "-1.0856306033005612\n",
      "0.9973454465835858\n"
     ]
    }
   ],
   "source": [
    "np.random.seed(123)\n",
    "print(np.random.normal())\n",
    "print(np.random.normal())"
   ]
  },
  {
   "cell_type": "code",
   "execution_count": 150,
   "metadata": {
    "colab": {},
    "colab_type": "code",
    "id": "qmmmvzxUDA_V",
    "outputId": "2910223b-4c5c-4ba4-c328-708b9b770574"
   },
   "outputs": [
    {
     "name": "stdout",
     "output_type": "stream",
     "text": [
      "-1.0856306033005612\n",
      "0.9973454465835858\n"
     ]
    }
   ],
   "source": [
    "np.random.seed(123)\n",
    "print(np.random.normal())\n",
    "print(np.random.normal())"
   ]
  },
  {
   "cell_type": "markdown",
   "metadata": {},
   "source": [
    "If we continue generating random values without setting the seed, we will get more random values that behave as if they were independent samples from a standard normal distribution."
   ]
  },
  {
   "cell_type": "code",
   "execution_count": 151,
   "metadata": {
    "colab": {},
    "colab_type": "code",
    "id": "4BOrlPwiDA_a",
    "outputId": "7ba80db3-a3a8-40fb-a58f-3b5c614e62ad"
   },
   "outputs": [
    {
     "name": "stdout",
     "output_type": "stream",
     "text": [
      "0.28297849805199204\n",
      "-1.506294713918092\n"
     ]
    }
   ],
   "source": [
    "print(np.random.normal())\n",
    "print(np.random.normal())"
   ]
  },
  {
   "cell_type": "markdown",
   "metadata": {
    "colab_type": "text",
    "id": "A00FhLUkDA_k"
   },
   "source": [
    "## Vectorization and list comprehension\n",
    "\n",
    "Numpy and Pandas make heavy use of vectorization.  This means that these libraries prefer to operate on collections of values rather than on single values.  The most commonly encountered such collections are numpy *ndarrays* (n-dimensional arrays whose elements are all of the same type) and Pandas *dataframes* (a 2-dimensional array whose columns may have different types, while the rows within a column have the same type).\n",
    "\n",
    "For example, in the following cell we use Numpy to generate sequences of numeric values (*vectors*):"
   ]
  },
  {
   "cell_type": "code",
   "execution_count": 152,
   "metadata": {},
   "outputs": [],
   "source": [
    "x = np.random.normal(size=5)\n",
    "y = np.linspace(0, 1, 5)\n",
    "z = np.arange(5)"
   ]
  },
  {
   "cell_type": "markdown",
   "metadata": {},
   "source": [
    "We can now operate on these vectors using \"point-wise\" arithmetic:"
   ]
  },
  {
   "cell_type": "code",
   "execution_count": 153,
   "metadata": {},
   "outputs": [],
   "source": [
    "a = x - y\n",
    "b = y * z\n",
    "c = z / (1 + z);"
   ]
  },
  {
   "cell_type": "markdown",
   "metadata": {},
   "source": [
    "Python has its own vector-like container called a *list*.  Examples of creating such lists are:"
   ]
  },
  {
   "cell_type": "code",
   "execution_count": 154,
   "metadata": {},
   "outputs": [],
   "source": [
    "x = [1, 2, 3]\n",
    "y = [\"a\", \"b\", \"c\"]"
   ]
  },
  {
   "cell_type": "markdown",
   "metadata": {},
   "source": [
    "Python lists cannot normally be used interchangeably with numpy or Pandas data structures."
   ]
  },
  {
   "cell_type": "markdown",
   "metadata": {},
   "source": [
    "List comprehensions allow you to easy create lists. They follow the format:\n",
    "\n",
    "```\n",
    "my_list = [expression(i) for i in input list]\n",
    "```\n",
    "\n",
    "For example, suppose you want to plot the sine curve from -$\\pi$ to $\\pi$.  First we generate a grid of numeric values within the desired range:"
   ]
  },
  {
   "cell_type": "code",
   "execution_count": 155,
   "metadata": {
    "colab": {},
    "colab_type": "code",
    "id": "wLiFMlLyDA_o",
    "outputId": "42af1edb-e926-46a3-a914-86dc4509751c"
   },
   "outputs": [
    {
     "data": {
      "text/plain": [
       "array([-3.14159265, -2.81089869, -2.48020473, -2.14951076, -1.8188168 ,\n",
       "       -1.48812284, -1.15742887, -0.82673491, -0.49604095, -0.16534698,\n",
       "        0.16534698,  0.49604095,  0.82673491,  1.15742887,  1.48812284,\n",
       "        1.8188168 ,  2.14951076,  2.48020473,  2.81089869,  3.14159265])"
      ]
     },
     "execution_count": 155,
     "metadata": {},
     "output_type": "execute_result"
    }
   ],
   "source": [
    "x = np.linspace(-np.pi, np.pi, 20)\n",
    "x"
   ]
  },
  {
   "cell_type": "markdown",
   "metadata": {},
   "source": [
    "Now we have two options.  One is to exploit the Numpy's vectorization: "
   ]
  },
  {
   "cell_type": "code",
   "execution_count": 156,
   "metadata": {},
   "outputs": [],
   "source": [
    "y1 = np.sin(x)"
   ]
  },
  {
   "cell_type": "markdown",
   "metadata": {},
   "source": [
    "Another option is to use a list comprehension:"
   ]
  },
  {
   "cell_type": "code",
   "execution_count": 157,
   "metadata": {
    "colab": {},
    "colab_type": "code",
    "id": "h3cIjC_rDA_s",
    "outputId": "7eba57e5-a968-4632-eabf-e541d69ac672"
   },
   "outputs": [],
   "source": [
    "y2 = [np.sin(value) for value in x] "
   ]
  },
  {
   "cell_type": "markdown",
   "metadata": {
    "colab": {},
    "colab_type": "code",
    "id": "joj-RymiDA_w",
    "outputId": "90891107-5835-4677-a059-6ef02f240938"
   },
   "source": [
    "In this case, either approach can be used to create the plot:"
   ]
  },
  {
   "cell_type": "code",
   "execution_count": 158,
   "metadata": {
    "colab": {},
    "colab_type": "code",
    "id": "26sMLE-bDA_1",
    "outputId": "4f9b9f44-8dc5-4758-b507-7e86f7458eac"
   },
   "outputs": [
    {
     "data": {
      "image/png": "[encoded data removed]",
      "text/plain": [
       "<Figure size 432x288 with 1 Axes>"
      ]
     },
     "metadata": {
      "needs_background": "light"
     },
     "output_type": "display_data"
    }
   ],
   "source": [
    "plt.plot(x, y1)\n",
    "plt.show()"
   ]
  },
  {
   "cell_type": "code",
   "execution_count": 159,
   "metadata": {},
   "outputs": [
    {
     "data": {
      "image/png": "[encoded data removed]",
      "text/plain": [
       "<Figure size 432x288 with 1 Axes>"
      ]
     },
     "metadata": {
      "needs_background": "light"
     },
     "output_type": "display_data"
    }
   ],
   "source": [
    "plt.plot(x, y2)\n",
    "plt.show()"
   ]
  }
 ],
 "metadata": {
  "colab": {
   "collapsed_sections": [],
   "name": "Review of python key concepts.ipynb",
   "provenance": [],
   "version": "0.3.2"
  },
  "kernelspec": {
   "display_name": "Python 3 (ipykernel)",
   "language": "python",
   "name": "python3"
  },
  "language_info": {
   "codemirror_mode": {
    "name": "ipython",
    "version": 3
   },
   "file_extension": ".py",
   "mimetype": "text/x-python",
   "name": "python",
   "nbconvert_exporter": "python",
   "pygments_lexer": "ipython3",
   "version": "3.11.4"
  }
 },
 "nbformat": 4,
 "nbformat_minor": 1
}
