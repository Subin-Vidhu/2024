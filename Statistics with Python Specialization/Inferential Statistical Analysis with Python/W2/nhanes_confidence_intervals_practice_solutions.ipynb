{
 "cells": [
  {
   "cell_type": "markdown",
   "metadata": {},
   "source": [
    "# Practice notebook for confidence intervals using NHANES data\n",
    "\n",
    "This notebook will give you the opportunity to practice working with confidence intervals using the NHANES data.\n",
    "\n",
    "You can enter your code into the cells that say \"enter your code here\", and you can type responses to the questions into the cells that say \"Type Markdown and Latex\".\n",
    "\n",
    "Note that most of the code that you will write below is very similar to code that appears in the case study notebook.  You will need to edit code from that notebook in small ways to adapt it to the prompts below.\n",
    "\n",
    "To get started, we will use the same module imports and read the data in the same way as we did in the case study:"
   ]
  },
  {
   "cell_type": "code",
   "execution_count": 1,
   "metadata": {},
   "outputs": [],
   "source": [
    "import matplotlib.pyplot as plt\n",
    "import pandas as pd\n",
    "import numpy as np\n",
    "import seaborn as sns\n",
    "import statsmodels.api as sm\n",
    "import scipy.stats\n",
    "\n",
    "da = pd.read_csv(\"nhanes_2015_2016.csv\")"
   ]
  },
  {
   "cell_type": "markdown",
   "metadata": {},
   "source": [
    "## Question 1\n",
    "\n",
    "Restrict the sample to women between 35 and 50, then use the marital status variable [DMDMARTL](https://wwwn.cdc.gov/Nchs/Nhanes/2015-2016/DEMO_I.htm#DMDMARTL) to partition this sample into two groups - women who are currently married, and women who are not currently married.  Within each of these groups, calculate the proportion of women who have completed college, and calculate 95% confidence intervals for each of these proportions."
   ]
  },
  {
   "cell_type": "code",
   "execution_count": 2,
   "metadata": {},
   "outputs": [
    {
     "data": {
      "text/html": [
       "<div>\n",
       "<style scoped>\n",
       "    .dataframe tbody tr th:only-of-type {\n",
       "        vertical-align: middle;\n",
       "    }\n",
       "\n",
       "    .dataframe tbody tr th {\n",
       "        vertical-align: top;\n",
       "    }\n",
       "\n",
       "    .dataframe thead th {\n",
       "        text-align: right;\n",
       "    }\n",
       "</style>\n",
       "<table border=\"1\" class=\"dataframe\">\n",
       "  <thead>\n",
       "    <tr style=\"text-align: right;\">\n",
       "      <th></th>\n",
       "      <th>SEQN</th>\n",
       "      <th>ALQ101</th>\n",
       "      <th>ALQ110</th>\n",
       "      <th>ALQ130</th>\n",
       "      <th>SMQ020</th>\n",
       "      <th>RIAGENDR</th>\n",
       "      <th>RIDAGEYR</th>\n",
       "      <th>RIDRETH1</th>\n",
       "      <th>DMDCITZN</th>\n",
       "      <th>DMDEDUC2</th>\n",
       "      <th>...</th>\n",
       "      <th>BPXSY2</th>\n",
       "      <th>BPXDI2</th>\n",
       "      <th>BMXWT</th>\n",
       "      <th>BMXHT</th>\n",
       "      <th>BMXBMI</th>\n",
       "      <th>BMXLEG</th>\n",
       "      <th>BMXARML</th>\n",
       "      <th>BMXARMC</th>\n",
       "      <th>BMXWAIST</th>\n",
       "      <th>HIQ210</th>\n",
       "    </tr>\n",
       "  </thead>\n",
       "  <tbody>\n",
       "    <tr>\n",
       "      <th>0</th>\n",
       "      <td>83732</td>\n",
       "      <td>1.0</td>\n",
       "      <td>NaN</td>\n",
       "      <td>1.0</td>\n",
       "      <td>1</td>\n",
       "      <td>1</td>\n",
       "      <td>62</td>\n",
       "      <td>3</td>\n",
       "      <td>1.0</td>\n",
       "      <td>5.0</td>\n",
       "      <td>...</td>\n",
       "      <td>124.0</td>\n",
       "      <td>64.0</td>\n",
       "      <td>94.8</td>\n",
       "      <td>184.5</td>\n",
       "      <td>27.8</td>\n",
       "      <td>43.3</td>\n",
       "      <td>43.6</td>\n",
       "      <td>35.9</td>\n",
       "      <td>101.1</td>\n",
       "      <td>2.0</td>\n",
       "    </tr>\n",
       "    <tr>\n",
       "      <th>1</th>\n",
       "      <td>83733</td>\n",
       "      <td>1.0</td>\n",
       "      <td>NaN</td>\n",
       "      <td>6.0</td>\n",
       "      <td>1</td>\n",
       "      <td>1</td>\n",
       "      <td>53</td>\n",
       "      <td>3</td>\n",
       "      <td>2.0</td>\n",
       "      <td>3.0</td>\n",
       "      <td>...</td>\n",
       "      <td>140.0</td>\n",
       "      <td>88.0</td>\n",
       "      <td>90.4</td>\n",
       "      <td>171.4</td>\n",
       "      <td>30.8</td>\n",
       "      <td>38.0</td>\n",
       "      <td>40.0</td>\n",
       "      <td>33.2</td>\n",
       "      <td>107.9</td>\n",
       "      <td>NaN</td>\n",
       "    </tr>\n",
       "    <tr>\n",
       "      <th>2</th>\n",
       "      <td>83734</td>\n",
       "      <td>1.0</td>\n",
       "      <td>NaN</td>\n",
       "      <td>NaN</td>\n",
       "      <td>1</td>\n",
       "      <td>1</td>\n",
       "      <td>78</td>\n",
       "      <td>3</td>\n",
       "      <td>1.0</td>\n",
       "      <td>3.0</td>\n",
       "      <td>...</td>\n",
       "      <td>132.0</td>\n",
       "      <td>44.0</td>\n",
       "      <td>83.4</td>\n",
       "      <td>170.1</td>\n",
       "      <td>28.8</td>\n",
       "      <td>35.6</td>\n",
       "      <td>37.0</td>\n",
       "      <td>31.0</td>\n",
       "      <td>116.5</td>\n",
       "      <td>2.0</td>\n",
       "    </tr>\n",
       "    <tr>\n",
       "      <th>3</th>\n",
       "      <td>83735</td>\n",
       "      <td>2.0</td>\n",
       "      <td>1.0</td>\n",
       "      <td>1.0</td>\n",
       "      <td>2</td>\n",
       "      <td>2</td>\n",
       "      <td>56</td>\n",
       "      <td>3</td>\n",
       "      <td>1.0</td>\n",
       "      <td>5.0</td>\n",
       "      <td>...</td>\n",
       "      <td>134.0</td>\n",
       "      <td>68.0</td>\n",
       "      <td>109.8</td>\n",
       "      <td>160.9</td>\n",
       "      <td>42.4</td>\n",
       "      <td>38.5</td>\n",
       "      <td>37.7</td>\n",
       "      <td>38.3</td>\n",
       "      <td>110.1</td>\n",
       "      <td>2.0</td>\n",
       "    </tr>\n",
       "    <tr>\n",
       "      <th>4</th>\n",
       "      <td>83736</td>\n",
       "      <td>2.0</td>\n",
       "      <td>1.0</td>\n",
       "      <td>1.0</td>\n",
       "      <td>2</td>\n",
       "      <td>2</td>\n",
       "      <td>42</td>\n",
       "      <td>4</td>\n",
       "      <td>1.0</td>\n",
       "      <td>4.0</td>\n",
       "      <td>...</td>\n",
       "      <td>114.0</td>\n",
       "      <td>54.0</td>\n",
       "      <td>55.2</td>\n",
       "      <td>164.9</td>\n",
       "      <td>20.3</td>\n",
       "      <td>37.4</td>\n",
       "      <td>36.0</td>\n",
       "      <td>27.2</td>\n",
       "      <td>80.4</td>\n",
       "      <td>2.0</td>\n",
       "    </tr>\n",
       "  </tbody>\n",
       "</table>\n",
       "<p>5 rows × 28 columns</p>\n",
       "</div>"
      ],
      "text/plain": [
       "    SEQN  ALQ101  ALQ110  ALQ130  SMQ020  RIAGENDR  RIDAGEYR  RIDRETH1  \\\n",
       "0  83732     1.0     NaN     1.0       1         1        62         3   \n",
       "1  83733     1.0     NaN     6.0       1         1        53         3   \n",
       "2  83734     1.0     NaN     NaN       1         1        78         3   \n",
       "3  83735     2.0     1.0     1.0       2         2        56         3   \n",
       "4  83736     2.0     1.0     1.0       2         2        42         4   \n",
       "\n",
       "   DMDCITZN  DMDEDUC2  ...  BPXSY2  BPXDI2  BMXWT  BMXHT  BMXBMI  BMXLEG  \\\n",
       "0       1.0       5.0  ...   124.0    64.0   94.8  184.5    27.8    43.3   \n",
       "1       2.0       3.0  ...   140.0    88.0   90.4  171.4    30.8    38.0   \n",
       "2       1.0       3.0  ...   132.0    44.0   83.4  170.1    28.8    35.6   \n",
       "3       1.0       5.0  ...   134.0    68.0  109.8  160.9    42.4    38.5   \n",
       "4       1.0       4.0  ...   114.0    54.0   55.2  164.9    20.3    37.4   \n",
       "\n",
       "   BMXARML  BMXARMC  BMXWAIST  HIQ210  \n",
       "0     43.6     35.9     101.1     2.0  \n",
       "1     40.0     33.2     107.9     NaN  \n",
       "2     37.0     31.0     116.5     2.0  \n",
       "3     37.7     38.3     110.1     2.0  \n",
       "4     36.0     27.2      80.4     2.0  \n",
       "\n",
       "[5 rows x 28 columns]"
      ]
     },
     "execution_count": 2,
     "metadata": {},
     "output_type": "execute_result"
    }
   ],
   "source": [
    "# First always inspect the data\n",
    "da.head()"
   ]
  },
  {
   "cell_type": "code",
   "execution_count": 3,
   "metadata": {},
   "outputs": [],
   "source": [
    "# Get the women between 35 and 50. The value of RIAGENDR is equal to 2 if a subject is female\n",
    "middle_age_women = da.query('RIDAGEYR >= 35 & RIDAGEYR <= 50 & RIAGENDR == 2')\n",
    "\n",
    "# Check that our data are correct! This step is not necessary but it is good practice :)\n",
    "assert np.all(middle_age_women['RIAGENDR'] == 2)\n",
    "assert np.all(middle_age_women['RIDAGEYR'] <= 50)\n",
    "assert np.all(middle_age_women['RIDAGEYR'] >= 35)"
   ]
  },
  {
   "cell_type": "code",
   "execution_count": 4,
   "metadata": {},
   "outputs": [],
   "source": [
    "# Partition the group into married and non-married women\n",
    "married_middle_age_women = middle_age_women.query('DMDMARTL == 1')\n",
    "non_married_middle_age_women = middle_age_women.query('DMDMARTL != 1')\n",
    "\n",
    "# More data checks!\n",
    "assert np.all(married_middle_age_women['DMDMARTL'] == 1)\n",
    "assert np.all(non_married_middle_age_women['DMDMARTL'] != 1)"
   ]
  },
  {
   "cell_type": "code",
   "execution_count": 5,
   "metadata": {},
   "outputs": [
    {
     "data": {
      "text/plain": [
       "'The proportion of married middle age women (N=449) who completed college is: 0.36'"
      ]
     },
     "execution_count": 5,
     "metadata": {},
     "output_type": "execute_result"
    }
   ],
   "source": [
    "# We now have checked our data is valid and is partitioned correctly. We \n",
    "# now can compute the 90% confidence intervals for the proportion which have\n",
    "# completed college. This is coded in the DMDEDUC2 variable and it is equal to\n",
    "# 5 if they have completed college or above\n",
    "married_and_completed_college = married_middle_age_women['DMDEDUC2'] == 5\n",
    "p_hat_married = np.mean(married_and_completed_college)\n",
    "married_sample_size = married_and_completed_college.size\n",
    "\"The proportion of married middle age women (N={}) who completed college is: {:.2f}\".format(\n",
    "    married_sample_size, \n",
    "    p_hat_married\n",
    ")"
   ]
  },
  {
   "cell_type": "code",
   "execution_count": 6,
   "metadata": {},
   "outputs": [
    {
     "data": {
      "text/plain": [
       "'The proportion of non-married middle age women (N=338) who completed college is: 0.21'"
      ]
     },
     "execution_count": 6,
     "metadata": {},
     "output_type": "execute_result"
    }
   ],
   "source": [
    "# We can do the same for non-married women\n",
    "non_married_and_completed_college = non_married_middle_age_women['DMDEDUC2'] == 5\n",
    "p_hat_non_married = np.mean(non_married_and_completed_college)\n",
    "non_married_sample_size = non_married_and_completed_college.size\n",
    "\"The proportion of non-married middle age women (N={}) who completed college is: {:.2f}\".format(non_married_sample_size, p_hat_non_married)"
   ]
  },
  {
   "cell_type": "code",
   "execution_count": 7,
   "metadata": {},
   "outputs": [
    {
     "data": {
      "text/plain": [
       "'The 90% confidence interval for the proportion of married women who completed college is (0.32, 0.40)'"
      ]
     },
     "execution_count": 7,
     "metadata": {},
     "output_type": "execute_result"
    }
   ],
   "source": [
    "# We can now compute the confidence intervals. Remember, for a two-sided \n",
    "# confidence interval, we need 5% in each of the tails and 95% PPF will give us\n",
    "# this value !\n",
    "z_multiplier = scipy.stats.norm.ppf(q = 0.95)\n",
    "married_standard_error = np.sqrt(p_hat_married * (1 - p_hat_married) / married_sample_size)\n",
    "ci_married_lower_bound = p_hat_married - z_multiplier * married_standard_error\n",
    "ci_married_upper_bound = p_hat_married + z_multiplier * married_standard_error\n",
    "\"A 90% confidence interval for the proportion of married women who completed college is ({:.2f}, {:.2f})\".format(\n",
    "    ci_married_lower_bound, \n",
    "    ci_married_upper_bound\n",
    ")"
   ]
  },
  {
   "cell_type": "code",
   "execution_count": 8,
   "metadata": {},
   "outputs": [
    {
     "data": {
      "text/plain": [
       "'The 90% confidence interval for the proportion of non-married women who completed college is (0.18, 0.25)'"
      ]
     },
     "execution_count": 8,
     "metadata": {},
     "output_type": "execute_result"
    }
   ],
   "source": [
    "# We now can do the same for non-married women\n",
    "z_multiplier = scipy.stats.norm.ppf(q = 0.95)\n",
    "non_married_standard_error = np.sqrt(p_hat_non_married * (1 - p_hat_non_married) / non_married_sample_size)\n",
    "ci_non_married_lower_bound = p_hat_non_married - z_multiplier * non_married_standard_error\n",
    "ci_non_married_upper_bound = p_hat_non_married + z_multiplier * non_married_standard_error\n",
    "\"A 90% confidence interval for the proportion of non-married women who completed college is ({:.2f}, {:.2f})\".format(ci_non_married_lower_bound, ci_non_married_upper_bound)"
   ]
  },
  {
   "cell_type": "markdown",
   "metadata": {},
   "source": [
    "__Q1a.__ Identify which of the two confidence intervals is wider, and explain why this is the case. "
   ]
  },
  {
   "cell_type": "markdown",
   "metadata": {},
   "source": [
    "The width of the confidence interval for the population proportion of married women who completed college is eight percentage points wide while the confidence interval for non-married women is seven points wide. The confidence interval for married women is larger, despite having a larger sample size, because the $\\hat{p}_{married}$ estimate is closer to 50% than the $\\hat{p}_{non-married}$ so the standard error of $\\hat{p}_{married}$ is wider"
   ]
  },
  {
   "cell_type": "markdown",
   "metadata": {},
   "source": [
    "__Q1b.__ Write 1-2 sentences summarizing these findings for an audience that does not know what a confidence interval is (the goal here is to report the substance of what you learned about how marital status and educational attainment are related, not to teach a person what a confidence interval is)."
   ]
  },
  {
   "cell_type": "markdown",
   "metadata": {},
   "source": [
    "We can see that, on average, a middle age woman who is married is more likely to have completed college than a middle age women who is not married, and the confidence intervals for these two estimates do not overlap."
   ]
  },
  {
   "cell_type": "markdown",
   "metadata": {},
   "source": [
    "## Question 2\n",
    "\n",
    "Construct a 95% confidence interval for the proportion of smokers who are female. Construct a 95% confidence interval for the proportion of smokers who are male. Construct a 95% confidence interval for the **difference** between those two gender proportions."
   ]
  },
  {
   "cell_type": "code",
   "execution_count": 9,
   "metadata": {},
   "outputs": [],
   "source": [
    "# First, lets prepare our data\n",
    "females = da.query('RIAGENDR == 2')\n",
    "males = da.query('RIAGENDR == 1')\n",
    "\n",
    "# I found the smoking variable here: https://wwwn.cdc.gov/Nchs/Nhanes/2015-2016/SMQ_I.htm#SMQ020\n",
    "is_female_smoker = females['SMQ020'] == 1\n",
    "is_male_smoker = males['SMQ020'] == 1"
   ]
  },
  {
   "cell_type": "code",
   "execution_count": 10,
   "metadata": {},
   "outputs": [],
   "source": [
    "# In order to reduce the chance of mistakes, I'm going to create a simple function\n",
    "# for computing confidence intervals. This function will do the exact same steps as \n",
    "# above so nothing should be scary :)\n",
    "def MakeAConfidenceInterval(data, confidence):\n",
    "    p_hat = np.mean(data)\n",
    "    n = data.size\n",
    "    z_multiplier = scipy.stats.norm.ppf(q = 1 - (1 - confidence) / 2)\n",
    "    standard_error = np.sqrt(p_hat * (1 - p_hat) / n)\n",
    "    lower_bound = p_hat - z_multiplier * standard_error\n",
    "    upper_bound = p_hat + z_multiplier * standard_error\n",
    "    return {\"phat\": p_hat, \"n\":n, \"lower_bound\":lower_bound, \"upper_bound\":upper_bound}"
   ]
  },
  {
   "cell_type": "code",
   "execution_count": 11,
   "metadata": {},
   "outputs": [
    {
     "data": {
      "text/plain": [
       "'The CI for female smokers (N=2976) is (0.29, 0.32)'"
      ]
     },
     "execution_count": 11,
     "metadata": {},
     "output_type": "execute_result"
    }
   ],
   "source": [
    "female_smoking_ci = MakeAConfidenceInterval(data = is_female_smoker, confidence = 0.95)\n",
    "\"The CI for female smokers (N={}) is ({:.2f}, {:.2f})\".format(\n",
    "    female_smoking_ci['n'],\n",
    "    female_smoking_ci['lower_bound'],\n",
    "    female_smoking_ci['upper_bound']\n",
    ")"
   ]
  },
  {
   "cell_type": "code",
   "execution_count": 12,
   "metadata": {},
   "outputs": [
    {
     "data": {
      "text/plain": [
       "'The CI for male smokers (N=2759) is (0.49, 0.53)'"
      ]
     },
     "execution_count": 12,
     "metadata": {},
     "output_type": "execute_result"
    }
   ],
   "source": [
    "male_smoking_ci = MakeAConfidenceInterval(data = is_male_smoker, confidence = 0.95)\n",
    "\"A CI for male smokers (N={}) is ({:.2f}, {:.2f})\".format(\n",
    "    male_smoking_ci['n'],\n",
    "    male_smoking_ci['lower_bound'],\n",
    "    male_smoking_ci['upper_bound']\n",
    ")"
   ]
  },
  {
   "cell_type": "code",
   "execution_count": 13,
   "metadata": {},
   "outputs": [
    {
     "data": {
      "text/plain": [
       "'The CI for the difference between male smoking proportion less the female smoking proportion is (0.18, 0.23)'"
      ]
     },
     "execution_count": 13,
     "metadata": {},
     "output_type": "execute_result"
    }
   ],
   "source": [
    "# Now we can construct the confidence interval for the difference between the proportions.\n",
    "# This formula is pretty long so we will break it down into parts\n",
    "\n",
    "# First compute the standard error of the difference\n",
    "standard_error = np.sqrt(\n",
    "    female_smoking_ci['phat'] * (1 - female_smoking_ci['phat']) / female_smoking_ci['n'] + \n",
    "    male_smoking_ci['phat'] * (1 - male_smoking_ci['phat']) / male_smoking_ci['n']\n",
    ")\n",
    "\n",
    "# Get the z-multiplier for our 95% confidence interval\n",
    "z_multiplier = scipy.stats.norm.ppf(q = 0.975)\n",
    "\n",
    "# Compute the point estimate for the differences between the male and female smoking proportion\n",
    "difference = male_smoking_ci['phat'] - female_smoking_ci['phat']\n",
    "\n",
    "# Compute the lower_bound and the upper_bound of the confidence interval\n",
    "lower_bound = difference - z_multiplier * standard_error\n",
    "upper_bound = difference + z_multiplier * standard_error\n",
    "\"A CI for the difference between male smoking proportion less the female smoking proportion is ({:.2f}, {:.2f})\".format(\n",
    "  lower_bound,\n",
    "  upper_bound\n",
    ")"
   ]
  },
  {
   "cell_type": "markdown",
   "metadata": {},
   "source": [
    "__Q2a.__ Why might it be relevant to report the separate gender proportions **and** the difference between the gender proportions?"
   ]
  },
  {
   "cell_type": "markdown",
   "metadata": {},
   "source": [
    "When we look at the confidence interval for the males who smoke and the proportion of females who smoke, we see how they behave marginally. That is, we see how they behave in their own group. But in order to compare them directly, we also have to compute the confidence interval for the difference. This makes sure that the two samples are compared fairly and we, as much as possible, control for sample size differences. "
   ]
  },
  {
   "cell_type": "markdown",
   "metadata": {},
   "source": [
    "__Q2b.__ How does the **width** of the confidence interval for the difference between the gender proportions compare to the widths of the confidence intervals for the separate gender proportions?"
   ]
  },
  {
   "cell_type": "markdown",
   "metadata": {},
   "source": [
    "The width for the difference in proportions will always be larger than the widths of the two intervals it is made from. This happens because of the way the standard error is composed. In general, $\\sqrt{A} < \\sqrt{A + B}$ when $B > 0$"
   ]
  },
  {
   "cell_type": "markdown",
   "metadata": {},
   "source": [
    "## Question 3\n",
    "\n",
    "Construct a 95% interval for height ([BMXHT](https://wwwn.cdc.gov/Nchs/Nhanes/2015-2016/BMX_I.htm#BMXHT)) in centimeters.  Then convert height from centimeters to inches by dividing by 2.54, and construct a 95% confidence interval for height in inches.  Finally, convert the endpoints (the lower and upper confidence limits) of the confidence interval from inches to back to centimeters   "
   ]
  },
  {
   "cell_type": "code",
   "execution_count": 14,
   "metadata": {},
   "outputs": [
    {
     "data": {
      "text/plain": [
       "0    184.5\n",
       "1    171.4\n",
       "2    170.1\n",
       "3    160.9\n",
       "4    164.9\n",
       "Name: BMXHT, dtype: float64"
      ]
     },
     "execution_count": 14,
     "metadata": {},
     "output_type": "execute_result"
    }
   ],
   "source": [
    "# First we get the data and look at it\n",
    "height_data = da['BMXHT']\n",
    "height_data.head()"
   ]
  },
  {
   "cell_type": "code",
   "execution_count": 15,
   "metadata": {},
   "outputs": [
    {
     "data": {
      "text/plain": [
       "'The CI for the height, in centimeters, of someone in the study is: (165.88, 166.40)'"
      ]
     },
     "execution_count": 15,
     "metadata": {},
     "output_type": "execute_result"
    }
   ],
   "source": [
    "# We can compute the 95% confidence interval using the same methods as before, \n",
    "# this time just using the formulas for a one population mean\n",
    "\n",
    "# Get the sample standard deviation\n",
    "s = np.std(height_data, ddof = 1)\n",
    "n = height_data.size\n",
    "\n",
    "# Compute the standard error\n",
    "standard_error = s / np.sqrt(n)\n",
    "\n",
    "# Compute the t-multiplier for a 95% confidence interval (2.5% in the tails)\n",
    "t_multiplier = scipy.stats.t.ppf(q = 0.975, df = n - 1)\n",
    "\n",
    "# Compute the confidence interval\n",
    "x_hat = np.mean(height_data)\n",
    "cm_lower_bound = x_hat - t_multiplier * standard_error\n",
    "cm_upper_bound = x_hat + t_multiplier * standard_error\n",
    "\"A CI for the height, in centimeters, of someone in the study is: ({:.2f}, {:.2f})\".format(\n",
    "  cm_lower_bound,\n",
    "  cm_upper_bound\n",
    ")"
   ]
  },
  {
   "cell_type": "code",
   "execution_count": 16,
   "metadata": {},
   "outputs": [
    {
     "data": {
      "text/plain": [
       "'The CI for the height, in inches, of someone in the study is: (65.31, 65.51)'"
      ]
     },
     "execution_count": 16,
     "metadata": {},
     "output_type": "execute_result"
    }
   ],
   "source": [
    "# We can do the same thing for height in inches\n",
    "\n",
    "inches_height_data = height_data / 2.54\n",
    "\n",
    "# Get the sample standard deviation\n",
    "s = np.std(inches_height_data, ddof = 1)\n",
    "n = inches_height_data.size\n",
    "\n",
    "# Compute the standard error\n",
    "standard_error = s / np.sqrt(n)\n",
    "\n",
    "# Compute the t-multiplier for a 95% confidence interval (2.5% in the tails)\n",
    "t_multiplier = scipy.stats.t.ppf(q = 0.975, df = n - 1)\n",
    "\n",
    "# Compute the confidence interval\n",
    "x_hat = np.mean(inches_height_data)\n",
    "inches_lower_bound = x_hat - t_multiplier * standard_error\n",
    "inches_upper_bound = x_hat + t_multiplier * standard_error\n",
    "\"The CI for the height, in inches, of someone in the study is: ({:.2f}, {:.2f})\".format(\n",
    "  inches_lower_bound,\n",
    "  inches_upper_bound\n",
    ")"
   ]
  },
  {
   "cell_type": "code",
   "execution_count": 17,
   "metadata": {},
   "outputs": [
    {
     "data": {
      "text/plain": [
       "'The cm lower bound (165.88) converted to inches is 65.31 (Actual = 65.31)'"
      ]
     },
     "execution_count": 17,
     "metadata": {},
     "output_type": "execute_result"
    }
   ],
   "source": [
    "# If we convert the measurements back and forth between units, our answers should not change\n",
    "\"The cm lower bound ({:.2f}) converted to inches is {:.2f} (actual = {:.2f})\".format(\n",
    "    cm_lower_bound, \n",
    "    cm_lower_bound / 2.54, \n",
    "    inches_lower_bound\n",
    ")"
   ]
  },
  {
   "cell_type": "code",
   "execution_count": 18,
   "metadata": {},
   "outputs": [
    {
     "data": {
      "text/plain": [
       "'The cm upper bound (166.40) converted to inches is 65.51 (Actual = 65.51)'"
      ]
     },
     "execution_count": 18,
     "metadata": {},
     "output_type": "execute_result"
    }
   ],
   "source": [
    "\"The cm upper bound ({:.2f}) converted to inches is {:.2f} (actual = {:.2f})\".format(\n",
    "    cm_upper_bound, \n",
    "    cm_upper_bound / 2.54, \n",
    "    inches_upper_bound\n",
    ")"
   ]
  },
  {
   "cell_type": "markdown",
   "metadata": {},
   "source": [
    "__Q3a.__ Describe how the confidence interval constructed in centimeters relates to the confidence interval constructed in inches."
   ]
  },
  {
   "cell_type": "markdown",
   "metadata": {},
   "source": [
    "They are equal. The units of a measurement should not impact how the statistical inference on that quantity is performed for confidence intervals like these "
   ]
  },
  {
   "cell_type": "markdown",
   "metadata": {},
   "source": [
    "## Question 4\n",
    "\n",
    "Partition the sample based on 10-year age bands, i.e. the resulting groups will consist of people with ages from 18-28, 29-38, etc. Construct 95% confidence intervals for the difference between the mean BMI for females and for males within each age band."
   ]
  },
  {
   "cell_type": "code",
   "execution_count": 19,
   "metadata": {},
   "outputs": [
    {
     "data": {
      "text/plain": [
       "0    (60, 70]\n",
       "1    (50, 60]\n",
       "2    (70, 80]\n",
       "3    (50, 60]\n",
       "4    (40, 50]\n",
       "Name: RIDAGEYR, dtype: category\n",
       "Categories (8, interval[int64, right]): [(0, 10] < (10, 20] < (20, 30] < (30, 40] < (40, 50] < (50, 60] < (60, 70] < (70, 80]]"
      ]
     },
     "execution_count": 19,
     "metadata": {},
     "output_type": "execute_result"
    }
   ],
   "source": [
    "# Get all of the ranges of age using the cut function\n",
    "age_ranges = pd.cut(da['RIDAGEYR'], bins = [0, 10, 20, 30, 40, 50, 60, 70, 80])\n",
    "age_ranges.head()"
   ]
  },
  {
   "cell_type": "code",
   "execution_count": 20,
   "metadata": {},
   "outputs": [
    {
     "data": {
      "text/plain": [
       "[Interval(60, 70, closed='right'),\n",
       " Interval(20, 30, closed='right'),\n",
       " Interval(70, 80, closed='right'),\n",
       " Interval(50, 60, closed='right'),\n",
       " Interval(30, 40, closed='right'),\n",
       " Interval(10, 20, closed='right'),\n",
       " Interval(40, 50, closed='right')]"
      ]
     },
     "execution_count": 20,
     "metadata": {},
     "output_type": "execute_result"
    }
   ],
   "source": [
    "# Get a unique list of all of the age ranges:\n",
    "unique_age_ranges = list(set(age_ranges))\n",
    "unique_age_ranges"
   ]
  },
  {
   "cell_type": "code",
   "execution_count": 21,
   "metadata": {},
   "outputs": [],
   "source": [
    "# First we are going to construct a function for creating the confidence interval of a mean.\n",
    "# This formula can be complicated so don't worry if you have to take a little bit of time\n",
    "# to understand it\n",
    "def MakeUnPooledMeanConfidenceInterval(data_one, data_two, confidence):\n",
    "    n1 = data_one.size\n",
    "    n2 = data_two.size\n",
    "    \n",
    "    v1 = np.var(data_one, ddof = 1)\n",
    "    v2 = np.var(data_two, ddof = 1)\n",
    "    \n",
    "    standard_error = np.sqrt(v1 / n1 + v2 / n2)\n",
    "    \n",
    "    t_multiplier = scipy.stats.t.ppf(1 - (1 - confidence) / 2, df = min(n1, n2))\n",
    "    \n",
    "    diff = np.mean(data_one) - np.mean(data_two)\n",
    "    \n",
    "    lower_bound = diff - t_multiplier * standard_error\n",
    "    upper_bound = diff + t_multiplier * standard_error\n",
    "    \n",
    "    return {\"n1\": n1, \"n2\": n2, \"lower_bound\": lower_bound, \"upper_bound\": upper_bound}"
   ]
  },
  {
   "cell_type": "code",
   "execution_count": 22,
   "metadata": {},
   "outputs": [
    {
     "name": "stdout",
     "output_type": "stream",
     "text": [
      "Age: (10, 20] | CI for difference in male (n1:175) bmi less female (n2:165) bmi: (-1.70, 1.29) | Width: 3.00\n",
      "Age: (20, 30] | CI for difference in male (n1:432) bmi less female (n2:514) bmi: (-1.63, 0.21) | Width: 1.85\n",
      "Age: (30, 40] | CI for difference in male (n1:458) bmi less female (n2:474) bmi: (-1.68, 0.25) | Width: 1.93\n",
      "Age: (40, 50] | CI for difference in male (n1:401) bmi less female (n2:502) bmi: (-2.38, -0.49) | Width: 1.90\n",
      "Age: (50, 60] | CI for difference in male (n1:454) bmi less female (n2:470) bmi: (-2.39, -0.64) | Width: 1.75\n",
      "Age: (60, 70] | CI for difference in male (n1:437) bmi less female (n2:441) bmi: (-2.59, -0.78) | Width: 1.81\n",
      "Age: (70, 80] | CI for difference in male (n1:402) bmi less female (n2:410) bmi: (-1.96, -0.40) | Width: 1.56\n"
     ]
    }
   ],
   "source": [
    "# Now we are going to loop through each of the age ranges, make our dataframes, and \n",
    "# compute the confidence intervals !\n",
    "for age_range in sorted(unique_age_ranges):\n",
    "    is_this_age = da[age_ranges == age_range]\n",
    "    males_bmi = is_this_age[is_this_age['RIAGENDR'] == 1]['BMXBMI']\n",
    "    females_bmi = is_this_age[is_this_age['RIAGENDR'] == 2]['BMXBMI']\n",
    "    ci = MakeUnPooledMeanConfidenceInterval(males_bmi, females_bmi, 0.95)\n",
    "    print(\"Age: {} | CI for difference in male (n1:{}) bmi less female (n2:{}) bmi: ({:.2f}, {:.2f}) | Width: {:.2f}\".format(\n",
    "        age_range, \n",
    "        ci[\"n1\"],\n",
    "        ci[\"n2\"],\n",
    "        ci['lower_bound'], \n",
    "        ci['upper_bound'], \n",
    "        ci['upper_bound'] - ci['lower_bound']\n",
    "    ))"
   ]
  },
  {
   "cell_type": "markdown",
   "metadata": {},
   "source": [
    "__Q4a.__ How do the widths of these confidence intervals differ?  Provide an explanation for any substantial differences in the confidence interval widths that you see."
   ]
  },
  {
   "cell_type": "markdown",
   "metadata": {},
   "source": [
    "These confidence intervals could vary for a number of reasons. The main reason why they vary is the sample sizes of some partitions are drastically larger than others. For example, in the 10-20 age range, we only have 175 males and 165 females. Compare this with the rest of the partitions which have usually 400-500 samples. This sample size difference makes a large difference in the standard error and also the resulting interval. "
   ]
  },
  {
   "cell_type": "markdown",
   "metadata": {},
   "source": [
    "## Question 5\n",
    "\n",
    "Construct a 95% confidence interval for the first and second systolic blood pressure measures, and for the difference between the first and second systolic blood pressure measurements within a subject."
   ]
  },
  {
   "cell_type": "code",
   "execution_count": 23,
   "metadata": {},
   "outputs": [],
   "source": [
    "# First we can prep the data by extracting out the variables from our dataframe. \n",
    "first_systolic = da['BPXSY1']\n",
    "second_systolic = da['BPXSY2']\n",
    "\n",
    "# Compute the differences\n",
    "diff_systolic = first_systolic - second_systolic"
   ]
  },
  {
   "cell_type": "code",
   "execution_count": 24,
   "metadata": {},
   "outputs": [],
   "source": [
    "# We already did the long form math above so I'm going to create a function to do this\n",
    "# more systematically\n",
    "def ComputeMeanConfidenceInterval(data, confidence):   \n",
    "    s = np.std(data, ddof = 1)\n",
    "    n = data.size\n",
    "    standard_error = s / np.sqrt(n)\n",
    "    t_multiplier = scipy.stats.t.ppf(q = 1 - (1 - confidence) / 2, df = n - 1)\n",
    "\n",
    "    # Compute the confidence interval\n",
    "    x_hat = np.mean(data)\n",
    "    lower_bound = x_hat - t_multiplier * standard_error\n",
    "    upper_bound = x_hat + t_multiplier * standard_error\n",
    "    return {\"lower_bound\": lower_bound, \"upper_bound\": upper_bound, \"n\": n}\n",
    "\n",
    "# Create a really simple function for printing out the confidence interval of our data\n",
    "def PrintCIForSystolicMeasures(input_map, name_of_data):\n",
    "    print(\"The confidence interval for the {} data is: ({:.2f}, {:.2f})\".format(\n",
    "        name_of_data, \n",
    "        input_map[\"lower_bound\"], \n",
    "        input_map[\"upper_bound\"]\n",
    "    ))"
   ]
  },
  {
   "cell_type": "code",
   "execution_count": 25,
   "metadata": {},
   "outputs": [
    {
     "name": "stdout",
     "output_type": "stream",
     "text": [
      "The confidence interval for the First Systolic data is: (124.61, 125.56)\n",
      "The confidence interval for the Second Systolic data is: (124.30, 125.26)\n",
      "The confidence interval for the the difference in the first and second systolic data is: (0.54, 0.81)\n"
     ]
    }
   ],
   "source": [
    "# Compute the CI for the first_systolic and second_systolic measures\n",
    "first_ci = ComputeMeanConfidenceInterval(first_systolic, confidence = 0.95)\n",
    "PrintCIForSystolicMeasures(first_ci, \"First Systolic\")\n",
    "second_ci = ComputeMeanConfidenceInterval(second_systolic, confidence = 0.95)\n",
    "PrintCIForSystolicMeasures(second_ci, \"Second Systolic\")\n",
    "# We are fortunate: the math for a mean difference confidence interval is the \n",
    "# same as the math for a one-population mean interval so we can reuse the function\n",
    "# above\n",
    "diff_ci = ComputeMeanConfidenceInterval(diff_systolic, confidence = 0.95)\n",
    "PrintCIForSystolicMeasures(diff_ci, \"the difference in the first and second systolic\")"
   ]
  },
  {
   "cell_type": "markdown",
   "metadata": {},
   "source": [
    "__Q5a.__ Based on these confidence intervals, would you say that a difference of zero between the population mean values of the first and second systolic blood pressure measures is consistent with the data?"
   ]
  },
  {
   "cell_type": "markdown",
   "metadata": {},
   "source": [
    "From our data, we estimate with 95% confidence the population mean difference between the first and second systolic blood pressure measures is in between 0.54 and 0.81 units. Since zero is not within this interval, we have sufficient evidence to reject the claim, at the 95% confidence level, that the population mean difference between the first and second systolic blood pressure measures is zero."
   ]
  },
  {
   "cell_type": "markdown",
   "metadata": {},
   "source": [
    "__Q5b.__ Discuss how the width of the confidence interval for the within-subject difference compares to the widths of the confidence intervals for the first and second measures."
   ]
  },
  {
   "cell_type": "markdown",
   "metadata": {},
   "source": [
    "The within subject variation (the difference of the two measures) is less than the intra-population variation (the variation within the first measure itself and the variation within the second measure itself). This is to say, a person is more like themselves than they are like the population of first and second measures. "
   ]
  },
  {
   "cell_type": "markdown",
   "metadata": {},
   "source": [
    "## Question 6\n",
    "\n",
    "Construct a 95% confidence interval for the mean difference between the average age of a smoker, and the average age of a non-smoker."
   ]
  },
  {
   "cell_type": "code",
   "execution_count": 26,
   "metadata": {},
   "outputs": [
    {
     "data": {
      "text/plain": [
       "'The CI for the age difference between smokers less non-smokers is: (5.89, 7.78) years'"
      ]
     },
     "execution_count": 26,
     "metadata": {},
     "output_type": "execute_result"
    }
   ],
   "source": [
    "# We can prepare our data by subsetting for smokers and non-smokers and then extacting their age\n",
    "age_smokers = da[da['SMQ020'] == 1]['RIDAGEYR']\n",
    "age_non_smokers = da[da['SMQ020'] == 2]['RIDAGEYR']\n",
    "\n",
    "# We are going to recycle our function from above to make sure we don't make any silly mistakes! \n",
    "diff_age_ci = MakeUnPooledMeanConfidenceInterval(age_smokers, age_non_smokers, confidence = 0.95)\n",
    "\"A CI for the age difference between smokers less non-smokers is: ({:.2f}, {:.2f}) years\".format(\n",
    "    diff_age_ci[\"lower_bound\"], \n",
    "    diff_age_ci[\"upper_bound\"]\n",
    ")"
   ]
  },
  {
   "cell_type": "markdown",
   "metadata": {},
   "source": [
    "__Q6a.__ Use graphical and numerical techniques to compare the variation in the ages of smokers to the variation in the ages of non-smokers.  "
   ]
  },
  {
   "cell_type": "code",
   "execution_count": 27,
   "metadata": {},
   "outputs": [
    {
     "name": "stdout",
     "output_type": "stream",
     "text": [
      "The mean of smokers age is: 52.10\n",
      "The standard deviation of smokers age is: 17.46\n"
     ]
    },
    {
     "data": {
      "image/png": "[encoded data removed]",
      "text/plain": [
       "<Figure size 432x288 with 1 Axes>"
      ]
     },
     "metadata": {
      "needs_background": "light"
     },
     "output_type": "display_data"
    }
   ],
   "source": [
    "# Create a histogram for smokers\n",
    "sns.histplot(age_smokers)\n",
    "print(\"The mean of smokers age is: {:.2f}\".format(np.mean(age_smokers)))\n",
    "print(\"The standard deviation of smokers age is: {:.2f}\".format(np.std(age_smokers, ddof = 1)))"
   ]
  },
  {
   "cell_type": "code",
   "execution_count": 28,
   "metadata": {},
   "outputs": [
    {
     "name": "stdout",
     "output_type": "stream",
     "text": [
      "The mean of smokers age is: 45.26\n",
      "The standard deviation of smokers age is: 18.54\n"
     ]
    },
    {
     "data": {
      "image/png": "[encoded data removed]",
      "text/plain": [
       "<Figure size 432x288 with 1 Axes>"
      ]
     },
     "metadata": {
      "needs_background": "light"
     },
     "output_type": "display_data"
    }
   ],
   "source": [
    "# Create a histogram for nonsmokers\n",
    "sns.histplot(age_non_smokers)\n",
    "print(\"The mean of smokers age is: {:.2f}\".format(np.mean(age_non_smokers)))\n",
    "print(\"The standard deviation of smokers age is: {:.2f}\".format(np.std(age_non_smokers, ddof = 1)))"
   ]
  },
  {
   "cell_type": "markdown",
   "metadata": {},
   "source": [
    "__Q6b.__ Does it appear that uncertainty about the mean age of smokers, or uncertainty about the mean age of non-smokers contributed more to the uncertainty for the mean difference that we are focusing on here?"
   ]
  },
  {
   "cell_type": "markdown",
   "metadata": {},
   "source": [
    "The standard deviation of non-smokers is larger than the standard deviation for smokers, so that would be contributing more than the uncertainty for smokers. Smokers, on average, are older"
   ]
  }
 ],
 "metadata": {
  "kernelspec": {
   "display_name": "Python 3 (ipykernel)",
   "language": "python",
   "name": "python3"
  },
  "language_info": {
   "codemirror_mode": {
    "name": "ipython",
    "version": 3
   },
   "file_extension": ".py",
   "mimetype": "text/x-python",
   "name": "python",
   "nbconvert_exporter": "python",
   "pygments_lexer": "ipython3",
   "version": "3.11.4"
  }
 },
 "nbformat": 4,
 "nbformat_minor": 4
}
