{
 "cells": [
  {
   "cell_type": "markdown",
   "metadata": {},
   "source": [
    "# Confidence Intervals\n",
    "\n",
    "\n",
    "Confidence intervals are one of the main tools of inferential statistics.  They are used to convey the precision of available information about a quantitative population parameter (the true value of which is unknown).  A confidence interval has a stated *coverage probability* that is usually set to 0.95 by convention.  The confidence interval is random (it changes with every sample of data), and a 95% confidence interval has 95% probability of containing the true value of the population parameter.  Another way of thinking about this is that the confidence interval contains all values of the unknown population parameter that are compatible with the data.\n",
    "\n",
    "This tutorial demonstrates how to construct confidence intervals for the difference between two population proportions, and for the difference between two population means.  These are two of the most common settings where confidence intervals arise.\n",
    "\n",
    "We will use the 2015-2016 wave of the NHANES data for our analysis.\n",
    "\n",
    "To illustrate comparison of population proportions, we will analyze the difference between the proportion of females who smoke, and the proportion of males who smoke.  The column that specifies smoker and non-smoker is \"SMQ020\" in our dataset.\n",
    "\n",
    "To illustrate comparison of population means, we will analyze the difference between mean body mass index (BMI) for females and for males.  The column that has the body mass index values is \"BMXBMI\".\n",
    "\n",
    "Additionally, the gender is specified in the column \"RIAGENDR\"."
   ]
  },
  {
   "cell_type": "code",
   "execution_count": 58,
   "metadata": {},
   "outputs": [],
   "source": [
    "import pandas as pd\n",
    "import numpy as np\n",
    "import matplotlib\n",
    "import seaborn as sns\n",
    "import matplotlib.pyplot as plt\n",
    "import statsmodels.api as sm"
   ]
  },
  {
   "cell_type": "code",
   "execution_count": 59,
   "metadata": {},
   "outputs": [],
   "source": [
    "da = pd.read_csv(\"nhanes_2015_2016.csv\")"
   ]
  },
  {
   "cell_type": "markdown",
   "metadata": {},
   "source": [
    "### Recoding some variables and inspecting the data"
   ]
  },
  {
   "cell_type": "markdown",
   "metadata": {},
   "source": [
    "We recode the smoking status variable [SMQ020](https://wwwn.cdc.gov/Nchs/Nhanes/2015-2016/SMQ_I.htm#SMQ020) that is coded 1 (smoker) / 2 (non-smoker) into a new variable SMQ020x that is coded smoke / nosmoke (refused/don't know are coded as missing):"
   ]
  },
  {
   "cell_type": "code",
   "execution_count": 60,
   "metadata": {},
   "outputs": [],
   "source": [
    "da[\"SMQ020x\"] = da.SMQ020.replace({1: \"smoke\", 2: \"nosmoke\", 7: np.nan, 9: np.nan})"
   ]
  },
  {
   "cell_type": "markdown",
   "metadata": {},
   "source": [
    "There are slightly more non-smokers than smokers:"
   ]
  },
  {
   "cell_type": "code",
   "execution_count": 61,
   "metadata": {},
   "outputs": [
    {
     "data": {
      "text/plain": [
       "nosmoke    3406\n",
       "smoke      2319\n",
       "Name: SMQ020x, dtype: int64"
      ]
     },
     "execution_count": 61,
     "metadata": {},
     "output_type": "execute_result"
    }
   ],
   "source": [
    "da[\"SMQ020x\"].value_counts()"
   ]
  },
  {
   "cell_type": "markdown",
   "metadata": {},
   "source": [
    "Next we recode [RIAGENDR](https://wwwn.cdc.gov/Nchs/Nhanes/2015-2016/DEMO_I.htm#RIAGENDR) that is coded 1 (male) / 2 (female) to a new variable RIAGENDRx that is coded with string labels. "
   ]
  },
  {
   "cell_type": "code",
   "execution_count": 62,
   "metadata": {},
   "outputs": [
    {
     "data": {
      "text/plain": [
       "Female    2976\n",
       "Male      2759\n",
       "Name: RIAGENDRx, dtype: int64"
      ]
     },
     "execution_count": 62,
     "metadata": {},
     "output_type": "execute_result"
    }
   ],
   "source": [
    "da[\"RIAGENDRx\"] = da.RIAGENDR.replace({1: \"Male\", 2: \"Female\"})\n",
    "da[\"RIAGENDRx\"].value_counts()"
   ]
  },
  {
   "cell_type": "markdown",
   "metadata": {},
   "source": [
    "The joint distribution of the smoking and gender variables is conveyed by a cross-tab:"
   ]
  },
  {
   "cell_type": "code",
   "execution_count": 63,
   "metadata": {},
   "outputs": [
    {
     "data": {
      "text/html": [
       "<div>\n",
       "<style scoped>\n",
       "    .dataframe tbody tr th:only-of-type {\n",
       "        vertical-align: middle;\n",
       "    }\n",
       "\n",
       "    .dataframe tbody tr th {\n",
       "        vertical-align: top;\n",
       "    }\n",
       "\n",
       "    .dataframe thead th {\n",
       "        text-align: right;\n",
       "    }\n",
       "</style>\n",
       "<table border=\"1\" class=\"dataframe\">\n",
       "  <thead>\n",
       "    <tr style=\"text-align: right;\">\n",
       "      <th>SMQ020x</th>\n",
       "      <th>nosmoke</th>\n",
       "      <th>smoke</th>\n",
       "    </tr>\n",
       "    <tr>\n",
       "      <th>RIAGENDRx</th>\n",
       "      <th></th>\n",
       "      <th></th>\n",
       "    </tr>\n",
       "  </thead>\n",
       "  <tbody>\n",
       "    <tr>\n",
       "      <th>Female</th>\n",
       "      <td>2066</td>\n",
       "      <td>906</td>\n",
       "    </tr>\n",
       "    <tr>\n",
       "      <th>Male</th>\n",
       "      <td>1340</td>\n",
       "      <td>1413</td>\n",
       "    </tr>\n",
       "  </tbody>\n",
       "</table>\n",
       "</div>"
      ],
      "text/plain": [
       "SMQ020x    nosmoke  smoke\n",
       "RIAGENDRx                \n",
       "Female        2066    906\n",
       "Male          1340   1413"
      ]
     },
     "execution_count": 63,
     "metadata": {},
     "output_type": "execute_result"
    }
   ],
   "source": [
    "dx = da[[\"SMQ020x\", \"RIAGENDRx\"]].dropna()\n",
    "ct = pd.crosstab(dx.RIAGENDRx, dx.SMQ020x)\n",
    "ct"
   ]
  },
  {
   "cell_type": "markdown",
   "metadata": {},
   "source": [
    "Next we estimate the conditional rates of smoking in females and in males."
   ]
  },
  {
   "cell_type": "code",
   "execution_count": 64,
   "metadata": {},
   "outputs": [
    {
     "data": {
      "text/html": [
       "<div>\n",
       "<style scoped>\n",
       "    .dataframe tbody tr th:only-of-type {\n",
       "        vertical-align: middle;\n",
       "    }\n",
       "\n",
       "    .dataframe tbody tr th {\n",
       "        vertical-align: top;\n",
       "    }\n",
       "\n",
       "    .dataframe thead th {\n",
       "        text-align: right;\n",
       "    }\n",
       "</style>\n",
       "<table border=\"1\" class=\"dataframe\">\n",
       "  <thead>\n",
       "    <tr style=\"text-align: right;\">\n",
       "      <th>SMQ020x</th>\n",
       "      <th>nosmoke</th>\n",
       "      <th>smoke</th>\n",
       "      <th>Total</th>\n",
       "      <th>nosmoke_prop</th>\n",
       "      <th>smoke_prop</th>\n",
       "    </tr>\n",
       "    <tr>\n",
       "      <th>RIAGENDRx</th>\n",
       "      <th></th>\n",
       "      <th></th>\n",
       "      <th></th>\n",
       "      <th></th>\n",
       "      <th></th>\n",
       "    </tr>\n",
       "  </thead>\n",
       "  <tbody>\n",
       "    <tr>\n",
       "      <th>Female</th>\n",
       "      <td>2066</td>\n",
       "      <td>906</td>\n",
       "      <td>2972</td>\n",
       "      <td>0.695155</td>\n",
       "      <td>0.304845</td>\n",
       "    </tr>\n",
       "    <tr>\n",
       "      <th>Male</th>\n",
       "      <td>1340</td>\n",
       "      <td>1413</td>\n",
       "      <td>2753</td>\n",
       "      <td>0.486742</td>\n",
       "      <td>0.513258</td>\n",
       "    </tr>\n",
       "  </tbody>\n",
       "</table>\n",
       "</div>"
      ],
      "text/plain": [
       "SMQ020x    nosmoke  smoke  Total  nosmoke_prop  smoke_prop\n",
       "RIAGENDRx                                                 \n",
       "Female        2066    906   2972      0.695155    0.304845\n",
       "Male          1340   1413   2753      0.486742    0.513258"
      ]
     },
     "execution_count": 64,
     "metadata": {},
     "output_type": "execute_result"
    }
   ],
   "source": [
    "ct[\"Total\"] = ct[\"nosmoke\"] + ct[\"smoke\"]\n",
    "ct[\"nosmoke_prop\"] = ct[\"nosmoke\"] / ct[\"Total\"]\n",
    "ct[\"smoke_prop\"] = ct[\"smoke\"] / ct[\"Total\"]\n",
    "ct"
   ]
  },
  {
   "cell_type": "markdown",
   "metadata": {},
   "source": [
    "### Constructing Confidence Intervals\n",
    "\n",
    "Now that we have the sample proportions of female and male smokers, we can calculate confidence intervals for the difference between the population smoking proportions.  Many basic confidence intervals have the form *estimate $\\pm$ margin of error*.  The margin of error is the standard error of the estimate times a multiplier based on the chosen coverage probability.  If we want a confidence interval with 95% covererage, the multiplier should be 1.96 (or 2).\n",
    "\n",
    "The Standard Error (SE) for using the sample proportion to estimate the population proportion is\n",
    "\n",
    "$$\n",
    "\\sqrt{\\frac{p (1 - p)}{n}}\n",
    "$$\n",
    "\n",
    "where $p$ is the true proportion and $n$ is the sample size.\n",
    "\n",
    "The standard error for using the sample mean to estimate the population mean is\n",
    "\n",
    "$$\\frac{\\sigma}{\\sqrt{n}}$$\n",
    "\n",
    "where $\\sigma$ is the standard deviation of the population from which the data are sampled, and $n$ is the sample size.\n",
    "\n",
    "Most of the time when constructing a confidence interval, we encounter a [catch 22](https://en.wikipedia.org/wiki/Catch-22) -- we estimate a parameter and wish to make a statement about the uncertainty in the estimate.  However, the uncertainty depends on the standard error, which may itself depend on the parameter being estimated.  To work around this difficulty, we \"plug in\" an estimate of the unknown parameter into the formula for the standard error, giving us an estimate of the standard error.  For example, if $\\hat{p}$ is an estimate of the population parameter p, then \n",
    "\n",
    "$$\n",
    "\\sqrt{\\frac{\\hat{p} (1 - \\hat{p})}{n}}\n",
    "$$\n",
    "\n",
    "is a plug-in estimate of the standard error for $\\hat{p}$ as an estimate of $p$.  Similarly,\n",
    "\n",
    "$$\\frac{\\hat{\\sigma}}{\\sqrt{n}}$$\n",
    "\n",
    "is an estimate of the standard error for the mean, where $\\hat{\\sigma}$ is the usual sample standard deviation.\n",
    "\n",
    "We will also need the \"variance pooling rule\" that gives us the standard error for the difference between two estimates in terms of the standard error of each estimate separately:\n",
    "\n",
    "$$\n",
    "{\\rm SE}_{\\rm pooled} = \\sqrt{{\\rm SE}_1^2 + {\\rm SE}_2^2}.\n",
    "$$\n",
    "\n",
    "Note that this version of the variance pooling rule can only be used when the two estimates being compared (e.g. the estimated rates or means for two groups) are independent.\n",
    "\n",
    "#### Difference of Two Population Proportions"
   ]
  },
  {
   "cell_type": "markdown",
   "metadata": {},
   "source": [
    "Based on the table calculated above, we see that a much higher proportion of males smoke compared to females.  The point estimate of this difference is:"
   ]
  },
  {
   "cell_type": "code",
   "execution_count": 65,
   "metadata": {},
   "outputs": [
    {
     "data": {
      "text/plain": [
       "0.20841304163963553"
      ]
     },
     "execution_count": 65,
     "metadata": {},
     "output_type": "execute_result"
    }
   ],
   "source": [
    "di = ct.loc[\"Male\", \"smoke_prop\"] - ct.loc[\"Female\", \"smoke_prop\"]\n",
    "di"
   ]
  },
  {
   "cell_type": "markdown",
   "metadata": {},
   "source": [
    "Suppose we wish to assess the precision of the estimate in the cell above.  First, we assess the precision of the female and male smoking rates individually:"
   ]
  },
  {
   "cell_type": "code",
   "execution_count": 66,
   "metadata": {},
   "outputs": [
    {
     "data": {
      "text/plain": [
       "0.008444152146214435"
      ]
     },
     "execution_count": 66,
     "metadata": {},
     "output_type": "execute_result"
    }
   ],
   "source": [
    "pf = ct.loc[\"Female\", \"smoke_prop\"]\n",
    "nf = ct.loc[\"Female\", \"Total\"]\n",
    "se_female = np.sqrt(pf * (1 - pf) / nf)\n",
    "se_female"
   ]
  },
  {
   "cell_type": "code",
   "execution_count": 67,
   "metadata": {},
   "outputs": [
    {
     "data": {
      "text/plain": [
       "0.009526078653689868"
      ]
     },
     "execution_count": 67,
     "metadata": {},
     "output_type": "execute_result"
    }
   ],
   "source": [
    "pm = ct.loc[\"Male\", \"smoke_prop\"]\n",
    "nm = ct.loc[\"Male\", \"Total\"]\n",
    "se_male = np.sqrt(pm * (1 - pm) / nm)\n",
    "se_male"
   ]
  },
  {
   "cell_type": "markdown",
   "metadata": {},
   "source": [
    "As seen above, the precisions of the female-specific and male-specific smoking rates are quite similar, although the female rate is slightly smaller.  The standard error of the difference between the female and male smoking rates can be obtained by pooling the standard error for females and the standard error for males:"
   ]
  },
  {
   "cell_type": "code",
   "execution_count": 68,
   "metadata": {},
   "outputs": [
    {
     "data": {
      "text/plain": [
       "0.012729881381407434"
      ]
     },
     "execution_count": 68,
     "metadata": {},
     "output_type": "execute_result"
    }
   ],
   "source": [
    "se_diff = np.sqrt(se_female**2 + se_male**2)\n",
    "se_diff"
   ]
  },
  {
   "cell_type": "markdown",
   "metadata": {},
   "source": [
    "As we can see above, the standard error for the difference between two proportions is slightly greater than the standard error for either proportion individually.  Now we can construct a 95% confidence interval for the difference between the male and female smoking rates.  We see that any value for the proportion that falls between 0.18 and 0.23 would be compatible with the data."
   ]
  },
  {
   "cell_type": "code",
   "execution_count": 69,
   "metadata": {},
   "outputs": [
    {
     "data": {
      "text/plain": [
       "(0.18346247413207697, 0.2333636091471941)"
      ]
     },
     "execution_count": 69,
     "metadata": {},
     "output_type": "execute_result"
    }
   ],
   "source": [
    "lcb = di - 1.96 * se_diff\n",
    "ucb = di + 1.96 * se_diff\n",
    "(lcb, ucb)"
   ]
  },
  {
   "cell_type": "markdown",
   "metadata": {},
   "source": [
    "#### Difference of Two Population Means\n",
    "\n",
    "Now we consider estimation of the mean BMI (body mass index) for females and for males, and comparing these means.  The NHANES variable containing BMI is [BMXBMI](https://wwwn.cdc.gov/Nchs/Nhanes/2015-2016/BMX_I.htm#BMXBMI).  The first few BMI values are as follows:"
   ]
  },
  {
   "cell_type": "code",
   "execution_count": 70,
   "metadata": {},
   "outputs": [
    {
     "data": {
      "text/plain": [
       "0    27.8\n",
       "1    30.8\n",
       "2    28.8\n",
       "3    42.4\n",
       "4    20.3\n",
       "Name: BMXBMI, dtype: float64"
      ]
     },
     "execution_count": 70,
     "metadata": {},
     "output_type": "execute_result"
    }
   ],
   "source": [
    "da[\"BMXBMI\"].head()"
   ]
  },
  {
   "cell_type": "markdown",
   "metadata": {},
   "source": [
    "The sex-specific mean, standard deviation, and sample size for BMI is:"
   ]
  },
  {
   "cell_type": "code",
   "execution_count": 82,
   "metadata": {},
   "outputs": [
    {
     "data": {
      "text/html": [
       "<div>\n",
       "<style scoped>\n",
       "    .dataframe tbody tr th:only-of-type {\n",
       "        vertical-align: middle;\n",
       "    }\n",
       "\n",
       "    .dataframe tbody tr th {\n",
       "        vertical-align: top;\n",
       "    }\n",
       "\n",
       "    .dataframe thead tr th {\n",
       "        text-align: left;\n",
       "    }\n",
       "\n",
       "    .dataframe thead tr:last-of-type th {\n",
       "        text-align: right;\n",
       "    }\n",
       "</style>\n",
       "<table border=\"1\" class=\"dataframe\">\n",
       "  <thead>\n",
       "    <tr>\n",
       "      <th></th>\n",
       "      <th colspan=\"3\" halign=\"left\">BMXBMI</th>\n",
       "    </tr>\n",
       "    <tr>\n",
       "      <th></th>\n",
       "      <th>mean</th>\n",
       "      <th>std</th>\n",
       "      <th>size</th>\n",
       "    </tr>\n",
       "    <tr>\n",
       "      <th>RIAGENDRx</th>\n",
       "      <th></th>\n",
       "      <th></th>\n",
       "      <th></th>\n",
       "    </tr>\n",
       "  </thead>\n",
       "  <tbody>\n",
       "    <tr>\n",
       "      <th>Female</th>\n",
       "      <td>29.939946</td>\n",
       "      <td>7.753319</td>\n",
       "      <td>2976</td>\n",
       "    </tr>\n",
       "    <tr>\n",
       "      <th>Male</th>\n",
       "      <td>28.778072</td>\n",
       "      <td>6.252568</td>\n",
       "      <td>2759</td>\n",
       "    </tr>\n",
       "  </tbody>\n",
       "</table>\n",
       "</div>"
      ],
      "text/plain": [
       "              BMXBMI                \n",
       "                mean       std  size\n",
       "RIAGENDRx                           \n",
       "Female     29.939946  7.753319  2976\n",
       "Male       28.778072  6.252568  2759"
      ]
     },
     "execution_count": 82,
     "metadata": {},
     "output_type": "execute_result"
    }
   ],
   "source": [
    "ta = da.groupby(\"RIAGENDRx\").agg({\"BMXBMI\": [np.mean, np.std, np.size]})\n",
    "ta"
   ]
  },
  {
   "cell_type": "markdown",
   "metadata": {},
   "source": [
    "Based on the table above, we see that females have somewhat higher BMI than males.  It is important to note that while the means may differ, the standard deviation is large so there is substantial overlap between the two distributions.  The boxplot below indicates how the two distributions overlap, while also suggesting that the female BMI distribution has a slightly higher mean and perhaps greater dispersion."
   ]
  },
  {
   "cell_type": "code",
   "execution_count": 79,
   "metadata": {},
   "outputs": [
    {
     "data": {
      "image/png": "[encoded data removed]",
      "text/plain": [
       "<Figure size 432x288 with 1 Axes>"
      ]
     },
     "metadata": {
      "needs_background": "light"
     },
     "output_type": "display_data"
    }
   ],
   "source": [
    "sns.boxplot(x=\"RIAGENDRx\", y=\"BMXBMI\", data=da);"
   ]
  },
  {
   "cell_type": "markdown",
   "metadata": {},
   "source": [
    "Next we calculate the standard errors of the mean for females and for males:"
   ]
  },
  {
   "cell_type": "code",
   "execution_count": 91,
   "metadata": {},
   "outputs": [
    {
     "data": {
      "text/plain": [
       "(0.14212522940758335, 0.11903715722332033)"
      ]
     },
     "execution_count": 91,
     "metadata": {},
     "output_type": "execute_result"
    }
   ],
   "source": [
    "sem_female = ta.loc[\"Female\", (\"BMXBMI\", \"std\")] / np.sqrt(ta.loc[\"Female\", (\"BMXBMI\", \"size\")])\n",
    "sem_male = ta.loc[\"Male\", (\"BMXBMI\", \"std\")] / np.sqrt(ta.loc[\"Male\", (\"BMXBMI\", \"size\")])\n",
    "(sem_female, sem_male)"
   ]
  },
  {
   "cell_type": "markdown",
   "metadata": {},
   "source": [
    "The standard errors above indicate that when estimating the population mean BMI values for females and for males, the female estimate will be slightly less precise.  This reduced precision is largely due to the greater internal variability of the female BMI values."
   ]
  },
  {
   "cell_type": "code",
   "execution_count": 73,
   "metadata": {},
   "outputs": [
    {
     "data": {
      "text/plain": [
       "0.18538993598139303"
      ]
     },
     "execution_count": 73,
     "metadata": {},
     "output_type": "execute_result"
    }
   ],
   "source": [
    "sem_diff = np.sqrt(sem_female**2 + sem_male**2)\n",
    "sem_diff"
   ]
  },
  {
   "cell_type": "markdown",
   "metadata": {},
   "source": [
    "The difference below is the point estimate of interest:"
   ]
  },
  {
   "cell_type": "code",
   "execution_count": 93,
   "metadata": {},
   "outputs": [],
   "source": [
    "di = ta.loc[\"Female\", (\"BMXBMI\", \"mean\")] - ta.loc[\"Male\", (\"BMXBMI\", \"mean\")]"
   ]
  },
  {
   "cell_type": "markdown",
   "metadata": {},
   "source": [
    "Based on the confidence interval below, any value between 0.8 and 1.53 could plausibly represent the difference between female and male BMI means."
   ]
  },
  {
   "cell_type": "code",
   "execution_count": 75,
   "metadata": {},
   "outputs": [
    {
     "data": {
      "text/plain": [
       "(0.798509725476467, 1.5252382745235278)"
      ]
     },
     "execution_count": 75,
     "metadata": {},
     "output_type": "execute_result"
    }
   ],
   "source": [
    "lcb = di - 1.96 * sem_diff\n",
    "ucb = di + 1.96 * sem_diff\n",
    "(lcb, ucb)"
   ]
  }
 ],
 "metadata": {
  "kernelspec": {
   "display_name": "Python 3 (ipykernel)",
   "language": "python",
   "name": "python3"
  },
  "language_info": {
   "codemirror_mode": {
    "name": "ipython",
    "version": 3
   },
   "file_extension": ".py",
   "mimetype": "text/x-python",
   "name": "python",
   "nbconvert_exporter": "python",
   "pygments_lexer": "ipython3",
   "version": "3.11.4"
  }
 },
 "nbformat": 4,
 "nbformat_minor": 2
}
