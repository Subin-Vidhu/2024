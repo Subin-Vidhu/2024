{
 "cells": [
  {
   "cell_type": "code",
   "execution_count": 1,
   "metadata": {},
   "outputs": [],
   "source": [
    "import joblib\n",
    "import pickle\n",
    "import numpy as np\n",
    "import pandas as pd\n",
    "import seaborn as sns\n",
    "from datetime import datetime\n",
    "from sklearn.linear_model import Ridge\n",
    "from sklearn.preprocessing import StandardScaler,MinMaxScaler\n",
    "from sklearn.model_selection import RandomizedSearchCV\n",
    "from sklearn.metrics import r2_score,mean_absolute_error,mean_squared_error"
   ]
  },
  {
   "cell_type": "code",
   "execution_count": 2,
   "metadata": {},
   "outputs": [
    {
     "data": {
      "text/html": [
       "<div>\n",
       "<style scoped>\n",
       "    .dataframe tbody tr th:only-of-type {\n",
       "        vertical-align: middle;\n",
       "    }\n",
       "\n",
       "    .dataframe tbody tr th {\n",
       "        vertical-align: top;\n",
       "    }\n",
       "\n",
       "    .dataframe thead th {\n",
       "        text-align: right;\n",
       "    }\n",
       "</style>\n",
       "<table border=\"1\" class=\"dataframe\">\n",
       "  <thead>\n",
       "    <tr style=\"text-align: right;\">\n",
       "      <th></th>\n",
       "      <th>mid</th>\n",
       "      <th>date</th>\n",
       "      <th>venue</th>\n",
       "      <th>bat_team</th>\n",
       "      <th>bowl_team</th>\n",
       "      <th>batsman</th>\n",
       "      <th>bowler</th>\n",
       "      <th>runs</th>\n",
       "      <th>wickets</th>\n",
       "      <th>overs</th>\n",
       "      <th>runs_last_5</th>\n",
       "      <th>wickets_last_5</th>\n",
       "      <th>striker</th>\n",
       "      <th>non-striker</th>\n",
       "      <th>total</th>\n",
       "    </tr>\n",
       "  </thead>\n",
       "  <tbody>\n",
       "    <tr>\n",
       "      <th>0</th>\n",
       "      <td>1</td>\n",
       "      <td>2008-04-18</td>\n",
       "      <td>M Chinnaswamy Stadium</td>\n",
       "      <td>Kolkata Knight Riders</td>\n",
       "      <td>Royal Challengers Bangalore</td>\n",
       "      <td>SC Ganguly</td>\n",
       "      <td>P Kumar</td>\n",
       "      <td>1</td>\n",
       "      <td>0</td>\n",
       "      <td>0.1</td>\n",
       "      <td>1</td>\n",
       "      <td>0</td>\n",
       "      <td>0</td>\n",
       "      <td>0</td>\n",
       "      <td>222</td>\n",
       "    </tr>\n",
       "    <tr>\n",
       "      <th>1</th>\n",
       "      <td>1</td>\n",
       "      <td>2008-04-18</td>\n",
       "      <td>M Chinnaswamy Stadium</td>\n",
       "      <td>Kolkata Knight Riders</td>\n",
       "      <td>Royal Challengers Bangalore</td>\n",
       "      <td>BB McCullum</td>\n",
       "      <td>P Kumar</td>\n",
       "      <td>1</td>\n",
       "      <td>0</td>\n",
       "      <td>0.2</td>\n",
       "      <td>1</td>\n",
       "      <td>0</td>\n",
       "      <td>0</td>\n",
       "      <td>0</td>\n",
       "      <td>222</td>\n",
       "    </tr>\n",
       "  </tbody>\n",
       "</table>\n",
       "</div>"
      ],
      "text/plain": [
       "   mid        date                  venue               bat_team  \\\n",
       "0    1  2008-04-18  M Chinnaswamy Stadium  Kolkata Knight Riders   \n",
       "1    1  2008-04-18  M Chinnaswamy Stadium  Kolkata Knight Riders   \n",
       "\n",
       "                     bowl_team      batsman   bowler  runs  wickets  overs  \\\n",
       "0  Royal Challengers Bangalore   SC Ganguly  P Kumar     1        0    0.1   \n",
       "1  Royal Challengers Bangalore  BB McCullum  P Kumar     1        0    0.2   \n",
       "\n",
       "   runs_last_5  wickets_last_5  striker  non-striker  total  \n",
       "0            1               0        0            0    222  \n",
       "1            1               0        0            0    222  "
      ]
     },
     "execution_count": 2,
     "metadata": {},
     "output_type": "execute_result"
    }
   ],
   "source": [
    "df = pd.read_csv('ipl.csv')\n",
    "df.head(2)"
   ]
  },
  {
   "cell_type": "code",
   "execution_count": 3,
   "metadata": {},
   "outputs": [
    {
     "data": {
      "text/html": [
       "<div>\n",
       "<style scoped>\n",
       "    .dataframe tbody tr th:only-of-type {\n",
       "        vertical-align: middle;\n",
       "    }\n",
       "\n",
       "    .dataframe tbody tr th {\n",
       "        vertical-align: top;\n",
       "    }\n",
       "\n",
       "    .dataframe thead th {\n",
       "        text-align: right;\n",
       "    }\n",
       "</style>\n",
       "<table border=\"1\" class=\"dataframe\">\n",
       "  <thead>\n",
       "    <tr style=\"text-align: right;\">\n",
       "      <th></th>\n",
       "      <th>date</th>\n",
       "      <th>venue_ACA-VDCA Stadium, Visakhapatnam</th>\n",
       "      <th>venue_Barabati Stadium, Cuttack</th>\n",
       "      <th>venue_Dr DY Patil Sports Academy, Mumbai</th>\n",
       "      <th>venue_Dubai International Cricket Stadium, Dubai</th>\n",
       "      <th>venue_Eden Gardens, Kolkata</th>\n",
       "      <th>venue_Feroz Shah Kotla, Delhi</th>\n",
       "      <th>venue_Himachal Pradesh Cricket Association Stadium, Dharamshala</th>\n",
       "      <th>venue_Holkar Cricket Stadium, Indore</th>\n",
       "      <th>venue_JSCA International Stadium Complex, Ranchi</th>\n",
       "      <th>...</th>\n",
       "      <th>bowl_team_Mumbai Indians</th>\n",
       "      <th>bowl_team_Rajasthan Royals</th>\n",
       "      <th>bowl_team_Royal Challengers Bangalore</th>\n",
       "      <th>bowl_team_Sunrisers Hyderabad</th>\n",
       "      <th>runs</th>\n",
       "      <th>wickets</th>\n",
       "      <th>overs</th>\n",
       "      <th>runs_last_5</th>\n",
       "      <th>wickets_last_5</th>\n",
       "      <th>total</th>\n",
       "    </tr>\n",
       "  </thead>\n",
       "  <tbody>\n",
       "    <tr>\n",
       "      <th>0</th>\n",
       "      <td>2008-04-18</td>\n",
       "      <td>0</td>\n",
       "      <td>0</td>\n",
       "      <td>0</td>\n",
       "      <td>0</td>\n",
       "      <td>0</td>\n",
       "      <td>0</td>\n",
       "      <td>0</td>\n",
       "      <td>0</td>\n",
       "      <td>0</td>\n",
       "      <td>...</td>\n",
       "      <td>0</td>\n",
       "      <td>0</td>\n",
       "      <td>1</td>\n",
       "      <td>0</td>\n",
       "      <td>61</td>\n",
       "      <td>0</td>\n",
       "      <td>5.1</td>\n",
       "      <td>59</td>\n",
       "      <td>0</td>\n",
       "      <td>222</td>\n",
       "    </tr>\n",
       "    <tr>\n",
       "      <th>1</th>\n",
       "      <td>2008-04-18</td>\n",
       "      <td>0</td>\n",
       "      <td>0</td>\n",
       "      <td>0</td>\n",
       "      <td>0</td>\n",
       "      <td>0</td>\n",
       "      <td>0</td>\n",
       "      <td>0</td>\n",
       "      <td>0</td>\n",
       "      <td>0</td>\n",
       "      <td>...</td>\n",
       "      <td>0</td>\n",
       "      <td>0</td>\n",
       "      <td>1</td>\n",
       "      <td>0</td>\n",
       "      <td>61</td>\n",
       "      <td>1</td>\n",
       "      <td>5.2</td>\n",
       "      <td>59</td>\n",
       "      <td>1</td>\n",
       "      <td>222</td>\n",
       "    </tr>\n",
       "  </tbody>\n",
       "</table>\n",
       "<p>2 rows × 43 columns</p>\n",
       "</div>"
      ],
      "text/plain": [
       "        date  venue_ACA-VDCA Stadium, Visakhapatnam  \\\n",
       "0 2008-04-18                                      0   \n",
       "1 2008-04-18                                      0   \n",
       "\n",
       "   venue_Barabati Stadium, Cuttack  venue_Dr DY Patil Sports Academy, Mumbai  \\\n",
       "0                                0                                         0   \n",
       "1                                0                                         0   \n",
       "\n",
       "   venue_Dubai International Cricket Stadium, Dubai  \\\n",
       "0                                                 0   \n",
       "1                                                 0   \n",
       "\n",
       "   venue_Eden Gardens, Kolkata  venue_Feroz Shah Kotla, Delhi  \\\n",
       "0                            0                              0   \n",
       "1                            0                              0   \n",
       "\n",
       "   venue_Himachal Pradesh Cricket Association Stadium, Dharamshala  \\\n",
       "0                                                  0                 \n",
       "1                                                  0                 \n",
       "\n",
       "   venue_Holkar Cricket Stadium, Indore  \\\n",
       "0                                     0   \n",
       "1                                     0   \n",
       "\n",
       "   venue_JSCA International Stadium Complex, Ranchi  ...  \\\n",
       "0                                                 0  ...   \n",
       "1                                                 0  ...   \n",
       "\n",
       "   bowl_team_Mumbai Indians  bowl_team_Rajasthan Royals  \\\n",
       "0                         0                           0   \n",
       "1                         0                           0   \n",
       "\n",
       "   bowl_team_Royal Challengers Bangalore  bowl_team_Sunrisers Hyderabad  runs  \\\n",
       "0                                      1                              0    61   \n",
       "1                                      1                              0    61   \n",
       "\n",
       "   wickets  overs  runs_last_5  wickets_last_5  total  \n",
       "0        0    5.1           59               0    222  \n",
       "1        1    5.2           59               1    222  \n",
       "\n",
       "[2 rows x 43 columns]"
      ]
     },
     "execution_count": 3,
     "metadata": {},
     "output_type": "execute_result"
    }
   ],
   "source": [
    "cols_to_drop = ['mid','batsman','bowler','striker','non-striker']\n",
    "df.drop(cols_to_drop,axis=1,inplace=True)\n",
    "\n",
    "\n",
    "# convert the date column to datetime column\n",
    "df['date'] = df['date'].apply(lambda x: datetime.strptime(x,'%Y-%m-%d'))\n",
    "\n",
    "\n",
    "# we have to remove temporary teams or the teams which are not available now\n",
    "consistent_teams = ['Chennai Super Kings', 'Delhi Daredevils', \n",
    "                    'Kings XI Punjab', 'Kolkata Knight Riders', \n",
    "                    'Mumbai Indians', 'Rajasthan Royals', \n",
    "                    'Royal Challengers Bangalore', 'Sunrisers Hyderabad']\n",
    "\n",
    "df = df[(df['bat_team'].isin(consistent_teams)) & (df['bowl_team'].isin(consistent_teams))]\n",
    "\n",
    "\n",
    "# we don't want first five overs data\n",
    "df = df[df['overs']>=5.0]\n",
    "\n",
    "\n",
    "\n",
    "def f(x):\n",
    "    if x=='M Chinnaswamy Stadium':\n",
    "        return 'M Chinnaswamy Stadium, Bangalore'\n",
    "    elif x=='Feroz Shah Kotla':\n",
    "        return 'Feroz Shah Kotla, Delhi'\n",
    "    elif x=='Wankhede Stadium':\n",
    "        return 'Wankhede Stadium, Mumbai'\n",
    "    elif x=='Sawai Mansingh Stadium':\n",
    "        return 'Sawai Mansingh Stadium, Jaipur'\n",
    "    elif x=='Eden Gardens':\n",
    "        return 'Eden Gardens, Kolkata'\n",
    "    elif x=='Dr DY Patil Sports Academy':\n",
    "        return 'Dr DY Patil Sports Academy, Mumbai'\n",
    "    elif x=='Himachal Pradesh Cricket Association Stadium':\n",
    "        return 'Himachal Pradesh Cricket Association Stadium, Dharamshala'\n",
    "    elif x=='Subrata Roy Sahara Stadium':\n",
    "        return 'Maharashtra Cricket Association Stadium, Pune'\n",
    "    elif x=='Shaheed Veer Narayan Singh International Stadium':\n",
    "        return 'Raipur International Cricket Stadium, Raipur'\n",
    "    elif x=='JSCA International Stadium Complex':\n",
    "        return 'JSCA International Stadium Complex, Ranchi'\n",
    "    elif x=='Maharashtra Cricket Association Stadium':\n",
    "        return 'Maharashtra Cricket Association Stadium, Pune'\n",
    "    elif x=='Dr. Y.S. Rajasekhara Reddy ACA-VDCA Cricket Stadium':\n",
    "        return 'ACA-VDCA Stadium, Visakhapatnam'\n",
    "    elif x=='Punjab Cricket Association IS Bindra Stadium, Mohali':\n",
    "        return 'Punjab Cricket Association Stadium, Mohali'\n",
    "    elif x=='Holkar Cricket Stadium':\n",
    "        return 'Holkar Cricket Stadium, Indore'\n",
    "    elif x=='Sheikh Zayed Stadium':\n",
    "        return 'Sheikh Zayed Stadium, Abu-Dhabi'\n",
    "    elif x=='Sharjah Cricket Stadium':\n",
    "        return 'Sharjah Cricket Stadium, Sharjah'\n",
    "    elif x=='Dubai International Cricket Stadium':\n",
    "        return 'Dubai International Cricket Stadium, Dubai'\n",
    "    elif x=='Barabati Stadium':\n",
    "        return 'Barabati Stadium, Cuttack'\n",
    "    else:\n",
    "        return x\n",
    "\n",
    "ignored_stadiums = ['Newlands', \"St George's Park\",\n",
    "                    'Kingsmead', 'SuperSport Park', 'Buffalo Park',\n",
    "                    'New Wanderers Stadium', 'De Beers Diamond Oval',\n",
    "                    'OUTsurance Oval', 'Brabourne Stadium']\n",
    "\n",
    "df = df[True^(df['venue'].isin(ignored_stadiums))]\n",
    "df['venue'] = df['venue'].apply(f)\n",
    "\n",
    "df_new = pd.get_dummies(data=df,columns=['venue','bat_team','bowl_team'])\n",
    "\n",
    "\n",
    "\n",
    "\n",
    "df_new = df_new[['date','venue_ACA-VDCA Stadium, Visakhapatnam',\n",
    "       'venue_Barabati Stadium, Cuttack', 'venue_Dr DY Patil Sports Academy, Mumbai',\n",
    "       'venue_Dubai International Cricket Stadium, Dubai',\n",
    "       'venue_Eden Gardens, Kolkata', 'venue_Feroz Shah Kotla, Delhi',\n",
    "       'venue_Himachal Pradesh Cricket Association Stadium, Dharamshala',\n",
    "       'venue_Holkar Cricket Stadium, Indore',\n",
    "       'venue_JSCA International Stadium Complex, Ranchi',\n",
    "       'venue_M Chinnaswamy Stadium, Bangalore',\n",
    "       'venue_MA Chidambaram Stadium, Chepauk',\n",
    "       'venue_Maharashtra Cricket Association Stadium, Pune',\n",
    "       'venue_Punjab Cricket Association Stadium, Mohali',\n",
    "       'venue_Raipur International Cricket Stadium, Raipur',\n",
    "       'venue_Rajiv Gandhi International Stadium, Uppal',\n",
    "       'venue_Sardar Patel Stadium, Motera',\n",
    "       'venue_Sawai Mansingh Stadium, Jaipur',\n",
    "       'venue_Sharjah Cricket Stadium, Sharjah',\n",
    "       'venue_Sheikh Zayed Stadium, Abu-Dhabi',\n",
    "       'venue_Wankhede Stadium, Mumbai','bat_team_Chennai Super Kings',\n",
    "       'bat_team_Delhi Daredevils', 'bat_team_Kings XI Punjab',\n",
    "       'bat_team_Kolkata Knight Riders', 'bat_team_Mumbai Indians',\n",
    "       'bat_team_Rajasthan Royals', 'bat_team_Royal Challengers Bangalore',\n",
    "       'bat_team_Sunrisers Hyderabad','bowl_team_Chennai Super Kings',\n",
    "       'bowl_team_Delhi Daredevils', 'bowl_team_Kings XI Punjab',\n",
    "       'bowl_team_Kolkata Knight Riders', 'bowl_team_Mumbai Indians',\n",
    "       'bowl_team_Rajasthan Royals', 'bowl_team_Royal Challengers Bangalore',\n",
    "       'bowl_team_Sunrisers Hyderabad','runs', 'wickets', 'overs', 'runs_last_5', 'wickets_last_5',\n",
    "       'total']]\n",
    "\n",
    "df_new.reset_index(inplace=True)\n",
    "df_new.drop('index',inplace=True,axis=1)\n",
    "\n",
    "df_new.head(2)"
   ]
  },
  {
   "cell_type": "code",
   "execution_count": 4,
   "metadata": {},
   "outputs": [],
   "source": [
    "scaler = StandardScaler()\n",
    "scaled_cols = scaler.fit_transform(df_new[['runs', 'wickets', 'overs', 'runs_last_5', 'wickets_last_5']])\n",
    "pickle.dump(scaler, open('scaler.pkl','wb'))\n",
    "\n",
    "scaled_cols = pd.DataFrame(scaled_cols,columns=['runs', 'wickets', 'overs', 'runs_last_5', 'wickets_last_5'])\n",
    "df_new.drop(['runs', 'wickets', 'overs', 'runs_last_5', 'wickets_last_5'],axis=1,inplace=True)\n",
    "df_new = pd.concat([df_new,scaled_cols],axis=1)\n",
    "\n",
    "\n",
    "X_train = df_new.drop('total',axis=1)[df_new['date'].dt.year<=2016]\n",
    "X_test = df_new.drop('total',axis=1)[df_new['date'].dt.year>=2017]\n",
    "\n",
    "X_train.drop('date',inplace=True,axis=1)\n",
    "X_test.drop('date',inplace=True,axis=1)\n",
    "\n",
    "\n",
    "y_train = df_new[df_new['date'].dt.year<=2016]['total'].values\n",
    "y_test = df_new[df_new['date'].dt.year>=2017]['total'].values"
   ]
  },
  {
   "cell_type": "markdown",
   "metadata": {},
   "source": [
    "## Ridge Regressor"
   ]
  },
  {
   "cell_type": "code",
   "execution_count": 5,
   "metadata": {
    "scrolled": true
   },
   "outputs": [
    {
     "name": "stderr",
     "output_type": "stream",
     "text": [
      "/home/lumiq/anaconda3/envs/ipl/lib/python3.9/site-packages/sklearn/model_selection/_search.py:292: UserWarning: The total space of parameters 6 is smaller than n_iter=10. Running 6 iterations. For exhaustive searches, use GridSearchCV.\n",
      "  warnings.warn(\n"
     ]
    },
    {
     "data": {
      "text/plain": [
       "RandomizedSearchCV(cv=10, estimator=Ridge(),\n",
       "                   param_distributions={'alpha': [0.001, 0.01, 1, 5, 10, 20]},\n",
       "                   scoring='neg_mean_squared_error')"
      ]
     },
     "execution_count": 5,
     "metadata": {},
     "output_type": "execute_result"
    }
   ],
   "source": [
    "ridge = Ridge()\n",
    "parameters={'alpha':[1e-3,1e-2,1,5,10,20]}\n",
    "ridge_regressor = RandomizedSearchCV(ridge,parameters,cv=10,scoring='neg_mean_squared_error')\n",
    "ridge_regressor.fit(X_train,y_train)"
   ]
  },
  {
   "cell_type": "code",
   "execution_count": 6,
   "metadata": {},
   "outputs": [
    {
     "name": "stdout",
     "output_type": "stream",
     "text": [
      "{'alpha': 20}\n",
      "-348.1536046297452\n",
      "MAE: 12.368640632597904\n",
      "MSE: 266.5091758230592\n",
      "RMSE: 16.325108753789642\n",
      "r2 score of ridge : 0.7369641251644409\n"
     ]
    }
   ],
   "source": [
    "print(ridge_regressor.best_params_)\n",
    "print(ridge_regressor.best_score_)\n",
    "\n",
    "prediction_r = ridge_regressor.predict(X_test)\n",
    "print('MAE:', mean_absolute_error(y_test, prediction_r))\n",
    "print('MSE:', mean_squared_error(y_test, prediction_r))\n",
    "print('RMSE:', np.sqrt(mean_squared_error(y_test, prediction_r)))\n",
    "print(f'r2 score of ridge : {r2_score(y_test,prediction_r)}')"
   ]
  },
  {
   "cell_type": "code",
   "execution_count": 7,
   "metadata": {},
   "outputs": [
    {
     "name": "stderr",
     "output_type": "stream",
     "text": [
      "/home/lumiq/anaconda3/envs/ipl/lib/python3.9/site-packages/seaborn/distributions.py:2619: FutureWarning: `distplot` is a deprecated function and will be removed in a future version. Please adapt your code to use either `displot` (a figure-level function with similar flexibility) or `histplot` (an axes-level function for histograms).\n",
      "  warnings.warn(msg, FutureWarning)\n"
     ]
    },
    {
     "data": {
      "text/plain": [
       "<AxesSubplot:ylabel='Density'>"
      ]
     },
     "execution_count": 7,
     "metadata": {},
     "output_type": "execute_result"
    },
    {
     "data": {
      "image/png": "[encoded data removed]",
      "text/plain": [
       "<Figure size 432x288 with 1 Axes>"
      ]
     },
     "metadata": {
      "needs_background": "light"
     },
     "output_type": "display_data"
    }
   ],
   "source": [
    "sns.distplot(y_test-prediction_r)"
   ]
  },
  {
   "cell_type": "code",
   "execution_count": 8,
   "metadata": {
    "scrolled": true
   },
   "outputs": [
    {
     "data": {
      "text/plain": [
       "['iplmodel_ridge.sav']"
      ]
     },
     "execution_count": 8,
     "metadata": {},
     "output_type": "execute_result"
    }
   ],
   "source": [
    "joblib.dump(ridge_regressor,'iplmodel_ridge.sav')"
   ]
  }
 ],
 "metadata": {
  "kernelspec": {
   "display_name": "Python 3 (ipykernel)",
   "language": "python",
   "name": "python3"
  },
  "language_info": {
   "codemirror_mode": {
    "name": "ipython",
    "version": 3
   },
   "file_extension": ".py",
   "mimetype": "text/x-python",
   "name": "python",
   "nbconvert_exporter": "python",
   "pygments_lexer": "ipython3",
   "version": "3.9.7"
  }
 },
 "nbformat": 4,
 "nbformat_minor": 4
}
